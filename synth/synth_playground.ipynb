{
 "cells": [
  {
   "cell_type": "code",
   "execution_count": 2,
   "id": "de8480e5-c3d0-40b2-884c-66c86a21dfde",
   "metadata": {
    "scrolled": true
   },
   "outputs": [
    {
     "name": "stdout",
     "output_type": "stream",
     "text": [
      "Requirement already satisfied: datasets in /Users/galastra/Projects/qwen-hebrew-finetuning/venv/lib/python3.11/site-packages (4.0.0)\n",
      "Requirement already satisfied: filelock in /Users/galastra/Projects/qwen-hebrew-finetuning/venv/lib/python3.11/site-packages (from datasets) (3.18.0)\n",
      "Requirement already satisfied: numpy>=1.17 in /Users/galastra/Projects/qwen-hebrew-finetuning/venv/lib/python3.11/site-packages (from datasets) (2.3.2)\n",
      "Requirement already satisfied: pyarrow>=15.0.0 in /Users/galastra/Projects/qwen-hebrew-finetuning/venv/lib/python3.11/site-packages (from datasets) (21.0.0)\n",
      "Requirement already satisfied: dill<0.3.9,>=0.3.0 in /Users/galastra/Projects/qwen-hebrew-finetuning/venv/lib/python3.11/site-packages (from datasets) (0.3.8)\n",
      "Requirement already satisfied: pandas in /Users/galastra/Projects/qwen-hebrew-finetuning/venv/lib/python3.11/site-packages (from datasets) (2.3.1)\n",
      "Requirement already satisfied: requests>=2.32.2 in /Users/galastra/Projects/qwen-hebrew-finetuning/venv/lib/python3.11/site-packages (from datasets) (2.32.4)\n",
      "Requirement already satisfied: tqdm>=4.66.3 in /Users/galastra/Projects/qwen-hebrew-finetuning/venv/lib/python3.11/site-packages (from datasets) (4.67.1)\n",
      "Requirement already satisfied: xxhash in /Users/galastra/Projects/qwen-hebrew-finetuning/venv/lib/python3.11/site-packages (from datasets) (3.5.0)\n",
      "Requirement already satisfied: multiprocess<0.70.17 in /Users/galastra/Projects/qwen-hebrew-finetuning/venv/lib/python3.11/site-packages (from datasets) (0.70.16)\n",
      "Requirement already satisfied: fsspec<=2025.3.0,>=2023.1.0 in /Users/galastra/Projects/qwen-hebrew-finetuning/venv/lib/python3.11/site-packages (from fsspec[http]<=2025.3.0,>=2023.1.0->datasets) (2025.3.0)\n",
      "Requirement already satisfied: huggingface-hub>=0.24.0 in /Users/galastra/Projects/qwen-hebrew-finetuning/venv/lib/python3.11/site-packages (from datasets) (0.34.4)\n",
      "Requirement already satisfied: packaging in /Users/galastra/Projects/qwen-hebrew-finetuning/venv/lib/python3.11/site-packages (from datasets) (25.0)\n",
      "Requirement already satisfied: pyyaml>=5.1 in /Users/galastra/Projects/qwen-hebrew-finetuning/venv/lib/python3.11/site-packages (from datasets) (6.0.2)\n",
      "Requirement already satisfied: aiohttp!=4.0.0a0,!=4.0.0a1 in /Users/galastra/Projects/qwen-hebrew-finetuning/venv/lib/python3.11/site-packages (from fsspec[http]<=2025.3.0,>=2023.1.0->datasets) (3.12.15)\n",
      "Requirement already satisfied: aiohappyeyeballs>=2.5.0 in /Users/galastra/Projects/qwen-hebrew-finetuning/venv/lib/python3.11/site-packages (from aiohttp!=4.0.0a0,!=4.0.0a1->fsspec[http]<=2025.3.0,>=2023.1.0->datasets) (2.6.1)\n",
      "Requirement already satisfied: aiosignal>=1.4.0 in /Users/galastra/Projects/qwen-hebrew-finetuning/venv/lib/python3.11/site-packages (from aiohttp!=4.0.0a0,!=4.0.0a1->fsspec[http]<=2025.3.0,>=2023.1.0->datasets) (1.4.0)\n",
      "Requirement already satisfied: attrs>=17.3.0 in /Users/galastra/Projects/qwen-hebrew-finetuning/venv/lib/python3.11/site-packages (from aiohttp!=4.0.0a0,!=4.0.0a1->fsspec[http]<=2025.3.0,>=2023.1.0->datasets) (25.3.0)\n",
      "Requirement already satisfied: frozenlist>=1.1.1 in /Users/galastra/Projects/qwen-hebrew-finetuning/venv/lib/python3.11/site-packages (from aiohttp!=4.0.0a0,!=4.0.0a1->fsspec[http]<=2025.3.0,>=2023.1.0->datasets) (1.7.0)\n",
      "Requirement already satisfied: multidict<7.0,>=4.5 in /Users/galastra/Projects/qwen-hebrew-finetuning/venv/lib/python3.11/site-packages (from aiohttp!=4.0.0a0,!=4.0.0a1->fsspec[http]<=2025.3.0,>=2023.1.0->datasets) (6.6.4)\n",
      "Requirement already satisfied: propcache>=0.2.0 in /Users/galastra/Projects/qwen-hebrew-finetuning/venv/lib/python3.11/site-packages (from aiohttp!=4.0.0a0,!=4.0.0a1->fsspec[http]<=2025.3.0,>=2023.1.0->datasets) (0.3.2)\n",
      "Requirement already satisfied: yarl<2.0,>=1.17.0 in /Users/galastra/Projects/qwen-hebrew-finetuning/venv/lib/python3.11/site-packages (from aiohttp!=4.0.0a0,!=4.0.0a1->fsspec[http]<=2025.3.0,>=2023.1.0->datasets) (1.20.1)\n",
      "Requirement already satisfied: idna>=2.0 in /Users/galastra/Projects/qwen-hebrew-finetuning/venv/lib/python3.11/site-packages (from yarl<2.0,>=1.17.0->aiohttp!=4.0.0a0,!=4.0.0a1->fsspec[http]<=2025.3.0,>=2023.1.0->datasets) (3.10)\n",
      "Requirement already satisfied: typing-extensions>=4.2 in /Users/galastra/Projects/qwen-hebrew-finetuning/venv/lib/python3.11/site-packages (from aiosignal>=1.4.0->aiohttp!=4.0.0a0,!=4.0.0a1->fsspec[http]<=2025.3.0,>=2023.1.0->datasets) (4.14.1)\n",
      "Requirement already satisfied: hf-xet<2.0.0,>=1.1.3 in /Users/galastra/Projects/qwen-hebrew-finetuning/venv/lib/python3.11/site-packages (from huggingface-hub>=0.24.0->datasets) (1.1.7)\n",
      "Requirement already satisfied: charset_normalizer<4,>=2 in /Users/galastra/Projects/qwen-hebrew-finetuning/venv/lib/python3.11/site-packages (from requests>=2.32.2->datasets) (3.4.3)\n",
      "Requirement already satisfied: urllib3<3,>=1.21.1 in /Users/galastra/Projects/qwen-hebrew-finetuning/venv/lib/python3.11/site-packages (from requests>=2.32.2->datasets) (2.5.0)\n",
      "Requirement already satisfied: certifi>=2017.4.17 in /Users/galastra/Projects/qwen-hebrew-finetuning/venv/lib/python3.11/site-packages (from requests>=2.32.2->datasets) (2025.8.3)\n",
      "Requirement already satisfied: python-dateutil>=2.8.2 in /Users/galastra/Projects/qwen-hebrew-finetuning/venv/lib/python3.11/site-packages (from pandas->datasets) (2.9.0.post0)\n",
      "Requirement already satisfied: pytz>=2020.1 in /Users/galastra/Projects/qwen-hebrew-finetuning/venv/lib/python3.11/site-packages (from pandas->datasets) (2025.2)\n",
      "Requirement already satisfied: tzdata>=2022.7 in /Users/galastra/Projects/qwen-hebrew-finetuning/venv/lib/python3.11/site-packages (from pandas->datasets) (2025.2)\n",
      "Requirement already satisfied: six>=1.5 in /Users/galastra/Projects/qwen-hebrew-finetuning/venv/lib/python3.11/site-packages (from python-dateutil>=2.8.2->pandas->datasets) (1.17.0)\n",
      "Requirement already satisfied: openpyxl in /Users/galastra/Projects/qwen-hebrew-finetuning/venv/lib/python3.11/site-packages (3.1.5)\n",
      "Requirement already satisfied: et-xmlfile in /Users/galastra/Projects/qwen-hebrew-finetuning/venv/lib/python3.11/site-packages (from openpyxl) (2.0.0)\n"
     ]
    }
   ],
   "source": [
    "!pip install datasets\n",
    "!pip install openpyxl\n",
    "!pip install -q -U google-genai\n",
    "# !pip install transformers\n",
    "# !pip install accelerate\n",
    "# !pip install peft\n",
    "# !pip install bitsandbytes"
   ]
  },
  {
   "cell_type": "markdown",
   "id": "d52ac5aa-eb0a-4ae5-b8de-a5d2a6fbc453",
   "metadata": {},
   "source": [
    "# Imports"
   ]
  },
  {
   "cell_type": "code",
   "execution_count": null,
   "id": "7c5c1afb-bf91-456d-aecd-63dbe731d117",
   "metadata": {},
   "outputs": [
    {
     "name": "stderr",
     "output_type": "stream",
     "text": [
      "/Users/galastra/Projects/qwen-hebrew-finetuning/venv/lib/python3.11/site-packages/tqdm/auto.py:21: TqdmWarning: IProgress not found. Please update jupyter and ipywidgets. See https://ipywidgets.readthedocs.io/en/stable/user_install.html\n",
      "  from .autonotebook import tqdm as notebook_tqdm\n"
     ]
    }
   ],
   "source": [
    "%load_ext autoreload\n",
    "%autoreload 2\n",
    "\n",
    "import pandas as pd\n",
    "import sys\n",
    "\n",
    "# Call models\n",
    "from src.call_models import bedrock_connect, call_claude_bedrock\n",
    "from src.call_models import google_connect, call_gemini, all_string_gemini_config, all_int_gemini_config\n",
    "from src.translate_func import claude_translation, gemini_translation\n",
    "from datasets import load_dataset\n",
    "\n",
    "# Datasets\n",
    "from src.benchmarks_code import arc_ai\n",
    "from src.benchmarks_code import gsm8k\n",
    "from src.benchmarks_code import hellaswag\n",
    "# from prompts import arc_prompts\n",
    "from prompts import gsm_prompts\n",
    "# from prompts import hellaswag_prompts\n",
    "\n",
    "# Access keys\n",
    "from my_access_keys import google_access_key, aws_access_key, aws_secret_key\n",
    "\n",
    "# .csv utils\n",
    "from src.save_utils import add_dataset_to_csv\n",
    "\n",
    "# Remove annoying warning\n",
    "from IPython.core.display_functions import display"
   ]
  },
  {
   "cell_type": "code",
   "execution_count": 4,
   "id": "ee4c23e3-3705-4090-b599-f06d7bef152e",
   "metadata": {},
   "outputs": [],
   "source": [
    "# Get the model's access keys\n",
    "# bedrock_client = bedrock_connect(aws_access_key, aws_secret_key)\n",
    "google_client = google_connect(google_access_key)"
   ]
  },
  {
   "cell_type": "markdown",
   "id": "d558c746-5323-449a-9715-0787c26e8144",
   "metadata": {},
   "source": [
    "# Check Models Calls"
   ]
  },
  {
   "cell_type": "code",
   "execution_count": 4,
   "id": "81c5d593-94d8-4c77-9edd-f2d88f54bb8e",
   "metadata": {},
   "outputs": [
    {
     "name": "stdout",
     "output_type": "stream",
     "text": [
      "Gemini:\n",
      "{\"recipe\":\"Chocolate Chip Cookies\",\"ingredients\":\"2 1/4 cups all-purpose flour, 1 teaspoon baking soda, 1 teaspoon salt, 1 cup (2 sticks) unsalted butter softened, 3/4 cup granulated sugar, 3/4 cup packed brown sugar, 1 teaspoon vanilla extract, 2 large eggs, 2 cups (12 ounces) semi-sweet chocolate chips\"}\n",
      "---\n",
      "dict_keys(['recipe', 'ingredients'])\n"
     ]
    }
   ],
   "source": [
    "print('Gemini:')\n",
    "generate_content_config = all_string_gemini_config(['recipe', 'ingredients'], 'ALWAYS THINK IN HEBREW BEFORE ANSWERING!', think_bud=200)\n",
    "response = call_gemini(google_client, \"List a popular cookie recipe, and include the amounts of ingredients.\", generate_content_config)\n",
    "print(response.text)\n",
    "print('---')\n",
    "my_recipes = response.parsed\n",
    "print(my_recipes.keys())"
   ]
  },
  {
   "cell_type": "code",
   "execution_count": 5,
   "id": "c5d39b6f-87bb-4263-81d7-d28981baafd6",
   "metadata": {
    "scrolled": true
   },
   "outputs": [
    {
     "name": "stdout",
     "output_type": "stream",
     "text": [
      "Gemini:\n",
      "{\"recipe\":\"עוגיות שוקולד צ'יפס קלאסיות\",\"ingredients\":\"2 ורבע כוסות קמח לבן; 1 כפית סודה לשתייה; 1 כפית מלח; 1 כוס (226 גרם) חמאה ללא מלח, מרוככת; 3/4 כוס סוכר לבן; 3/4 כוס סוכר חום דחוס; 2 ביצים גדולות; 1 כפית תמצית וניל; 2 כוסות שוקולד צ'יפס (חלב, מריר או שילוב)\",\"thoughts_process\":\"בחרתי במתכון לעוגיות שוקולד צ'יפס קלאסיות מכיוון שהן נחשבות לאחד מסוגי העוגיות הפופולריים והאהובים ביותר בעולם. הן קלות להכנה ומתאימות לכל אירוע.הכמויות נבחרו על בסיס מתכון סטנדרטי ומוכח לעוגיות שוקולד צ'יפס, המבטיח מרקם וטעם אופטימליים. הקפדתי לכלול את כל המרכיבים החיוניים: קמח, חומר התפחה (סודה לשתייה), מלח לאיזון טעמים, שומן (חמאה) למרקם עשיר, סוכרים (לבן וחום) למתיקות וללחות, ביצים לקישור, וניל לטעם, וכמובן שוקולד צ'יפס כמרכיב המרכזי.ההסבר מפורט מספיק כדי שכל אחד יוכל להבין את המתכון וליישם אותו.השפה היא עברית כפי שנדרש.הפורמט הוא JSON תקין, עם כל השדות הנדרשים: recipe, ingredients, ו-thoughts_process.\"}\n",
      "---\n",
      "dict_keys(['recipe', 'ingredients', 'thoughts_process'])\n"
     ]
    }
   ],
   "source": [
    "print('Gemini:')\n",
    "generate_content_config = all_string_gemini_config(['recipe', 'ingredients', 'thoughts_process'], 'ALWAYS THINK IN HEBREW BEFORE ANSWERING!', think_bud=200)\n",
    "response = call_gemini(google_client, \"תתאר מתכון פופולרי לעוגיות ותוסיך את הכמויות של כל מרכיב. תסביר את דרך המחשבה שלך בעברית צעד אחרי צעד.\", generate_content_config)\n",
    "print(response.text)\n",
    "print('---')\n",
    "my_recipes = response.parsed\n",
    "print(my_recipes.keys())"
   ]
  },
  {
   "cell_type": "markdown",
   "id": "296388da-d4fb-4b36-a2db-1c57f951882e",
   "metadata": {},
   "source": [
    "## datasets"
   ]
  },
  {
   "cell_type": "markdown",
   "id": "a1a0c4f1-e6ad-4c67-ae6b-bee463139102",
   "metadata": {},
   "source": [
    "### GSM8K"
   ]
  },
  {
   "cell_type": "code",
   "execution_count": null,
   "id": "e4560b4b-9ace-40fc-843e-65d41b309da5",
   "metadata": {},
   "outputs": [
    {
     "name": "stdout",
     "output_type": "stream",
     "text": [
      "compare_csv/gsm8k_main_train_top_50.csv\n"
     ]
    },
    {
     "data": {
      "text/plain": [
       "{'gsm8k_train': Dataset({\n",
       "     features: ['question', 'answer'],\n",
       "     num_rows: 50\n",
       " })}"
      ]
     },
     "execution_count": 77,
     "metadata": {},
     "output_type": "execute_result"
    }
   ],
   "source": [
    "gsm_dataset = gsm8k.get_gsm8k_datasets()\n",
    "gsm_dataset['gsm8k_train'] = gsm_dataset['gsm8k_train'].skip(5).take(50)\n",
    "gsm_file_name = 'compare_csv/gsm8k_main_train_top_50.csv'\n",
    "\n",
    "print(gsm_file_name)\n",
    "gsm_dataset"
   ]
  },
  {
   "cell_type": "code",
   "execution_count": 78,
   "id": "faf17d37-52db-48db-877e-5bb4cb3bd640",
   "metadata": {},
   "outputs": [
    {
     "data": {
      "application/vnd.jupyter.widget-view+json": {
       "model_id": "0429ab62c6c240b48fbe858b5af0f3c7",
       "version_major": 2,
       "version_minor": 0
      },
      "text/plain": [
       "Map:   0%|          | 0/50 [00:00<?, ? examples/s]"
      ]
     },
     "metadata": {},
     "output_type": "display_data"
    }
   ],
   "source": [
    "def only_keep_final_score(sample):\n",
    "    sample['answer'] = sample['answer'].split('####')[-1].strip()\n",
    "    return sample\n",
    "\n",
    "gsm_dataset['gsm8k_train_final'] = gsm_dataset['gsm8k_train'].map(only_keep_final_score)"
   ]
  },
  {
   "cell_type": "code",
   "execution_count": 79,
   "id": "409ccb45-8a53-4ca9-9196-3aa7fd911d71",
   "metadata": {
    "scrolled": true
   },
   "outputs": [
    {
     "data": {
      "text/plain": [
       "Column(['Mark has a garden with flowers. He planted plants of three different colors in it. Ten of them are yellow, and there are 80% more of those in purple. There are only 25% as many green flowers as there are yellow and purple flowers. How many flowers does Mark have in his garden?', 'Albert is wondering how much pizza he can eat in one day. He buys 2 large pizzas and 2 small pizzas. A large pizza has 16 slices and a small pizza has 8 slices. If he eats it all, how many pieces does he eat that day?', 'Ken created a care package to send to his brother, who was away at boarding school.  Ken placed a box on a scale, and then he poured into the box enough jelly beans to bring the weight to 2 pounds.  Then, he added enough brownies to cause the weight to triple.  Next, he added another 2 pounds of jelly beans.  And finally, he added enough gummy worms to double the weight once again.  What was the final weight of the box of goodies, in pounds?', 'Alexis is applying for a new job and bought a new set of business clothes to wear to the interview. She went to a department store with a budget of $200 and spent $30 on a button-up shirt, $46 on suit pants, $38 on a suit coat, $11 on socks, and $18 on a belt. She also purchased a pair of shoes, but lost the receipt for them. She has $16 left from her budget. How much did Alexis pay for the shoes?', 'Tina makes $18.00 an hour.  If she works more than 8 hours per shift, she is eligible for overtime, which is paid by your hourly wage + 1/2 your hourly wage.  If she works 10 hours every day for 5 days, how much money does she make?'])"
      ]
     },
     "execution_count": 79,
     "metadata": {},
     "output_type": "execute_result"
    }
   ],
   "source": [
    "gsm_dataset['gsm8k_train_final']['question']"
   ]
  },
  {
   "cell_type": "code",
   "execution_count": 80,
   "id": "100ee764-94eb-4493-b117-fdc7b4b89ef1",
   "metadata": {},
   "outputs": [
    {
     "data": {
      "text/plain": [
       "'35'"
      ]
     },
     "execution_count": 80,
     "metadata": {},
     "output_type": "execute_result"
    }
   ],
   "source": [
    "gsm_dataset['gsm8k_train'][0]['answer'].split('####')[-1].strip()"
   ]
  },
  {
   "cell_type": "code",
   "execution_count": null,
   "id": "4af758d4-352e-4615-9e5a-40b315aa5a0c",
   "metadata": {},
   "outputs": [],
   "source": [
    "df = add_dataset_to_csv(gsm_file_name, 'original', gsm_dataset['gsm8k_train'], gsm8k.gsm8k_sample_to_dict)\n",
    "text_df = add_dataset_to_csv(gsm_file_name[:-4] + '-text.csv', 'original', gsm_dataset['gsm8k_train'], gsm8k.gsm8k_sample_to_dict)\n",
    "df.head(3)"
   ]
  },
  {
   "cell_type": "code",
   "execution_count": null,
   "id": "83b72ab1-76c2-4ef0-8892-6ffabeb0b61c",
   "metadata": {
    "scrolled": true
   },
   "outputs": [],
   "source": [
    "df = pd.read_csv(gsm_file_name)\n",
    "# text_df = pd.read_csv(gsm_file_name[:-4] + '-text.csv')\n",
    "display(df.head(2))\n",
    "# display(text_df.head(2))"
   ]
  },
  {
   "cell_type": "markdown",
   "id": "43eebce1",
   "metadata": {},
   "source": [
    "### OpenMath"
   ]
  },
  {
   "cell_type": "code",
   "execution_count": 13,
   "id": "3c3acc62",
   "metadata": {},
   "outputs": [
    {
     "data": {
      "text/plain": [
       "IterableDataset({\n",
       "    features: ['expected_answer', 'problem_type', 'problem_source', 'generation_model', 'pass_rate_72b_tir', 'problem', 'generated_solution', 'inference_mode', 'used_in_kaggle'],\n",
       "    num_shards: 144\n",
       "})"
      ]
     },
     "execution_count": 13,
     "metadata": {},
     "output_type": "execute_result"
    }
   ],
   "source": [
    "math_dataset = load_dataset(\"nvidia/OpenMathReasoning\", split='cot', streaming=True)\n",
    "math_dataset = math_dataset.take(10)\n",
    "math_dataset"
   ]
  },
  {
   "cell_type": "code",
   "execution_count": 23,
   "id": "92be1425",
   "metadata": {},
   "outputs": [
    {
     "data": {
      "text/plain": [
       "{'expected_answer': '\\\\(\\\\frac{C_{n_1}^{a_1} \\\\cdot C_{n_2}^{a_2} \\\\cdot \\\\ldots \\\\cdot C_{n_C}^{a_C}}{C_N^A}\\\\)',\n",
       " 'problem_type': 'has_answer_extracted',\n",
       " 'problem_source': 'aops_c6_high_school_olympiads',\n",
       " 'generation_model': 'DeepSeek-R1',\n",
       " 'pass_rate_72b_tir': '0.65625',\n",
       " 'problem': 'Given a group of \\\\( N \\\\) balls consisting of \\\\( C \\\\) colors, where the number of balls in each color is represented as \\\\( n_1, n_2, \\\\ldots, n_C \\\\) (with \\\\( n_1 + n_2 + \\\\ldots + n_C = N \\\\)), what is the probability that when \\\\( A \\\\) balls are randomly picked (where \\\\( A \\\\leq N \\\\)), the picked balls consist of \\\\( a_1, a_2, \\\\ldots, a_C \\\\) balls of each color, where \\\\( a_1 + a_2 + \\\\ldots + a_C = A \\\\)?',\n",
       " 'generated_solution': \"<think>\\nOkay, so I need to find the probability that when I pick A balls out of N, where there are C different colors, the number of each color I pick is exactly a1, a2, ..., aC. Hmm, let's think about how to approach this.\\n\\nFirst, probability problems often involve combinations. The general formula for probability is the number of favorable outcomes divided by the total number of possible outcomes. So, in this case, the favorable outcomes are the ways to pick exactly a1 of color 1, a2 of color 2, and so on up to aC of color C. The total possible outcomes would be all the ways to pick A balls regardless of color distribution.\\n\\nLet me break it down. The total number of ways to choose A balls from N is the combination of N choose A, which is C(N, A) = N! / (A! (N - A)!).\\n\\nNow, the favorable outcomes. For each color i, we need to choose ai balls from the ni available. Since the choices are independent across colors, the number of ways to do this for all colors would be the product of combinations for each color. So that's C(n1, a1) * C(n2, a2) * ... * C(nC, aC). But wait, is that right? Because when you pick a1 from n1, a2 from n2, etc., and the total number picked is A, which should sum up, right? As long as a1 + a2 + ... + aC = A, then this product gives the number of ways to pick exactly that many of each color.\\n\\nSo, the probability should be [C(n1, a1) * C(n2, a2) * ... * C(nC, aC)] divided by C(N, A). That makes sense because each combination of selecting the specific numbers from each color is a favorable case, and the total cases are all possible A-sized groups.\\n\\nLet me check if there are any conditions. Each ai has to be ≤ ni, obviously, because you can't pick more balls of a color than are present. Also, the sum of ai's must equal A, which is given in the problem. If any ai > ni, the combination C(ni, ai) would be zero, so the probability would be zero, which is correct.\\n\\nAlternatively, this is a multivariate hypergeometric distribution problem. The hypergeometric distribution models the probability of k successes in a certain number of draws without replacement from a finite population. The multivariate version extends this to multiple categories, which is exactly the case here with different colors. The formula for the multivariate hypergeometric probability is indeed the product of combinations for each category divided by the combination of the total.\\n\\nTherefore, the probability is the product of combinations C(n_i, a_i) for each color i, divided by the combination C(N, A). So, I think that's the answer.\\n</think>To find the probability that when \\\\( A \\\\) balls are randomly picked from a group of \\\\( N \\\\) balls consisting of \\\\( C \\\\) colors, where the number of balls in each color is represented as \\\\( n_1, n_2, \\\\ldots, n_C \\\\) (with \\\\( n_1 + n_2 + \\\\ldots + n_C = N \\\\)), the picked balls consist of \\\\( a_1, a_2, \\\\ldots, a_C \\\\) balls of each color (where \\\\( a_1 + a_2 + \\\\ldots + a_C = A \\\\)), we can use the multivariate hypergeometric distribution.\\n\\n### Steps to Derive the Solution:\\n\\n1. **Total Number of Ways to Choose \\\\( A \\\\) Balls from \\\\( N \\\\)**:\\n   The total number of ways to choose \\\\( A \\\\) balls from \\\\( N \\\\) balls is given by the combination:\\n   \\\\[\\n   \\\\binom{N}{A}\\n   \\\\]\\n\\n2. **Number of Favorable Outcomes**:\\n   The number of favorable outcomes where we pick exactly \\\\( a_1 \\\\) balls of color 1, \\\\( a_2 \\\\) balls of color 2, ..., and \\\\( a_C \\\\) balls of color \\\\( C \\\\) is the product of combinations for each color:\\n   \\\\[\\n   \\\\binom{n_1}{a_1} \\\\times \\\\binom{n_2}{a_2} \\\\times \\\\cdots \\\\times \\\\binom{n_C}{a_C}\\n   \\\\]\\n\\n3. **Probability Calculation**:\\n   The probability \\\\( P \\\\) is the ratio of the number of favorable outcomes to the total number of outcomes:\\n   \\\\[\\n   P = \\\\frac{\\\\binom{n_1}{a_1} \\\\times \\\\binom{n_2}{a_2} \\\\times \\\\cdots \\\\times \\\\binom{n_C}{a_C}}{\\\\binom{N}{A}}\\n   \\\\]\\n\\n### Final Solution:\\nThe probability that when \\\\( A \\\\) balls are randomly picked from \\\\( N \\\\) balls, the picked balls consist of \\\\( a_1, a_2, \\\\ldots, a_C \\\\) balls of each color is given by:\\n\\\\[\\n\\\\boxed{\\\\frac{\\\\prod_{i=1}^{C} \\\\binom{n_i}{a_i}}{\\\\binom{N}{A}}}\\n\\\\]\\n\\nThis solution is derived from the multivariate hypergeometric distribution, where the combinations \\\\( \\\\binom{n_i}{a_i} \\\\) account for the ways to choose \\\\( a_i \\\\) balls from \\\\( n_i \\\\) balls of color \\\\( i \\\\), and the denominator \\\\( \\\\binom{N}{A} \\\\) accounts for the total ways to choose \\\\( A \\\\) balls from \\\\( N \\\\) balls.\",\n",
       " 'inference_mode': 'cot',\n",
       " 'used_in_kaggle': True}"
      ]
     },
     "execution_count": 23,
     "metadata": {},
     "output_type": "execute_result"
    }
   ],
   "source": [
    "next(iter(math_dataset))"
   ]
  },
  {
   "cell_type": "markdown",
   "id": "04fb0d82-bb51-4e63-801c-0df8d2f85b8d",
   "metadata": {},
   "source": [
    "## Run Translation"
   ]
  },
  {
   "cell_type": "markdown",
   "id": "2ad5fe66-3d0b-4c0e-8493-25df183943e3",
   "metadata": {},
   "source": [
    "### Gemini"
   ]
  },
  {
   "cell_type": "code",
   "execution_count": 81,
   "id": "8760c0bd-8198-451f-a644-7044d5830cab",
   "metadata": {},
   "outputs": [],
   "source": [
    "gsm_dataset_no_answer = {}\n",
    "gsm_dataset_no_answer['gsm8k_train'] = gsm_dataset['gsm8k_train'].map(only_keep_final_score)"
   ]
  },
  {
   "cell_type": "code",
   "execution_count": 82,
   "id": "dc9bcf4d-b33f-41cb-9993-289642e9037b",
   "metadata": {},
   "outputs": [
    {
     "name": "stdout",
     "output_type": "stream",
     "text": [
      "Translating gsm8k_train...\n"
     ]
    },
    {
     "data": {
      "application/vnd.jupyter.widget-view+json": {
       "model_id": "7f31bd3c9f774f3bbd363e51dfdfea00",
       "version_major": 2,
       "version_minor": 0
      },
      "text/plain": [
       "  0%|          | 0/50 [00:00<?, ?it/s]"
      ]
     },
     "metadata": {},
     "output_type": "display_data"
    }
   ],
   "source": [
    "exp_name = 'gemini_flash_v1'\n",
    "\n",
    "hebrew_datasets_synth, text_output = gemini_translation(\n",
    "    google_client,\n",
    "    # small,\n",
    "    gsm_dataset_no_answer,\n",
    "    gsm_prompts.GSM_SYNTH_INSTRUCT_GEMINI_V1,\n",
    "    gsm_prompts.GSM_SYNTH_FEW_SHOTS,\n",
    "    gsm8k.gsm8k_sample_to_dict,\n",
    "    gsm8k.gsm8k_dict_to_sample,\n",
    "    if_pro=False,\n",
    "    think_bud=20_000\n",
    ")"
   ]
  },
  {
   "cell_type": "code",
   "execution_count": 83,
   "id": "d3c9ee08-ac52-4861-a440-231a7349d055",
   "metadata": {},
   "outputs": [
    {
     "name": "stdout",
     "output_type": "stream",
     "text": [
      "Translating gsm8k_train...\n"
     ]
    },
    {
     "data": {
      "application/vnd.jupyter.widget-view+json": {
       "model_id": "6bf8ce790ad44a07b2003437d352250a",
       "version_major": 2,
       "version_minor": 0
      },
      "text/plain": [
       "  0%|          | 0/50 [00:00<?, ?it/s]"
      ]
     },
     "metadata": {},
     "output_type": "display_data"
    },
    {
     "name": "stdout",
     "output_type": "stream",
     "text": [
      "Sleeping.... Done!Translating gsm8k_train_final...\n"
     ]
    },
    {
     "data": {
      "application/vnd.jupyter.widget-view+json": {
       "model_id": "b792de8b97da43daa27fe276cacbbb96",
       "version_major": 2,
       "version_minor": 0
      },
      "text/plain": [
       "  0%|          | 0/50 [00:00<?, ?it/s]"
      ]
     },
     "metadata": {},
     "output_type": "display_data"
    },
    {
     "name": "stdout",
     "output_type": "stream",
     "text": [
      "Sleeping.... Done!                                "
     ]
    }
   ],
   "source": [
    "exp_name = 'gemini_flash_v1'\n",
    "\n",
    "hebrew_datasets_translated, text_output = gemini_translation(\n",
    "    google_client,\n",
    "    # small,\n",
    "    gsm_dataset,\n",
    "    gsm_prompts.GSM_INSTRUCT_GEMINI_V1,\n",
    "    gsm_prompts.GSM_FEW_SHOTS,\n",
    "    gsm8k.gsm8k_sample_to_dict,\n",
    "    gsm8k.gsm8k_dict_to_sample,\n",
    "    if_pro=False,\n",
    "    think_bud=20_000\n",
    ")"
   ]
  },
  {
   "cell_type": "code",
   "execution_count": 84,
   "id": "48e6836e-3452-4063-b5e3-e12cfff88815",
   "metadata": {},
   "outputs": [
    {
     "data": {
      "text/html": [
       "<div>\n",
       "<style scoped>\n",
       "    .dataframe tbody tr th:only-of-type {\n",
       "        vertical-align: middle;\n",
       "    }\n",
       "\n",
       "    .dataframe tbody tr th {\n",
       "        vertical-align: top;\n",
       "    }\n",
       "\n",
       "    .dataframe thead th {\n",
       "        text-align: right;\n",
       "    }\n",
       "</style>\n",
       "<table border=\"1\" class=\"dataframe\">\n",
       "  <thead>\n",
       "    <tr style=\"text-align: right;\">\n",
       "      <th></th>\n",
       "      <th>synth_heb</th>\n",
       "      <th>trans_heb</th>\n",
       "    </tr>\n",
       "  </thead>\n",
       "  <tbody>\n",
       "    <tr>\n",
       "      <th>0</th>\n",
       "      <td>&lt;question&gt;למארק יש גינה עם פרחים. הוא שתל בה צ...</td>\n",
       "      <td>&lt;question&gt;למארק יש גינה עם פרחים. הוא שתל בה צ...</td>\n",
       "    </tr>\n",
       "    <tr>\n",
       "      <th>1</th>\n",
       "      <td>&lt;question&gt;אלברט תוהה כמה פיצה הוא יכול לאכול ב...</td>\n",
       "      <td>&lt;question&gt;אלברט תוהה כמה פיצה הוא יכול לאכול ב...</td>\n",
       "    </tr>\n",
       "  </tbody>\n",
       "</table>\n",
       "</div>"
      ],
      "text/plain": [
       "                                           synth_heb  \\\n",
       "0  <question>למארק יש גינה עם פרחים. הוא שתל בה צ...   \n",
       "1  <question>אלברט תוהה כמה פיצה הוא יכול לאכול ב...   \n",
       "\n",
       "                                           trans_heb  \n",
       "0  <question>למארק יש גינה עם פרחים. הוא שתל בה צ...  \n",
       "1  <question>אלברט תוהה כמה פיצה הוא יכול לאכול ב...  "
      ]
     },
     "execution_count": 84,
     "metadata": {},
     "output_type": "execute_result"
    }
   ],
   "source": [
    "df = add_dataset_to_csv('compare_csv/gsm8k_judge_50_flash.csv', 'synth_heb', hebrew_datasets_synth['gsm8k_train'], gsm8k.gsm8k_sample_to_dict)\n",
    "df = add_dataset_to_csv('compare_csv/gsm8k_judge_50_flash.csv', 'trans_heb', hebrew_datasets_translated['gsm8k_train'], gsm8k.gsm8k_sample_to_dict)\n",
    "df.head(2)"
   ]
  },
  {
   "cell_type": "markdown",
   "id": "bcef2f3b-df82-47bd-a740-71ef6906f2a9",
   "metadata": {},
   "source": [
    "## LLM-as-a-Judge"
   ]
  },
  {
   "cell_type": "code",
   "execution_count": null,
   "id": "c704a116-8aa8-4226-bd7d-70aa7a33472f",
   "metadata": {},
   "outputs": [],
   "source": [
    "import enum\n",
    "\n",
    "class COT_VERSION(enum.Enum):\n",
    "  TRANSLATED = \"Translated\"\n",
    "  SYNTHESIZED = \"Synthesized\"\n",
    "\n",
    "\n",
    "def judge_cot_version(trans: str, synth: str):\n",
    "    content = f\"\"\"\n",
    "    You are a judge evaluating two answers to a question. The answers are in Hebrew, and you need to assess them based on the following criteria:\n",
    "    1. Correctness – Is the answer factually accurate?\n",
    "    2. Logic – Does the reasoning follow a clear and valid path?\n",
    "    3. Coherence – Is the answer internally consistent and well-structured?\n",
    "    4. Didactic quality – How well does the answer explain the concept to a reader?\n",
    "    \n",
    "    Here are the answers:\n",
    "    \n",
    "    <translated>\n",
    "    {trans}\n",
    "    </translated>\n",
    "    \n",
    "    <synthesized>\n",
    "    {synth}\n",
    "    </synthesized>\n",
    "    \n",
    "    Which answer is better overall?  \n",
    "    \"\"\"\n",
    "\n",
    "    try:\n",
    "        generate_content_config = all_string_gemini_config(['decision'], 'ALWAYS THINK IN HEBREW BEFORE ANSWERING!', think_bud=200, enum=COT_VERSION)\n",
    "        response = call_gemini(google_client, content, generate_content_config)\n",
    "        return response.text\n",
    "    except Exception as E:\n",
    "        return str(E)"
   ]
  },
  {
   "cell_type": "code",
   "execution_count": 9,
   "id": "0dda0dc0-8249-418d-b59c-cc7cecc6eb7b",
   "metadata": {
    "scrolled": true
   },
   "outputs": [
    {
     "data": {
      "text/html": [
       "<div>\n",
       "<style scoped>\n",
       "    .dataframe tbody tr th:only-of-type {\n",
       "        vertical-align: middle;\n",
       "    }\n",
       "\n",
       "    .dataframe tbody tr th {\n",
       "        vertical-align: top;\n",
       "    }\n",
       "\n",
       "    .dataframe thead th {\n",
       "        text-align: right;\n",
       "    }\n",
       "</style>\n",
       "<table border=\"1\" class=\"dataframe\">\n",
       "  <thead>\n",
       "    <tr style=\"text-align: right;\">\n",
       "      <th></th>\n",
       "      <th>synth_heb</th>\n",
       "      <th>trans_heb</th>\n",
       "      <th>LLM-as-a-Judge</th>\n",
       "      <th>Unnamed: 3</th>\n",
       "      <th>judge</th>\n",
       "    </tr>\n",
       "  </thead>\n",
       "  <tbody>\n",
       "    <tr>\n",
       "      <th>0</th>\n",
       "      <td>&lt;question&gt;למארק יש גינה עם פרחים. הוא שתל בה צ...</td>\n",
       "      <td>&lt;question&gt;למארק יש גינה עם פרחים. הוא שתל בה צ...</td>\n",
       "      <td>'{\"decision\": \"Synthesized\"}'</td>\n",
       "      <td>NaN</td>\n",
       "      <td>{\"decision\":\"Synthesized\"}</td>\n",
       "    </tr>\n",
       "    <tr>\n",
       "      <th>1</th>\n",
       "      <td>&lt;question&gt;אלברט תוהה כמה פיצה הוא יכול לאכול ב...</td>\n",
       "      <td>&lt;question&gt;אלברט תוהה כמה פיצה הוא יכול לאכול ב...</td>\n",
       "      <td>'{\"decision\":\"Synthesized\"}'</td>\n",
       "      <td>NaN</td>\n",
       "      <td>{\"decision\":\"Synthesized\"}</td>\n",
       "    </tr>\n",
       "    <tr>\n",
       "      <th>2</th>\n",
       "      <td>&lt;question&gt;קן יצר חבילת טיפול לשלוח לאחיו, שהיה...</td>\n",
       "      <td>&lt;question&gt;קן יצר חבילת טיפול לשלוח לאחיו, שהיה...</td>\n",
       "      <td>'{\"decision\": \"Synthesized\"}'</td>\n",
       "      <td>NaN</td>\n",
       "      <td>{\"decision\": \"Synthesized\"}</td>\n",
       "    </tr>\n",
       "    <tr>\n",
       "      <th>3</th>\n",
       "      <td>&lt;question&gt;אלכסיס מגישה מועמדות לעבודה חדשה וקנ...</td>\n",
       "      <td>&lt;question&gt;אלכסיס מגישה מועמדות לעבודה חדשה וקנ...</td>\n",
       "      <td>'{\"decision\": \"Synthesized\"}'</td>\n",
       "      <td>NaN</td>\n",
       "      <td>{\"decision\":\"Synthesized\"}</td>\n",
       "    </tr>\n",
       "    <tr>\n",
       "      <th>4</th>\n",
       "      <td>&lt;question&gt;טינה מרוויחה 18.00$ לשעה. אם היא עוב...</td>\n",
       "      <td>&lt;question&gt;טינה מרוויחה 18.00$ לשעה. אם היא עוב...</td>\n",
       "      <td>'{\"decision\": \"Synthesized\"}'</td>\n",
       "      <td>NaN</td>\n",
       "      <td>{\\n  \"decision\": \"Synthesized\"\\n}</td>\n",
       "    </tr>\n",
       "    <tr>\n",
       "      <th>5</th>\n",
       "      <td>&lt;question&gt;מפלצת ים עמוקה עולה מהמים אחת למאה ש...</td>\n",
       "      <td>&lt;question&gt;מפלצת ים עמוק עולה מהמים אחת למאה שנ...</td>\n",
       "      <td>'{\"decision\": \"Synthesized\"}'</td>\n",
       "      <td>NaN</td>\n",
       "      <td>{\"decision\":\"Synthesized\"}</td>\n",
       "    </tr>\n",
       "    <tr>\n",
       "      <th>6</th>\n",
       "      <td>&lt;question&gt;טוביאס קונה זוג נעליים חדש שעולה 95$...</td>\n",
       "      <td>&lt;question&gt;טוביאס קונה זוג נעליים חדש שעולה 95$...</td>\n",
       "      <td>'{\"decision\": \"Synthesized\"}'</td>\n",
       "      <td>NaN</td>\n",
       "      <td>{\"decision\":\"Synthesized\"}</td>\n",
       "    </tr>\n",
       "    <tr>\n",
       "      <th>7</th>\n",
       "      <td>&lt;question&gt;לרנדי יש 60 עצי מנגו בחווה שלו. יש ל...</td>\n",
       "      <td>&lt;question&gt;לרנדי יש 60 עצי מנגו בחווה שלו. יש ל...</td>\n",
       "      <td>'{\"decision\": \"Translated\"}'</td>\n",
       "      <td>NaN</td>\n",
       "      <td>{\"decision\":\"Translated\"}</td>\n",
       "    </tr>\n",
       "    <tr>\n",
       "      <th>8</th>\n",
       "      <td>&lt;question&gt;ג'ספר יגיש מגש נקניקים וגבינות במסיב...</td>\n",
       "      <td>&lt;question&gt;ג'ספר יגיש מגש נקניקים וגבינות במסיב...</td>\n",
       "      <td>'{\"decision\": \"Synthesized\"}'</td>\n",
       "      <td>NaN</td>\n",
       "      <td>{\"decision\":\"Synthesized\"}</td>\n",
       "    </tr>\n",
       "    <tr>\n",
       "      <th>9</th>\n",
       "      <td>&lt;question&gt;ג'וי יכולה לקרוא 8 עמודים מספר ב-20 ...</td>\n",
       "      <td>&lt;question&gt;ג'וי יכולה לקרוא 8 עמודים מספר ב-20 ...</td>\n",
       "      <td>'{\"decision\": \"Translated\"}'</td>\n",
       "      <td>NaN</td>\n",
       "      <td>{\"decision\":\"Synthesized\"}</td>\n",
       "    </tr>\n",
       "    <tr>\n",
       "      <th>10</th>\n",
       "      <td>&lt;question&gt;ג'יימס יוצר אימפריית מדיה. הוא יוצר ...</td>\n",
       "      <td>&lt;question&gt;ג'יימס יוצר אימפריית מדיה. הוא יוצר ...</td>\n",
       "      <td>'{\\n  \"decision\": \"Synthesized\"\\n}'</td>\n",
       "      <td>NaN</td>\n",
       "      <td>{\"decision\":\"Synthesized\"}</td>\n",
       "    </tr>\n",
       "    <tr>\n",
       "      <th>11</th>\n",
       "      <td>&lt;question&gt;הרווח מעסקת עסקים חולק בין 2 שותפים ...</td>\n",
       "      <td>&lt;question&gt;הרווח מעסקה עסקית מתחלק בין 2 שותפים...</td>\n",
       "      <td>'{\"decision\": \"Synthesized\"}'</td>\n",
       "      <td>NaN</td>\n",
       "      <td>{\"decision\":\"Synthesized\"}</td>\n",
       "    </tr>\n",
       "    <tr>\n",
       "      <th>12</th>\n",
       "      <td>&lt;question&gt;במשאית, יש 26 קסדות ורודות, 15 קסדות...</td>\n",
       "      <td>&lt;question&gt;במשאית, יש 26 קסדות ורודות, 15 קסדות...</td>\n",
       "      <td>'{\"decision\": \"Synthesized\"}'</td>\n",
       "      <td>NaN</td>\n",
       "      <td>{\\n  \"decision\": \"Synthesized\"\\n}</td>\n",
       "    </tr>\n",
       "    <tr>\n",
       "      <th>13</th>\n",
       "      <td>&lt;question&gt;לרוק לוקח שעתיים ללכת לעבודה ושעה לר...</td>\n",
       "      <td>&lt;question&gt;לוקח לרוק שעתיים ללכת לעבודה ושעה אח...</td>\n",
       "      <td>NaN</td>\n",
       "      <td>NaN</td>\n",
       "      <td>{\"decision\":\"Synthesized\"}</td>\n",
       "    </tr>\n",
       "    <tr>\n",
       "      <th>14</th>\n",
       "      <td>&lt;question&gt;טים רוכב על אופניו הלוך ושוב לעבודה ...</td>\n",
       "      <td>&lt;question&gt;טים רוכב על אופניו הלוך ושוב לעבודה ...</td>\n",
       "      <td>NaN</td>\n",
       "      <td>NaN</td>\n",
       "      <td>{\"decision\":\"Synthesized\"}</td>\n",
       "    </tr>\n",
       "    <tr>\n",
       "      <th>15</th>\n",
       "      <td>&lt;question&gt;בלה קנתה בולים בסניף הדואר. לחלק מהב...</td>\n",
       "      <td>&lt;question&gt;בלה קנתה בולים בסניף הדואר. לחלק מהב...</td>\n",
       "      <td>NaN</td>\n",
       "      <td>NaN</td>\n",
       "      <td>{\"decision\":\"Synthesized\"}</td>\n",
       "    </tr>\n",
       "    <tr>\n",
       "      <th>16</th>\n",
       "      <td>&lt;question&gt;כל ציפור אוכלת 12 חיפושיות ביום, כל ...</td>\n",
       "      <td>&lt;question&gt;כל ציפור אוכלת 12 חיפושיות ביום, כל ...</td>\n",
       "      <td>NaN</td>\n",
       "      <td>NaN</td>\n",
       "      <td>{\"decision\":\"Synthesized\"}</td>\n",
       "    </tr>\n",
       "    <tr>\n",
       "      <th>17</th>\n",
       "      <td>&lt;question&gt;לשם המשפחה של סמנתה יש שלוש אותיות פ...</td>\n",
       "      <td>&lt;question&gt;לשם המשפחה של סמנתה יש שלוש אותיות פ...</td>\n",
       "      <td>NaN</td>\n",
       "      <td>NaN</td>\n",
       "      <td>429 RESOURCE_EXHAUSTED. {'error': {'code': 429...</td>\n",
       "    </tr>\n",
       "    <tr>\n",
       "      <th>18</th>\n",
       "      <td>&lt;question&gt;בחנות האהובה על אן היה מבצע חיסול מל...</td>\n",
       "      <td>&lt;question&gt;החנות האהובה על אן ערכה מבצע חיסול ק...</td>\n",
       "      <td>NaN</td>\n",
       "      <td>NaN</td>\n",
       "      <td>429 RESOURCE_EXHAUSTED. {'error': {'code': 429...</td>\n",
       "    </tr>\n",
       "    <tr>\n",
       "      <th>19</th>\n",
       "      <td>&lt;question&gt;מרי עושה את קניותיה בסופר ביום שבת. ...</td>\n",
       "      <td>&lt;question&gt;מרי עושה את קניותיה בשבת. היא עורכת ...</td>\n",
       "      <td>NaN</td>\n",
       "      <td>NaN</td>\n",
       "      <td>429 RESOURCE_EXHAUSTED. {'error': {'code': 429...</td>\n",
       "    </tr>\n",
       "    <tr>\n",
       "      <th>20</th>\n",
       "      <td>&lt;question&gt;רלף הולך להתאמן בטניס עם מכונת כדורי...</td>\n",
       "      <td>&lt;question&gt;רלף הולך להתאמן בטניס עם מכונת כדורי...</td>\n",
       "      <td>NaN</td>\n",
       "      <td>NaN</td>\n",
       "      <td>429 RESOURCE_EXHAUSTED. {'error': {'code': 429...</td>\n",
       "    </tr>\n",
       "    <tr>\n",
       "      <th>21</th>\n",
       "      <td>&lt;question&gt;ג'ק תקוע על אי בודד. הוא רוצה קצת מל...</td>\n",
       "      <td>&lt;question&gt;ג'ק תקוע על אי בודד. הוא רוצה קצת מל...</td>\n",
       "      <td>NaN</td>\n",
       "      <td>NaN</td>\n",
       "      <td>429 RESOURCE_EXHAUSTED. {'error': {'code': 429...</td>\n",
       "    </tr>\n",
       "    <tr>\n",
       "      <th>22</th>\n",
       "      <td>&lt;question&gt;ברנן חקר עבור פרויקט בית הספר שלו וה...</td>\n",
       "      <td>&lt;question&gt;ברנן חקר עבור פרויקט בית הספר שלו וה...</td>\n",
       "      <td>NaN</td>\n",
       "      <td>NaN</td>\n",
       "      <td>429 RESOURCE_EXHAUSTED. {'error': {'code': 429...</td>\n",
       "    </tr>\n",
       "    <tr>\n",
       "      <th>23</th>\n",
       "      <td>&lt;question&gt;ישנם 5 בתים ברחוב, ולכל אחד מארבעת ה...</td>\n",
       "      <td>&lt;question&gt;ישנם 5 בתים ברחוב, ולכל אחד מארבעת ה...</td>\n",
       "      <td>NaN</td>\n",
       "      <td>NaN</td>\n",
       "      <td>429 RESOURCE_EXHAUSTED. {'error': {'code': 429...</td>\n",
       "    </tr>\n",
       "    <tr>\n",
       "      <th>24</th>\n",
       "      <td>&lt;question&gt;גברת סניידר נהגה להוציא 40% מההכנסה ...</td>\n",
       "      <td>&lt;question&gt;גברת סניידר נהגה להוציא 40% מההכנסה ...</td>\n",
       "      <td>NaN</td>\n",
       "      <td>NaN</td>\n",
       "      <td>429 RESOURCE_EXHAUSTED. {'error': {'code': 429...</td>\n",
       "    </tr>\n",
       "    <tr>\n",
       "      <th>25</th>\n",
       "      <td>&lt;question&gt;אן, ביל, קייט, ודייל כל אחד קונה פיצ...</td>\n",
       "      <td>&lt;question&gt;אן, ביל, קייט ודייל קונים כל אחד פיצ...</td>\n",
       "      <td>NaN</td>\n",
       "      <td>NaN</td>\n",
       "      <td>429 RESOURCE_EXHAUSTED. {'error': {'code': 429...</td>\n",
       "    </tr>\n",
       "    <tr>\n",
       "      <th>26</th>\n",
       "      <td>&lt;question&gt;נוח הוא צייר. הוא מצייר תמונות ומוכר...</td>\n",
       "      <td>&lt;question&gt;נוח הוא צייר. הוא מצייר תמונות ומוכר...</td>\n",
       "      <td>NaN</td>\n",
       "      <td>NaN</td>\n",
       "      <td>429 RESOURCE_EXHAUSTED. {'error': {'code': 429...</td>\n",
       "    </tr>\n",
       "    <tr>\n",
       "      <th>27</th>\n",
       "      <td>&lt;question&gt;מכונית נוסעת במנהרה עם פניות רבות. ל...</td>\n",
       "      <td>&lt;question&gt;מכונית נוסעת במנהרה עם פניות רבות. ל...</td>\n",
       "      <td>NaN</td>\n",
       "      <td>NaN</td>\n",
       "      <td>429 RESOURCE_EXHAUSTED. {'error': {'code': 429...</td>\n",
       "    </tr>\n",
       "    <tr>\n",
       "      <th>28</th>\n",
       "      <td>&lt;question&gt;כדי להכין פיצה, יחד עם מרכיבים אחרים...</td>\n",
       "      <td>&lt;question&gt;כדי להכין פיצה, יחד עם מרכיבים אחרים...</td>\n",
       "      <td>NaN</td>\n",
       "      <td>NaN</td>\n",
       "      <td>429 RESOURCE_EXHAUSTED. {'error': {'code': 429...</td>\n",
       "    </tr>\n",
       "    <tr>\n",
       "      <th>29</th>\n",
       "      <td>&lt;question&gt;מר סם חילק סכום כסף מסוים בין שני בנ...</td>\n",
       "      <td>&lt;question&gt;מר סם חילק סכום כסף מסוים בין שני בנ...</td>\n",
       "      <td>NaN</td>\n",
       "      <td>NaN</td>\n",
       "      <td>429 RESOURCE_EXHAUSTED. {'error': {'code': 429...</td>\n",
       "    </tr>\n",
       "    <tr>\n",
       "      <th>30</th>\n",
       "      <td>&lt;question&gt;מר סנצ'ז גילה ש-40% מתלמידי כיתה ה' ...</td>\n",
       "      <td>&lt;question&gt;מר סנצ'ז גילה ש-40% מתלמידי כיתה ה' ...</td>\n",
       "      <td>NaN</td>\n",
       "      <td>NaN</td>\n",
       "      <td>429 RESOURCE_EXHAUSTED. {'error': {'code': 429...</td>\n",
       "    </tr>\n",
       "    <tr>\n",
       "      <th>31</th>\n",
       "      <td>&lt;question&gt;ליסה, ג'ק וטומי הרוויחו 60$ משטיפת מ...</td>\n",
       "      <td>&lt;question&gt;ליסה, ג'ק וטומי הרוויחו 60$ משטיפת מ...</td>\n",
       "      <td>NaN</td>\n",
       "      <td>NaN</td>\n",
       "      <td>429 RESOURCE_EXHAUSTED. {'error': {'code': 429...</td>\n",
       "    </tr>\n",
       "    <tr>\n",
       "      <th>32</th>\n",
       "      <td>&lt;question&gt;חמישה חברים אוכלים ברשת מזון מהיר ומ...</td>\n",
       "      <td>&lt;question&gt;חמישה חברים אוכלים ברשת מזון מהיר ומ...</td>\n",
       "      <td>NaN</td>\n",
       "      <td>NaN</td>\n",
       "      <td>429 RESOURCE_EXHAUSTED. {'error': {'code': 429...</td>\n",
       "    </tr>\n",
       "    <tr>\n",
       "      <th>33</th>\n",
       "      <td>&lt;question&gt;ארטמיס מכינה תה למסיבה. היא יודעת שא...</td>\n",
       "      <td>&lt;question&gt;ארטמיס מכינה תה למסיבה. היא יודעת שא...</td>\n",
       "      <td>NaN</td>\n",
       "      <td>NaN</td>\n",
       "      <td>429 RESOURCE_EXHAUSTED. {'error': {'code': 429...</td>\n",
       "    </tr>\n",
       "    <tr>\n",
       "      <th>34</th>\n",
       "      <td>&lt;question&gt;אנה יוצאת לאסוף ממתקים בשכונה שבה הי...</td>\n",
       "      <td>&lt;question&gt;אנה הולכת לאסוף ממתקים בשכונה שבה הי...</td>\n",
       "      <td>NaN</td>\n",
       "      <td>NaN</td>\n",
       "      <td>429 RESOURCE_EXHAUSTED. {'error': {'code': 429...</td>\n",
       "    </tr>\n",
       "    <tr>\n",
       "      <th>35</th>\n",
       "      <td>&lt;question&gt;כרטיס כניסה לקונצרט עולה 40$. מר בנס...</td>\n",
       "      <td>&lt;question&gt;כרטיס לקונצרט עולה 40$. מר בנסון קנה...</td>\n",
       "      <td>NaN</td>\n",
       "      <td>NaN</td>\n",
       "      <td>429 RESOURCE_EXHAUSTED. {'error': {'code': 429...</td>\n",
       "    </tr>\n",
       "    <tr>\n",
       "      <th>36</th>\n",
       "      <td>&lt;question&gt;רחל ושרה רוצות להשתתף בתחרות יופי וד...</td>\n",
       "      <td>&lt;question&gt;רחל ושרה רוצות להשתתף בתחרות יופי וד...</td>\n",
       "      <td>NaN</td>\n",
       "      <td>NaN</td>\n",
       "      <td>429 RESOURCE_EXHAUSTED. {'error': {'code': 429...</td>\n",
       "    </tr>\n",
       "    <tr>\n",
       "      <th>37</th>\n",
       "      <td>&lt;question&gt;משפחה של 12 קופים אספה 10 ערימות של ...</td>\n",
       "      <td>&lt;question&gt;משפחה של 12 קופים אספה 10 ערימות של ...</td>\n",
       "      <td>NaN</td>\n",
       "      <td>NaN</td>\n",
       "      <td>429 RESOURCE_EXHAUSTED. {'error': {'code': 429...</td>\n",
       "    </tr>\n",
       "    <tr>\n",
       "      <th>38</th>\n",
       "      <td>&lt;question&gt;רעידת אדמה גרמה לקריסת ארבעה בניינים...</td>\n",
       "      <td>&lt;question&gt;רעידת אדמה גרמה לקריסת ארבעה בניינים...</td>\n",
       "      <td>NaN</td>\n",
       "      <td>NaN</td>\n",
       "      <td>429 RESOURCE_EXHAUSTED. {'error': {'code': 429...</td>\n",
       "    </tr>\n",
       "    <tr>\n",
       "      <th>39</th>\n",
       "      <td>&lt;question&gt;ג'יימס הוא סטודנט בשנה א' באוניברסיט...</td>\n",
       "      <td>&lt;question&gt;ג'יימס הוא סטודנט שנה א' באוניברסיטה...</td>\n",
       "      <td>NaN</td>\n",
       "      <td>NaN</td>\n",
       "      <td>429 RESOURCE_EXHAUSTED. {'error': {'code': 429...</td>\n",
       "    </tr>\n",
       "    <tr>\n",
       "      <th>40</th>\n",
       "      <td>&lt;question&gt;זו מסיבת יום ההולדת של אווה. הוריה ק...</td>\n",
       "      <td>&lt;question&gt;זו מסיבת יום ההולדת של אווה. הוריה ק...</td>\n",
       "      <td>NaN</td>\n",
       "      <td>NaN</td>\n",
       "      <td>429 RESOURCE_EXHAUSTED. {'error': {'code': 429...</td>\n",
       "    </tr>\n",
       "    <tr>\n",
       "      <th>41</th>\n",
       "      <td>&lt;question&gt;קרוליין מתאמנת בפסנתר 20 דקות ביום ו...</td>\n",
       "      <td>&lt;question&gt;קרוליין מתאמנת בפסנתר 20 דקות ביום ו...</td>\n",
       "      <td>NaN</td>\n",
       "      <td>NaN</td>\n",
       "      <td>429 RESOURCE_EXHAUSTED. {'error': {'code': 429...</td>\n",
       "    </tr>\n",
       "    <tr>\n",
       "      <th>42</th>\n",
       "      <td>&lt;question&gt;הקובץ, בגודל 90 מגה-בייט, מוריד בקצב...</td>\n",
       "      <td>&lt;question&gt;הקובץ, בגודל 90 מגה-בייט, יורד בקצב ...</td>\n",
       "      <td>NaN</td>\n",
       "      <td>NaN</td>\n",
       "      <td>429 RESOURCE_EXHAUSTED. {'error': {'code': 429...</td>\n",
       "    </tr>\n",
       "    <tr>\n",
       "      <th>43</th>\n",
       "      <td>&lt;question&gt;סם שינן שש ספרות נוספות של פאי יותר ...</td>\n",
       "      <td>&lt;question&gt;סם שינן שש ספרות נוספות של פאי מאשר ...</td>\n",
       "      <td>NaN</td>\n",
       "      <td>NaN</td>\n",
       "      <td>429 RESOURCE_EXHAUSTED. {'error': {'code': 429...</td>\n",
       "    </tr>\n",
       "    <tr>\n",
       "      <th>44</th>\n",
       "      <td>&lt;question&gt;בטיול בית ספר לחוף הים, אלן וחבריו א...</td>\n",
       "      <td>&lt;question&gt;בטיול בית ספר לחוף הים, אלן וחבריו א...</td>\n",
       "      <td>NaN</td>\n",
       "      <td>NaN</td>\n",
       "      <td>429 RESOURCE_EXHAUSTED. {'error': {'code': 429...</td>\n",
       "    </tr>\n",
       "    <tr>\n",
       "      <th>45</th>\n",
       "      <td>&lt;question&gt;ג'רלד מוציא 100$ בחודש על ציוד בייסב...</td>\n",
       "      <td>&lt;question&gt;ג'רלד מוציא 100$ בחודש על ציוד בייסב...</td>\n",
       "      <td>NaN</td>\n",
       "      <td>NaN</td>\n",
       "      <td>429 RESOURCE_EXHAUSTED. {'error': {'code': 429...</td>\n",
       "    </tr>\n",
       "    <tr>\n",
       "      <th>46</th>\n",
       "      <td>&lt;question&gt;אן חותכת בד כדי להכין וילונות. היא ח...</td>\n",
       "      <td>&lt;question&gt;אן חותכת בד כדי להכין וילונות. היא ח...</td>\n",
       "      <td>NaN</td>\n",
       "      <td>NaN</td>\n",
       "      <td>429 RESOURCE_EXHAUSTED. {'error': {'code': 429...</td>\n",
       "    </tr>\n",
       "    <tr>\n",
       "      <th>47</th>\n",
       "      <td>&lt;question&gt;לארנל היו עשרה קופסאות עפרונות עם או...</td>\n",
       "      <td>&lt;question&gt;לארנל היו עשרה קופסאות של עפרונות עם...</td>\n",
       "      <td>NaN</td>\n",
       "      <td>NaN</td>\n",
       "      <td>429 RESOURCE_EXHAUSTED. {'error': {'code': 429...</td>\n",
       "    </tr>\n",
       "    <tr>\n",
       "      <th>48</th>\n",
       "      <td>&lt;question&gt;קיילב קנה 10 קרטונים של גלידה ו-4 קר...</td>\n",
       "      <td>&lt;question&gt;קיילב קנה 10 קרטונים של גלידה ו-4 קר...</td>\n",
       "      <td>NaN</td>\n",
       "      <td>NaN</td>\n",
       "      <td>429 RESOURCE_EXHAUSTED. {'error': {'code': 429...</td>\n",
       "    </tr>\n",
       "    <tr>\n",
       "      <th>49</th>\n",
       "      <td>&lt;question&gt;לאה הרוויחה 28$ מעבודות מזדמנות בשכו...</td>\n",
       "      <td>&lt;question&gt;לאה הרוויחה 28$ מעבודות מזדמנות בשכו...</td>\n",
       "      <td>NaN</td>\n",
       "      <td>NaN</td>\n",
       "      <td>429 RESOURCE_EXHAUSTED. {'error': {'code': 429...</td>\n",
       "    </tr>\n",
       "  </tbody>\n",
       "</table>\n",
       "</div>"
      ],
      "text/plain": [
       "                                            synth_heb  \\\n",
       "0   <question>למארק יש גינה עם פרחים. הוא שתל בה צ...   \n",
       "1   <question>אלברט תוהה כמה פיצה הוא יכול לאכול ב...   \n",
       "2   <question>קן יצר חבילת טיפול לשלוח לאחיו, שהיה...   \n",
       "3   <question>אלכסיס מגישה מועמדות לעבודה חדשה וקנ...   \n",
       "4   <question>טינה מרוויחה 18.00$ לשעה. אם היא עוב...   \n",
       "5   <question>מפלצת ים עמוקה עולה מהמים אחת למאה ש...   \n",
       "6   <question>טוביאס קונה זוג נעליים חדש שעולה 95$...   \n",
       "7   <question>לרנדי יש 60 עצי מנגו בחווה שלו. יש ל...   \n",
       "8   <question>ג'ספר יגיש מגש נקניקים וגבינות במסיב...   \n",
       "9   <question>ג'וי יכולה לקרוא 8 עמודים מספר ב-20 ...   \n",
       "10  <question>ג'יימס יוצר אימפריית מדיה. הוא יוצר ...   \n",
       "11  <question>הרווח מעסקת עסקים חולק בין 2 שותפים ...   \n",
       "12  <question>במשאית, יש 26 קסדות ורודות, 15 קסדות...   \n",
       "13  <question>לרוק לוקח שעתיים ללכת לעבודה ושעה לר...   \n",
       "14  <question>טים רוכב על אופניו הלוך ושוב לעבודה ...   \n",
       "15  <question>בלה קנתה בולים בסניף הדואר. לחלק מהב...   \n",
       "16  <question>כל ציפור אוכלת 12 חיפושיות ביום, כל ...   \n",
       "17  <question>לשם המשפחה של סמנתה יש שלוש אותיות פ...   \n",
       "18  <question>בחנות האהובה על אן היה מבצע חיסול מל...   \n",
       "19  <question>מרי עושה את קניותיה בסופר ביום שבת. ...   \n",
       "20  <question>רלף הולך להתאמן בטניס עם מכונת כדורי...   \n",
       "21  <question>ג'ק תקוע על אי בודד. הוא רוצה קצת מל...   \n",
       "22  <question>ברנן חקר עבור פרויקט בית הספר שלו וה...   \n",
       "23  <question>ישנם 5 בתים ברחוב, ולכל אחד מארבעת ה...   \n",
       "24  <question>גברת סניידר נהגה להוציא 40% מההכנסה ...   \n",
       "25  <question>אן, ביל, קייט, ודייל כל אחד קונה פיצ...   \n",
       "26  <question>נוח הוא צייר. הוא מצייר תמונות ומוכר...   \n",
       "27  <question>מכונית נוסעת במנהרה עם פניות רבות. ל...   \n",
       "28  <question>כדי להכין פיצה, יחד עם מרכיבים אחרים...   \n",
       "29  <question>מר סם חילק סכום כסף מסוים בין שני בנ...   \n",
       "30  <question>מר סנצ'ז גילה ש-40% מתלמידי כיתה ה' ...   \n",
       "31  <question>ליסה, ג'ק וטומי הרוויחו 60$ משטיפת מ...   \n",
       "32  <question>חמישה חברים אוכלים ברשת מזון מהיר ומ...   \n",
       "33  <question>ארטמיס מכינה תה למסיבה. היא יודעת שא...   \n",
       "34  <question>אנה יוצאת לאסוף ממתקים בשכונה שבה הי...   \n",
       "35  <question>כרטיס כניסה לקונצרט עולה 40$. מר בנס...   \n",
       "36  <question>רחל ושרה רוצות להשתתף בתחרות יופי וד...   \n",
       "37  <question>משפחה של 12 קופים אספה 10 ערימות של ...   \n",
       "38  <question>רעידת אדמה גרמה לקריסת ארבעה בניינים...   \n",
       "39  <question>ג'יימס הוא סטודנט בשנה א' באוניברסיט...   \n",
       "40  <question>זו מסיבת יום ההולדת של אווה. הוריה ק...   \n",
       "41  <question>קרוליין מתאמנת בפסנתר 20 דקות ביום ו...   \n",
       "42  <question>הקובץ, בגודל 90 מגה-בייט, מוריד בקצב...   \n",
       "43  <question>סם שינן שש ספרות נוספות של פאי יותר ...   \n",
       "44  <question>בטיול בית ספר לחוף הים, אלן וחבריו א...   \n",
       "45  <question>ג'רלד מוציא 100$ בחודש על ציוד בייסב...   \n",
       "46  <question>אן חותכת בד כדי להכין וילונות. היא ח...   \n",
       "47  <question>לארנל היו עשרה קופסאות עפרונות עם או...   \n",
       "48  <question>קיילב קנה 10 קרטונים של גלידה ו-4 קר...   \n",
       "49  <question>לאה הרוויחה 28$ מעבודות מזדמנות בשכו...   \n",
       "\n",
       "                                            trans_heb  \\\n",
       "0   <question>למארק יש גינה עם פרחים. הוא שתל בה צ...   \n",
       "1   <question>אלברט תוהה כמה פיצה הוא יכול לאכול ב...   \n",
       "2   <question>קן יצר חבילת טיפול לשלוח לאחיו, שהיה...   \n",
       "3   <question>אלכסיס מגישה מועמדות לעבודה חדשה וקנ...   \n",
       "4   <question>טינה מרוויחה 18.00$ לשעה. אם היא עוב...   \n",
       "5   <question>מפלצת ים עמוק עולה מהמים אחת למאה שנ...   \n",
       "6   <question>טוביאס קונה זוג נעליים חדש שעולה 95$...   \n",
       "7   <question>לרנדי יש 60 עצי מנגו בחווה שלו. יש ל...   \n",
       "8   <question>ג'ספר יגיש מגש נקניקים וגבינות במסיב...   \n",
       "9   <question>ג'וי יכולה לקרוא 8 עמודים מספר ב-20 ...   \n",
       "10  <question>ג'יימס יוצר אימפריית מדיה. הוא יוצר ...   \n",
       "11  <question>הרווח מעסקה עסקית מתחלק בין 2 שותפים...   \n",
       "12  <question>במשאית, יש 26 קסדות ורודות, 15 קסדות...   \n",
       "13  <question>לוקח לרוק שעתיים ללכת לעבודה ושעה אח...   \n",
       "14  <question>טים רוכב על אופניו הלוך ושוב לעבודה ...   \n",
       "15  <question>בלה קנתה בולים בסניף הדואר. לחלק מהב...   \n",
       "16  <question>כל ציפור אוכלת 12 חיפושיות ביום, כל ...   \n",
       "17  <question>לשם המשפחה של סמנתה יש שלוש אותיות פ...   \n",
       "18  <question>החנות האהובה על אן ערכה מבצע חיסול ק...   \n",
       "19  <question>מרי עושה את קניותיה בשבת. היא עורכת ...   \n",
       "20  <question>רלף הולך להתאמן בטניס עם מכונת כדורי...   \n",
       "21  <question>ג'ק תקוע על אי בודד. הוא רוצה קצת מל...   \n",
       "22  <question>ברנן חקר עבור פרויקט בית הספר שלו וה...   \n",
       "23  <question>ישנם 5 בתים ברחוב, ולכל אחד מארבעת ה...   \n",
       "24  <question>גברת סניידר נהגה להוציא 40% מההכנסה ...   \n",
       "25  <question>אן, ביל, קייט ודייל קונים כל אחד פיצ...   \n",
       "26  <question>נוח הוא צייר. הוא מצייר תמונות ומוכר...   \n",
       "27  <question>מכונית נוסעת במנהרה עם פניות רבות. ל...   \n",
       "28  <question>כדי להכין פיצה, יחד עם מרכיבים אחרים...   \n",
       "29  <question>מר סם חילק סכום כסף מסוים בין שני בנ...   \n",
       "30  <question>מר סנצ'ז גילה ש-40% מתלמידי כיתה ה' ...   \n",
       "31  <question>ליסה, ג'ק וטומי הרוויחו 60$ משטיפת מ...   \n",
       "32  <question>חמישה חברים אוכלים ברשת מזון מהיר ומ...   \n",
       "33  <question>ארטמיס מכינה תה למסיבה. היא יודעת שא...   \n",
       "34  <question>אנה הולכת לאסוף ממתקים בשכונה שבה הי...   \n",
       "35  <question>כרטיס לקונצרט עולה 40$. מר בנסון קנה...   \n",
       "36  <question>רחל ושרה רוצות להשתתף בתחרות יופי וד...   \n",
       "37  <question>משפחה של 12 קופים אספה 10 ערימות של ...   \n",
       "38  <question>רעידת אדמה גרמה לקריסת ארבעה בניינים...   \n",
       "39  <question>ג'יימס הוא סטודנט שנה א' באוניברסיטה...   \n",
       "40  <question>זו מסיבת יום ההולדת של אווה. הוריה ק...   \n",
       "41  <question>קרוליין מתאמנת בפסנתר 20 דקות ביום ו...   \n",
       "42  <question>הקובץ, בגודל 90 מגה-בייט, יורד בקצב ...   \n",
       "43  <question>סם שינן שש ספרות נוספות של פאי מאשר ...   \n",
       "44  <question>בטיול בית ספר לחוף הים, אלן וחבריו א...   \n",
       "45  <question>ג'רלד מוציא 100$ בחודש על ציוד בייסב...   \n",
       "46  <question>אן חותכת בד כדי להכין וילונות. היא ח...   \n",
       "47  <question>לארנל היו עשרה קופסאות של עפרונות עם...   \n",
       "48  <question>קיילב קנה 10 קרטונים של גלידה ו-4 קר...   \n",
       "49  <question>לאה הרוויחה 28$ מעבודות מזדמנות בשכו...   \n",
       "\n",
       "                          LLM-as-a-Judge  Unnamed: 3  \\\n",
       "0          '{\"decision\": \"Synthesized\"}'         NaN   \n",
       "1           '{\"decision\":\"Synthesized\"}'         NaN   \n",
       "2          '{\"decision\": \"Synthesized\"}'         NaN   \n",
       "3          '{\"decision\": \"Synthesized\"}'         NaN   \n",
       "4          '{\"decision\": \"Synthesized\"}'         NaN   \n",
       "5          '{\"decision\": \"Synthesized\"}'         NaN   \n",
       "6          '{\"decision\": \"Synthesized\"}'         NaN   \n",
       "7           '{\"decision\": \"Translated\"}'         NaN   \n",
       "8          '{\"decision\": \"Synthesized\"}'         NaN   \n",
       "9           '{\"decision\": \"Translated\"}'         NaN   \n",
       "10   '{\\n  \"decision\": \"Synthesized\"\\n}'         NaN   \n",
       "11         '{\"decision\": \"Synthesized\"}'         NaN   \n",
       "12         '{\"decision\": \"Synthesized\"}'         NaN   \n",
       "13                                   NaN         NaN   \n",
       "14                                   NaN         NaN   \n",
       "15                                   NaN         NaN   \n",
       "16                                   NaN         NaN   \n",
       "17                                   NaN         NaN   \n",
       "18                                   NaN         NaN   \n",
       "19                                   NaN         NaN   \n",
       "20                                   NaN         NaN   \n",
       "21                                   NaN         NaN   \n",
       "22                                   NaN         NaN   \n",
       "23                                   NaN         NaN   \n",
       "24                                   NaN         NaN   \n",
       "25                                   NaN         NaN   \n",
       "26                                   NaN         NaN   \n",
       "27                                   NaN         NaN   \n",
       "28                                   NaN         NaN   \n",
       "29                                   NaN         NaN   \n",
       "30                                   NaN         NaN   \n",
       "31                                   NaN         NaN   \n",
       "32                                   NaN         NaN   \n",
       "33                                   NaN         NaN   \n",
       "34                                   NaN         NaN   \n",
       "35                                   NaN         NaN   \n",
       "36                                   NaN         NaN   \n",
       "37                                   NaN         NaN   \n",
       "38                                   NaN         NaN   \n",
       "39                                   NaN         NaN   \n",
       "40                                   NaN         NaN   \n",
       "41                                   NaN         NaN   \n",
       "42                                   NaN         NaN   \n",
       "43                                   NaN         NaN   \n",
       "44                                   NaN         NaN   \n",
       "45                                   NaN         NaN   \n",
       "46                                   NaN         NaN   \n",
       "47                                   NaN         NaN   \n",
       "48                                   NaN         NaN   \n",
       "49                                   NaN         NaN   \n",
       "\n",
       "                                                judge  \n",
       "0                          {\"decision\":\"Synthesized\"}  \n",
       "1                          {\"decision\":\"Synthesized\"}  \n",
       "2                         {\"decision\": \"Synthesized\"}  \n",
       "3                          {\"decision\":\"Synthesized\"}  \n",
       "4                   {\\n  \"decision\": \"Synthesized\"\\n}  \n",
       "5                          {\"decision\":\"Synthesized\"}  \n",
       "6                          {\"decision\":\"Synthesized\"}  \n",
       "7                           {\"decision\":\"Translated\"}  \n",
       "8                          {\"decision\":\"Synthesized\"}  \n",
       "9                          {\"decision\":\"Synthesized\"}  \n",
       "10                         {\"decision\":\"Synthesized\"}  \n",
       "11                         {\"decision\":\"Synthesized\"}  \n",
       "12                  {\\n  \"decision\": \"Synthesized\"\\n}  \n",
       "13                         {\"decision\":\"Synthesized\"}  \n",
       "14                         {\"decision\":\"Synthesized\"}  \n",
       "15                         {\"decision\":\"Synthesized\"}  \n",
       "16                         {\"decision\":\"Synthesized\"}  \n",
       "17  429 RESOURCE_EXHAUSTED. {'error': {'code': 429...  \n",
       "18  429 RESOURCE_EXHAUSTED. {'error': {'code': 429...  \n",
       "19  429 RESOURCE_EXHAUSTED. {'error': {'code': 429...  \n",
       "20  429 RESOURCE_EXHAUSTED. {'error': {'code': 429...  \n",
       "21  429 RESOURCE_EXHAUSTED. {'error': {'code': 429...  \n",
       "22  429 RESOURCE_EXHAUSTED. {'error': {'code': 429...  \n",
       "23  429 RESOURCE_EXHAUSTED. {'error': {'code': 429...  \n",
       "24  429 RESOURCE_EXHAUSTED. {'error': {'code': 429...  \n",
       "25  429 RESOURCE_EXHAUSTED. {'error': {'code': 429...  \n",
       "26  429 RESOURCE_EXHAUSTED. {'error': {'code': 429...  \n",
       "27  429 RESOURCE_EXHAUSTED. {'error': {'code': 429...  \n",
       "28  429 RESOURCE_EXHAUSTED. {'error': {'code': 429...  \n",
       "29  429 RESOURCE_EXHAUSTED. {'error': {'code': 429...  \n",
       "30  429 RESOURCE_EXHAUSTED. {'error': {'code': 429...  \n",
       "31  429 RESOURCE_EXHAUSTED. {'error': {'code': 429...  \n",
       "32  429 RESOURCE_EXHAUSTED. {'error': {'code': 429...  \n",
       "33  429 RESOURCE_EXHAUSTED. {'error': {'code': 429...  \n",
       "34  429 RESOURCE_EXHAUSTED. {'error': {'code': 429...  \n",
       "35  429 RESOURCE_EXHAUSTED. {'error': {'code': 429...  \n",
       "36  429 RESOURCE_EXHAUSTED. {'error': {'code': 429...  \n",
       "37  429 RESOURCE_EXHAUSTED. {'error': {'code': 429...  \n",
       "38  429 RESOURCE_EXHAUSTED. {'error': {'code': 429...  \n",
       "39  429 RESOURCE_EXHAUSTED. {'error': {'code': 429...  \n",
       "40  429 RESOURCE_EXHAUSTED. {'error': {'code': 429...  \n",
       "41  429 RESOURCE_EXHAUSTED. {'error': {'code': 429...  \n",
       "42  429 RESOURCE_EXHAUSTED. {'error': {'code': 429...  \n",
       "43  429 RESOURCE_EXHAUSTED. {'error': {'code': 429...  \n",
       "44  429 RESOURCE_EXHAUSTED. {'error': {'code': 429...  \n",
       "45  429 RESOURCE_EXHAUSTED. {'error': {'code': 429...  \n",
       "46  429 RESOURCE_EXHAUSTED. {'error': {'code': 429...  \n",
       "47  429 RESOURCE_EXHAUSTED. {'error': {'code': 429...  \n",
       "48  429 RESOURCE_EXHAUSTED. {'error': {'code': 429...  \n",
       "49  429 RESOURCE_EXHAUSTED. {'error': {'code': 429...  "
      ]
     },
     "execution_count": 9,
     "metadata": {},
     "output_type": "execute_result"
    }
   ],
   "source": [
    "df = pd.read_csv('compare_csv/gsm8k_judge_50_flash.csv')\n",
    "df['judge'] = df.apply(lambda r: judge_cot_version(r['trans_heb'], r['synth_heb']), axis=1)\n",
    "df"
   ]
  },
  {
   "cell_type": "code",
   "execution_count": 98,
   "id": "c4934630-4444-43ba-8aa0-ff53dbb10a7b",
   "metadata": {
    "scrolled": true
   },
   "outputs": [
    {
     "ename": "TypeError",
     "evalue": "string indices must be integers",
     "output_type": "error",
     "traceback": [
      "\u001b[0;31m---------------------------------------------------------------------------\u001b[0m",
      "\u001b[0;31mTypeError\u001b[0m                                 Traceback (most recent call last)",
      "Cell \u001b[0;32mIn[98], line 1\u001b[0m\n\u001b[0;32m----> 1\u001b[0m \u001b[43madd_dataset_to_csv\u001b[49m\u001b[43m(\u001b[49m\u001b[38;5;124;43m'\u001b[39;49m\u001b[38;5;124;43mcompare_csv/gsm8k_judge_50_flash-1.csv\u001b[39;49m\u001b[38;5;124;43m'\u001b[39;49m\u001b[43m,\u001b[49m\u001b[43m \u001b[49m\u001b[38;5;124;43m'\u001b[39;49m\u001b[38;5;124;43mjudge\u001b[39;49m\u001b[38;5;124;43m'\u001b[39;49m\u001b[43m,\u001b[49m\u001b[43m \u001b[49m\u001b[43mdf\u001b[49m\u001b[43m[\u001b[49m\u001b[38;5;124;43m'\u001b[39;49m\u001b[38;5;124;43mjudge\u001b[39;49m\u001b[38;5;124;43m'\u001b[39;49m\u001b[43m]\u001b[49m\u001b[38;5;241;43m.\u001b[39;49m\u001b[43mtolist\u001b[49m\u001b[43m(\u001b[49m\u001b[43m)\u001b[49m\u001b[43m[\u001b[49m\u001b[43m:\u001b[49m\u001b[38;5;241;43m12\u001b[39;49m\u001b[43m]\u001b[49m\u001b[43m,\u001b[49m\u001b[43m \u001b[49m\u001b[38;5;28;43;01mlambda\u001b[39;49;00m\u001b[43m \u001b[49m\u001b[43mx\u001b[49m\u001b[43m \u001b[49m\u001b[43m:\u001b[49m\u001b[43m \u001b[49m\u001b[43mx\u001b[49m\u001b[43m)\u001b[49m\n",
      "File \u001b[0;32m~/SageMaker/qwen-hebrew-finetuning/translation/src/save_utils.py:13\u001b[0m, in \u001b[0;36madd_dataset_to_csv\u001b[0;34m(file_name, columns_name, dataset, sample_to_dict_func)\u001b[0m\n\u001b[1;32m     11\u001b[0m     df \u001b[38;5;241m=\u001b[39m pd\u001b[38;5;241m.\u001b[39mDataFrame()\n\u001b[1;32m     12\u001b[0m \u001b[38;5;66;03m# Add the new columns\u001b[39;00m\n\u001b[0;32m---> 13\u001b[0m df[columns_name] \u001b[38;5;241m=\u001b[39m [dict_to_prompt(sample_to_dict_func(exmp)) \u001b[38;5;28;01mfor\u001b[39;00m exmp \u001b[38;5;129;01min\u001b[39;00m dataset]\n\u001b[1;32m     14\u001b[0m \u001b[38;5;66;03m# Save to csv\u001b[39;00m\n\u001b[1;32m     15\u001b[0m df\u001b[38;5;241m.\u001b[39mto_csv(file_name, index\u001b[38;5;241m=\u001b[39m\u001b[38;5;28;01mFalse\u001b[39;00m)\n",
      "File \u001b[0;32m~/SageMaker/qwen-hebrew-finetuning/translation/src/save_utils.py:13\u001b[0m, in \u001b[0;36m<listcomp>\u001b[0;34m(.0)\u001b[0m\n\u001b[1;32m     11\u001b[0m     df \u001b[38;5;241m=\u001b[39m pd\u001b[38;5;241m.\u001b[39mDataFrame()\n\u001b[1;32m     12\u001b[0m \u001b[38;5;66;03m# Add the new columns\u001b[39;00m\n\u001b[0;32m---> 13\u001b[0m df[columns_name] \u001b[38;5;241m=\u001b[39m [\u001b[43mdict_to_prompt\u001b[49m\u001b[43m(\u001b[49m\u001b[43msample_to_dict_func\u001b[49m\u001b[43m(\u001b[49m\u001b[43mexmp\u001b[49m\u001b[43m)\u001b[49m\u001b[43m)\u001b[49m \u001b[38;5;28;01mfor\u001b[39;00m exmp \u001b[38;5;129;01min\u001b[39;00m dataset]\n\u001b[1;32m     14\u001b[0m \u001b[38;5;66;03m# Save to csv\u001b[39;00m\n\u001b[1;32m     15\u001b[0m df\u001b[38;5;241m.\u001b[39mto_csv(file_name, index\u001b[38;5;241m=\u001b[39m\u001b[38;5;28;01mFalse\u001b[39;00m)\n",
      "File \u001b[0;32m~/SageMaker/qwen-hebrew-finetuning/translation/src/translate_func.py:23\u001b[0m, in \u001b[0;36mdict_to_prompt\u001b[0;34m(dct)\u001b[0m\n\u001b[1;32m     22\u001b[0m \u001b[38;5;28;01mdef\u001b[39;00m\u001b[38;5;250m \u001b[39m\u001b[38;5;21mdict_to_prompt\u001b[39m(dct):\n\u001b[0;32m---> 23\u001b[0m     \u001b[38;5;28;01mreturn\u001b[39;00m \u001b[38;5;124m'\u001b[39m\u001b[38;5;130;01m\\n\u001b[39;00m\u001b[38;5;124m'\u001b[39m\u001b[38;5;241m.\u001b[39mjoin([\u001b[38;5;124mf\u001b[39m\u001b[38;5;124m'\u001b[39m\u001b[38;5;124m<\u001b[39m\u001b[38;5;132;01m{\u001b[39;00mk\u001b[38;5;132;01m}\u001b[39;00m\u001b[38;5;124m>\u001b[39m\u001b[38;5;132;01m{\u001b[39;00mdct[k]\u001b[38;5;132;01m}\u001b[39;00m\u001b[38;5;124m</\u001b[39m\u001b[38;5;132;01m{\u001b[39;00mk\u001b[38;5;132;01m}\u001b[39;00m\u001b[38;5;124m>\u001b[39m\u001b[38;5;124m'\u001b[39m \u001b[38;5;28;01mfor\u001b[39;00m k \u001b[38;5;129;01min\u001b[39;00m dct])\n",
      "File \u001b[0;32m~/SageMaker/qwen-hebrew-finetuning/translation/src/translate_func.py:23\u001b[0m, in \u001b[0;36m<listcomp>\u001b[0;34m(.0)\u001b[0m\n\u001b[1;32m     22\u001b[0m \u001b[38;5;28;01mdef\u001b[39;00m\u001b[38;5;250m \u001b[39m\u001b[38;5;21mdict_to_prompt\u001b[39m(dct):\n\u001b[0;32m---> 23\u001b[0m     \u001b[38;5;28;01mreturn\u001b[39;00m \u001b[38;5;124m'\u001b[39m\u001b[38;5;130;01m\\n\u001b[39;00m\u001b[38;5;124m'\u001b[39m\u001b[38;5;241m.\u001b[39mjoin([\u001b[38;5;124mf\u001b[39m\u001b[38;5;124m'\u001b[39m\u001b[38;5;124m<\u001b[39m\u001b[38;5;132;01m{\u001b[39;00mk\u001b[38;5;132;01m}\u001b[39;00m\u001b[38;5;124m>\u001b[39m\u001b[38;5;132;01m{\u001b[39;00m\u001b[43mdct\u001b[49m\u001b[43m[\u001b[49m\u001b[43mk\u001b[49m\u001b[43m]\u001b[49m\u001b[38;5;132;01m}\u001b[39;00m\u001b[38;5;124m</\u001b[39m\u001b[38;5;132;01m{\u001b[39;00mk\u001b[38;5;132;01m}\u001b[39;00m\u001b[38;5;124m>\u001b[39m\u001b[38;5;124m'\u001b[39m \u001b[38;5;28;01mfor\u001b[39;00m k \u001b[38;5;129;01min\u001b[39;00m dct])\n",
      "\u001b[0;31mTypeError\u001b[0m: string indices must be integers"
     ]
    }
   ],
   "source": [
    "add_dataset_to_csv('compare_csv/gsm8k_judge_50_flash-1.csv', 'judge', df['judge'].tolist()[:12], lambda x : x)"
   ]
  },
  {
   "cell_type": "markdown",
   "id": "2d360d28",
   "metadata": {},
   "source": [
    "## OpenMathReasoning\n",
    "https://huggingface.co/datasets/nvidia/OpenMathReasoning\n"
   ]
  },
  {
   "cell_type": "markdown",
   "id": "699fd553",
   "metadata": {},
   "source": []
  }
 ],
 "metadata": {
  "kernelspec": {
   "display_name": "venv",
   "language": "python",
   "name": "python3"
  },
  "language_info": {
   "codemirror_mode": {
    "name": "ipython",
    "version": 3
   },
   "file_extension": ".py",
   "mimetype": "text/x-python",
   "name": "python",
   "nbconvert_exporter": "python",
   "pygments_lexer": "ipython3",
   "version": "3.11.12"
  }
 },
 "nbformat": 4,
 "nbformat_minor": 5
}
