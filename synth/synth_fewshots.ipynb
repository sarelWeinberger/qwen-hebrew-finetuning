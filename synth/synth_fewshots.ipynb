{
 "cells": [
  {
   "cell_type": "code",
   "execution_count": 67,
   "id": "e981948d51bb5420",
   "metadata": {
    "ExecuteTime": {
     "end_time": "2025-08-25T07:13:37.325805Z",
     "start_time": "2025-08-25T07:13:34.425168Z"
    }
   },
   "outputs": [
    {
     "name": "stdout",
     "output_type": "stream",
     "text": [
      "Requirement already satisfied: datasets in /Users/galastra/Projects/qwen-hebrew-finetuning/venv/lib/python3.11/site-packages (4.0.0)\n",
      "Requirement already satisfied: filelock in /Users/galastra/Projects/qwen-hebrew-finetuning/venv/lib/python3.11/site-packages (from datasets) (3.18.0)\n",
      "Requirement already satisfied: numpy>=1.17 in /Users/galastra/Projects/qwen-hebrew-finetuning/venv/lib/python3.11/site-packages (from datasets) (2.3.2)\n",
      "Requirement already satisfied: pyarrow>=15.0.0 in /Users/galastra/Projects/qwen-hebrew-finetuning/venv/lib/python3.11/site-packages (from datasets) (21.0.0)\n",
      "Requirement already satisfied: dill<0.3.9,>=0.3.0 in /Users/galastra/Projects/qwen-hebrew-finetuning/venv/lib/python3.11/site-packages (from datasets) (0.3.8)\n",
      "Requirement already satisfied: pandas in /Users/galastra/Projects/qwen-hebrew-finetuning/venv/lib/python3.11/site-packages (from datasets) (2.3.1)\n",
      "Requirement already satisfied: requests>=2.32.2 in /Users/galastra/Projects/qwen-hebrew-finetuning/venv/lib/python3.11/site-packages (from datasets) (2.32.4)\n",
      "Requirement already satisfied: tqdm>=4.66.3 in /Users/galastra/Projects/qwen-hebrew-finetuning/venv/lib/python3.11/site-packages (from datasets) (4.67.1)\n",
      "Requirement already satisfied: xxhash in /Users/galastra/Projects/qwen-hebrew-finetuning/venv/lib/python3.11/site-packages (from datasets) (3.5.0)\n",
      "Requirement already satisfied: multiprocess<0.70.17 in /Users/galastra/Projects/qwen-hebrew-finetuning/venv/lib/python3.11/site-packages (from datasets) (0.70.16)\n",
      "Requirement already satisfied: fsspec<=2025.3.0,>=2023.1.0 in /Users/galastra/Projects/qwen-hebrew-finetuning/venv/lib/python3.11/site-packages (from fsspec[http]<=2025.3.0,>=2023.1.0->datasets) (2025.3.0)\n",
      "Requirement already satisfied: huggingface-hub>=0.24.0 in /Users/galastra/Projects/qwen-hebrew-finetuning/venv/lib/python3.11/site-packages (from datasets) (0.34.4)\n",
      "Requirement already satisfied: packaging in /Users/galastra/Projects/qwen-hebrew-finetuning/venv/lib/python3.11/site-packages (from datasets) (25.0)\n",
      "Requirement already satisfied: pyyaml>=5.1 in /Users/galastra/Projects/qwen-hebrew-finetuning/venv/lib/python3.11/site-packages (from datasets) (6.0.2)\n",
      "Requirement already satisfied: aiohttp!=4.0.0a0,!=4.0.0a1 in /Users/galastra/Projects/qwen-hebrew-finetuning/venv/lib/python3.11/site-packages (from fsspec[http]<=2025.3.0,>=2023.1.0->datasets) (3.12.15)\n",
      "Requirement already satisfied: aiohappyeyeballs>=2.5.0 in /Users/galastra/Projects/qwen-hebrew-finetuning/venv/lib/python3.11/site-packages (from aiohttp!=4.0.0a0,!=4.0.0a1->fsspec[http]<=2025.3.0,>=2023.1.0->datasets) (2.6.1)\n",
      "Requirement already satisfied: aiosignal>=1.4.0 in /Users/galastra/Projects/qwen-hebrew-finetuning/venv/lib/python3.11/site-packages (from aiohttp!=4.0.0a0,!=4.0.0a1->fsspec[http]<=2025.3.0,>=2023.1.0->datasets) (1.4.0)\n",
      "Requirement already satisfied: attrs>=17.3.0 in /Users/galastra/Projects/qwen-hebrew-finetuning/venv/lib/python3.11/site-packages (from aiohttp!=4.0.0a0,!=4.0.0a1->fsspec[http]<=2025.3.0,>=2023.1.0->datasets) (25.3.0)\n",
      "Requirement already satisfied: frozenlist>=1.1.1 in /Users/galastra/Projects/qwen-hebrew-finetuning/venv/lib/python3.11/site-packages (from aiohttp!=4.0.0a0,!=4.0.0a1->fsspec[http]<=2025.3.0,>=2023.1.0->datasets) (1.7.0)\n",
      "Requirement already satisfied: multidict<7.0,>=4.5 in /Users/galastra/Projects/qwen-hebrew-finetuning/venv/lib/python3.11/site-packages (from aiohttp!=4.0.0a0,!=4.0.0a1->fsspec[http]<=2025.3.0,>=2023.1.0->datasets) (6.6.4)\n",
      "Requirement already satisfied: propcache>=0.2.0 in /Users/galastra/Projects/qwen-hebrew-finetuning/venv/lib/python3.11/site-packages (from aiohttp!=4.0.0a0,!=4.0.0a1->fsspec[http]<=2025.3.0,>=2023.1.0->datasets) (0.3.2)\n",
      "Requirement already satisfied: yarl<2.0,>=1.17.0 in /Users/galastra/Projects/qwen-hebrew-finetuning/venv/lib/python3.11/site-packages (from aiohttp!=4.0.0a0,!=4.0.0a1->fsspec[http]<=2025.3.0,>=2023.1.0->datasets) (1.20.1)\n",
      "Requirement already satisfied: idna>=2.0 in /Users/galastra/Projects/qwen-hebrew-finetuning/venv/lib/python3.11/site-packages (from yarl<2.0,>=1.17.0->aiohttp!=4.0.0a0,!=4.0.0a1->fsspec[http]<=2025.3.0,>=2023.1.0->datasets) (3.10)\n",
      "Requirement already satisfied: typing-extensions>=4.2 in /Users/galastra/Projects/qwen-hebrew-finetuning/venv/lib/python3.11/site-packages (from aiosignal>=1.4.0->aiohttp!=4.0.0a0,!=4.0.0a1->fsspec[http]<=2025.3.0,>=2023.1.0->datasets) (4.14.1)\n",
      "Requirement already satisfied: hf-xet<2.0.0,>=1.1.3 in /Users/galastra/Projects/qwen-hebrew-finetuning/venv/lib/python3.11/site-packages (from huggingface-hub>=0.24.0->datasets) (1.1.7)\n",
      "Requirement already satisfied: charset_normalizer<4,>=2 in /Users/galastra/Projects/qwen-hebrew-finetuning/venv/lib/python3.11/site-packages (from requests>=2.32.2->datasets) (3.4.3)\n",
      "Requirement already satisfied: urllib3<3,>=1.21.1 in /Users/galastra/Projects/qwen-hebrew-finetuning/venv/lib/python3.11/site-packages (from requests>=2.32.2->datasets) (2.5.0)\n",
      "Requirement already satisfied: certifi>=2017.4.17 in /Users/galastra/Projects/qwen-hebrew-finetuning/venv/lib/python3.11/site-packages (from requests>=2.32.2->datasets) (2025.8.3)\n",
      "Requirement already satisfied: python-dateutil>=2.8.2 in /Users/galastra/Projects/qwen-hebrew-finetuning/venv/lib/python3.11/site-packages (from pandas->datasets) (2.9.0.post0)\n",
      "Requirement already satisfied: pytz>=2020.1 in /Users/galastra/Projects/qwen-hebrew-finetuning/venv/lib/python3.11/site-packages (from pandas->datasets) (2025.2)\n",
      "Requirement already satisfied: tzdata>=2022.7 in /Users/galastra/Projects/qwen-hebrew-finetuning/venv/lib/python3.11/site-packages (from pandas->datasets) (2025.2)\n",
      "Requirement already satisfied: six>=1.5 in /Users/galastra/Projects/qwen-hebrew-finetuning/venv/lib/python3.11/site-packages (from python-dateutil>=2.8.2->pandas->datasets) (1.17.0)\n",
      "Requirement already satisfied: openpyxl in /Users/galastra/Projects/qwen-hebrew-finetuning/venv/lib/python3.11/site-packages (3.1.5)\n",
      "Requirement already satisfied: et-xmlfile in /Users/galastra/Projects/qwen-hebrew-finetuning/venv/lib/python3.11/site-packages (from openpyxl) (2.0.0)\n",
      "/Users/galastra/Projects/qwen-hebrew-finetuning/synth\n"
     ]
    }
   ],
   "source": [
    "!pip install datasets\n",
    "!pip install openpyxl\n",
    "!pip install -q -U google-genai\n",
    "!pwd"
   ]
  },
  {
   "cell_type": "code",
   "execution_count": 68,
   "id": "2efa8d3aceb07d1",
   "metadata": {
    "ExecuteTime": {
     "end_time": "2025-08-25T07:13:40.239869Z",
     "start_time": "2025-08-25T07:13:38.573861Z"
    }
   },
   "outputs": [
    {
     "name": "stdout",
     "output_type": "stream",
     "text": [
      "Requirement already satisfied: google-generativeai in /Users/galastra/Projects/qwen-hebrew-finetuning/venv/lib/python3.11/site-packages (0.8.5)\n",
      "Requirement already satisfied: google-ai-generativelanguage==0.6.15 in /Users/galastra/Projects/qwen-hebrew-finetuning/venv/lib/python3.11/site-packages (from google-generativeai) (0.6.15)\n",
      "Requirement already satisfied: google-api-core in /Users/galastra/Projects/qwen-hebrew-finetuning/venv/lib/python3.11/site-packages (from google-generativeai) (2.25.1)\n",
      "Requirement already satisfied: google-api-python-client in /Users/galastra/Projects/qwen-hebrew-finetuning/venv/lib/python3.11/site-packages (from google-generativeai) (2.179.0)\n",
      "Requirement already satisfied: google-auth>=2.15.0 in /Users/galastra/Projects/qwen-hebrew-finetuning/venv/lib/python3.11/site-packages (from google-generativeai) (2.40.3)\n",
      "Requirement already satisfied: protobuf in /Users/galastra/Projects/qwen-hebrew-finetuning/venv/lib/python3.11/site-packages (from google-generativeai) (5.29.5)\n",
      "Requirement already satisfied: pydantic in /Users/galastra/Projects/qwen-hebrew-finetuning/venv/lib/python3.11/site-packages (from google-generativeai) (2.11.7)\n",
      "Requirement already satisfied: tqdm in /Users/galastra/Projects/qwen-hebrew-finetuning/venv/lib/python3.11/site-packages (from google-generativeai) (4.67.1)\n",
      "Requirement already satisfied: typing-extensions in /Users/galastra/Projects/qwen-hebrew-finetuning/venv/lib/python3.11/site-packages (from google-generativeai) (4.14.1)\n",
      "Requirement already satisfied: proto-plus<2.0.0dev,>=1.22.3 in /Users/galastra/Projects/qwen-hebrew-finetuning/venv/lib/python3.11/site-packages (from google-ai-generativelanguage==0.6.15->google-generativeai) (1.26.1)\n",
      "Requirement already satisfied: googleapis-common-protos<2.0.0,>=1.56.2 in /Users/galastra/Projects/qwen-hebrew-finetuning/venv/lib/python3.11/site-packages (from google-api-core->google-generativeai) (1.70.0)\n",
      "Requirement already satisfied: requests<3.0.0,>=2.18.0 in /Users/galastra/Projects/qwen-hebrew-finetuning/venv/lib/python3.11/site-packages (from google-api-core->google-generativeai) (2.32.4)\n",
      "Requirement already satisfied: grpcio<2.0.0,>=1.33.2 in /Users/galastra/Projects/qwen-hebrew-finetuning/venv/lib/python3.11/site-packages (from google-api-core[grpc]!=2.0.*,!=2.1.*,!=2.10.*,!=2.2.*,!=2.3.*,!=2.4.*,!=2.5.*,!=2.6.*,!=2.7.*,!=2.8.*,!=2.9.*,<3.0.0dev,>=1.34.1->google-ai-generativelanguage==0.6.15->google-generativeai) (1.74.0)\n",
      "Requirement already satisfied: grpcio-status<2.0.0,>=1.33.2 in /Users/galastra/Projects/qwen-hebrew-finetuning/venv/lib/python3.11/site-packages (from google-api-core[grpc]!=2.0.*,!=2.1.*,!=2.10.*,!=2.2.*,!=2.3.*,!=2.4.*,!=2.5.*,!=2.6.*,!=2.7.*,!=2.8.*,!=2.9.*,<3.0.0dev,>=1.34.1->google-ai-generativelanguage==0.6.15->google-generativeai) (1.71.2)\n",
      "Requirement already satisfied: cachetools<6.0,>=2.0.0 in /Users/galastra/Projects/qwen-hebrew-finetuning/venv/lib/python3.11/site-packages (from google-auth>=2.15.0->google-generativeai) (5.5.2)\n",
      "Requirement already satisfied: pyasn1-modules>=0.2.1 in /Users/galastra/Projects/qwen-hebrew-finetuning/venv/lib/python3.11/site-packages (from google-auth>=2.15.0->google-generativeai) (0.4.2)\n",
      "Requirement already satisfied: rsa<5,>=3.1.4 in /Users/galastra/Projects/qwen-hebrew-finetuning/venv/lib/python3.11/site-packages (from google-auth>=2.15.0->google-generativeai) (4.9.1)\n",
      "Requirement already satisfied: charset_normalizer<4,>=2 in /Users/galastra/Projects/qwen-hebrew-finetuning/venv/lib/python3.11/site-packages (from requests<3.0.0,>=2.18.0->google-api-core->google-generativeai) (3.4.3)\n",
      "Requirement already satisfied: idna<4,>=2.5 in /Users/galastra/Projects/qwen-hebrew-finetuning/venv/lib/python3.11/site-packages (from requests<3.0.0,>=2.18.0->google-api-core->google-generativeai) (3.10)\n",
      "Requirement already satisfied: urllib3<3,>=1.21.1 in /Users/galastra/Projects/qwen-hebrew-finetuning/venv/lib/python3.11/site-packages (from requests<3.0.0,>=2.18.0->google-api-core->google-generativeai) (2.5.0)\n",
      "Requirement already satisfied: certifi>=2017.4.17 in /Users/galastra/Projects/qwen-hebrew-finetuning/venv/lib/python3.11/site-packages (from requests<3.0.0,>=2.18.0->google-api-core->google-generativeai) (2025.8.3)\n",
      "Requirement already satisfied: pyasn1>=0.1.3 in /Users/galastra/Projects/qwen-hebrew-finetuning/venv/lib/python3.11/site-packages (from rsa<5,>=3.1.4->google-auth>=2.15.0->google-generativeai) (0.6.1)\n",
      "Requirement already satisfied: httplib2<1.0.0,>=0.19.0 in /Users/galastra/Projects/qwen-hebrew-finetuning/venv/lib/python3.11/site-packages (from google-api-python-client->google-generativeai) (0.22.0)\n",
      "Requirement already satisfied: google-auth-httplib2<1.0.0,>=0.2.0 in /Users/galastra/Projects/qwen-hebrew-finetuning/venv/lib/python3.11/site-packages (from google-api-python-client->google-generativeai) (0.2.0)\n",
      "Requirement already satisfied: uritemplate<5,>=3.0.1 in /Users/galastra/Projects/qwen-hebrew-finetuning/venv/lib/python3.11/site-packages (from google-api-python-client->google-generativeai) (4.2.0)\n",
      "Requirement already satisfied: pyparsing!=3.0.0,!=3.0.1,!=3.0.2,!=3.0.3,<4,>=2.4.2 in /Users/galastra/Projects/qwen-hebrew-finetuning/venv/lib/python3.11/site-packages (from httplib2<1.0.0,>=0.19.0->google-api-python-client->google-generativeai) (3.2.3)\n",
      "Requirement already satisfied: annotated-types>=0.6.0 in /Users/galastra/Projects/qwen-hebrew-finetuning/venv/lib/python3.11/site-packages (from pydantic->google-generativeai) (0.7.0)\n",
      "Requirement already satisfied: pydantic-core==2.33.2 in /Users/galastra/Projects/qwen-hebrew-finetuning/venv/lib/python3.11/site-packages (from pydantic->google-generativeai) (2.33.2)\n",
      "Requirement already satisfied: typing-inspection>=0.4.0 in /Users/galastra/Projects/qwen-hebrew-finetuning/venv/lib/python3.11/site-packages (from pydantic->google-generativeai) (0.4.1)\n"
     ]
    }
   ],
   "source": [
    "from datasets import load_dataset\n",
    "import random\n",
    "!pip install google-generativeai\n",
    "import google.generativeai as genai\n",
    "import time\n",
    "import pandas as pd"
   ]
  },
  {
   "cell_type": "code",
   "execution_count": 69,
   "id": "95100936a8bac9eb",
   "metadata": {
    "ExecuteTime": {
     "end_time": "2025-08-25T07:13:42.107843Z",
     "start_time": "2025-08-25T07:13:42.105834Z"
    }
   },
   "outputs": [],
   "source": [
    "import google.generativeai as genai"
   ]
  },
  {
   "cell_type": "code",
   "execution_count": 70,
   "id": "dccd995bdeed7736",
   "metadata": {
    "ExecuteTime": {
     "end_time": "2025-08-25T07:13:49.811128Z",
     "start_time": "2025-08-25T07:13:43.923323Z"
    }
   },
   "outputs": [],
   "source": [
    "ds = load_dataset(\"nvidia/OpenMathReasoning\", split=\"cot\", streaming=True)"
   ]
  },
  {
   "cell_type": "code",
   "execution_count": 71,
   "id": "305f571d8106c41b",
   "metadata": {
    "ExecuteTime": {
     "end_time": "2025-08-25T07:13:49.820988Z",
     "start_time": "2025-08-25T07:13:49.815115Z"
    }
   },
   "outputs": [],
   "source": [
    "# Block 2: Fast diversity sampling function\n",
    "def get_diverse_examples_fast(ds, n_samples=5, total_samples=5000):\n",
    "    \"\"\"Fast method using reservoir sampling to get examples with diverse COT lengths\"\"\"\n",
    "\n",
    "    # Initialize buckets for different length ranges\n",
    "    buckets = {\n",
    "        'short': [],  # 0-500 chars\n",
    "        'medium': [],  # 500-1500 chars\n",
    "        'long': [],  # 1500+ chars\n",
    "    }\n",
    "\n",
    "    count = 0\n",
    "    for item in ds:\n",
    "        if count >= total_samples:\n",
    "            break\n",
    "\n",
    "        cot_length = len(item[\"generated_solution\"])\n",
    "\n",
    "        # Determine bucket\n",
    "        if cot_length < 500:\n",
    "            bucket_name = 'short'\n",
    "        elif cot_length < 1500:\n",
    "            bucket_name = 'medium'\n",
    "        else:\n",
    "            bucket_name = 'long'\n",
    "\n",
    "        # Add to bucket (keep max 100 per bucket)\n",
    "        bucket = buckets[bucket_name]\n",
    "        if len(bucket) < 100:\n",
    "            bucket.append((item[\"problem\"], item[\"generated_solution\"], item[\"expected_answer\"]))\n",
    "        else:\n",
    "            # Replace random item (reservoir sampling)\n",
    "            replace_idx = random.randint(0, len(bucket))\n",
    "            if replace_idx < len(bucket):\n",
    "                bucket[replace_idx] = (item[\"problem\"], item[\"generated_solution\"], item[\"expected_answer\"])\n",
    "\n",
    "        count += 1\n",
    "\n",
    "    # Select examples from buckets to get diversity\n",
    "    diverse_examples = []\n",
    "    for bucket_name in ['short', 'medium', 'long']:\n",
    "        if buckets[bucket_name]:\n",
    "            # Take multiple from each bucket if needed\n",
    "            samples_from_bucket = min(len(buckets[bucket_name]), max(1, n_samples // 3))\n",
    "            diverse_examples.extend(random.sample(buckets[bucket_name], samples_from_bucket))\n",
    "\n",
    "    # If we need more samples, fill from any bucket\n",
    "    while len(diverse_examples) < n_samples:\n",
    "        for bucket in buckets.values():\n",
    "            if bucket and len(diverse_examples) < n_samples:\n",
    "                remaining = [ex for ex in bucket if ex not in diverse_examples]\n",
    "                if remaining:\n",
    "                    diverse_examples.append(random.choice(remaining))\n",
    "\n",
    "    return diverse_examples[:n_samples]"
   ]
  },
  {
   "cell_type": "code",
   "execution_count": 6,
   "id": "d658c9d251a02f33",
   "metadata": {
    "ExecuteTime": {
     "end_time": "2025-08-25T07:13:54.642447Z",
     "start_time": "2025-08-25T07:13:49.827265Z"
    }
   },
   "outputs": [
    {
     "name": "stdout",
     "output_type": "stream",
     "text": [
      "Selected 5 diverse examples:\n",
      "Example 1: COT length = 1278 chars\n",
      "Example 2: COT length = 25241 chars\n",
      "Example 3: COT length = 29271 chars\n",
      "Example 4: COT length = 50501 chars\n",
      "Example 5: COT length = 45700 chars\n"
     ]
    }
   ],
   "source": [
    "# Pair them together\n",
    "# Block 3: Get diverse examples (this replaces your slow sorting)\n",
    "examples = get_diverse_examples_fast(ds, n_samples=5, total_samples=5000)\n",
    "\n",
    "# Block 4: Check results\n",
    "print(f\"Selected {len(examples)} diverse examples:\")\n",
    "for i, (q, cot, ans) in enumerate(examples):\n",
    "    print(f\"Example {i + 1}: COT length = {len(cot)} chars\")\n",
    "\n",
    "# Block 5: Extract fields if you need them separately\n",
    "questions = [ex[0] for ex in examples]\n",
    "cot_solutions = [ex[1] for ex in examples]\n",
    "expected_answers = [ex[2] for ex in examples]"
   ]
  },
  {
   "cell_type": "code",
   "execution_count": 7,
   "id": "1fdf0db608a701f4",
   "metadata": {
    "ExecuteTime": {
     "end_time": "2025-08-25T07:13:54.655640Z",
     "start_time": "2025-08-25T07:13:54.653268Z"
    }
   },
   "outputs": [],
   "source": [
    "GEMINI_API_KEY = \"\"  # Replace with your actual API key\n",
    "genai.configure(api_key=GEMINI_API_KEY)\n",
    "model = genai.GenerativeModel('gemini-2.5-pro')"
   ]
  },
  {
   "cell_type": "code",
   "execution_count": 8,
   "id": "8878783336d8f69d",
   "metadata": {
    "ExecuteTime": {
     "end_time": "2025-08-25T07:14:10.888709Z",
     "start_time": "2025-08-25T07:14:10.884221Z"
    }
   },
   "outputs": [],
   "source": [
    "def translate_to_hebrew(text, text_type=\"text\"):\n",
    "    \"\"\"Translate text to Hebrew using Gemini API with rate limiting\"\"\"\n",
    "    try:\n",
    "        if text_type == \"math_problem\":\n",
    "            prompt = f\"Translate the following mathematical problem to Hebrew. Keep all mathematical expressions, numbers, and formulas unchanged. Only translate the text portions:\\n\\n{text}\"\n",
    "        elif text_type == \"solution\":\n",
    "            prompt = f\"Translate the following mathematical solution to Hebrew. Keep all mathematical expressions, calculations, and formulas unchanged. Only translate the explanatory text:\\n\\n{text}\"\n",
    "        else:\n",
    "            prompt = f\"Translate the following to Hebrew:\\n\\n{text}\"\n",
    "\n",
    "        response = model.generate_content(prompt)\n",
    "        time.sleep(0.5)  # Rate limiting - adjust as needed\n",
    "        return response.text\n",
    "    except Exception as e:\n",
    "        print(f\"Translation error: {e}\")\n",
    "        return text"
   ]
  },
  {
   "cell_type": "code",
   "execution_count": 9,
   "id": "65b63e5c519d4441",
   "metadata": {
    "ExecuteTime": {
     "end_time": "2025-08-25T07:20:12.605480Z",
     "start_time": "2025-08-25T07:14:13.929Z"
    }
   },
   "outputs": [
    {
     "name": "stdout",
     "output_type": "stream",
     "text": [
      "Translating questions...\n",
      "Translating question 1/5\n",
      "Translating question 2/5\n",
      "Translating question 3/5\n",
      "Translating question 4/5\n",
      "Translating question 5/5\n",
      "Translating COT solutions...\n",
      "Translating solution 1/5\n",
      "Translating solution 2/5\n",
      "Translating solution 3/5\n",
      "Translating solution 4/5\n",
      "Translating solution 5/5\n",
      "Translating answers...\n",
      "Translating answer 1/5\n",
      "Translating answer 2/5\n",
      "Translating answer 3/5\n",
      "Translating answer 4/5\n",
      "Translating answer 5/5\n",
      "Translation complete!\n"
     ]
    }
   ],
   "source": [
    "# Translate all content\n",
    "print(\"Translating questions...\")\n",
    "translated_questions = []\n",
    "for i, question in enumerate(questions):\n",
    "    print(f\"Translating question {i+1}/{len(questions)}\")\n",
    "    translated_questions.append(translate_to_hebrew(question, \"math_problem\"))\n",
    "\n",
    "print(\"Translating COT solutions...\")\n",
    "translated_cot_solutions = []\n",
    "for i, cot in enumerate(cot_solutions):\n",
    "    print(f\"Translating solution {i+1}/{len(cot_solutions)}\")\n",
    "    translated_cot_solutions.append(translate_to_hebrew(cot, \"solution\"))\n",
    "\n",
    "print(\"Translating answers...\")\n",
    "translated_answers = []\n",
    "for i, answer in enumerate(expected_answers):\n",
    "    print(f\"Translating answer {i+1}/{len(expected_answers)}\")\n",
    "    translated_answers.append(translate_to_hebrew(answer))\n",
    "\n",
    "print(\"Translation complete!\")"
   ]
  },
  {
   "cell_type": "code",
   "execution_count": null,
   "id": "8be586a2d58b2b5b",
   "metadata": {
    "ExecuteTime": {
     "end_time": "2025-08-25T07:20:12.637403Z",
     "start_time": "2025-08-25T07:20:12.632682Z"
    }
   },
   "outputs": [],
   "source": [
    "def create_few_shot_prompt(translated_questions, translated_cot_solutions, translated_answers, new_english_question, new_english_solution):\n",
    "    \"\"\"Create a few-shot prompt using translated examples to generate Hebrew CoT\"\"\"\n",
    "\n",
    "    prompt = \"\"\"You are an expert mathematics tutor who provides detailed step-by-step solutions in fluent Hebrew. Your explanations should be comprehensive, clear, and educational.\n",
    "\n",
    "Here are examples of how to solve mathematical problems with detailed Hebrew explanations:\n",
    "\n",
    "\"\"\"\n",
    "\n",
    "    # Add few-shot examples (Hebrew question -> Hebrew CoT)\n",
    "    for i in range(len(translated_questions)):\n",
    "        prompt += f\"\"\"Example {i+1}:\n",
    "Question: {translated_questions[i]}\n",
    "\n",
    "Solution: {translated_cot_solutions[i]}\n",
    "\n",
    "Answer: {translated_answers[i]}\n",
    "\n",
    "---\n",
    "\n",
    "\"\"\"\n",
    "\n",
    "    # Add the new English question to solve\n",
    "    prompt += f\"\"\"Now solve this question with a detailed step-by-step explanation in Hebrew while I provide you with the solution:\n",
    "\n",
    "Question: {new_english_question}\n",
    "\n",
    "Solution: {new_english_solution}\n",
    "\n",
    "Please provide a comprehensive, fluent Hebrew explanation showing all steps. Make sure your explanation is:\n",
    "- Clear and easy to follow\n",
    "- Shows all mathematical steps\n",
    "- Uses proper Hebrew mathematical terminology\n",
    "- Informative and educational\n",
    "\n",
    "Answer:\"\"\"\n",
    "\n",
    "    return prompt"
   ]
  },
  {
   "cell_type": "code",
   "execution_count": null,
   "id": "2d2bae7d",
   "metadata": {},
   "outputs": [],
   "source": [
    "def translate_few_shot_prompt(questions, english_answers, hebrew_answers, new_english_question, new_english_answer):\n",
    "    \"\"\"Create a few-shot prompt using translated examples to generate Hebrew CoT\"\"\"\n",
    "\n",
    "    prompt = \"\"\"You are an expert mathematics tutor who provides detailed step-by-step solutions in fluent Hebrew by translating the answers from English. Your explanations should be comprehensive, clear, and educational.\n",
    "\n",
    "Here are examples of translations givem the English questions, English answers and their Hebrew translations of the answers:\n",
    "\n",
    "\"\"\"\n",
    "\n",
    "    # Add few-shot examples (Hebrew question -> Hebrew CoT)\n",
    "    for i in range(len(questions)):\n",
    "        prompt += f\"\"\"Example {i+1}:\n",
    "English Question: {questions[i]}\n",
    "\n",
    "English Answer: {english_answers[i]}\n",
    "\n",
    "Hebrew Answer: {hebrew_answers[i]}\n",
    "\n",
    "---\n",
    "\n",
    "\"\"\"\n",
    "\n",
    "    # Add the new English question to solve\n",
    "    prompt += f\"\"\"Now translate the answer to this question into Hebrew with a detailed step-by-step explanation in Hebrew.\n",
    "\n",
    "English Question: {new_english_question}\n",
    "\n",
    "English Answer: {new_english_answer}\n",
    "\n",
    "Please provide a comprehensive, fluent Hebrew explanation showing all steps. Make sure your explanation is:\n",
    "- Clear and easy to follow\n",
    "- Shows all mathematical steps\n",
    "- Uses proper Hebrew mathematical terminology\n",
    "- Informative and educational\n",
    "\n",
    "Hebrew Answer:\"\"\"\n",
    "\n",
    "    return prompt"
   ]
  },
  {
   "cell_type": "code",
   "execution_count": null,
   "id": "78f0600705b47f8e",
   "metadata": {
    "ExecuteTime": {
     "end_time": "2025-08-25T07:20:12.664829Z",
     "start_time": "2025-08-25T07:20:12.659554Z"
    }
   },
   "outputs": [],
   "source": [
    "def generate_hebrew_cot_for_dataset(translated_questions, translated_cot_solutions, translated_answers,\n",
    "                                  num_questions=10, model=model):\n",
    "    \"\"\"\n",
    "    Generate Hebrew CoT for questions from the original dataset\n",
    "\n",
    "    Args:\n",
    "        translated_questions: List of Hebrew translated questions (few-shot examples)\n",
    "        translated_cot_solutions: List of Hebrew translated CoT solutions (few-shot examples)\n",
    "        translated_answers: List of Hebrew translated answers (few-shot examples)\n",
    "        num_questions: Number of questions to process from dataset\n",
    "        model: Gemini model instance\n",
    "\n",
    "    Returns:\n",
    "        pandas DataFrame with columns: question_english, generated_cot_hebrew, real_cot_english, real_answer_english\n",
    "    \"\"\"\n",
    "\n",
    "    # Load the dataset\n",
    "    ds = load_dataset(\"nvidia/OpenMathReasoning\", split=\"cot\", streaming=True)\n",
    "\n",
    "    results = []\n",
    "    count = 0\n",
    "\n",
    "    print(f\"Processing {num_questions} questions from the dataset...\")\n",
    "\n",
    "    for item in ds:\n",
    "        if count >= num_questions:\n",
    "            break\n",
    "\n",
    "        try:\n",
    "            # Extract data from dataset\n",
    "            english_question = item[\"problem\"]\n",
    "            real_english_cot = item[\"generated_solution\"]\n",
    "            real_english_answer = item[\"expected_answer\"]\n",
    "\n",
    "            print(f\"Processing question {count+1}/{num_questions}\")\n",
    "            print(f\"Question preview: {english_question[:100]}...\")\n",
    "\n",
    "            # Create few-shot prompt\n",
    "            prompt = create_few_shot_prompt(\n",
    "                translated_questions,\n",
    "                translated_cot_solutions,\n",
    "                translated_answers,\n",
    "                english_question, real_english_answer\n",
    "            )\n",
    "\n",
    "            # Generate Hebrew CoT\n",
    "            response = model.generate_content(prompt)\n",
    "            generated_hebrew_cot = response.text\n",
    "\n",
    "            # Add to results\n",
    "            result = {\n",
    "                'question_english': english_question,\n",
    "                'generated_cot_hebrew': generated_hebrew_cot,\n",
    "                'real_cot_english': real_english_cot,\n",
    "                'real_answer_english': real_english_answer\n",
    "            }\n",
    "\n",
    "            results.append(result)\n",
    "            print(f\"✓ Successfully generated Hebrew CoT for question {count+1}\")\n",
    "\n",
    "            # Rate limiting\n",
    "            time.sleep(1)  # Adjust as needed for API rate limits\n",
    "\n",
    "        except Exception as e:\n",
    "            print(f\"✗ Error processing question {count+1}: {e}\")\n",
    "            # Add error result to maintain count\n",
    "            result = {\n",
    "                'question_english': item.get(\"problem\", \"Error loading question\"),\n",
    "                'generated_cot_hebrew': f\"Error: {str(e)}\",\n",
    "                'real_cot_english': item.get(\"generated_solution\", \"Error loading CoT\"),\n",
    "                'real_answer_english': item.get(\"expected_answer\", \"Error loading answer\")\n",
    "            }\n",
    "            results.append(result)\n",
    "\n",
    "        count += 1\n",
    "\n",
    "    # Convert to DataFrame\n",
    "    df = pd.DataFrame(results)\n",
    "    return df"
   ]
  },
  {
   "cell_type": "code",
   "execution_count": null,
   "id": "a8e58755f39a9980",
   "metadata": {
    "ExecuteTime": {
     "end_time": "2025-08-25T07:33:22.163160Z",
     "start_time": "2025-08-25T07:20:12.670735Z"
    }
   },
   "outputs": [
    {
     "ename": "NameError",
     "evalue": "name 'questions' is not defined",
     "output_type": "error",
     "traceback": [
      "\u001b[31m---------------------------------------------------------------------------\u001b[39m",
      "\u001b[31mNameError\u001b[39m                                 Traceback (most recent call last)",
      "\u001b[36mCell\u001b[39m\u001b[36m \u001b[39m\u001b[32mIn[72]\u001b[39m\u001b[32m, line 2\u001b[39m\n\u001b[32m      1\u001b[39m hebrew_cot_df = generate_hebrew_cot_for_dataset(\n\u001b[32m----> \u001b[39m\u001b[32m2\u001b[39m     english_questions=\u001b[43mquestions\u001b[49m,  \u001b[38;5;66;03m# Your original English questions\u001b[39;00m\n\u001b[32m      3\u001b[39m     translated_cot_solutions=translated_cot_solutions,  \u001b[38;5;66;03m# Hebrew CoT solutions\u001b[39;00m\n\u001b[32m      4\u001b[39m     english_answers=expected_answers,  \u001b[38;5;66;03m# Your original English answers\u001b[39;00m\n\u001b[32m      5\u001b[39m     num_questions=\u001b[32m10\u001b[39m,\n\u001b[32m      6\u001b[39m     model=model\n\u001b[32m      7\u001b[39m )\n",
      "\u001b[31mNameError\u001b[39m: name 'questions' is not defined"
     ]
    }
   ],
   "source": [
    "df = generate_hebrew_cot_for_dataset(\n",
    "    english_questions=questions,  # Your original English questions\n",
    "    translated_cot_solutions=translated_cot_solutions,  # Hebrew CoT solutions\n",
    "    english_answers=expected_answers,  # Your original English answers\n",
    "    num_questions=10,\n",
    "    model=model\n",
    ")"
   ]
  },
  {
   "cell_type": "markdown",
   "id": "e84c7938",
   "metadata": {},
   "source": [
    "## Load pre-generated dataframe"
   ]
  },
  {
   "cell_type": "code",
   "execution_count": null,
   "id": "c6bec3b2",
   "metadata": {},
   "outputs": [
    {
     "data": {
      "text/html": [
       "<div>\n",
       "<style scoped>\n",
       "    .dataframe tbody tr th:only-of-type {\n",
       "        vertical-align: middle;\n",
       "    }\n",
       "\n",
       "    .dataframe tbody tr th {\n",
       "        vertical-align: top;\n",
       "    }\n",
       "\n",
       "    .dataframe thead th {\n",
       "        text-align: right;\n",
       "    }\n",
       "</style>\n",
       "<table border=\"1\" class=\"dataframe\">\n",
       "  <thead>\n",
       "    <tr style=\"text-align: right;\">\n",
       "      <th></th>\n",
       "      <th>Unnamed: 0</th>\n",
       "      <th>question_english</th>\n",
       "      <th>generated_cot_hebrew</th>\n",
       "      <th>real_cot_english</th>\n",
       "      <th>real_answer_english</th>\n",
       "    </tr>\n",
       "  </thead>\n",
       "  <tbody>\n",
       "    <tr>\n",
       "      <th>0</th>\n",
       "      <td>0</td>\n",
       "      <td>Given a group of \\( N \\) balls consisting of \\...</td>\n",
       "      <td>&lt;think&gt;\\nטוב, הבעיה הזאת עוסקת בחישוב הסתברות ...</td>\n",
       "      <td>&lt;think&gt;\\nOkay, so I need to find the probabili...</td>\n",
       "      <td>\\(\\frac{C_{n_1}^{a_1} \\cdot C_{n_2}^{a_2} \\cdo...</td>\n",
       "    </tr>\n",
       "    <tr>\n",
       "      <th>1</th>\n",
       "      <td>1</td>\n",
       "      <td>How many lines can be drawn that are equidista...</td>\n",
       "      <td>&lt;think&gt;\\nטוב, אז השאלה שואלת כמה ישרים אפשר לש...</td>\n",
       "      <td>NaN</td>\n",
       "      <td>\\frac{n(n-1)}{2}</td>\n",
       "    </tr>\n",
       "    <tr>\n",
       "      <th>2</th>\n",
       "      <td>2</td>\n",
       "      <td>Find all functions \\( f: \\mathbb{R} \\to \\mathb...</td>\n",
       "      <td>&lt;think&gt;\\nאוקיי, צריך למצוא את כל הפונקציות \\(f...</td>\n",
       "      <td>&lt;think&gt;\\nOkay, let's try to solve this functio...</td>\n",
       "      <td>\\( f(x) = f(1)x \\)</td>\n",
       "    </tr>\n",
       "    <tr>\n",
       "      <th>3</th>\n",
       "      <td>3</td>\n",
       "      <td>Find the sum of the roots of the equation \\((x...</td>\n",
       "      <td>&lt;think&gt;\\nאוקיי, צריך למצוא את סכום השורשים של ...</td>\n",
       "      <td>&lt;think&gt;\\nOkay, let's see. I need to find the s...</td>\n",
       "      <td>2</td>\n",
       "    </tr>\n",
       "    <tr>\n",
       "      <th>4</th>\n",
       "      <td>4</td>\n",
       "      <td>Determine how many 1000 digit numbers \\( A \\) ...</td>\n",
       "      <td>&lt;think&gt;\\nטוב, אז השאלה היא למצוא כמה מספרים בנ...</td>\n",
       "      <td>&lt;think&gt;\\nOkay, so I need to figure out how man...</td>\n",
       "      <td>32</td>\n",
       "    </tr>\n",
       "    <tr>\n",
       "      <th>5</th>\n",
       "      <td>5</td>\n",
       "      <td>Calculate the integral\\n\\n\\[\\n\\int^{\\frac{3\\pi...</td>\n",
       "      <td>&lt;think&gt;\\nאוקיי, צריך לחשב את האינטגרל הזה:\\n\\n...</td>\n",
       "      <td>&lt;think&gt;\\nOkay, let me try to solve this integr...</td>\n",
       "      <td>\\(\\frac{2}{\\pi} + \\frac{32}{9\\pi^2}\\)</td>\n",
       "    </tr>\n",
       "    <tr>\n",
       "      <th>6</th>\n",
       "      <td>6</td>\n",
       "      <td>In $\\triangle ABC$ with incenter $I$, points $...</td>\n",
       "      <td>&lt;think&gt;\\nאוקיי, בואו ננתח את הבעיה. יש לנו משו...</td>\n",
       "      <td>&lt;think&gt;\\nAlright, let me try to tackle this ge...</td>\n",
       "      <td>1</td>\n",
       "    </tr>\n",
       "    <tr>\n",
       "      <th>7</th>\n",
       "      <td>7</td>\n",
       "      <td>Let \\( x_0 = 1 \\), and \\( x_{n+1} = 2x_n + \\sq...</td>\n",
       "      <td>&lt;think&gt;\\nטוב, אז יש לנו נוסחת נסיגה: \\( x_{n+1...</td>\n",
       "      <td>&lt;think&gt;\\nOkay, let's see. The problem is about...</td>\n",
       "      <td>\\(\\frac{(3-\\sqrt{3})(2-\\sqrt{3})^{2016}+(3+\\sq...</td>\n",
       "    </tr>\n",
       "    <tr>\n",
       "      <th>8</th>\n",
       "      <td>8</td>\n",
       "      <td>Which is greater, $\\sqrt[2012]{2013!}$ or $\\sq...</td>\n",
       "      <td>&lt;think&gt;\\nאוקיי, צריך להשוות בין \\(\\sqrt[2012]{...</td>\n",
       "      <td>&lt;think&gt;\\nOkay, so I need to figure out whether...</td>\n",
       "      <td>$\\sqrt[2012]{2013!} &gt; \\sqrt[2013]{2012!}$</td>\n",
       "    </tr>\n",
       "    <tr>\n",
       "      <th>9</th>\n",
       "      <td>9</td>\n",
       "      <td>On average, how long will you have to flip a c...</td>\n",
       "      <td>&lt;think&gt;\\nאוקיי, השאלה שואלת כמה הטלות מטבע בממ...</td>\n",
       "      <td>&lt;think&gt;\\nOkay, so I need to figure out the exp...</td>\n",
       "      <td>20</td>\n",
       "    </tr>\n",
       "  </tbody>\n",
       "</table>\n",
       "</div>"
      ],
      "text/plain": [
       "   Unnamed: 0                                   question_english  \\\n",
       "0           0  Given a group of \\( N \\) balls consisting of \\...   \n",
       "1           1  How many lines can be drawn that are equidista...   \n",
       "2           2  Find all functions \\( f: \\mathbb{R} \\to \\mathb...   \n",
       "3           3  Find the sum of the roots of the equation \\((x...   \n",
       "4           4  Determine how many 1000 digit numbers \\( A \\) ...   \n",
       "5           5  Calculate the integral\\n\\n\\[\\n\\int^{\\frac{3\\pi...   \n",
       "6           6  In $\\triangle ABC$ with incenter $I$, points $...   \n",
       "7           7  Let \\( x_0 = 1 \\), and \\( x_{n+1} = 2x_n + \\sq...   \n",
       "8           8  Which is greater, $\\sqrt[2012]{2013!}$ or $\\sq...   \n",
       "9           9  On average, how long will you have to flip a c...   \n",
       "\n",
       "                                generated_cot_hebrew  \\\n",
       "0  <think>\\nטוב, הבעיה הזאת עוסקת בחישוב הסתברות ...   \n",
       "1  <think>\\nטוב, אז השאלה שואלת כמה ישרים אפשר לש...   \n",
       "2  <think>\\nאוקיי, צריך למצוא את כל הפונקציות \\(f...   \n",
       "3  <think>\\nאוקיי, צריך למצוא את סכום השורשים של ...   \n",
       "4  <think>\\nטוב, אז השאלה היא למצוא כמה מספרים בנ...   \n",
       "5  <think>\\nאוקיי, צריך לחשב את האינטגרל הזה:\\n\\n...   \n",
       "6  <think>\\nאוקיי, בואו ננתח את הבעיה. יש לנו משו...   \n",
       "7  <think>\\nטוב, אז יש לנו נוסחת נסיגה: \\( x_{n+1...   \n",
       "8  <think>\\nאוקיי, צריך להשוות בין \\(\\sqrt[2012]{...   \n",
       "9  <think>\\nאוקיי, השאלה שואלת כמה הטלות מטבע בממ...   \n",
       "\n",
       "                                    real_cot_english  \\\n",
       "0  <think>\\nOkay, so I need to find the probabili...   \n",
       "1                                                NaN   \n",
       "2  <think>\\nOkay, let's try to solve this functio...   \n",
       "3  <think>\\nOkay, let's see. I need to find the s...   \n",
       "4  <think>\\nOkay, so I need to figure out how man...   \n",
       "5  <think>\\nOkay, let me try to solve this integr...   \n",
       "6  <think>\\nAlright, let me try to tackle this ge...   \n",
       "7  <think>\\nOkay, let's see. The problem is about...   \n",
       "8  <think>\\nOkay, so I need to figure out whether...   \n",
       "9  <think>\\nOkay, so I need to figure out the exp...   \n",
       "\n",
       "                                 real_answer_english  \n",
       "0  \\(\\frac{C_{n_1}^{a_1} \\cdot C_{n_2}^{a_2} \\cdo...  \n",
       "1                                   \\frac{n(n-1)}{2}  \n",
       "2                                 \\( f(x) = f(1)x \\)  \n",
       "3                                                  2  \n",
       "4                                                 32  \n",
       "5              \\(\\frac{2}{\\pi} + \\frac{32}{9\\pi^2}\\)  \n",
       "6                                                  1  \n",
       "7  \\(\\frac{(3-\\sqrt{3})(2-\\sqrt{3})^{2016}+(3+\\sq...  \n",
       "8          $\\sqrt[2012]{2013!} > \\sqrt[2013]{2012!}$  \n",
       "9                                                 20  "
      ]
     },
     "execution_count": 73,
     "metadata": {},
     "output_type": "execute_result"
    }
   ],
   "source": [
    "try:\n",
    "    df = pd.read_csv(\"synth_fewshots_results.csv\")\n",
    "    df\n",
    "except:\n",
    "    print('no file pre-generated or wrong path.')"
   ]
  },
  {
   "cell_type": "markdown",
   "id": "58458378",
   "metadata": {},
   "source": [
    "# Translation\n",
    "\n",
    "_Assuming we already applied the synthesization..._\n",
    "\n",
    "We will now iterate on the dataframe:\n",
    "- Adding a translation\n",
    "- Judging if the better solution is the synthesized or the translated one"
   ]
  },
  {
   "cell_type": "code",
   "execution_count": null,
   "id": "a196364e",
   "metadata": {},
   "outputs": [],
   "source": [
    "import pandas as pd\n",
    "from prompts.open_math_prompts import GSM_ENGLISH_QUESTIONS, GSM_ENGLISH_ANSWERS, GSM_HEBREW_ANSWERS\n",
    "\n",
    "def translate_answer(english_question, english_answer):\n",
    "    res = model.generate_content(translate_few_shot_prompt(GSM_ENGLISH_QUESTIONS, GSM_ENGLISH_ANSWERS, GSM_HEBREW_ANSWERS, english_question, english_answer))\n",
    "    return res.text\n",
    "\n",
    "\n",
    "df = pd.read_csv(\"synth_fewshots_results.csv\")\n",
    "df = df[df.real_cot_english.notna()]\n",
    "\n",
    "# translations = []\n",
    "# for index, row in df.iterrows():\n",
    "#     print(f\"Translating row {index+1}/{len(df)}\")\n",
    "#     translations.append(translate_answer(row['question_english'], row['real_cot_english']))\n",
    "df['translated_cot'] = df.apply(lambda row: translate_answer(row['question_english'], row['real_cot_english']), axis=1)\n",
    "df"
   ]
  },
  {
   "cell_type": "markdown",
   "id": "9572afaf",
   "metadata": {},
   "source": [
    "## LLM-as-a-Judge"
   ]
  },
  {
   "cell_type": "code",
   "execution_count": null,
   "id": "f7834161",
   "metadata": {},
   "outputs": [],
   "source": [
    "import enum\n",
    "from src.call_models import call_gemini, all_string_gemini_config, google_connect\n",
    "from my_access_keys import google_access_key\n",
    "\n",
    "google_client = google_connect(google_access_key)\n",
    "\n",
    "class COT_VERSION(enum.Enum):\n",
    "  TRANSLATED = \"Translated\"\n",
    "  SYNTHESIZED = \"Synthesized\"\n",
    "\n",
    "\n",
    "def judge_cot_version(trans: str, synth: str):\n",
    "    content = f\"\"\"\n",
    "    You are a judge evaluating two answers to a question. The answers are in Hebrew, and you need to assess them based on the following criteria:\n",
    "    1. Correctness – Is the answer factually accurate? Make sure the following mathematical steps and calculations are correct.\n",
    "    2. Logic – Does the reasoning follow a clear and valid path?\n",
    "    3. Coherence – Is the answer internally consistent and well-structured?\n",
    "    4. Didactic quality – How well does the answer explain the concept to a reader?\n",
    "    5. Hebrew fluency – Is the answer written in fluent, natural Hebrew? Check for grammar, vocabulary, and overall readability.\n",
    "    \n",
    "    Here are the answers:\n",
    "    \n",
    "    <translated>\n",
    "    {trans}\n",
    "    </translated>\n",
    "    \n",
    "    <synthesized>\n",
    "    {synth}\n",
    "    </synthesized>\n",
    "    \n",
    "    Which answer is better overall?  \n",
    "    \"\"\"\n",
    "\n",
    "    try:\n",
    "        generate_content_config = all_string_gemini_config(['decision'], 'ALWAYS THINK IN HEBREW BEFORE ANSWERING!', think_bud=200, enum=COT_VERSION)\n",
    "        response = call_gemini(google_client, content, generate_content_config)\n",
    "        return response.text\n",
    "    except Exception as E:\n",
    "        return str(E)"
   ]
  },
  {
   "cell_type": "code",
   "execution_count": null,
   "id": "8aa081b48c4ad5f6",
   "metadata": {
    "ExecuteTime": {
     "end_time": "2025-08-25T07:44:57.577423Z",
     "start_time": "2025-08-25T07:44:57.566501Z"
    }
   },
   "outputs": [],
   "source": [
    "df.to_csv('/Users/oribar-joseph/Downloads/cot.csv')"
   ]
  }
 ],
 "metadata": {
  "kernelspec": {
   "display_name": "Python 3",
   "language": "python",
   "name": "python3"
  },
  "language_info": {
   "codemirror_mode": {
    "name": "ipython",
    "version": 2
   },
   "file_extension": ".py",
   "mimetype": "text/x-python",
   "name": "python",
   "nbconvert_exporter": "python",
   "pygments_lexer": "ipython2",
   "version": "2.7.6"
  }
 },
 "nbformat": 4,
 "nbformat_minor": 5
}
