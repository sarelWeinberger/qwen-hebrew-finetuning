{
 "cells": [
  {
   "cell_type": "code",
   "execution_count": null,
   "id": "initial_id",
   "metadata": {
    "collapsed": true
   },
   "outputs": [],
   "source": [
    ""
   ]
  },
  {
   "metadata": {
    "ExecuteTime": {
     "end_time": "2025-08-20T08:59:26.350054Z",
     "start_time": "2025-08-20T08:59:23.613637Z"
    }
   },
   "cell_type": "code",
   "source": [
    "!pip install datasets\n",
    "!pip install openpyxl\n",
    "!pip install -q -U google-genai\n",
    "!pwd"
   ],
   "id": "e981948d51bb5420",
   "outputs": [
    {
     "name": "stdout",
     "output_type": "stream",
     "text": [
      "Requirement already satisfied: datasets in /Users/oribar-joseph/PycharmProjects/qwen-hebrew-finetuning1/.venv/lib/python3.9/site-packages (4.0.0)\r\n",
      "Requirement already satisfied: filelock in /Users/oribar-joseph/PycharmProjects/qwen-hebrew-finetuning1/.venv/lib/python3.9/site-packages (from datasets) (3.18.0)\r\n",
      "Requirement already satisfied: numpy>=1.17 in /Users/oribar-joseph/PycharmProjects/qwen-hebrew-finetuning1/.venv/lib/python3.9/site-packages (from datasets) (2.0.2)\r\n",
      "Requirement already satisfied: pyarrow>=15.0.0 in /Users/oribar-joseph/PycharmProjects/qwen-hebrew-finetuning1/.venv/lib/python3.9/site-packages (from datasets) (20.0.0)\r\n",
      "Requirement already satisfied: dill<0.3.9,>=0.3.0 in /Users/oribar-joseph/PycharmProjects/qwen-hebrew-finetuning1/.venv/lib/python3.9/site-packages (from datasets) (0.3.8)\r\n",
      "Requirement already satisfied: pandas in /Users/oribar-joseph/PycharmProjects/qwen-hebrew-finetuning1/.venv/lib/python3.9/site-packages (from datasets) (2.3.1)\r\n",
      "Requirement already satisfied: requests>=2.32.2 in /Users/oribar-joseph/PycharmProjects/qwen-hebrew-finetuning1/.venv/lib/python3.9/site-packages (from datasets) (2.32.4)\r\n",
      "Requirement already satisfied: tqdm>=4.66.3 in /Users/oribar-joseph/PycharmProjects/qwen-hebrew-finetuning1/.venv/lib/python3.9/site-packages (from datasets) (4.67.1)\r\n",
      "Requirement already satisfied: xxhash in /Users/oribar-joseph/PycharmProjects/qwen-hebrew-finetuning1/.venv/lib/python3.9/site-packages (from datasets) (3.5.0)\r\n",
      "Requirement already satisfied: multiprocess<0.70.17 in /Users/oribar-joseph/PycharmProjects/qwen-hebrew-finetuning1/.venv/lib/python3.9/site-packages (from datasets) (0.70.16)\r\n",
      "Requirement already satisfied: fsspec<=2025.3.0,>=2023.1.0 in /Users/oribar-joseph/PycharmProjects/qwen-hebrew-finetuning1/.venv/lib/python3.9/site-packages (from fsspec[http]<=2025.3.0,>=2023.1.0->datasets) (2025.3.0)\r\n",
      "Requirement already satisfied: huggingface-hub>=0.24.0 in /Users/oribar-joseph/PycharmProjects/qwen-hebrew-finetuning1/.venv/lib/python3.9/site-packages (from datasets) (0.33.4)\r\n",
      "Requirement already satisfied: packaging in /Users/oribar-joseph/PycharmProjects/qwen-hebrew-finetuning1/.venv/lib/python3.9/site-packages (from datasets) (25.0)\r\n",
      "Requirement already satisfied: pyyaml>=5.1 in /Users/oribar-joseph/PycharmProjects/qwen-hebrew-finetuning1/.venv/lib/python3.9/site-packages (from datasets) (6.0.2)\r\n",
      "Requirement already satisfied: aiohttp!=4.0.0a0,!=4.0.0a1 in /Users/oribar-joseph/PycharmProjects/qwen-hebrew-finetuning1/.venv/lib/python3.9/site-packages (from fsspec[http]<=2025.3.0,>=2023.1.0->datasets) (3.12.14)\r\n",
      "Requirement already satisfied: aiohappyeyeballs>=2.5.0 in /Users/oribar-joseph/PycharmProjects/qwen-hebrew-finetuning1/.venv/lib/python3.9/site-packages (from aiohttp!=4.0.0a0,!=4.0.0a1->fsspec[http]<=2025.3.0,>=2023.1.0->datasets) (2.6.1)\r\n",
      "Requirement already satisfied: aiosignal>=1.4.0 in /Users/oribar-joseph/PycharmProjects/qwen-hebrew-finetuning1/.venv/lib/python3.9/site-packages (from aiohttp!=4.0.0a0,!=4.0.0a1->fsspec[http]<=2025.3.0,>=2023.1.0->datasets) (1.4.0)\r\n",
      "Requirement already satisfied: async-timeout<6.0,>=4.0 in /Users/oribar-joseph/PycharmProjects/qwen-hebrew-finetuning1/.venv/lib/python3.9/site-packages (from aiohttp!=4.0.0a0,!=4.0.0a1->fsspec[http]<=2025.3.0,>=2023.1.0->datasets) (5.0.1)\r\n",
      "Requirement already satisfied: attrs>=17.3.0 in /Users/oribar-joseph/PycharmProjects/qwen-hebrew-finetuning1/.venv/lib/python3.9/site-packages (from aiohttp!=4.0.0a0,!=4.0.0a1->fsspec[http]<=2025.3.0,>=2023.1.0->datasets) (25.3.0)\r\n",
      "Requirement already satisfied: frozenlist>=1.1.1 in /Users/oribar-joseph/PycharmProjects/qwen-hebrew-finetuning1/.venv/lib/python3.9/site-packages (from aiohttp!=4.0.0a0,!=4.0.0a1->fsspec[http]<=2025.3.0,>=2023.1.0->datasets) (1.7.0)\r\n",
      "Requirement already satisfied: multidict<7.0,>=4.5 in /Users/oribar-joseph/PycharmProjects/qwen-hebrew-finetuning1/.venv/lib/python3.9/site-packages (from aiohttp!=4.0.0a0,!=4.0.0a1->fsspec[http]<=2025.3.0,>=2023.1.0->datasets) (6.6.3)\r\n",
      "Requirement already satisfied: propcache>=0.2.0 in /Users/oribar-joseph/PycharmProjects/qwen-hebrew-finetuning1/.venv/lib/python3.9/site-packages (from aiohttp!=4.0.0a0,!=4.0.0a1->fsspec[http]<=2025.3.0,>=2023.1.0->datasets) (0.3.2)\r\n",
      "Requirement already satisfied: yarl<2.0,>=1.17.0 in /Users/oribar-joseph/PycharmProjects/qwen-hebrew-finetuning1/.venv/lib/python3.9/site-packages (from aiohttp!=4.0.0a0,!=4.0.0a1->fsspec[http]<=2025.3.0,>=2023.1.0->datasets) (1.20.1)\r\n",
      "Requirement already satisfied: typing-extensions>=4.1.0 in /Users/oribar-joseph/PycharmProjects/qwen-hebrew-finetuning1/.venv/lib/python3.9/site-packages (from multidict<7.0,>=4.5->aiohttp!=4.0.0a0,!=4.0.0a1->fsspec[http]<=2025.3.0,>=2023.1.0->datasets) (4.14.1)\r\n",
      "Requirement already satisfied: idna>=2.0 in /Users/oribar-joseph/PycharmProjects/qwen-hebrew-finetuning1/.venv/lib/python3.9/site-packages (from yarl<2.0,>=1.17.0->aiohttp!=4.0.0a0,!=4.0.0a1->fsspec[http]<=2025.3.0,>=2023.1.0->datasets) (3.10)\r\n",
      "Requirement already satisfied: hf-xet<2.0.0,>=1.1.2 in /Users/oribar-joseph/PycharmProjects/qwen-hebrew-finetuning1/.venv/lib/python3.9/site-packages (from huggingface-hub>=0.24.0->datasets) (1.1.5)\r\n",
      "Requirement already satisfied: charset_normalizer<4,>=2 in /Users/oribar-joseph/PycharmProjects/qwen-hebrew-finetuning1/.venv/lib/python3.9/site-packages (from requests>=2.32.2->datasets) (3.4.2)\r\n",
      "Requirement already satisfied: urllib3<3,>=1.21.1 in /Users/oribar-joseph/PycharmProjects/qwen-hebrew-finetuning1/.venv/lib/python3.9/site-packages (from requests>=2.32.2->datasets) (1.26.20)\r\n",
      "Requirement already satisfied: certifi>=2017.4.17 in /Users/oribar-joseph/PycharmProjects/qwen-hebrew-finetuning1/.venv/lib/python3.9/site-packages (from requests>=2.32.2->datasets) (2025.7.14)\r\n",
      "Requirement already satisfied: python-dateutil>=2.8.2 in /Users/oribar-joseph/PycharmProjects/qwen-hebrew-finetuning1/.venv/lib/python3.9/site-packages (from pandas->datasets) (2.9.0.post0)\r\n",
      "Requirement already satisfied: pytz>=2020.1 in /Users/oribar-joseph/PycharmProjects/qwen-hebrew-finetuning1/.venv/lib/python3.9/site-packages (from pandas->datasets) (2025.2)\r\n",
      "Requirement already satisfied: tzdata>=2022.7 in /Users/oribar-joseph/PycharmProjects/qwen-hebrew-finetuning1/.venv/lib/python3.9/site-packages (from pandas->datasets) (2025.2)\r\n",
      "Requirement already satisfied: six>=1.5 in /Users/oribar-joseph/PycharmProjects/qwen-hebrew-finetuning1/.venv/lib/python3.9/site-packages (from python-dateutil>=2.8.2->pandas->datasets) (1.17.0)\r\n",
      "Requirement already satisfied: openpyxl in /Users/oribar-joseph/PycharmProjects/qwen-hebrew-finetuning1/.venv/lib/python3.9/site-packages (3.1.5)\r\n",
      "Requirement already satisfied: et-xmlfile in /Users/oribar-joseph/PycharmProjects/qwen-hebrew-finetuning1/.venv/lib/python3.9/site-packages (from openpyxl) (2.0.0)\r\n",
      "/Users/oribar-joseph/PycharmProjects/qwen-hebrew-finetuning1/synth\r\n"
     ]
    }
   ],
   "execution_count": 1
  },
  {
   "metadata": {
    "ExecuteTime": {
     "end_time": "2025-08-20T11:29:21.354015Z",
     "start_time": "2025-08-20T11:29:20.391865Z"
    }
   },
   "cell_type": "code",
   "source": [
    "from datasets import load_dataset\n",
    "import random\n",
    "!pip install google-generativeai\n",
    "import google.generativeai as genai\n",
    "import time\n",
    "import pandas as pd"
   ],
   "id": "2efa8d3aceb07d1",
   "outputs": [
    {
     "name": "stdout",
     "output_type": "stream",
     "text": [
      "Requirement already satisfied: google-generativeai in /Users/oribar-joseph/PycharmProjects/qwen-hebrew-finetuning1/.venv/lib/python3.9/site-packages (0.8.5)\r\n",
      "Requirement already satisfied: google-ai-generativelanguage==0.6.15 in /Users/oribar-joseph/PycharmProjects/qwen-hebrew-finetuning1/.venv/lib/python3.9/site-packages (from google-generativeai) (0.6.15)\r\n",
      "Requirement already satisfied: google-api-core in /Users/oribar-joseph/PycharmProjects/qwen-hebrew-finetuning1/.venv/lib/python3.9/site-packages (from google-generativeai) (2.25.1)\r\n",
      "Requirement already satisfied: google-api-python-client in /Users/oribar-joseph/PycharmProjects/qwen-hebrew-finetuning1/.venv/lib/python3.9/site-packages (from google-generativeai) (2.179.0)\r\n",
      "Requirement already satisfied: google-auth>=2.15.0 in /Users/oribar-joseph/PycharmProjects/qwen-hebrew-finetuning1/.venv/lib/python3.9/site-packages (from google-generativeai) (2.40.3)\r\n",
      "Requirement already satisfied: protobuf in /Users/oribar-joseph/PycharmProjects/qwen-hebrew-finetuning1/.venv/lib/python3.9/site-packages (from google-generativeai) (5.29.5)\r\n",
      "Requirement already satisfied: pydantic in /Users/oribar-joseph/PycharmProjects/qwen-hebrew-finetuning1/.venv/lib/python3.9/site-packages (from google-generativeai) (2.11.7)\r\n",
      "Requirement already satisfied: tqdm in /Users/oribar-joseph/PycharmProjects/qwen-hebrew-finetuning1/.venv/lib/python3.9/site-packages (from google-generativeai) (4.67.1)\r\n",
      "Requirement already satisfied: typing-extensions in /Users/oribar-joseph/PycharmProjects/qwen-hebrew-finetuning1/.venv/lib/python3.9/site-packages (from google-generativeai) (4.14.1)\r\n",
      "Requirement already satisfied: proto-plus<2.0.0dev,>=1.22.3 in /Users/oribar-joseph/PycharmProjects/qwen-hebrew-finetuning1/.venv/lib/python3.9/site-packages (from google-ai-generativelanguage==0.6.15->google-generativeai) (1.26.1)\r\n",
      "Requirement already satisfied: googleapis-common-protos<2.0.0,>=1.56.2 in /Users/oribar-joseph/PycharmProjects/qwen-hebrew-finetuning1/.venv/lib/python3.9/site-packages (from google-api-core->google-generativeai) (1.70.0)\r\n",
      "Requirement already satisfied: requests<3.0.0,>=2.18.0 in /Users/oribar-joseph/PycharmProjects/qwen-hebrew-finetuning1/.venv/lib/python3.9/site-packages (from google-api-core->google-generativeai) (2.32.4)\r\n",
      "Requirement already satisfied: grpcio<2.0.0,>=1.33.2 in /Users/oribar-joseph/PycharmProjects/qwen-hebrew-finetuning1/.venv/lib/python3.9/site-packages (from google-api-core[grpc]!=2.0.*,!=2.1.*,!=2.10.*,!=2.2.*,!=2.3.*,!=2.4.*,!=2.5.*,!=2.6.*,!=2.7.*,!=2.8.*,!=2.9.*,<3.0.0dev,>=1.34.1->google-ai-generativelanguage==0.6.15->google-generativeai) (1.73.1)\r\n",
      "Requirement already satisfied: grpcio-status<2.0.0,>=1.33.2 in /Users/oribar-joseph/PycharmProjects/qwen-hebrew-finetuning1/.venv/lib/python3.9/site-packages (from google-api-core[grpc]!=2.0.*,!=2.1.*,!=2.10.*,!=2.2.*,!=2.3.*,!=2.4.*,!=2.5.*,!=2.6.*,!=2.7.*,!=2.8.*,!=2.9.*,<3.0.0dev,>=1.34.1->google-ai-generativelanguage==0.6.15->google-generativeai) (1.71.2)\r\n",
      "Requirement already satisfied: cachetools<6.0,>=2.0.0 in /Users/oribar-joseph/PycharmProjects/qwen-hebrew-finetuning1/.venv/lib/python3.9/site-packages (from google-auth>=2.15.0->google-generativeai) (5.5.2)\r\n",
      "Requirement already satisfied: pyasn1-modules>=0.2.1 in /Users/oribar-joseph/PycharmProjects/qwen-hebrew-finetuning1/.venv/lib/python3.9/site-packages (from google-auth>=2.15.0->google-generativeai) (0.4.2)\r\n",
      "Requirement already satisfied: rsa<5,>=3.1.4 in /Users/oribar-joseph/PycharmProjects/qwen-hebrew-finetuning1/.venv/lib/python3.9/site-packages (from google-auth>=2.15.0->google-generativeai) (4.9.1)\r\n",
      "Requirement already satisfied: charset_normalizer<4,>=2 in /Users/oribar-joseph/PycharmProjects/qwen-hebrew-finetuning1/.venv/lib/python3.9/site-packages (from requests<3.0.0,>=2.18.0->google-api-core->google-generativeai) (3.4.2)\r\n",
      "Requirement already satisfied: idna<4,>=2.5 in /Users/oribar-joseph/PycharmProjects/qwen-hebrew-finetuning1/.venv/lib/python3.9/site-packages (from requests<3.0.0,>=2.18.0->google-api-core->google-generativeai) (3.10)\r\n",
      "Requirement already satisfied: urllib3<3,>=1.21.1 in /Users/oribar-joseph/PycharmProjects/qwen-hebrew-finetuning1/.venv/lib/python3.9/site-packages (from requests<3.0.0,>=2.18.0->google-api-core->google-generativeai) (1.26.20)\r\n",
      "Requirement already satisfied: certifi>=2017.4.17 in /Users/oribar-joseph/PycharmProjects/qwen-hebrew-finetuning1/.venv/lib/python3.9/site-packages (from requests<3.0.0,>=2.18.0->google-api-core->google-generativeai) (2025.7.14)\r\n",
      "Requirement already satisfied: pyasn1>=0.1.3 in /Users/oribar-joseph/PycharmProjects/qwen-hebrew-finetuning1/.venv/lib/python3.9/site-packages (from rsa<5,>=3.1.4->google-auth>=2.15.0->google-generativeai) (0.6.1)\r\n",
      "Requirement already satisfied: httplib2<1.0.0,>=0.19.0 in /Users/oribar-joseph/PycharmProjects/qwen-hebrew-finetuning1/.venv/lib/python3.9/site-packages (from google-api-python-client->google-generativeai) (0.22.0)\r\n",
      "Requirement already satisfied: google-auth-httplib2<1.0.0,>=0.2.0 in /Users/oribar-joseph/PycharmProjects/qwen-hebrew-finetuning1/.venv/lib/python3.9/site-packages (from google-api-python-client->google-generativeai) (0.2.0)\r\n",
      "Requirement already satisfied: uritemplate<5,>=3.0.1 in /Users/oribar-joseph/PycharmProjects/qwen-hebrew-finetuning1/.venv/lib/python3.9/site-packages (from google-api-python-client->google-generativeai) (4.2.0)\r\n",
      "Requirement already satisfied: pyparsing!=3.0.0,!=3.0.1,!=3.0.2,!=3.0.3,<4,>=2.4.2 in /Users/oribar-joseph/PycharmProjects/qwen-hebrew-finetuning1/.venv/lib/python3.9/site-packages (from httplib2<1.0.0,>=0.19.0->google-api-python-client->google-generativeai) (3.2.3)\r\n",
      "Requirement already satisfied: annotated-types>=0.6.0 in /Users/oribar-joseph/PycharmProjects/qwen-hebrew-finetuning1/.venv/lib/python3.9/site-packages (from pydantic->google-generativeai) (0.7.0)\r\n",
      "Requirement already satisfied: pydantic-core==2.33.2 in /Users/oribar-joseph/PycharmProjects/qwen-hebrew-finetuning1/.venv/lib/python3.9/site-packages (from pydantic->google-generativeai) (2.33.2)\r\n",
      "Requirement already satisfied: typing-inspection>=0.4.0 in /Users/oribar-joseph/PycharmProjects/qwen-hebrew-finetuning1/.venv/lib/python3.9/site-packages (from pydantic->google-generativeai) (0.4.1)\r\n"
     ]
    }
   ],
   "execution_count": 20
  },
  {
   "metadata": {
    "ExecuteTime": {
     "end_time": "2025-08-20T09:06:09.468379Z",
     "start_time": "2025-08-20T09:06:09.465617Z"
    }
   },
   "cell_type": "code",
   "source": "import google.generativeai as genai",
   "id": "95100936a8bac9eb",
   "outputs": [],
   "execution_count": 10
  },
  {
   "metadata": {
    "ExecuteTime": {
     "end_time": "2025-08-20T08:59:55.653135Z",
     "start_time": "2025-08-20T08:59:26.360668Z"
    }
   },
   "cell_type": "code",
   "source": [
    "\n",
    "\n",
    "ds = load_dataset(\"nvidia/OpenMathReasoning\", split=\"cot\", streaming=True)\n",
    "sample_data = list(ds.take(10000))"
   ],
   "id": "dccd995bdeed7736",
   "outputs": [
    {
     "name": "stderr",
     "output_type": "stream",
     "text": [
      "/Users/oribar-joseph/PycharmProjects/qwen-hebrew-finetuning1/.venv/lib/python3.9/site-packages/tqdm/auto.py:21: TqdmWarning: IProgress not found. Please update jupyter and ipywidgets. See https://ipywidgets.readthedocs.io/en/stable/user_install.html\n",
      "  from .autonotebook import tqdm as notebook_tqdm\n"
     ]
    }
   ],
   "execution_count": 2
  },
  {
   "metadata": {
    "ExecuteTime": {
     "end_time": "2025-08-20T09:00:03.211247Z",
     "start_time": "2025-08-20T09:00:03.203110Z"
    }
   },
   "cell_type": "code",
   "source": [
    "# Block 2: Fast diversity sampling function\n",
    "def get_diverse_examples_fast(ds, n_samples=5, total_samples=5000):\n",
    "    \"\"\"Fast method using reservoir sampling to get examples with diverse COT lengths\"\"\"\n",
    "\n",
    "    # Initialize buckets for different length ranges\n",
    "    buckets = {\n",
    "        'short': [],  # 0-500 chars\n",
    "        'medium': [],  # 500-1500 chars\n",
    "        'long': [],  # 1500+ chars\n",
    "    }\n",
    "\n",
    "    count = 0\n",
    "    for item in ds:\n",
    "        if count >= total_samples:\n",
    "            break\n",
    "\n",
    "        cot_length = len(item[\"generated_solution\"])\n",
    "\n",
    "        # Determine bucket\n",
    "        if cot_length < 500:\n",
    "            bucket_name = 'short'\n",
    "        elif cot_length < 1500:\n",
    "            bucket_name = 'medium'\n",
    "        else:\n",
    "            bucket_name = 'long'\n",
    "\n",
    "        # Add to bucket (keep max 100 per bucket)\n",
    "        bucket = buckets[bucket_name]\n",
    "        if len(bucket) < 100:\n",
    "            bucket.append((item[\"problem\"], item[\"generated_solution\"], item[\"expected_answer\"]))\n",
    "        else:\n",
    "            # Replace random item (reservoir sampling)\n",
    "            replace_idx = random.randint(0, len(bucket))\n",
    "            if replace_idx < len(bucket):\n",
    "                bucket[replace_idx] = (item[\"problem\"], item[\"generated_solution\"], item[\"expected_answer\"])\n",
    "\n",
    "        count += 1\n",
    "\n",
    "    # Select examples from buckets to get diversity\n",
    "    diverse_examples = []\n",
    "    for bucket_name in ['short', 'medium', 'long']:\n",
    "        if buckets[bucket_name]:\n",
    "            # Take multiple from each bucket if needed\n",
    "            samples_from_bucket = min(len(buckets[bucket_name]), max(1, n_samples // 3))\n",
    "            diverse_examples.extend(random.sample(buckets[bucket_name], samples_from_bucket))\n",
    "\n",
    "    # If we need more samples, fill from any bucket\n",
    "    while len(diverse_examples) < n_samples:\n",
    "        for bucket in buckets.values():\n",
    "            if bucket and len(diverse_examples) < n_samples:\n",
    "                remaining = [ex for ex in bucket if ex not in diverse_examples]\n",
    "                if remaining:\n",
    "                    diverse_examples.append(random.choice(remaining))\n",
    "\n",
    "    return diverse_examples[:n_samples]"
   ],
   "id": "305f571d8106c41b",
   "outputs": [],
   "execution_count": 3
  },
  {
   "metadata": {
    "ExecuteTime": {
     "end_time": "2025-08-20T09:00:19.231884Z",
     "start_time": "2025-08-20T09:00:04.033611Z"
    }
   },
   "cell_type": "code",
   "source": [
    "# Pair them together\n",
    "# Block 3: Get diverse examples (this replaces your slow sorting)\n",
    "examples = get_diverse_examples_fast(ds, n_samples=5, total_samples=5000)\n",
    "\n",
    "# Block 4: Check results\n",
    "print(f\"Selected {len(examples)} diverse examples:\")\n",
    "for i, (q, cot, ans) in enumerate(examples):\n",
    "    print(f\"Example {i + 1}: COT length = {len(cot)} chars\")\n",
    "\n",
    "# Block 5: Extract fields if you need them separately\n",
    "questions = [ex[0] for ex in examples]\n",
    "cot_solutions = [ex[1] for ex in examples]\n",
    "expected_answers = [ex[2] for ex in examples]"
   ],
   "id": "d658c9d251a02f33",
   "outputs": [
    {
     "name": "stdout",
     "output_type": "stream",
     "text": [
      "Selected 5 diverse examples:\n",
      "Example 1: COT length = 1278 chars\n",
      "Example 2: COT length = 21176 chars\n",
      "Example 3: COT length = 19378 chars\n",
      "Example 4: COT length = 10147 chars\n",
      "Example 5: COT length = 25241 chars\n"
     ]
    }
   ],
   "execution_count": 4
  },
  {
   "metadata": {
    "ExecuteTime": {
     "end_time": "2025-08-20T09:09:57.733191Z",
     "start_time": "2025-08-20T09:09:57.729721Z"
    }
   },
   "cell_type": "code",
   "source": [
    "GEMINI_API_KEY = \"\"  # Replace with your actual API key\n",
    "genai.configure(api_key=GEMINI_API_KEY)\n",
    "model = genai.GenerativeModel('gemini-1.5-flash')"
   ],
   "id": "1fdf0db608a701f4",
   "outputs": [],
   "execution_count": 15
  },
  {
   "metadata": {
    "ExecuteTime": {
     "end_time": "2025-08-20T09:09:58.561559Z",
     "start_time": "2025-08-20T09:09:58.557393Z"
    }
   },
   "cell_type": "code",
   "source": [
    "def translate_to_hebrew(text, text_type=\"text\"):\n",
    "    \"\"\"Translate text to Hebrew using Gemini API with rate limiting\"\"\"\n",
    "    try:\n",
    "        if text_type == \"math_problem\":\n",
    "            prompt = f\"Translate the following mathematical problem to Hebrew. Keep all mathematical expressions, numbers, and formulas unchanged. Only translate the text portions:\\n\\n{text}\"\n",
    "        elif text_type == \"solution\":\n",
    "            prompt = f\"Translate the following mathematical solution to Hebrew. Keep all mathematical expressions, calculations, and formulas unchanged. Only translate the explanatory text:\\n\\n{text}\"\n",
    "        else:\n",
    "            prompt = f\"Translate the following to Hebrew:\\n\\n{text}\"\n",
    "\n",
    "        response = model.generate_content(prompt)\n",
    "        time.sleep(0.5)  # Rate limiting - adjust as needed\n",
    "        return response.text\n",
    "    except Exception as e:\n",
    "        print(f\"Translation error: {e}\")\n",
    "        return text"
   ],
   "id": "8878783336d8f69d",
   "outputs": [],
   "execution_count": 16
  },
  {
   "metadata": {
    "ExecuteTime": {
     "end_time": "2025-08-20T09:11:19.087855Z",
     "start_time": "2025-08-20T09:09:59.049236Z"
    }
   },
   "cell_type": "code",
   "source": [
    "# Translate all content\n",
    "print(\"Translating questions...\")\n",
    "translated_questions = []\n",
    "for i, question in enumerate(questions):\n",
    "    print(f\"Translating question {i+1}/{len(questions)}\")\n",
    "    translated_questions.append(translate_to_hebrew(question, \"math_problem\"))\n",
    "\n",
    "print(\"Translating COT solutions...\")\n",
    "translated_cot_solutions = []\n",
    "for i, cot in enumerate(cot_solutions):\n",
    "    print(f\"Translating solution {i+1}/{len(cot_solutions)}\")\n",
    "    translated_cot_solutions.append(translate_to_hebrew(cot, \"solution\"))\n",
    "\n",
    "print(\"Translating answers...\")\n",
    "translated_answers = []\n",
    "for i, answer in enumerate(expected_answers):\n",
    "    print(f\"Translating answer {i+1}/{len(expected_answers)}\")\n",
    "    translated_answers.append(translate_to_hebrew(answer))\n",
    "\n",
    "print(\"Translation complete!\")"
   ],
   "id": "65b63e5c519d4441",
   "outputs": [
    {
     "name": "stdout",
     "output_type": "stream",
     "text": [
      "Translating questions...\n",
      "Translating question 1/5\n",
      "Translating question 2/5\n",
      "Translating question 3/5\n",
      "Translating question 4/5\n",
      "Translating question 5/5\n",
      "Translating COT solutions...\n",
      "Translating solution 1/5\n",
      "Translating solution 2/5\n",
      "Translating solution 3/5\n",
      "Translating solution 4/5\n",
      "Translating solution 5/5\n",
      "Translating answers...\n",
      "Translating answer 1/5\n",
      "Translating answer 2/5\n",
      "Translating answer 3/5\n",
      "Translating answer 4/5\n",
      "Translating answer 5/5\n",
      "Translation complete!\n"
     ]
    }
   ],
   "execution_count": 17
  },
  {
   "metadata": {
    "ExecuteTime": {
     "end_time": "2025-08-20T11:28:29.271483Z",
     "start_time": "2025-08-20T11:28:29.268307Z"
    }
   },
   "cell_type": "code",
   "source": [
    "def create_few_shot_prompt(translated_questions, translated_cot_solutions, translated_answers, new_english_question, new_english_solution):\n",
    "    \"\"\"Create a few-shot prompt using translated examples to generate Hebrew CoT\"\"\"\n",
    "\n",
    "    prompt = \"\"\"You are an expert mathematics tutor who provides detailed step-by-step solutions in fluent Hebrew. Your explanations should be comprehensive, clear, and educational.\n",
    "\n",
    "Here are examples of how to solve mathematical problems with detailed Hebrew explanations:\n",
    "\n",
    "\"\"\"\n",
    "\n",
    "    # Add few-shot examples (Hebrew question -> Hebrew CoT)\n",
    "    for i in range(len(translated_questions)):\n",
    "        prompt += f\"\"\"Example {i+1}:\n",
    "Question: {translated_questions[i]}\n",
    "\n",
    "Solution: {translated_cot_solutions[i]}\n",
    "\n",
    "Answer: {translated_answers[i]}\n",
    "\n",
    "---\n",
    "\n",
    "\"\"\"\n",
    "\n",
    "    # Add the new English question to solve\n",
    "    prompt += f\"\"\"Now solve this question with a detailed step-by-step explanation in Hebrew while I provide you with the solution:\n",
    "\n",
    "Question: {new_english_question}\n",
    "Solution: {new_english_solution}\n",
    "\n",
    "Please provide a comprehensive, fluent Hebrew explanation showing all steps. Make sure your explanation is:\n",
    "- Clear and easy to follow\n",
    "- Shows all mathematical steps\n",
    "- Uses proper Hebrew mathematical terminology\n",
    "- Informative and educational\n",
    "\n",
    "Explanation:\"\"\"\n",
    "\n",
    "    return prompt"
   ],
   "id": "8be586a2d58b2b5b",
   "outputs": [],
   "execution_count": 19
  },
  {
   "metadata": {
    "ExecuteTime": {
     "end_time": "2025-08-20T11:29:28.719647Z",
     "start_time": "2025-08-20T11:29:28.712849Z"
    }
   },
   "cell_type": "code",
   "source": [
    "def generate_hebrew_cot_for_dataset(translated_questions, translated_cot_solutions, translated_answers,\n",
    "                                  num_questions=10, model=model):\n",
    "    \"\"\"\n",
    "    Generate Hebrew CoT for questions from the original dataset\n",
    "\n",
    "    Args:\n",
    "        translated_questions: List of Hebrew translated questions (few-shot examples)\n",
    "        translated_cot_solutions: List of Hebrew translated CoT solutions (few-shot examples)\n",
    "        translated_answers: List of Hebrew translated answers (few-shot examples)\n",
    "        num_questions: Number of questions to process from dataset\n",
    "        model: Gemini model instance\n",
    "\n",
    "    Returns:\n",
    "        pandas DataFrame with columns: question_english, generated_cot_hebrew, real_cot_english, real_answer_english\n",
    "    \"\"\"\n",
    "\n",
    "    # Load the dataset\n",
    "    ds = load_dataset(\"nvidia/OpenMathReasoning\", split=\"cot\", streaming=True)\n",
    "\n",
    "    results = []\n",
    "    count = 0\n",
    "\n",
    "    print(f\"Processing {num_questions} questions from the dataset...\")\n",
    "\n",
    "    for item in ds:\n",
    "        if count >= num_questions:\n",
    "            break\n",
    "\n",
    "        try:\n",
    "            # Extract data from dataset\n",
    "            english_question = item[\"problem\"]\n",
    "            real_english_cot = item[\"generated_solution\"]\n",
    "            real_english_answer = item[\"expected_answer\"]\n",
    "\n",
    "            print(f\"Processing question {count+1}/{num_questions}\")\n",
    "            print(f\"Question preview: {english_question[:100]}...\")\n",
    "\n",
    "            # Create few-shot prompt\n",
    "            prompt = create_few_shot_prompt(\n",
    "                translated_questions,\n",
    "                translated_cot_solutions,\n",
    "                translated_answers,\n",
    "                english_question, real_english_answer\n",
    "            )\n",
    "\n",
    "            # Generate Hebrew CoT\n",
    "            response = model.generate_content(prompt)\n",
    "            generated_hebrew_cot = response.text\n",
    "\n",
    "            # Add to results\n",
    "            result = {\n",
    "                'question_english': english_question,\n",
    "                'generated_cot_hebrew': generated_hebrew_cot,\n",
    "                'real_cot_english': real_english_cot,\n",
    "                'real_answer_english': real_english_answer\n",
    "            }\n",
    "\n",
    "            results.append(result)\n",
    "            print(f\"✓ Successfully generated Hebrew CoT for question {count+1}\")\n",
    "\n",
    "            # Rate limiting\n",
    "            time.sleep(1)  # Adjust as needed for API rate limits\n",
    "\n",
    "        except Exception as e:\n",
    "            print(f\"✗ Error processing question {count+1}: {e}\")\n",
    "            # Add error result to maintain count\n",
    "            result = {\n",
    "                'question_english': item.get(\"problem\", \"Error loading question\"),\n",
    "                'generated_cot_hebrew': f\"Error: {str(e)}\",\n",
    "                'real_cot_english': item.get(\"generated_solution\", \"Error loading CoT\"),\n",
    "                'real_answer_english': item.get(\"expected_answer\", \"Error loading answer\")\n",
    "            }\n",
    "            results.append(result)\n",
    "\n",
    "        count += 1\n",
    "\n",
    "    # Convert to DataFrame\n",
    "    df = pd.DataFrame(results)\n",
    "    return df"
   ],
   "id": "78f0600705b47f8e",
   "outputs": [],
   "execution_count": 21
  },
  {
   "metadata": {
    "ExecuteTime": {
     "end_time": "2025-08-20T11:32:11.747509Z",
     "start_time": "2025-08-20T11:30:21.427691Z"
    }
   },
   "cell_type": "code",
   "source": [
    "df_results = generate_hebrew_cot_for_dataset(\n",
    "    translated_questions=translated_questions,      # Your Hebrew translated questions\n",
    "    translated_cot_solutions=translated_cot_solutions,  # Your Hebrew translated CoT solutions\n",
    "    translated_answers=translated_answers,          # Your Hebrew translated answers\n",
    "    num_questions=10  # Start with 10, increase as needed\n",
    ")"
   ],
   "id": "a8e58755f39a9980",
   "outputs": [
    {
     "name": "stdout",
     "output_type": "stream",
     "text": [
      "Processing 10 questions from the dataset...\n",
      "Processing question 1/10\n",
      "Question preview: Given a group of \\( N \\) balls consisting of \\( C \\) colors, where the number of balls in each color...\n",
      "✓ Successfully generated Hebrew CoT for question 1\n",
      "Processing question 2/10\n",
      "Question preview: How many lines can be drawn that are equidistant from \\( n \\) given points in the plane?...\n",
      "✓ Successfully generated Hebrew CoT for question 2\n",
      "Processing question 3/10\n",
      "Question preview: Find all functions \\( f: \\mathbb{R} \\to \\mathbb{R} \\) such that\n",
      "\\[\n",
      "(f(x^2) + f(xy) + f(y^2))(x - y) ...\n",
      "✓ Successfully generated Hebrew CoT for question 3\n",
      "Processing question 4/10\n",
      "Question preview: Find the sum of the roots of the equation \\((x+6)^{1/3} + (x-2)^{1/2} = 2\\)....\n",
      "✓ Successfully generated Hebrew CoT for question 4\n",
      "Processing question 5/10\n",
      "Question preview: Determine how many 1000 digit numbers \\( A \\) have the property that when any digit of \\( A \\), asid...\n",
      "✓ Successfully generated Hebrew CoT for question 5\n",
      "Processing question 6/10\n",
      "Question preview: Calculate the integral\n",
      "\n",
      "\\[\n",
      "\\int^{\\frac{3\\pi}{2}}_{\\frac{\\pi}{2}} \\left|\\left(\\frac{2}{x^3}+\\frac{1}{...\n",
      "✓ Successfully generated Hebrew CoT for question 6\n",
      "Processing question 7/10\n",
      "Question preview: In $\\triangle ABC$ with incenter $I$, points $P$ and $Q$ are on side $BC$ such that $AP$ and $AQ$ ar...\n",
      "✓ Successfully generated Hebrew CoT for question 7\n",
      "Processing question 8/10\n",
      "Question preview: Let \\( x_0 = 1 \\), and \\( x_{n+1} = 2x_n + \\sqrt{3x_n^2 - 2} \\). Determine \\( x_{2016} \\)....\n",
      "✓ Successfully generated Hebrew CoT for question 8\n",
      "Processing question 9/10\n",
      "Question preview: Which is greater, $\\sqrt[2012]{2013!}$ or $\\sqrt[2013]{2012!}$?...\n",
      "✓ Successfully generated Hebrew CoT for question 9\n",
      "Processing question 10/10\n",
      "Question preview: On average, how long will you have to flip a coin to get the sequence $HTHT$?...\n",
      "✓ Successfully generated Hebrew CoT for question 10\n"
     ]
    }
   ],
   "execution_count": 22
  },
  {
   "metadata": {},
   "cell_type": "code",
   "outputs": [],
   "execution_count": null,
   "source": "",
   "id": "41de77b7d56218a9"
  }
 ],
 "metadata": {
  "kernelspec": {
   "display_name": "Python 3",
   "language": "python",
   "name": "python3"
  },
  "language_info": {
   "codemirror_mode": {
    "name": "ipython",
    "version": 2
   },
   "file_extension": ".py",
   "mimetype": "text/x-python",
   "name": "python",
   "nbconvert_exporter": "python",
   "pygments_lexer": "ipython2",
   "version": "2.7.6"
  }
 },
 "nbformat": 4,
 "nbformat_minor": 5
}
