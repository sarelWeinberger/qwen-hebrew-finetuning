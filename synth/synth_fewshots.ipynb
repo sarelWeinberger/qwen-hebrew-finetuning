{
 "cells": [
  {
   "cell_type": "code",
   "execution_count": 1,
   "id": "e981948d51bb5420",
   "metadata": {
    "ExecuteTime": {
     "end_time": "2025-08-20T08:59:26.350054Z",
     "start_time": "2025-08-20T08:59:23.613637Z"
    }
   },
   "outputs": [
    {
     "name": "stdout",
     "output_type": "stream",
     "text": [
      "Requirement already satisfied: datasets in /Users/galastra/Projects/qwen-hebrew-finetuning/venv/lib/python3.11/site-packages (4.0.0)\n",
      "Requirement already satisfied: filelock in /Users/galastra/Projects/qwen-hebrew-finetuning/venv/lib/python3.11/site-packages (from datasets) (3.18.0)\n",
      "Requirement already satisfied: numpy>=1.17 in /Users/galastra/Projects/qwen-hebrew-finetuning/venv/lib/python3.11/site-packages (from datasets) (2.3.2)\n",
      "Requirement already satisfied: pyarrow>=15.0.0 in /Users/galastra/Projects/qwen-hebrew-finetuning/venv/lib/python3.11/site-packages (from datasets) (21.0.0)\n",
      "Requirement already satisfied: dill<0.3.9,>=0.3.0 in /Users/galastra/Projects/qwen-hebrew-finetuning/venv/lib/python3.11/site-packages (from datasets) (0.3.8)\n",
      "Requirement already satisfied: pandas in /Users/galastra/Projects/qwen-hebrew-finetuning/venv/lib/python3.11/site-packages (from datasets) (2.3.1)\n",
      "Requirement already satisfied: requests>=2.32.2 in /Users/galastra/Projects/qwen-hebrew-finetuning/venv/lib/python3.11/site-packages (from datasets) (2.32.4)\n",
      "Requirement already satisfied: tqdm>=4.66.3 in /Users/galastra/Projects/qwen-hebrew-finetuning/venv/lib/python3.11/site-packages (from datasets) (4.67.1)\n",
      "Requirement already satisfied: xxhash in /Users/galastra/Projects/qwen-hebrew-finetuning/venv/lib/python3.11/site-packages (from datasets) (3.5.0)\n",
      "Requirement already satisfied: multiprocess<0.70.17 in /Users/galastra/Projects/qwen-hebrew-finetuning/venv/lib/python3.11/site-packages (from datasets) (0.70.16)\n",
      "Requirement already satisfied: fsspec<=2025.3.0,>=2023.1.0 in /Users/galastra/Projects/qwen-hebrew-finetuning/venv/lib/python3.11/site-packages (from fsspec[http]<=2025.3.0,>=2023.1.0->datasets) (2025.3.0)\n",
      "Requirement already satisfied: huggingface-hub>=0.24.0 in /Users/galastra/Projects/qwen-hebrew-finetuning/venv/lib/python3.11/site-packages (from datasets) (0.34.4)\n",
      "Requirement already satisfied: packaging in /Users/galastra/Projects/qwen-hebrew-finetuning/venv/lib/python3.11/site-packages (from datasets) (25.0)\n",
      "Requirement already satisfied: pyyaml>=5.1 in /Users/galastra/Projects/qwen-hebrew-finetuning/venv/lib/python3.11/site-packages (from datasets) (6.0.2)\n",
      "Requirement already satisfied: aiohttp!=4.0.0a0,!=4.0.0a1 in /Users/galastra/Projects/qwen-hebrew-finetuning/venv/lib/python3.11/site-packages (from fsspec[http]<=2025.3.0,>=2023.1.0->datasets) (3.12.15)\n",
      "Requirement already satisfied: aiohappyeyeballs>=2.5.0 in /Users/galastra/Projects/qwen-hebrew-finetuning/venv/lib/python3.11/site-packages (from aiohttp!=4.0.0a0,!=4.0.0a1->fsspec[http]<=2025.3.0,>=2023.1.0->datasets) (2.6.1)\n",
      "Requirement already satisfied: aiosignal>=1.4.0 in /Users/galastra/Projects/qwen-hebrew-finetuning/venv/lib/python3.11/site-packages (from aiohttp!=4.0.0a0,!=4.0.0a1->fsspec[http]<=2025.3.0,>=2023.1.0->datasets) (1.4.0)\n",
      "Requirement already satisfied: attrs>=17.3.0 in /Users/galastra/Projects/qwen-hebrew-finetuning/venv/lib/python3.11/site-packages (from aiohttp!=4.0.0a0,!=4.0.0a1->fsspec[http]<=2025.3.0,>=2023.1.0->datasets) (25.3.0)\n",
      "Requirement already satisfied: frozenlist>=1.1.1 in /Users/galastra/Projects/qwen-hebrew-finetuning/venv/lib/python3.11/site-packages (from aiohttp!=4.0.0a0,!=4.0.0a1->fsspec[http]<=2025.3.0,>=2023.1.0->datasets) (1.7.0)\n",
      "Requirement already satisfied: multidict<7.0,>=4.5 in /Users/galastra/Projects/qwen-hebrew-finetuning/venv/lib/python3.11/site-packages (from aiohttp!=4.0.0a0,!=4.0.0a1->fsspec[http]<=2025.3.0,>=2023.1.0->datasets) (6.6.4)\n",
      "Requirement already satisfied: propcache>=0.2.0 in /Users/galastra/Projects/qwen-hebrew-finetuning/venv/lib/python3.11/site-packages (from aiohttp!=4.0.0a0,!=4.0.0a1->fsspec[http]<=2025.3.0,>=2023.1.0->datasets) (0.3.2)\n",
      "Requirement already satisfied: yarl<2.0,>=1.17.0 in /Users/galastra/Projects/qwen-hebrew-finetuning/venv/lib/python3.11/site-packages (from aiohttp!=4.0.0a0,!=4.0.0a1->fsspec[http]<=2025.3.0,>=2023.1.0->datasets) (1.20.1)\n",
      "Requirement already satisfied: idna>=2.0 in /Users/galastra/Projects/qwen-hebrew-finetuning/venv/lib/python3.11/site-packages (from yarl<2.0,>=1.17.0->aiohttp!=4.0.0a0,!=4.0.0a1->fsspec[http]<=2025.3.0,>=2023.1.0->datasets) (3.10)\n",
      "Requirement already satisfied: typing-extensions>=4.2 in /Users/galastra/Projects/qwen-hebrew-finetuning/venv/lib/python3.11/site-packages (from aiosignal>=1.4.0->aiohttp!=4.0.0a0,!=4.0.0a1->fsspec[http]<=2025.3.0,>=2023.1.0->datasets) (4.14.1)\n",
      "Requirement already satisfied: hf-xet<2.0.0,>=1.1.3 in /Users/galastra/Projects/qwen-hebrew-finetuning/venv/lib/python3.11/site-packages (from huggingface-hub>=0.24.0->datasets) (1.1.7)\n",
      "Requirement already satisfied: charset_normalizer<4,>=2 in /Users/galastra/Projects/qwen-hebrew-finetuning/venv/lib/python3.11/site-packages (from requests>=2.32.2->datasets) (3.4.3)\n",
      "Requirement already satisfied: urllib3<3,>=1.21.1 in /Users/galastra/Projects/qwen-hebrew-finetuning/venv/lib/python3.11/site-packages (from requests>=2.32.2->datasets) (2.5.0)\n",
      "Requirement already satisfied: certifi>=2017.4.17 in /Users/galastra/Projects/qwen-hebrew-finetuning/venv/lib/python3.11/site-packages (from requests>=2.32.2->datasets) (2025.8.3)\n",
      "Requirement already satisfied: python-dateutil>=2.8.2 in /Users/galastra/Projects/qwen-hebrew-finetuning/venv/lib/python3.11/site-packages (from pandas->datasets) (2.9.0.post0)\n",
      "Requirement already satisfied: pytz>=2020.1 in /Users/galastra/Projects/qwen-hebrew-finetuning/venv/lib/python3.11/site-packages (from pandas->datasets) (2025.2)\n",
      "Requirement already satisfied: tzdata>=2022.7 in /Users/galastra/Projects/qwen-hebrew-finetuning/venv/lib/python3.11/site-packages (from pandas->datasets) (2025.2)\n",
      "Requirement already satisfied: six>=1.5 in /Users/galastra/Projects/qwen-hebrew-finetuning/venv/lib/python3.11/site-packages (from python-dateutil>=2.8.2->pandas->datasets) (1.17.0)\n",
      "Requirement already satisfied: openpyxl in /Users/galastra/Projects/qwen-hebrew-finetuning/venv/lib/python3.11/site-packages (3.1.5)\n",
      "Requirement already satisfied: et-xmlfile in /Users/galastra/Projects/qwen-hebrew-finetuning/venv/lib/python3.11/site-packages (from openpyxl) (2.0.0)\n",
      "Requirement already satisfied: google-generativeai in /Users/galastra/Projects/qwen-hebrew-finetuning/venv/lib/python3.11/site-packages (0.8.5)\n",
      "Requirement already satisfied: google-ai-generativelanguage==0.6.15 in /Users/galastra/Projects/qwen-hebrew-finetuning/venv/lib/python3.11/site-packages (from google-generativeai) (0.6.15)\n",
      "Requirement already satisfied: google-api-core in /Users/galastra/Projects/qwen-hebrew-finetuning/venv/lib/python3.11/site-packages (from google-generativeai) (2.25.1)\n",
      "Requirement already satisfied: google-api-python-client in /Users/galastra/Projects/qwen-hebrew-finetuning/venv/lib/python3.11/site-packages (from google-generativeai) (2.179.0)\n",
      "Requirement already satisfied: google-auth>=2.15.0 in /Users/galastra/Projects/qwen-hebrew-finetuning/venv/lib/python3.11/site-packages (from google-generativeai) (2.40.3)\n",
      "Requirement already satisfied: protobuf in /Users/galastra/Projects/qwen-hebrew-finetuning/venv/lib/python3.11/site-packages (from google-generativeai) (5.29.5)\n",
      "Requirement already satisfied: pydantic in /Users/galastra/Projects/qwen-hebrew-finetuning/venv/lib/python3.11/site-packages (from google-generativeai) (2.11.7)\n",
      "Requirement already satisfied: tqdm in /Users/galastra/Projects/qwen-hebrew-finetuning/venv/lib/python3.11/site-packages (from google-generativeai) (4.67.1)\n",
      "Requirement already satisfied: typing-extensions in /Users/galastra/Projects/qwen-hebrew-finetuning/venv/lib/python3.11/site-packages (from google-generativeai) (4.14.1)\n",
      "Requirement already satisfied: proto-plus<2.0.0dev,>=1.22.3 in /Users/galastra/Projects/qwen-hebrew-finetuning/venv/lib/python3.11/site-packages (from google-ai-generativelanguage==0.6.15->google-generativeai) (1.26.1)\n",
      "Requirement already satisfied: googleapis-common-protos<2.0.0,>=1.56.2 in /Users/galastra/Projects/qwen-hebrew-finetuning/venv/lib/python3.11/site-packages (from google-api-core->google-generativeai) (1.70.0)\n",
      "Requirement already satisfied: requests<3.0.0,>=2.18.0 in /Users/galastra/Projects/qwen-hebrew-finetuning/venv/lib/python3.11/site-packages (from google-api-core->google-generativeai) (2.32.4)\n",
      "Requirement already satisfied: grpcio<2.0.0,>=1.33.2 in /Users/galastra/Projects/qwen-hebrew-finetuning/venv/lib/python3.11/site-packages (from google-api-core[grpc]!=2.0.*,!=2.1.*,!=2.10.*,!=2.2.*,!=2.3.*,!=2.4.*,!=2.5.*,!=2.6.*,!=2.7.*,!=2.8.*,!=2.9.*,<3.0.0dev,>=1.34.1->google-ai-generativelanguage==0.6.15->google-generativeai) (1.74.0)\n",
      "Requirement already satisfied: grpcio-status<2.0.0,>=1.33.2 in /Users/galastra/Projects/qwen-hebrew-finetuning/venv/lib/python3.11/site-packages (from google-api-core[grpc]!=2.0.*,!=2.1.*,!=2.10.*,!=2.2.*,!=2.3.*,!=2.4.*,!=2.5.*,!=2.6.*,!=2.7.*,!=2.8.*,!=2.9.*,<3.0.0dev,>=1.34.1->google-ai-generativelanguage==0.6.15->google-generativeai) (1.71.2)\n",
      "Requirement already satisfied: cachetools<6.0,>=2.0.0 in /Users/galastra/Projects/qwen-hebrew-finetuning/venv/lib/python3.11/site-packages (from google-auth>=2.15.0->google-generativeai) (5.5.2)\n",
      "Requirement already satisfied: pyasn1-modules>=0.2.1 in /Users/galastra/Projects/qwen-hebrew-finetuning/venv/lib/python3.11/site-packages (from google-auth>=2.15.0->google-generativeai) (0.4.2)\n",
      "Requirement already satisfied: rsa<5,>=3.1.4 in /Users/galastra/Projects/qwen-hebrew-finetuning/venv/lib/python3.11/site-packages (from google-auth>=2.15.0->google-generativeai) (4.9.1)\n",
      "Requirement already satisfied: charset_normalizer<4,>=2 in /Users/galastra/Projects/qwen-hebrew-finetuning/venv/lib/python3.11/site-packages (from requests<3.0.0,>=2.18.0->google-api-core->google-generativeai) (3.4.3)\n",
      "Requirement already satisfied: idna<4,>=2.5 in /Users/galastra/Projects/qwen-hebrew-finetuning/venv/lib/python3.11/site-packages (from requests<3.0.0,>=2.18.0->google-api-core->google-generativeai) (3.10)\n",
      "Requirement already satisfied: urllib3<3,>=1.21.1 in /Users/galastra/Projects/qwen-hebrew-finetuning/venv/lib/python3.11/site-packages (from requests<3.0.0,>=2.18.0->google-api-core->google-generativeai) (2.5.0)\n",
      "Requirement already satisfied: certifi>=2017.4.17 in /Users/galastra/Projects/qwen-hebrew-finetuning/venv/lib/python3.11/site-packages (from requests<3.0.0,>=2.18.0->google-api-core->google-generativeai) (2025.8.3)\n",
      "Requirement already satisfied: pyasn1>=0.1.3 in /Users/galastra/Projects/qwen-hebrew-finetuning/venv/lib/python3.11/site-packages (from rsa<5,>=3.1.4->google-auth>=2.15.0->google-generativeai) (0.6.1)\n",
      "Requirement already satisfied: httplib2<1.0.0,>=0.19.0 in /Users/galastra/Projects/qwen-hebrew-finetuning/venv/lib/python3.11/site-packages (from google-api-python-client->google-generativeai) (0.22.0)\n",
      "Requirement already satisfied: google-auth-httplib2<1.0.0,>=0.2.0 in /Users/galastra/Projects/qwen-hebrew-finetuning/venv/lib/python3.11/site-packages (from google-api-python-client->google-generativeai) (0.2.0)\n",
      "Requirement already satisfied: uritemplate<5,>=3.0.1 in /Users/galastra/Projects/qwen-hebrew-finetuning/venv/lib/python3.11/site-packages (from google-api-python-client->google-generativeai) (4.2.0)\n",
      "Requirement already satisfied: pyparsing!=3.0.0,!=3.0.1,!=3.0.2,!=3.0.3,<4,>=2.4.2 in /Users/galastra/Projects/qwen-hebrew-finetuning/venv/lib/python3.11/site-packages (from httplib2<1.0.0,>=0.19.0->google-api-python-client->google-generativeai) (3.2.3)\n",
      "Requirement already satisfied: annotated-types>=0.6.0 in /Users/galastra/Projects/qwen-hebrew-finetuning/venv/lib/python3.11/site-packages (from pydantic->google-generativeai) (0.7.0)\n",
      "Requirement already satisfied: pydantic-core==2.33.2 in /Users/galastra/Projects/qwen-hebrew-finetuning/venv/lib/python3.11/site-packages (from pydantic->google-generativeai) (2.33.2)\n",
      "Requirement already satisfied: typing-inspection>=0.4.0 in /Users/galastra/Projects/qwen-hebrew-finetuning/venv/lib/python3.11/site-packages (from pydantic->google-generativeai) (0.4.1)\n",
      "/Users/galastra/Projects/qwen-hebrew-finetuning/synth\n"
     ]
    }
   ],
   "source": [
    "!pip install datasets\n",
    "!pip install openpyxl\n",
    "!pip install -q -U google-genai\n",
    "!pip install google-generativeai\n",
    "!pwd"
   ]
  },
  {
   "cell_type": "code",
   "execution_count": 12,
   "id": "2efa8d3aceb07d1",
   "metadata": {
    "ExecuteTime": {
     "end_time": "2025-08-20T11:29:21.354015Z",
     "start_time": "2025-08-20T11:29:20.391865Z"
    }
   },
   "outputs": [],
   "source": [
    "from datasets import load_dataset\n",
    "import random\n",
    "import google.generativeai as genai\n",
    "import time\n",
    "import pandas as pd"
   ]
  },
  {
   "cell_type": "code",
   "execution_count": 13,
   "id": "95100936a8bac9eb",
   "metadata": {
    "ExecuteTime": {
     "end_time": "2025-08-20T09:06:09.468379Z",
     "start_time": "2025-08-20T09:06:09.465617Z"
    }
   },
   "outputs": [],
   "source": [
    "import google.generativeai as genai"
   ]
  },
  {
   "cell_type": "code",
   "execution_count": 5,
   "id": "dccd995bdeed7736",
   "metadata": {
    "ExecuteTime": {
     "end_time": "2025-08-20T08:59:55.653135Z",
     "start_time": "2025-08-20T08:59:26.360668Z"
    }
   },
   "outputs": [],
   "source": [
    "ds = load_dataset(\"nvidia/OpenMathReasoning\", split=\"cot\", streaming=True)\n",
    "sample_data = list(ds.take(10000))"
   ]
  },
  {
   "cell_type": "code",
   "execution_count": 14,
   "id": "305f571d8106c41b",
   "metadata": {
    "ExecuteTime": {
     "end_time": "2025-08-20T09:00:03.211247Z",
     "start_time": "2025-08-20T09:00:03.203110Z"
    }
   },
   "outputs": [],
   "source": [
    "# Block 2: Fast diversity sampling function\n",
    "def get_diverse_examples_fast(ds, n_samples=5, total_samples=5000):\n",
    "    \"\"\"Fast method using reservoir sampling to get examples with diverse COT lengths\"\"\"\n",
    "\n",
    "    # Initialize buckets for different length ranges\n",
    "    buckets = {\n",
    "        'short': [],  # 0-500 chars\n",
    "        'medium': [],  # 500-1500 chars\n",
    "        'long': [],  # 1500+ chars\n",
    "    }\n",
    "\n",
    "    count = 0\n",
    "    for item in ds:\n",
    "        if count >= total_samples:\n",
    "            break\n",
    "\n",
    "        cot_length = len(item[\"generated_solution\"])\n",
    "\n",
    "        # Determine bucket\n",
    "        if cot_length < 500:\n",
    "            bucket_name = 'short'\n",
    "        elif cot_length < 1500:\n",
    "            bucket_name = 'medium'\n",
    "        else:\n",
    "            bucket_name = 'long'\n",
    "\n",
    "        # Add to bucket (keep max 100 per bucket)\n",
    "        bucket = buckets[bucket_name]\n",
    "        if len(bucket) < 100:\n",
    "            bucket.append((item[\"problem\"], item[\"generated_solution\"], item[\"expected_answer\"]))\n",
    "        else:\n",
    "            # Replace random item (reservoir sampling)\n",
    "            replace_idx = random.randint(0, len(bucket))\n",
    "            if replace_idx < len(bucket):\n",
    "                bucket[replace_idx] = (item[\"problem\"], item[\"generated_solution\"], item[\"expected_answer\"])\n",
    "\n",
    "        count += 1\n",
    "\n",
    "    # Select examples from buckets to get diversity\n",
    "    diverse_examples = []\n",
    "    for bucket_name in ['short', 'medium', 'long']:\n",
    "        if buckets[bucket_name]:\n",
    "            # Take multiple from each bucket if needed\n",
    "            samples_from_bucket = min(len(buckets[bucket_name]), max(1, n_samples // 3))\n",
    "            diverse_examples.extend(random.sample(buckets[bucket_name], samples_from_bucket))\n",
    "\n",
    "    # If we need more samples, fill from any bucket\n",
    "    while len(diverse_examples) < n_samples:\n",
    "        for bucket in buckets.values():\n",
    "            if bucket and len(diverse_examples) < n_samples:\n",
    "                remaining = [ex for ex in bucket if ex not in diverse_examples]\n",
    "                if remaining:\n",
    "                    diverse_examples.append(random.choice(remaining))\n",
    "\n",
    "    return diverse_examples[:n_samples]"
   ]
  },
  {
   "cell_type": "code",
   "execution_count": 4,
   "id": "d658c9d251a02f33",
   "metadata": {
    "ExecuteTime": {
     "end_time": "2025-08-20T09:00:19.231884Z",
     "start_time": "2025-08-20T09:00:04.033611Z"
    }
   },
   "outputs": [
    {
     "name": "stdout",
     "output_type": "stream",
     "text": [
      "Selected 5 diverse examples:\n",
      "Example 1: COT length = 1278 chars\n",
      "Example 2: COT length = 21176 chars\n",
      "Example 3: COT length = 19378 chars\n",
      "Example 4: COT length = 10147 chars\n",
      "Example 5: COT length = 25241 chars\n"
     ]
    }
   ],
   "source": [
    "# Pair them together\n",
    "# Block 3: Get diverse examples (this replaces your slow sorting)\n",
    "examples = get_diverse_examples_fast(ds, n_samples=5, total_samples=5000)\n",
    "\n",
    "# Block 4: Check results\n",
    "print(f\"Selected {len(examples)} diverse examples:\")\n",
    "for i, (q, cot, ans) in enumerate(examples):\n",
    "    print(f\"Example {i + 1}: COT length = {len(cot)} chars\")\n",
    "\n",
    "# Block 5: Extract fields if you need them separately\n",
    "questions = [ex[0] for ex in examples]\n",
    "cot_solutions = [ex[1] for ex in examples]\n",
    "expected_answers = [ex[2] for ex in examples]"
   ]
  },
  {
   "cell_type": "code",
   "execution_count": 4,
   "id": "1fdf0db608a701f4",
   "metadata": {
    "ExecuteTime": {
     "end_time": "2025-08-20T09:09:57.733191Z",
     "start_time": "2025-08-20T09:09:57.729721Z"
    }
   },
   "outputs": [],
   "source": [
    "from my_access_keys import google_access_key\n",
    "GEMINI_API_KEY = google_access_key  # Replace with your actual API key\n",
    "\n",
    "genai.configure(api_key=GEMINI_API_KEY)\n",
    "model = genai.GenerativeModel('gemini-1.5-flash')"
   ]
  },
  {
   "cell_type": "code",
   "execution_count": 15,
   "id": "8878783336d8f69d",
   "metadata": {
    "ExecuteTime": {
     "end_time": "2025-08-20T09:09:58.561559Z",
     "start_time": "2025-08-20T09:09:58.557393Z"
    }
   },
   "outputs": [],
   "source": [
    "def translate_to_hebrew(text, text_type=\"text\"):\n",
    "    \"\"\"Translate text to Hebrew using Gemini API with rate limiting\"\"\"\n",
    "    try:\n",
    "        if text_type == \"math_problem\":\n",
    "            prompt = f\"Translate the following mathematical problem to Hebrew. Keep all mathematical expressions, numbers, and formulas unchanged. Only translate the text portions:\\n\\n{text}\"\n",
    "        elif text_type == \"solution\":\n",
    "            prompt = f\"Translate the following mathematical solution to Hebrew. Keep all mathematical expressions, calculations, and formulas unchanged. Only translate the explanatory text:\\n\\n{text}\"\n",
    "        else:\n",
    "            prompt = f\"Translate the following to Hebrew:\\n\\n{text}\"\n",
    "\n",
    "        response = model.generate_content(prompt)\n",
    "        time.sleep(0.5)  # Rate limiting - adjust as needed\n",
    "        return response.text\n",
    "    except Exception as e:\n",
    "        print(f\"Translation error: {e}\")\n",
    "        return text"
   ]
  },
  {
   "cell_type": "code",
   "execution_count": null,
   "id": "65b63e5c519d4441",
   "metadata": {
    "ExecuteTime": {
     "end_time": "2025-08-20T09:11:19.087855Z",
     "start_time": "2025-08-20T09:09:59.049236Z"
    }
   },
   "outputs": [
    {
     "name": "stdout",
     "output_type": "stream",
     "text": [
      "Translating questions...\n",
      "Translating question 1/5\n",
      "Translating question 2/5\n",
      "Translating question 3/5\n",
      "Translating question 4/5\n",
      "Translating question 5/5\n",
      "Translating COT solutions...\n",
      "Translating solution 1/5\n",
      "Translating solution 2/5\n",
      "Translating solution 3/5\n",
      "Translating solution 4/5\n",
      "Translating solution 5/5\n",
      "Translating answers...\n",
      "Translating answer 1/5\n",
      "Translating answer 2/5\n",
      "Translating answer 3/5\n",
      "Translating answer 4/5\n",
      "Translating answer 5/5\n",
      "Translation complete!\n"
     ]
    }
   ],
   "source": [
    "# Translate all content\n",
    "print(\"Translating questions...\")\n",
    "questions = []\n",
    "for i, question in enumerate(questions):\n",
    "    print(f\"Translating question {i+1}/{len(questions)}\")\n",
    "    questions.append(translate_to_hebrew(question, \"math_problem\"))\n",
    "\n",
    "print(\"Translating COT solutions...\")\n",
    "hebrew_answers = []\n",
    "for i, cot in enumerate(cot_solutions):\n",
    "    print(f\"Translating solution {i+1}/{len(cot_solutions)}\")\n",
    "    hebrew_answers.append(translate_to_hebrew(cot, \"solution\"))\n",
    "\n",
    "print(\"Translating answers...\")\n",
    "translated_answers = []\n",
    "for i, answer in enumerate(expected_answers):\n",
    "    print(f\"Translating answer {i+1}/{len(expected_answers)}\")\n",
    "    translated_answers.append(translate_to_hebrew(answer))\n",
    "\n",
    "print(\"Translation complete!\")"
   ]
  },
  {
   "cell_type": "code",
   "execution_count": null,
   "id": "8be586a2d58b2b5b",
   "metadata": {
    "ExecuteTime": {
     "end_time": "2025-08-20T11:28:29.271483Z",
     "start_time": "2025-08-20T11:28:29.268307Z"
    }
   },
   "outputs": [],
   "source": [
    "def create_few_shot_prompt(translated_questions, translated_cot_solutions, translated_answers, new_english_question, new_english_solution):\n",
    "    \"\"\"Create a few-shot prompt using translated examples to generate Hebrew CoT\"\"\"\n",
    "\n",
    "    prompt = \"\"\"You are an expert mathematics tutor who provides detailed step-by-step solutions in fluent Hebrew. Your explanations should be comprehensive, clear, and educational.\n",
    "\n",
    "Here are examples of how to solve mathematical problems with detailed Hebrew explanations:\n",
    "\n",
    "\"\"\"\n",
    "\n",
    "    # Add few-shot examples (Hebrew question -> Hebrew CoT)\n",
    "    for i in range(len(translated_questions)):\n",
    "        prompt += f\"\"\"Example {i+1}:\n",
    "Question: {translated_questions[i]}\n",
    "\n",
    "Solution: {translated_cot_solutions[i]}\n",
    "\n",
    "Answer: {translated_answers[i]}\n",
    "\n",
    "---\n",
    "\n",
    "\"\"\"\n",
    "\n",
    "    # Add the new English question to solve\n",
    "    prompt += f\"\"\"Now solve this question with a detailed step-by-step explanation in Hebrew while I provide you with the solution:\n",
    "\n",
    "Question: {new_english_question}\n",
    "\n",
    "Solution: {new_english_solution}\n",
    "\n",
    "Please provide a comprehensive, fluent Hebrew explanation showing all steps. Make sure your explanation is:\n",
    "- Clear and easy to follow\n",
    "- Shows all mathematical steps\n",
    "- Uses proper Hebrew mathematical terminology\n",
    "- Informative and educational\n",
    "\n",
    "Answer:\"\"\"\n",
    "\n",
    "    return prompt"
   ]
  },
  {
   "cell_type": "code",
   "execution_count": 55,
   "id": "405c1283",
   "metadata": {},
   "outputs": [],
   "source": [
    "def translate_few_shot_prompt(questions, english_answers, hebrew_answers, new_english_question, new_english_answer):\n",
    "    \"\"\"Create a few-shot prompt using translated examples to generate Hebrew CoT\"\"\"\n",
    "\n",
    "    prompt = \"\"\"You are an expert mathematics tutor who provides detailed step-by-step solutions in fluent Hebrew by translating the answers from English. Your explanations should be comprehensive, clear, and educational.\n",
    "\n",
    "Here are examples of translations givem the English questions, English answers and their Hebrew translations of the answers:\n",
    "\n",
    "\"\"\"\n",
    "\n",
    "    # Add few-shot examples (Hebrew question -> Hebrew CoT)\n",
    "    for i in range(len(questions)):\n",
    "        prompt += f\"\"\"Example {i+1}:\n",
    "English Question: {questions[i]}\n",
    "\n",
    "English Answer: {english_answers[i]}\n",
    "\n",
    "Hebrew Answer: {hebrew_answers[i]}\n",
    "\n",
    "---\n",
    "\n",
    "\"\"\"\n",
    "\n",
    "    # Add the new English question to solve\n",
    "    prompt += f\"\"\"Now translate the answer to this question into Hebrew with a detailed step-by-step explanation in Hebrew.\n",
    "\n",
    "English Question: {new_english_question}\n",
    "\n",
    "English Answer: {new_english_answer}\n",
    "\n",
    "Please provide a comprehensive, fluent Hebrew explanation showing all steps. Make sure your explanation is:\n",
    "- Clear and easy to follow\n",
    "- Shows all mathematical steps\n",
    "- Uses proper Hebrew mathematical terminology\n",
    "- Informative and educational\n",
    "\n",
    "Hebrew Answer:\"\"\"\n",
    "\n",
    "    return prompt"
   ]
  },
  {
   "cell_type": "code",
   "execution_count": 17,
   "id": "78f0600705b47f8e",
   "metadata": {
    "ExecuteTime": {
     "end_time": "2025-08-20T11:29:28.719647Z",
     "start_time": "2025-08-20T11:29:28.712849Z"
    }
   },
   "outputs": [],
   "source": [
    "def generate_hebrew_cot_for_dataset(translated_questions, translated_cot_solutions, translated_answers,\n",
    "                                  num_questions=10, model=model):\n",
    "    \"\"\"\n",
    "    Generate Hebrew CoT for questions from the original dataset\n",
    "\n",
    "    Args:\n",
    "        translated_questions: List of Hebrew translated questions (few-shot examples)\n",
    "        translated_cot_solutions: List of Hebrew translated CoT solutions (few-shot examples)\n",
    "        translated_answers: List of Hebrew translated answers (few-shot examples)\n",
    "        num_questions: Number of questions to process from dataset\n",
    "        model: Gemini model instance\n",
    "\n",
    "    Returns:\n",
    "        pandas DataFrame with columns: question_english, generated_cot_hebrew, real_cot_english, real_answer_english\n",
    "    \"\"\"\n",
    "\n",
    "    # Load the dataset\n",
    "    ds = load_dataset(\"nvidia/OpenMathReasoning\", split=\"cot\", streaming=True)\n",
    "\n",
    "    results = []\n",
    "    count = 0\n",
    "\n",
    "    print(f\"Processing {num_questions} questions from the dataset...\")\n",
    "\n",
    "    for item in ds:\n",
    "        if count >= num_questions:\n",
    "            break\n",
    "\n",
    "        try:\n",
    "            # Extract data from dataset\n",
    "            english_question = item[\"problem\"]\n",
    "            real_english_cot = item[\"generated_solution\"]\n",
    "            real_english_answer = item[\"expected_answer\"]\n",
    "\n",
    "            print(f\"Processing question {count+1}/{num_questions}\")\n",
    "            print(f\"Question preview: {english_question[:100]}...\")\n",
    "\n",
    "            # Create few-shot prompt\n",
    "            prompt = create_few_shot_prompt(\n",
    "                translated_questions,\n",
    "                translated_cot_solutions,\n",
    "                translated_answers,\n",
    "                english_question, real_english_answer\n",
    "            )\n",
    "\n",
    "            # Generate Hebrew CoT\n",
    "            response = model.generate_content(prompt)\n",
    "            generated_hebrew_cot = response.text\n",
    "\n",
    "            # Add to results\n",
    "            result = {\n",
    "                'question_english': english_question,\n",
    "                'generated_cot_hebrew': generated_hebrew_cot,\n",
    "                'real_cot_english': real_english_cot,\n",
    "                'real_answer_english': real_english_answer\n",
    "            }\n",
    "\n",
    "            results.append(result)\n",
    "            print(f\"✓ Successfully generated Hebrew CoT for question {count+1}\")\n",
    "\n",
    "            # Rate limiting\n",
    "            time.sleep(1)  # Adjust as needed for API rate limits\n",
    "\n",
    "        except Exception as e:\n",
    "            print(f\"✗ Error processing question {count+1}: {e}\")\n",
    "            # Add error result to maintain count\n",
    "            result = {\n",
    "                'question_english': item.get(\"problem\", \"Error loading question\"),\n",
    "                'generated_cot_hebrew': f\"Error: {str(e)}\",\n",
    "                'real_cot_english': item.get(\"generated_solution\", \"Error loading CoT\"),\n",
    "                'real_answer_english': item.get(\"expected_answer\", \"Error loading answer\")\n",
    "            }\n",
    "            results.append(result)\n",
    "\n",
    "        count += 1\n",
    "\n",
    "    # Convert to DataFrame\n",
    "    df = pd.DataFrame(results)\n",
    "    return df"
   ]
  },
  {
   "cell_type": "code",
   "execution_count": null,
   "id": "a8e58755f39a9980",
   "metadata": {
    "ExecuteTime": {
     "end_time": "2025-08-20T11:32:11.747509Z",
     "start_time": "2025-08-20T11:30:21.427691Z"
    }
   },
   "outputs": [
    {
     "name": "stdout",
     "output_type": "stream",
     "text": [
      "Processing 10 questions from the dataset...\n",
      "Processing question 1/10\n",
      "Question preview: Given a group of \\( N \\) balls consisting of \\( C \\) colors, where the number of balls in each color...\n",
      "✓ Successfully generated Hebrew CoT for question 1\n",
      "Processing question 2/10\n",
      "Question preview: How many lines can be drawn that are equidistant from \\( n \\) given points in the plane?...\n",
      "✓ Successfully generated Hebrew CoT for question 2\n",
      "Processing question 3/10\n",
      "Question preview: Find all functions \\( f: \\mathbb{R} \\to \\mathbb{R} \\) such that\n",
      "\\[\n",
      "(f(x^2) + f(xy) + f(y^2))(x - y) ...\n",
      "✓ Successfully generated Hebrew CoT for question 3\n",
      "Processing question 4/10\n",
      "Question preview: Find the sum of the roots of the equation \\((x+6)^{1/3} + (x-2)^{1/2} = 2\\)....\n",
      "✓ Successfully generated Hebrew CoT for question 4\n",
      "Processing question 5/10\n",
      "Question preview: Determine how many 1000 digit numbers \\( A \\) have the property that when any digit of \\( A \\), asid...\n",
      "✓ Successfully generated Hebrew CoT for question 5\n",
      "Processing question 6/10\n",
      "Question preview: Calculate the integral\n",
      "\n",
      "\\[\n",
      "\\int^{\\frac{3\\pi}{2}}_{\\frac{\\pi}{2}} \\left|\\left(\\frac{2}{x^3}+\\frac{1}{...\n",
      "✓ Successfully generated Hebrew CoT for question 6\n",
      "Processing question 7/10\n",
      "Question preview: In $\\triangle ABC$ with incenter $I$, points $P$ and $Q$ are on side $BC$ such that $AP$ and $AQ$ ar...\n",
      "✓ Successfully generated Hebrew CoT for question 7\n",
      "Processing question 8/10\n",
      "Question preview: Let \\( x_0 = 1 \\), and \\( x_{n+1} = 2x_n + \\sqrt{3x_n^2 - 2} \\). Determine \\( x_{2016} \\)....\n",
      "✓ Successfully generated Hebrew CoT for question 8\n",
      "Processing question 9/10\n",
      "Question preview: Which is greater, $\\sqrt[2012]{2013!}$ or $\\sqrt[2013]{2012!}$?...\n",
      "✓ Successfully generated Hebrew CoT for question 9\n",
      "Processing question 10/10\n",
      "Question preview: On average, how long will you have to flip a coin to get the sequence $HTHT$?...\n",
      "✓ Successfully generated Hebrew CoT for question 10\n"
     ]
    }
   ],
   "source": [
    "df_results = generate_hebrew_cot_for_dataset(\n",
    "    translated_questions=questions,      # Your Hebrew translated questions\n",
    "    translated_cot_solutions=hebrew_answers,  # Your Hebrew translated CoT solutions\n",
    "    translated_answers=translated_answers,          # Your Hebrew translated answers\n",
    "    num_questions=10  # Start with 10, increase as needed\n",
    ")"
   ]
  },
  {
   "cell_type": "code",
   "execution_count": 7,
   "id": "41de77b7d56218a9",
   "metadata": {},
   "outputs": [],
   "source": [
    "import enum\n",
    "from src.call_models import call_gemini, all_string_gemini_config, google_connect\n",
    "from my_access_keys import google_access_key\n",
    "\n",
    "google_client = google_connect(google_access_key)\n",
    "\n",
    "class COT_VERSION(enum.Enum):\n",
    "  TRANSLATED = \"Translated\"\n",
    "  SYNTHESIZED = \"Synthesized\"\n",
    "\n",
    "\n",
    "def judge_cot_version(trans: str, synth: str):\n",
    "    content = f\"\"\"\n",
    "    You are a judge evaluating two answers to a question. The answers are in Hebrew, and you need to assess them based on the following criteria:\n",
    "    1. Correctness – Is the answer factually accurate? Make sure the following mathematical steps and calculations are correct.\n",
    "    2. Logic – Does the reasoning follow a clear and valid path?\n",
    "    3. Coherence – Is the answer internally consistent and well-structured?\n",
    "    4. Didactic quality – How well does the answer explain the concept to a reader?\n",
    "    5. Hebrew fluency – Is the answer written in fluent, natural Hebrew? Check for grammar, vocabulary, and overall readability.\n",
    "    \n",
    "    Here are the answers:\n",
    "    \n",
    "    <translated>\n",
    "    {trans}\n",
    "    </translated>\n",
    "    \n",
    "    <synthesized>\n",
    "    {synth}\n",
    "    </synthesized>\n",
    "    \n",
    "    Which answer is better overall?  \n",
    "    \"\"\"\n",
    "\n",
    "    try:\n",
    "        generate_content_config = all_string_gemini_config(['decision'], 'ALWAYS THINK IN HEBREW BEFORE ANSWERING!', think_bud=200, enum=COT_VERSION)\n",
    "        response = call_gemini(google_client, content, generate_content_config)\n",
    "        return response.text\n",
    "    except Exception as E:\n",
    "        return str(E)"
   ]
  },
  {
   "cell_type": "markdown",
   "id": "9fb1b556",
   "metadata": {},
   "source": [
    "# Translation"
   ]
  },
  {
   "cell_type": "markdown",
   "id": "ce5553ff",
   "metadata": {},
   "source": [
    "_Assuming we already applied the synthesization..._\n",
    "\n",
    "We will now iterate on the dataframe:\n",
    "- Adding a translation\n",
    "- Judging if the better solution is the synthesized or the translated one"
   ]
  },
  {
   "cell_type": "code",
   "execution_count": 56,
   "id": "f135cfbe",
   "metadata": {},
   "outputs": [
    {
     "name": "stdout",
     "output_type": "stream",
     "text": [
      "Translating row 1/9\n",
      "Translating row 3/9\n",
      "Translating row 4/9\n",
      "Translating row 5/9\n",
      "Translating row 6/9\n",
      "Translating row 7/9\n",
      "Translating row 8/9\n",
      "Translating row 9/9\n",
      "Translating row 10/9\n"
     ]
    },
    {
     "data": {
      "text/plain": [
       "['הנה פתרון מפורט ומסביר של השאלה, בשפה עברית זורמת ובשימוש בטרמינולוגיה מתמטית מדויקת:\\n\\n**שאלה:**  נתונה קבוצה של N כדורים המורכבת מ-C צבעים, כאשר מספר הכדורים בכל צבע מסומן כ- n₁, n₂, ..., nC (כאשר n₁ + n₂ + ... + nC = N). מהי ההסתברות שאם בוחרים באופן אקראי A כדורים (כאשר A ≤ N), הכדורים שנבחרו מורכבים מ- a₁, a₂, ..., aC כדורים מכל צבע, כאשר a₁ + a₂ + ... + aC = A?\\n\\n\\n**פתרון:**\\n\\nכדי לחשב את ההסתברות, נשתמש בהתפלגות היפר-גיאומטרית רב-משתנית. התפלגות זו מתארת את ההסתברות לבחור מספר מסוים של כדורים מכל צבע, כאשר הבחירה נעשית ללא החזרה.\\n\\n**שלב 1: מספר הדרכים לבחור A כדורים מתוך N כדורים:**\\n\\nמספר הדרכים לבחור A כדורים מתוך N כדורים הוא נתיב שילובים:\\n\\n```\\n(N מעל A) = N! / (A! * (N-A)!)\\n```\\n\\n**שלב 2: מספר התוצאות המועדפות:**\\n\\nמספר התוצאות המועדפות, בהן אנו בוחרים בדיוק a₁ כדורים בצבע 1, a₂ כדורים בצבע 2, ..., ו- aC כדורים בצבע C, הוא מכפלת שילובים עבור כל צבע:\\n\\n```\\n(n₁ מעל a₁) * (n₂ מעל a₂) * ... * (nC מעל aC)\\n```\\n\\nכאן, (nᵢ מעל aᵢ)  מייצג את מספר הדרכים לבחור aᵢ כדורים מתוך nᵢ כדורים בצבע i.\\n\\n**שלב 3: חישוב ההסתברות:**\\n\\nההסתברות P היא היחס בין מספר התוצאות המועדפות למספר הדרכים לבחור A כדורים מתוך N כדורים:\\n\\n```\\nP = [(n₁ מעל a₁) * (n₂ מעל a₂) * ... * (nC מעל aC)] / (N מעל A)\\n```\\n\\nניתן לרשום זאת בצורה קומפקטית יותר:\\n\\n```\\nP = (∏ᵢ₌₁ᶜ (nᵢ מעל aᵢ)) / (N מעל A)\\n```\\n\\nכאשר ∏ᵢ₌₁ᶜ מסמל מכפלה על כל הערכים מ-i=1 עד i=C.\\n\\n\\n**פתרון סופי:**\\n\\nההסתברות שבבחירה אקראית של A כדורים מתוך N כדורים, נקבל בדיוק a₁, a₂, ..., aC כדורים מכל צבע, ניתנת על ידי:\\n\\n```\\nP = [∏ᵢ₌₁ᶜ (nᵢ! / (aᵢ! * (nᵢ-aᵢ)!))] / [N! / (A! * (N-A)!)]\\n```\\n\\nאו בצורה מקוצרת:\\n\\n```\\nP =  (∏ᵢ₌₁ᶜ (nᵢ מעל aᵢ)) / (N מעל A)\\n```\\n\\n**הסבר נוסף:**\\n\\nהנוסחה הזו נובעת מהתפלגות היפר-גיאומטרית רב-משתנית.  המונה מייצג את מספר הדרכים לבחור את הכדורים בצבעים השונים באופן עצמאי, והמכנה מייצג את כלל מספר הדרכים לבחור A כדורים מתוך N.  חשוב לציין שתנאי הכרחי הוא ש- aᵢ ≤ nᵢ לכל i, אחרת ההסתברות תהיה אפס (כי לא ניתן לבחור יותר כדורים מאשר קיימים בצבע מסוים).\\n\\n\\nזהו פתרון מלא ומפורט, המסביר את כל השלבים בצורה ברורה ומדויקת.  הוא משתמש בטרמינולוגיה מתמטית עברית מדויקת ומספק הסבר אינטואיטיבי להבנת הנוסחה.\\n',\n",
       " 'פתרון משוואה פונקציונלית: מציאת כל הפונקציות  \\\\( f: \\\\mathbb{R} \\\\to \\\\mathbb{R} \\\\) המקיימות את המשוואה:\\n\\n\\\\[\\n(f(x^2) + f(xy) + f(y^2))(x - y) = f(x^3) - f(y^3)\\n\\\\]\\n\\nלכל \\\\( x, y \\\\in \\\\mathbb{R} \\\\).\\n\\n**שלב 1: הצבה של  \\\\( y = 0 \\\\)**\\n\\nנציב \\\\( y = 0 \\\\) במשוואה הנתונה:\\n\\n\\\\[\\n(f(x^2) + f(0) + f(0))(x - 0) = f(x^3) - f(0)\\n\\\\]\\n\\nפישוט המשוואה נותן:\\n\\n\\\\[\\n(f(x^2) + 2f(0))x = f(x^3) - f(0)\\n\\\\]\\n\\nסידור מחדש:\\n\\n\\\\[\\nf(x^3) = x f(x^2) + 2xf(0) + f(0) \\\\quad (*)\\n\\\\]\\n\\n**שלב 2: הצבה של \\\\( x = 0 \\\\)**\\n\\nנציב \\\\( x = 0 \\\\) במשוואה הנתונה:\\n\\n\\\\[\\n(f(0) + f(0) + f(y^2))(0 - y) = f(0) - f(y^3)\\n\\\\]\\n\\nפישוט המשוואה נותן:\\n\\n\\\\[\\n-y(2f(0) + f(y^2)) = f(0) - f(y^3)\\n\\\\]\\n\\nסידור מחדש:\\n\\n\\\\[\\nf(y^3) = y(2f(0) + f(y^2)) + f(0) \\\\quad (**)\\n\\\\]\\n\\n\\n**שלב 3: הנחה שהפונקציה היא פולינום**\\n\\nנניח ש- \\\\( f(x) \\\\) היא פונקציה לינארית מהצורה \\\\( f(x) = ax + b \\\\). נציב זאת במשוואה המקורית:\\n\\n* **אגף שמאל:**\\n   \\\\[\\n   (ax^2 + b + axy + b + ay^2 + b)(x - y) = (a(x^2 + xy + y^2) + 3b)(x - y)\\n   \\\\]\\n* **אגף ימין:**\\n   \\\\[\\n   ax^3 + b - (ay^3 + b) = a(x^3 - y^3)\\n   \\\\]\\n\\nשוויון שני האגפים:\\n\\n\\\\[\\n(a(x^2 + xy + y^2) + 3b)(x - y) = a(x^3 - y^3)\\n\\\\]\\n\\nמאחר ש- \\\\( x^3 - y^3 = (x - y)(x^2 + xy + y^2) \\\\), נקבל:\\n\\n\\\\[\\n(a(x^2 + xy + y^2) + 3b)(x - y) = a(x - y)(x^2 + xy + y^2)\\n\\\\]\\n\\nפישוט המשוואה מביא ל:\\n\\n\\\\[\\n3b(x - y) = 0\\n\\\\]\\n\\nמכאן נובע ש- \\\\( b = 0 \\\\). לכן, \\\\( f(x) = ax \\\\).\\n\\n\\n**שלב 4: אימות הפתרון \\\\( f(x) = ax \\\\)**\\n\\nנציב \\\\( f(x) = ax \\\\) במשוואה המקורית:\\n\\n* **אגף שמאל:**\\n   \\\\[\\n   (ax^2 + axy + ay^2)(x - y) = a(x^2 + xy + y^2)(x - y)\\n   \\\\]\\n* **אגף ימין:**\\n   \\\\[\\n   ax^3 - ay^3 = a(x^3 - y^3)\\n   \\\\]\\n\\nמאחר ש- \\\\( x^3 - y^3 = (x - y)(x^2 + xy + y^2) \\\\), שני האגפים שווים. זה מאשר ש- \\\\( f(x) = ax \\\\) מקיימת את משוואת הפונקציות.\\n\\n**מסקנה:**\\n\\nפתרונות משוואת הפונקציות הן כל הפונקציות הלינאריות מהצורה:\\n\\n\\\\[\\n\\\\boxed{f(x) = kx}\\n\\\\]\\n\\nכאשר \\\\( k \\\\) הוא קבוע ממשי.\\n',\n",
       " '## פתרון מפורט בשפה עברית: מציאת סכום השורשים של המשוואה  \\\\( (x+6)^{1/3} + (x-2)^{1/2} = 2 \\\\)\\n\\nהשאלה מבקשת למצוא את סכום השורשים של המשוואה \\\\( (x+6)^{1/3} + (x-2)^{1/2} = 2 \\\\).  ראשית, עלינו לבחון את תחום ההגדרה של המשוואה.  מכיוון שיש לנו שורש ריבועי,  \\\\( (x-2)^{1/2} \\\\),  הביטוי מוגדר רק עבור ערכים של  \\\\(x\\\\)  כאשר  \\\\(x-2 \\\\geq 0\\\\), כלומר \\\\(x \\\\geq 2\\\\).  השורש הקובי, \\\\( (x+6)^{1/3} \\\\), מוגדר לכל  \\\\(x\\\\)  בממשיים. לכן, תחום ההגדרה של המשוואה הוא \\\\(x \\\\geq 2\\\\).\\n\\nכעת, ננסה לפתור את המשוואה. נוכל להציב \\\\(a = (x+6)^{1/3}\\\\)  ו- \\\\(b = (x-2)^{1/2}\\\\). המשוואה הופכת ל:\\n\\n\\\\(a + b = 2\\\\)\\n\\nנעביר ביטוי עבור  \\\\(x\\\\)  באמצעות  \\\\(a\\\\)  ו- \\\\(b\\\\):\\n\\nמ- \\\\(a = (x+6)^{1/3}\\\\)  נקבל  \\\\(a^3 = x + 6\\\\), ולכן \\\\(x = a^3 - 6\\\\).\\n\\nמ- \\\\(b = (x-2)^{1/2}\\\\)  נקבל \\\\(b^2 = x - 2\\\\), ולכן \\\\(x = b^2 + 2\\\\).\\n\\nנחבר את שני הביטויים עבור  \\\\(x\\\\):\\n\\n\\\\(a^3 - 6 = b^2 + 2\\\\)\\n\\n\\\\(a^3 - b^2 = 8\\\\)\\n\\nכעת יש לנו מערכת משוואות:\\n\\n1. \\\\(a + b = 2\\\\)\\n2. \\\\(a^3 - b^2 = 8\\\\)\\n\\nנציב \\\\(b = 2 - a\\\\) במשוואה השנייה:\\n\\n\\\\(a^3 - (2 - a)^2 = 8\\\\)\\n\\nנפשט:\\n\\n\\\\(a^3 - (4 - 4a + a^2) = 8\\\\)\\n\\n\\\\(a^3 - a^2 + 4a - 12 = 0\\\\)\\n\\nקיבלנו משוואה מעוקבת ב- \\\\(a\\\\).  נשתמש במשפט השורש הרציונלי כדי למצוא שורשים רציונליים אפשריים.  השורשים האפשריים הם  ±1, ±2, ±3, ±4, ±6, ±12.\\n\\nנסיון עם  \\\\(a = 2\\\\):\\n\\n\\\\(2^3 - 2^2 + 4(2) - 12 = 8 - 4 + 8 - 12 = 0\\\\)\\n\\nלכן, \\\\(a = 2\\\\) הוא שורש.  נוכל לפקטור את המשוואה המעוקבת:\\n\\n\\\\((a - 2)(a^2 + a + 6) = 0\\\\)\\n\\nהמשוואה הריבועית \\\\(a^2 + a + 6 = 0\\\\)  אין לה שורשים ממשיים (הדיסקרימיננטה שלילית: \\\\(1 - 4(6) = -23\\\\)).  לכן, השורש הממשי היחיד הוא \\\\(a = 2\\\\).\\n\\nנציב \\\\(a = 2\\\\)  בביטוי עבור  \\\\(x\\\\):\\n\\n\\\\(x = a^3 - 6 = 2^3 - 6 = 2\\\\)\\n\\nאו:\\n\\n\\\\(x = b^2 + 2 = 0^2 + 2 = 2\\\\)\\n\\nלכן, \\\\(x = 2\\\\) הוא השורש היחיד של המשוואה.  בדיקה פשוטה של פונקציית \\\\(f(x) = (x+6)^{1/3} + (x-2)^{1/2}\\\\) מראה שמדובר בפונקציה עולה עבור \\\\(x \\\\geq 2\\\\), ולכן יש רק שורש אחד.\\n\\nלכן, סכום השורשים הוא 2.\\n\\n**תשובה סופית:**\\n\\n\\\\(\\\\boxed{2}\\\\)\\n',\n",
       " 'נתחיל בפירוט שלם וברור של הבעיה, ונעבור שלב אחר שלב לפתרון.  המטרה שלנו היא למצוא כמה מספרים בני 1000 ספרות,  A,  בעלי התכונה שכאשר אנו מוחקים כל ספרה מ-A (למעט הספרה הראשונה),  המספר שמתקבל, B (בנוי מ-999 ספרות),  מחלק את A.\\n\\n**שלב 1:  הספרה האחרונה חייבת להיות אפס**\\n\\nנבחן תחילה את המצב בו אנו מוחקים את הספרה האחרונה (הספרה ה-1000).  המספר שמתקבל, B, חייב לחלק את A.  A מורכב מ-B ועוד ספרה אחת (הספרה ה-1000).  לכן,  A = 10B + D_{1000}, כאשר D_{1000}  היא הספרה ה-1000.  אם B מחלק את A, אז B חייב לחלק גם את D_{1000}. מאחר ש-B הוא מספר בן 999 ספרות (ולכן גדול מ-9), ו-D_{1000} היא ספרה בודדת (בין 0 ל-9),  היחיד אפשרות היא ש-D_{1000} = 0.  לכן, הספרה האחרונה של A חייבת להיות 0.\\n\\n**שלב 2:  הוכחה באינדוקציה עבור הספרות האחרות**\\n\\nנמשיך באותו רעיון.  אם נמחק כל ספרה אחרת מלבד הראשונה, המספר שיתקבל, B, חייב לחלק את A.  אם נמחק ספרה כלשהי ממקומות 2 עד 999,  נקבל מספר B  שמחלק את A.  אם הספרה שנמחקה אינה אפס,  המספר B קטן מ A.  אבל B חייב לחלק את A, כלומר A חייב להיות כפולה של B.  כדי להבטיח זאת, כל הספרות ממקום 2 ועד 999 חייבות להיות אפס. הסיבה לכך היא שבמוחק ספרה אפס, המספר B פשוט יהיה קטן פי 10 מ-A  ובכך מבטיח את החילוק.\\n\\n**שלב 3: אילוץ על הספרה השנייה**\\n\\nהספרה השנייה (D_2) חייבת להיות כפולה שלמה של הספרה הראשונה (D_1).  זאת מכיוון שאם נמחק את הספרה השנייה, המספר B שמתקבל חייב לחלק את A.\\n\\n**שלב 4: מבנה המספרים התקפים**\\n\\nלפי הניתוח שלנו, המספר A חייב להיות מהצורה  D_1 D_2 00...0,  כאשר:\\n\\n* D_1 היא ספרה לא אפס (בין 1 ל-9).\\n* D_2 היא ספרה (בין 0 ל-9) שהיא כפולה שלמה של D_1.\\n* כל הספרות האחרות (מהספרה השלישית ועד ה-1000) הן אפסים.\\n\\n**שלב 5: ספירת המספרים התקפים**\\n\\nעבור כל ערך של D_1 (מ-1 עד 9),  נמנה כמה ערכים אפשריים עבור D_2:\\n\\n* D_1 = 1: D_2 יכולה להיות 0, 1, 2, 3, 4, 5, 6, 7, 8, 9 (10 אפשרויות).\\n* D_1 = 2: D_2 יכולה להיות 0, 2, 4, 6, 8 (5 אפשרויות).\\n* D_1 = 3: D_2 יכולה להיות 0, 3, 6, 9 (4 אפשרויות).\\n* D_1 = 4: D_2 יכולה להיות 0, 4, 8 (3 אפשרויות).\\n* D_1 = 5: D_2 יכולה להיות 0, 5 (2 אפשרויות).\\n* D_1 = 6: D_2 יכולה להיות 0, 6 (2 אפשרויות).\\n* D_1 = 7: D_2 יכולה להיות 0, 7 (2 אפשרויות).\\n* D_1 = 8: D_2 יכולה להיות 0, 8 (2 אפשרויות).\\n* D_1 = 9: D_2 יכולה להיות 0, 9 (2 אפשרויות).\\n\\nסכום האפשרויות הוא: 10 + 5 + 4 + 3 + 2 + 2 + 2 + 2 + 2 = 32\\n\\n**שלב 6: מסקנה**\\n\\nלכן, מספר המספרים בני 1000 ספרות A  המקיימים את התנאי הוא 32.\\n\\n**תשובה סופית:**\\n\\nהן 32 מספרים בני אלף ספרות העונים על התנאי.  תשובה סופית:  \\\\(\\\\boxed{32}\\\\)\\n',\n",
       " 'התשובה בשפה העברית, עם הסבר מפורט שלב אחר שלב:\\n\\n\\n**שאלה:** חשבו את האינטגרל:\\n\\n\\\\[\\n\\\\int_{\\\\frac{\\\\pi}{2}}^{\\\\frac{3\\\\pi}{2}} \\\\left|\\\\left(\\\\frac{2}{x^3} + \\\\frac{1}{x}\\\\right) \\\\sin x \\\\right| dx\\n\\\\]\\n\\n**פתרון:**\\n\\nראשית, ננתח את האינטגרנד  \\\\(\\\\left(\\\\frac{2}{x^3} + \\\\frac{1}{x}\\\\right) \\\\sin x\\\\).  הביטוי \\\\(\\\\frac{2}{x^3} + \\\\frac{1}{x}\\\\) חיובי עבור \\\\(x > 0\\\\).  פונקציית הסינוס, \\\\(\\\\sin x\\\\), חיובית בקטע \\\\((\\\\frac{\\\\pi}{2}, \\\\pi)\\\\) ושלילית בקטע \\\\((\\\\pi, \\\\frac{3\\\\pi}{2})\\\\). לכן, ערך מוחלט  מחלק את האינטגרל לשני חלקים:\\n\\n\\\\[\\n\\\\int_{\\\\frac{\\\\pi}{2}}^{\\\\pi} \\\\left(\\\\frac{2}{x^3} + \\\\frac{1}{x}\\\\right) \\\\sin x \\\\, dx + \\\\int_{\\\\pi}^{\\\\frac{3\\\\pi}{2}} -\\\\left(\\\\frac{2}{x^3} + \\\\frac{1}{x}\\\\right) \\\\sin x \\\\, dx.\\n\\\\]\\n\\nעלינו למצוא את הפונקציה הקדומה (הנגזרת ההפוכה) של \\\\(\\\\left(\\\\frac{2}{x^3} + \\\\frac{1}{x}\\\\right) \\\\sin x\\\\).  באמצעות אינטגרציה בחלקים (אינטגרציה לפי חלקים), נגלה שהפונקציה הקדומה היא:\\n\\n\\\\[\\n-\\\\frac{\\\\sin x}{x^2} - \\\\frac{\\\\cos x}{x}.\\n\\\\]\\n\\nכעת נחשב את שני האינטגרלים בנפרד.\\n\\n**האינטגרל הראשון:** מ- \\\\(\\\\frac{\\\\pi}{2}\\\\) ל- \\\\(\\\\pi\\\\):\\n\\n\\\\[\\n\\\\left[ -\\\\frac{\\\\sin x}{x^2} - \\\\frac{\\\\cos x}{x} \\\\right]_{\\\\frac{\\\\pi}{2}}^{\\\\pi}\\n\\\\]\\n\\nהערכה בקצוות הקטע:\\n\\n* ב-\\\\(x = \\\\pi\\\\): \\\\(-\\\\frac{\\\\sin \\\\pi}{\\\\pi^2} - \\\\frac{\\\\cos \\\\pi}{\\\\pi} = -\\\\frac{0}{\\\\pi^2} - \\\\frac{-1}{\\\\pi} = \\\\frac{1}{\\\\pi}\\\\).\\n* ב-\\\\(x = \\\\frac{\\\\pi}{2}\\\\): \\\\(-\\\\frac{\\\\sin \\\\frac{\\\\pi}{2}}{\\\\left(\\\\frac{\\\\pi}{2}\\\\right)^2} - \\\\frac{\\\\cos \\\\frac{\\\\pi}{2}}{\\\\frac{\\\\pi}{2}} = -\\\\frac{1}{\\\\left(\\\\frac{\\\\pi^2}{4}\\\\right)} - \\\\frac{0}{\\\\frac{\\\\pi}{2}} = -\\\\frac{4}{\\\\pi^2}\\\\).\\n\\nלכן, האינטגרל הראשון שווה ל:\\n\\n\\\\[\\n\\\\frac{1}{\\\\pi} - \\\\left(-\\\\frac{4}{\\\\pi^2}\\\\right) = \\\\frac{1}{\\\\pi} + \\\\frac{4}{\\\\pi^2}.\\n\\\\]\\n\\n**האינטגרל השני:** מ- \\\\(\\\\pi\\\\) ל- \\\\(\\\\frac{3\\\\pi}{2}\\\\):\\n\\n\\\\[\\n\\\\left[ \\\\frac{\\\\sin x}{x^2} + \\\\frac{\\\\cos x}{x} \\\\right]_{\\\\pi}^{\\\\frac{3\\\\pi}{2}}\\n\\\\]\\n\\nהערכה בקצוות הקטע:\\n\\n* ב-\\\\(x = \\\\frac{3\\\\pi}{2}\\\\): \\\\(\\\\frac{\\\\sin \\\\frac{3\\\\pi}{2}}{\\\\left(\\\\frac{3\\\\pi}{2}\\\\right)^2} + \\\\frac{\\\\cos \\\\frac{3\\\\pi}{2}}{\\\\frac{3\\\\pi}{2}} = \\\\frac{-1}{\\\\frac{9\\\\pi^2}{4}} + \\\\frac{0}{\\\\frac{3\\\\pi}{2}} = -\\\\frac{4}{9\\\\pi^2}\\\\).\\n* ב-\\\\(x = \\\\pi\\\\): \\\\(\\\\frac{\\\\sin \\\\pi}{\\\\pi^2} + \\\\frac{\\\\cos \\\\pi}{\\\\pi} = \\\\frac{0}{\\\\pi^2} + \\\\frac{-1}{\\\\pi} = -\\\\frac{1}{\\\\pi}\\\\).\\n\\nלכן, האינטגרל השני שווה ל:\\n\\n\\\\[\\n-\\\\frac{4}{9\\\\pi^2} - \\\\left(-\\\\frac{1}{\\\\pi}\\\\right) = -\\\\frac{4}{9\\\\pi^2} + \\\\frac{1}{\\\\pi}.\\n\\\\]\\n\\nסכום שני החלקים הוא:\\n\\n\\\\[\\n\\\\left(\\\\frac{1}{\\\\pi} + \\\\frac{4}{\\\\pi^2}\\\\right) + \\\\left(\\\\frac{1}{\\\\pi} - \\\\frac{4}{9\\\\pi^2}\\\\right) = \\\\frac{2}{\\\\pi} + \\\\frac{36 - 4}{9\\\\pi^2} = \\\\frac{2}{\\\\pi} + \\\\frac{32}{9\\\\pi^2}.\\n\\\\]\\n\\nלכן, התשובה הסופית היא:\\n\\n\\\\[\\n\\\\boxed{\\\\frac{2}{\\\\pi} + \\\\frac{32}{9\\\\pi^2}}\\n\\\\]\\n\\n\\nההסבר הזה כולל את כל השלבים המתמטיים,  משתמש במינוח מתמטי עברי מדויק, ומסביר בצורה ברורה ופשוטה את כל תהליך הפתרון.  הדגש הוא על הבהירות וההבנה, כדי שהתלמיד יוכל ללמוד מהפתרון ולהבין את העקרונות המתמטיים העומדים מאחוריו.\\n',\n",
       " \"פתרון מפורט בשלבים לבעיית הגיאומטריה:\\n\\nהשאלה עוסקת במשולש \\\\(ABC\\\\) עם מרכז המעגל החסום \\\\(I\\\\), נקודות \\\\(P\\\\) ו-\\\\(Q\\\\) על צלע \\\\(BC\\\\) כך ש-\\\\(AP\\\\) ו-\\\\(AQ\\\\) הן צלעות איזוגונליות ביחס ל-\\\\(\\\\angle BAC\\\\). משיקי המעגלים \\\\(ABP\\\\) ב-\\\\(B\\\\) ו-\\\\(ACQ\\\\) ב-\\\\(C\\\\) נחתכים ב-\\\\(D\\\\). \\\\(E = AP \\\\cap IB\\\\) ו-\\\\(F = AQ \\\\cap IC\\\\).  יש למצוא את היחס \\\\(\\\\frac{EG}{GF}\\\\) כאשר \\\\(G = DI \\\\cap EF\\\\).\\n\\n**שלב 1: צלעות איזוגונליות וסִימטְרִיָה:**\\n\\nנתון ש-\\\\(AP\\\\) ו-\\\\(AQ\\\\) הן צלעות איזוגונליות ביחס ל-\\\\(\\\\angle BAC\\\\).  משמעות הדבר היא שהן סימטריות ביחס לחוצה הזווית \\\\(AI\\\\).  אם נשקף את \\\\(AP\\\\) ביחס ל-\\\\(AI\\\\), נקבל את \\\\(AQ\\\\), ולהיפך.\\n\\n**שלב 2: מערכת צירים:**\\n\\nנבחר מערכת צירים נוחה. נמקם את \\\\(A\\\\) ב-\\\\((0,0)\\\\), \\\\(B\\\\) ב-\\\\((1,0)\\\\), ו-\\\\(C\\\\) ב-\\\\((0,1)\\\\).  מרכז המעגל החסום \\\\(I\\\\) יהיה ב-\\\\((r,r)\\\\), כאשר \\\\(r = \\\\frac{2 - \\\\sqrt{2}}{2}\\\\) הוא רדיוס המעגל החסום במשולש ישר-זווית זה.\\n\\n**שלב 3: משיקים ונקודת חיתוך \\\\(D\\\\):**\\n\\nהמשיק ב-\\\\(B\\\\) למעגל \\\\(ABP\\\\) והמשיק ב-\\\\(C\\\\) למעגל \\\\(ACQ\\\\) נחתכים ב-\\\\(D\\\\).  חישובים מראים ש-\\\\(D\\\\) נמצאת על חוצה הזווית \\\\(y=x\\\\).\\n\\n**שלב 4: נקודות חיתוך \\\\(E\\\\) ו-\\\\(F\\\\):**\\n\\n\\\\(E\\\\) היא נקודת החיתוך של \\\\(AP\\\\) ו-\\\\(IB\\\\), ו-\\\\(F\\\\) היא נקודת החיתוך של \\\\(AQ\\\\) ו-\\\\(IC\\\\). באמצעות משוואות פרמטריות, ניתן למצוא את קואורדינטות \\\\(E\\\\) ו-\\\\(F\\\\):\\n\\n- עבור \\\\(E\\\\), פתרון חיתוך \\\\(AP\\\\) ו-\\\\(IB\\\\) נותן: \\\\(E = \\\\left( \\\\frac{r}{2 - r}, \\\\frac{2r}{2 - r} \\\\right)\\\\)\\n- עבור \\\\(F\\\\), פתרון חיתוך \\\\(AQ\\\\) ו-\\\\(IC\\\\) נותן: \\\\(F = \\\\left( \\\\frac{2r}{2 - r}, \\\\frac{r}{2 - r} \\\\right)\\\\)\\n\\n**שלב 5: ישר \\\\(EF\\\\) ונקודת חיתוך \\\\(G\\\\):**\\n\\nלישר \\\\(EF\\\\) יש שיפוע של \\\\(-1\\\\), ומשוואתו היא: \\\\(y = -x + \\\\frac{3r}{2 - r}\\\\).  הישר \\\\(DI\\\\) הוא חוצה הזווית \\\\(y = x\\\\). נקודת החיתוך \\\\(G\\\\) של \\\\(EF\\\\) ו-\\\\(DI\\\\) היא: \\\\(G = \\\\left( \\\\frac{3r}{2(2 - r)}, \\\\frac{3r}{2(2 - r)} \\\\right)\\\\)\\n\\n**שלב 6: היחס \\\\(\\\\frac{EG}{GF}\\\\):**\\n\\nנחשב את המרחקים \\\\(EG\\\\) ו-\\\\(GF\\\\):\\n\\n\\\\(EG = GF = \\\\frac{r\\\\sqrt{2}}{2(2 - r)}\\\\)\\n\\nלכן, היחס \\\\(\\\\frac{EG}{GF}\\\\) הוא:\\n\\n\\\\(\\\\frac{EG}{GF} = 1\\\\)\\n\\nלסיכום, היחס \\\\(\\\\frac{EG}{GF}\\\\) הוא \\\\(\\\\boxed{1}\\\\).\\n\\n\\nThis Hebrew answer provides a step-by-step solution mirroring the English solution's structure and logic.  It uses accurate mathematical terminology in Hebrew and aims for clarity and comprehensiveness.  Note that some of the algebraic manipulations involved in finding the coordinates of E, F, and G are quite lengthy and are omitted for brevity, but the overall approach and final result are accurately represented.  A fully detailed algebraic solution in Hebrew would be significantly longer.\\n\",\n",
       " 'התשובה לשאלה זו דורשת הבנה של סדרות רקורסיביות ופתרון משוואות רקורסיה.  ננתח את הבעיה שלב אחר שלב:\\n\\n**1. חישוב האיברים הראשונים בסדרה:**\\n\\nהשאלה מגדירה סדרה רקורסיבית:  \\\\(x_0 = 1\\\\)  ו- \\\\(x_{n+1} = 2x_n + \\\\sqrt{3x_n^2 - 2}\\\\).  נמצא את האיברים הראשונים של הסדרה כדי לחפש דפוס:\\n\\n* \\\\(x_0 = 1\\\\)\\n* \\\\(x_1 = 2(1) + \\\\sqrt{3(1)^2 - 2} = 2 + 1 = 3\\\\)\\n* \\\\(x_2 = 2(3) + \\\\sqrt{3(3)^2 - 2} = 6 + 5 = 11\\\\)\\n* \\\\(x_3 = 2(11) + \\\\sqrt{3(11)^2 - 2} = 22 + 19 = 41\\\\)\\n* \\\\(x_4 = 2(41) + \\\\sqrt{3(41)^2 - 2} = 82 + 71 = 153\\\\)\\n\\n**2. זיהוי משוואת רקורסיה לינארית:**\\n\\nנראה שהסדרה אינה גיאומטרית או אריתמטית פשוטה.  אולם, נבדוק אם ניתן לבטא את הסדרה באמצעות משוואת רקורסיה לינארית הומוגנית מסדר שני.  נניח פתרון בצורה \\\\(x_n = A(2 + \\\\sqrt{3})^n + B(2 - \\\\sqrt{3})^n\\\\), כאשר A ו-B הם קבועים.\\n\\n**3. מציאת המשוואה האופיינית:**\\n\\nמהמשוואה הרקורסיבית ניתן להסיק את המשוואה האופיינית:\\n\\n\\\\(r^2 - 4r + 1 = 0\\\\)\\n\\nפתרון המשוואה הריבועית נותן את השורשים:\\n\\n\\\\(r = 2 \\\\pm \\\\sqrt{3}\\\\)\\n\\n**4. מציאת הקבועים A ו-B:**\\n\\nנעזר בתנאי ההתחלה \\\\(x_0 = 1\\\\) ו-\\\\(x_1 = 3\\\\) כדי למצוא את ערכי הקבועים A ו-B:\\n\\n* \\\\(x_0 = A(2 + \\\\sqrt{3})^0 + B(2 - \\\\sqrt{3})^0 = A + B = 1\\\\)\\n* \\\\(x_1 = A(2 + \\\\sqrt{3})^1 + B(2 - \\\\sqrt{3})^1 = A(2 + \\\\sqrt{3}) + B(2 - \\\\sqrt{3}) = 3\\\\)\\n\\nפתרון מערכת המשוואות הזו נותן:\\n\\n\\\\(A = \\\\frac{3 + \\\\sqrt{3}}{6}\\\\)  ו- \\\\(B = \\\\frac{3 - \\\\sqrt{3}}{6}\\\\)\\n\\n**5. הנוסחה הסגורה:**\\n\\nלכן, הנוסחה הסגורה עבור \\\\(x_n\\\\) היא:\\n\\n\\\\(x_n = \\\\frac{(3 + \\\\sqrt{3})(2 + \\\\sqrt{3})^n + (3 - \\\\sqrt{3})(2 - \\\\sqrt{3})^n}{6}\\\\)\\n\\n**6. חישוב \\\\(x_{2016}\\\\):**\\n\\nכדי למצוא את \\\\(x_{2016}\\\\), נציב n=2016 בנוסחה הסגורה:\\n\\n\\\\(x_{2016} = \\\\frac{(3 + \\\\sqrt{3})(2 + \\\\sqrt{3})^{2016} + (3 - \\\\sqrt{3})(2 - \\\\sqrt{3})^{2016}}{6}\\\\)\\n\\n\\n**7. סיכום:**\\n\\nלכן, התשובה הסופית היא:\\n\\n\\\\(x_{2016} = \\\\frac{(3 + \\\\sqrt{3})(2 + \\\\sqrt{3})^{2016} + (3 - \\\\sqrt{3})(2 - \\\\sqrt{3})^{2016}}{6}\\\\)\\n\\nהביטוי הזה, למרות שהוא נראה מורכב, הוא התשובה המדויקת.  שים לב שערכו של  \\\\((2 - \\\\sqrt{3})^{2016}\\\\)  קטן מאוד, ולכן ניתן להזניחו לחישובים מעשיים, אך עבור תשובה מדויקת יש לכלול אותו.  ההוכחה להגעה לנוסחה הסגורה כוללת שימוש במשוואה אופיינית, פתרון מערכת משוואות ושימוש בתנאי ההתחלה.\\n',\n",
       " '## פתרון מפורט בשפה העברית: איזה גדול יותר,  \\\\(\\\\sqrt[2012]{2013!}\\\\) או \\\\(\\\\sqrt[2013]{2012!}\\\\)?\\n\\nהשאלה דורשת השוואה בין שני ביטויים מורכבים.  נעשה זאת בצורה יעילה תוך שימוש באלגוריתמים מתמטיים.\\n\\n**שלב 1: הגדרת המשתנים**\\n\\nנכנה:\\n\\n\\\\( A = \\\\sqrt[2012]{2013!} = (2013!)^{1/2012} \\\\)\\n\\n\\\\( B = \\\\sqrt[2013]{2012!} = (2012!)^{1/2013} \\\\)\\n\\nמטרתנו היא לקבוע האם A > B או B > A.\\n\\n**שלב 2: שימוש באלגוריתם לוגריתמי**\\n\\nכדי להקל על ההשוואה, נשתמש בפונקציית הלוגריתם הטבעי (ln).  לוגריתם הוא פונקציה מונוטונית עולה, כלומר, אם \\\\(x > y\\\\), אז גם \\\\(\\\\ln(x) > \\\\ln(y)\\\\). לכן, נוכל להשוות את הלוגריתמים של A ו-B במקום את A ו-B עצמם.\\n\\nנמצא את הלוגריתם הטבעי של A ושל B:\\n\\n\\\\(\\\\ln(A) = \\\\ln((2013!)^{1/2012}) = \\\\frac{1}{2012} \\\\ln(2013!)\\\\)\\n\\n\\\\(\\\\ln(B) = \\\\ln((2012!)^{1/2013}) = \\\\frac{1}{2013} \\\\ln(2012!)\\\\)\\n\\n**שלב 3: פישוט הביטויים**\\n\\nכעת עלינו להשוות בין \\\\(\\\\frac{1}{2012} \\\\ln(2013!)\\\\) לבין \\\\(\\\\frac{1}{2013} \\\\ln(2012!)\\\\).  כדי להיפטר מהמכנים, נכפיל את שני הביטויים ב- \\\\(2012 \\\\times 2013\\\\):\\n\\n\\\\(2013 \\\\ln(2013!) \\\\)  לעומת  \\\\(2012 \\\\ln(2012!)\\\\)\\n\\n**שלב 4: שימוש בקשר בין פקטוריאלים עוקבים**\\n\\nנזכור ש- \\\\(2013! = 2013 \\\\times 2012!\\\\).  לכן,  \\\\(\\\\ln(2013!) = \\\\ln(2013) + \\\\ln(2012!)\\\\).  נציב זאת באי-שוויון:\\n\\n\\\\(2013(\\\\ln(2013) + \\\\ln(2012!)) \\\\) לעומת \\\\(2012 \\\\ln(2012!)\\\\)\\n\\nנפשט:\\n\\n\\\\(2013 \\\\ln(2013) + 2013 \\\\ln(2012!) \\\\) לעומת \\\\(2012 \\\\ln(2012!)\\\\)\\n\\nנגרע  \\\\(2012 \\\\ln(2012!)\\\\) משני צידי אי-השוויון:\\n\\n\\\\(2013 \\\\ln(2013) + (2013 - 2012) \\\\ln(2012!) \\\\) לעומת 0\\n\\n\\\\(2013 \\\\ln(2013) + \\\\ln(2012!) \\\\) לעומת 0\\n\\n**שלב 5: מסקנה סופית**\\n\\nמכיוון ש- \\\\(\\\\ln(2013)\\\\) ו- \\\\(\\\\ln(2012!)\\\\) הם מספרים חיוביים, סכום שני האיברים בצד שמאל של אי-השוויון גדול בהחלט מ-0.  לכן:\\n\\n\\\\(2013 \\\\ln(2013!) > 2012 \\\\ln(2012!)\\\\)\\n\\nמכאן נובע ש:\\n\\n\\\\(\\\\frac{1}{2012} \\\\ln(2013!) > \\\\frac{1}{2013} \\\\ln(2012!)\\\\)\\n\\nכלומר, \\\\(\\\\ln(A) > \\\\ln(B)\\\\).  מכיוון שפונקציית הלוגריתם הטבעי היא פונקציה מונוטונית עולה, מסקנה זו גוררת ש- \\\\(A > B\\\\).\\n\\nלסיכום:\\n\\n\\\\(\\\\sqrt[2012]{2013!} > \\\\sqrt[2013]{2012!}\\\\)\\n\\nהתשובה הסופית היא \\\\(\\\\boxed{\\\\sqrt[2012]{2013!}}\\\\)\\n\\n\\nThis Hebrew translation provides a step-by-step solution, explaining each mathematical operation and its justification in clear, fluent Hebrew, using appropriate mathematical terminology.  It also emphasizes the logic behind each step, making it educational and easy to follow for a student.\\n',\n",
       " '```hebrew\\nכדי לקבוע את מספר הציפיות הממוצע של הטלות מטבע הדרושות לקבלת הרצף HTHT, נשתמש בגישה מבוססת מצבים, כאשר כל מצב מייצג את ההתקדמות לעבר השגת הרצף היעד. המצבים מוגדרים כדלקמן:\\n\\n- S₀: ללא התקדמות או מצב התחלה.\\n- S₁: ההטלה האחרונה היא H.\\n- S₂: שתי ההטלות האחרונות הן HT.\\n- S₃: שלוש ההטלות האחרונות הן HTH.\\n- S₄: ארבע ההטלות האחרונות הן HTHT (מצב סופני).\\n\\n\\nנסמן ב- Eᵢ את מספר הציפיות של מספר ההטלות ממצב Sᵢ עד להגעה למצב S₄. המטרה היא למצוא את E₀.\\n\\nהמשוואות הרקורסיביות עבור הערכים הצפויים נגזרות על סמך המעברים בין המצבים:\\n\\n1. מ- S₀:\\n   \\\\[\\n   E_0 = 1 + \\\\frac{1}{2}E_1 + \\\\frac{1}{2}E_0\\n   \\\\]\\n   פתרון עבור E₀:\\n   \\\\[\\n   E_0 - \\\\frac{1}{2}E_0 = 1 + \\\\frac{1}{2}E_1\\n   \\\\]\\n   \\\\[\\n   \\\\frac{1}{2}E_0 = 1 + \\\\frac{1}{2}E_1\\n   \\\\]\\n   \\\\[\\n   E_0 = 2 + E_1\\n   \\\\]\\n\\n2. מ- S₁:\\n   \\\\[\\n   E_1 = 1 + \\\\frac{1}{2}E_1 + \\\\frac{1}{2}E_2\\n   \\\\]\\n   פתרון עבור E₁:\\n   \\\\[\\n   E_1 - \\\\frac{1}{2}E_1 = 1 + \\\\frac{1}{2}E_2\\n   \\\\]\\n   \\\\[\\n   \\\\frac{1}{2}E_1 = 1 + \\\\frac{1}{2}E_2\\n   \\\\]\\n   \\\\[\\n   E_1 = 2 + E_2\\n   \\\\]\\n\\n3. מ- S₂:\\n   \\\\[\\n   E_2 = 1 + \\\\frac{1}{2}E_3 + \\\\frac{1}{2}E_0\\n   \\\\]\\n\\n4. מ- S₃:\\n   \\\\[\\n   E_3 = 1 + \\\\frac{1}{2}E_1\\n   \\\\]\\n   מאחר ש- E₄ = 0, זה מפשט ל:\\n   \\\\[\\n   E_3 = 1 + \\\\frac{1}{2}E_1\\n   \\\\]\\n\\nכעת, נציב את E₃ במשוואה עבור E₂:\\n   \\\\[\\n   E_2 = 1 + \\\\frac{1}{2}(1 + \\\\frac{1}{2}E_1) + \\\\frac{1}{2}E_0\\n   \\\\]\\n   פישוט:\\n   \\\\[\\n   E_2 = \\\\frac{3}{2} + \\\\frac{1}{4}E_1 + \\\\frac{1}{2}E_0\\n   \\\\]\\n\\nשימוש ב- E₀ = 2 + E₁ במשוואה עבור E₂:\\n   \\\\[\\n   E_2 = \\\\frac{3}{2} + \\\\frac{1}{4}E_1 + \\\\frac{1}{2}(2 + E_1)\\n   \\\\]\\n   פישוט:\\n   \\\\[\\n   E_2 = \\\\frac{5}{2} + \\\\frac{3}{4}E_1\\n   \\\\]\\n\\nנציב  E₂ = 5/2 + (3/4)E₁ במשוואה עבור E₁:\\n   \\\\[\\n   E_1 = 2 + E_2\\n   \\\\]\\n   \\\\[\\n   E_1 = 2 + \\\\frac{5}{2} + \\\\frac{3}{4}E_1\\n   \\\\]\\n   פישוט:\\n   \\\\[\\n   E_1 = \\\\frac{9}{2} + \\\\frac{3}{4}E_1\\n   \\\\]\\n   \\\\[\\n   E_1 - \\\\frac{3}{4}E_1 = \\\\frac{9}{2}\\n   \\\\]\\n   \\\\[\\n   \\\\frac{1}{4}E_1 = \\\\frac{9}{2}\\n   \\\\]\\n   \\\\[\\n   E_1 = 18\\n   \\\\]\\n\\nכעת, נציב E₁ = 18 במשוואה עבור E₀:\\n   \\\\[\\n   E_0 = 2 + E_1\\n   \\\\]\\n   \\\\[\\n   E_0 = 2 + 18\\n   \\\\]\\n   \\\\[\\n   E_0 = 20\\n   \\\\]\\n\\nלכן, מספר הציפיות הממוצע של הטלות מטבע לקבלת הרצף HTHT הוא 20.  התשובה הסופית היא  boxed{20}.\\n\\n\\n```\\n']"
      ]
     },
     "execution_count": 56,
     "metadata": {},
     "output_type": "execute_result"
    }
   ],
   "source": [
    "import pandas as pd\n",
    "\n",
    "def translate_answer(english_question, english_answer):\n",
    "    res = model.generate_content(translate_few_shot_prompt(GSM_ENGLISH_QUESTIONS, GSM_ENGLISH_ANSWERS, GSM_ENGLISH_ANSWERS, english_question, english_answer))\n",
    "    return res.text\n",
    "\n",
    "\n",
    "df = pd.read_csv(\"synth_fewshots_results.csv\")\n",
    "df = df[df.real_cot_english.notna()]\n",
    "\n",
    "translations = []\n",
    "for index, row in df.iterrows():\n",
    "    print(f\"Translating row {index+1}/{len(df)}\")\n",
    "    translations.append(translate_answer(row['question_english'], row['real_cot_english']))\n",
    "# df['translated_cot'] = df.map(lambda row: translate_answer(row['question_english'], row['real_cot_english']))\n",
    "translations"
   ]
  },
  {
   "cell_type": "code",
   "execution_count": 59,
   "id": "5dab3cf4",
   "metadata": {},
   "outputs": [],
   "source": [
    "df['translated_cot'] = translations\n",
    "df.to_csv(\"synth_fewshots_results_with_translations.csv\", index=False)"
   ]
  },
  {
   "cell_type": "code",
   "execution_count": 64,
   "id": "5f184adc",
   "metadata": {},
   "outputs": [
    {
     "name": "stdout",
     "output_type": "stream",
     "text": [
      "Translating row 1/9\n",
      "Translating row 2/9\n",
      "Translating row 3/9\n",
      "Translating row 4/9\n",
      "Translating row 5/9\n",
      "Translating row 6/9\n",
      "Translating row 7/9\n",
      "Translating row 8/9\n",
      "Translating row 9/9\n"
     ]
    }
   ],
   "source": [
    "import pandas as pd\n",
    "\n",
    "df = pd.read_csv(\"synth_fewshots_results_with_translations.csv\")\n",
    "judgements = []\n",
    "for index, row in df.iterrows():\n",
    "    print(f\"Translating row {index+1}/{len(df)}\")\n",
    "    judgements.append(judge_cot_version(row['translated_cot'], row['real_cot_english']))\n",
    "\n",
    "df['judgement'] = judgements\n",
    "df.to_csv(\"synth_fewshots_results_with_translations_and_judgement.csv\", index=False)"
   ]
  },
  {
   "cell_type": "code",
   "execution_count": 66,
   "id": "e8fd8181",
   "metadata": {},
   "outputs": [
    {
     "data": {
      "text/plain": [
       "Counter({'{\\n  \"decision\": \"Synthesized\"\\n}': 6,\n",
       "         '{\\n  \"decision\": \"Translated\"\\n}': 2,\n",
       "         '{\"decision\": \"Translated\"}': 1})"
      ]
     },
     "execution_count": 66,
     "metadata": {},
     "output_type": "execute_result"
    }
   ],
   "source": [
    "from collections import Counter\n",
    "Counter(judgements)"
   ]
  }
 ],
 "metadata": {
  "kernelspec": {
   "display_name": "venv",
   "language": "python",
   "name": "python3"
  },
  "language_info": {
   "codemirror_mode": {
    "name": "ipython",
    "version": 3
   },
   "file_extension": ".py",
   "mimetype": "text/x-python",
   "name": "python",
   "nbconvert_exporter": "python",
   "pygments_lexer": "ipython3",
   "version": "3.11.12"
  }
 },
 "nbformat": 4,
 "nbformat_minor": 5
}
