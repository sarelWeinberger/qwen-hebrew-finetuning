{
 "cells": [
  {
   "cell_type": "markdown",
   "id": "13d39a7f-7836-4179-bfcc-e1e463302de8",
   "metadata": {},
   "source": [
    "## Imports"
   ]
  },
  {
   "cell_type": "code",
   "execution_count": null,
   "id": "a5ed9f84-7b23-4629-94d1-f8dbda95db38",
   "metadata": {},
   "outputs": [],
   "source": [
    "%load_ext autoreload\n",
    "%autoreload 2\n",
    "import pandas as pd\n",
    "import numpy as np\n",
    "import os\n",
    "import json\n",
    "import re\n",
    "import matplotlib.pyplot as plt\n",
    "\n",
    "from datasets import load_dataset, Dataset\n",
    "\n",
    "import dist_heatmap"
   ]
  },
  {
   "cell_type": "markdown",
   "id": "082e861b-234a-4eef-a4fa-615b2217a2ab",
   "metadata": {},
   "source": [
    "# Analyse Results"
   ]
  },
  {
   "cell_type": "markdown",
   "id": "d1e149e6-6c9d-4590-8a3b-ee99630cf0eb",
   "metadata": {},
   "source": [
    "## Files list"
   ]
  },
  {
   "cell_type": "code",
   "execution_count": null,
   "id": "9c6ea395-86d1-4ba1-a8a2-9745c38c9d8b",
   "metadata": {},
   "outputs": [],
   "source": [
    "logs_files = {\n",
    "    'arc': 'log_files/moe_all_layers_analysis_arc_en_he_500_20250921_090254.log',\n",
    "    'mmlu': 'log_files/moe_all_layers_analysis_mmlu_en_he_500_20250921_123201.log',\n",
    "    'gsm': 'log_files/moe_all_layers_analysis_gsm_en_he_500_20250921_115824.log',\n",
    "    'copa': 'log_files/moe_all_layers_analysis_copa_en_he_500_20250921_125427.log',\n",
    "    'nli': 'log_files/moe_all_layers_analysis_nli_en_he_460_20250925_154220.log',\n",
    "    'ted': 'log_files/moe_all_layers_analysis_ted_he_en_chunks_20250925_161115.log',\n",
    "}\n",
    "\n",
    "# 'dist' files have the average distributions of the output of the router\n",
    "# 'actv' files have the average *activation* of experts - meaning the average\n",
    "# of the 0-1 vector, with 1 at the top 8 and 0 at the other for each token\n",
    "\n",
    "experts_dist_files = {\n",
    "    # 'arc_dist': 'moe_csv_results/moe_all_layers_analysis_arc_en_he_500_20250921_090254_avg_dist.csv',\n",
    "    'arc_actv': 'moe_csv_results/moe_all_layers_analysis_arc_en_he_500_20250921_090254_avg_activation.csv',\n",
    "    # 'mmlu_dist': 'moe_csv_results/moe_all_layers_analysis_mmlu_en_he_500_20250921_123201_avg_dist.csv',\n",
    "    'mmlu_actv': 'moe_csv_results/moe_all_layers_analysis_mmlu_en_he_500_20250921_123201_avg_activation.csv',\n",
    "    # 'gsm_dist': 'moe_csv_results/moe_all_layers_analysis_gsm_en_he_500_20250921_115824_avg_dist.csv',\n",
    "    'gsm_actv': 'moe_csv_results/moe_all_layers_analysis_gsm_en_he_500_20250921_115824_avg_activation.csv',\n",
    "    # 'copa_dist': 'moe_csv_results/moe_all_layers_analysis_copa_en_he_500_20250921_125427_avg_dist.csv',\n",
    "    'copa_actv': 'moe_csv_results/moe_all_layers_analysis_copa_en_he_500_20250921_125427_avg_activation.csv',\n",
    "    # 'nli_dist': 'moe_csv_results/moe_all_layers_analysis_nli_en_he_460_20250925_154220_avg_dist.csv',\n",
    "    'nli_actv': 'moe_csv_results/moe_all_layers_analysis_nli_en_he_460_20250925_154220_avg_activation.csv',\n",
    "    # 'ted_dist': 'moe_csv_results/moe_all_layers_analysis_ted_he_en_chunks_20250925_161115_avg_dist.csv',\n",
    "    'ted_actv': 'moe_csv_results/moe_all_layers_analysis_ted_he_en_chunks_20250925_161115_avg_activation.csv',\n",
    "}\n",
    "\n",
    "for k in experts_dist_files:\n",
    "    experts_dist_files[k] = pd.read_csv(experts_dist_files[k])\n",
    "\n",
    "experts_columns = [f'Expert_{i}' for i in range(128)]"
   ]
  },
  {
   "cell_type": "markdown",
   "id": "bf00e6fb-fd34-4346-9ddf-1db47a201a84",
   "metadata": {},
   "source": [
    "## General metrics"
   ]
  },
  {
   "cell_type": "code",
   "execution_count": null,
   "id": "073e8c52-3f7a-45e4-ae60-dccd8e309c92",
   "metadata": {
    "scrolled": true
   },
   "outputs": [],
   "source": [
    "# Run to re-create the graphs in the document\n",
    "fig, axs = plt.subplots(3, 1, figsize=(10, 24))\n",
    "num_layers = 48\n",
    "\n",
    "for k in logs_files:\n",
    "    dist_heatmap.plot_moe_analysis_from_log(logs_files[k], k, axs)\n",
    "\n",
    "for ax in axs:\n",
    "    ax.set_xlabel('Layer Number', fontsize=16)\n",
    "    ax.set_ylabel('Average Value', fontsize=16)\n",
    "    # Set x-axis ticks to be every 2 layers\n",
    "    ax.set_xticks(np.arange(0, num_layers, 2))\n",
    "    ax.legend(fontsize=16, loc='upper left')\n",
    "    ax.grid()\n",
    "\n",
    "axs[0].set_ylim(0, 1)\n",
    "axs[1].set_ylim(0, 3)\n",
    "axs[2].set_ylim(0, 8)\n",
    "\n",
    "axs[0].set_title(f'Average MoE Cosine Distance per Layer', fontsize=20)\n",
    "axs[1].set_title(f'Average MoE Overlap 3 per Layer', fontsize=20)\n",
    "axs[2].set_title(f'Average MoE Overlap 8 per Layer', fontsize=20)\n",
    "\n",
    "fig.tight_layout()\n",
    "\n",
    "plt.savefig('plots/avg_moe_graphs.jpeg')\n",
    "plt.show()"
   ]
  },
  {
   "cell_type": "markdown",
   "id": "8e90c6a3-a5ae-47bf-a0a6-6cf920db05eb",
   "metadata": {},
   "source": [
    "## Distribution by layer"
   ]
  },
  {
   "cell_type": "code",
   "execution_count": null,
   "id": "4e1e1c3c-1419-4efb-8023-48eb371974bb",
   "metadata": {},
   "outputs": [],
   "source": [
    "# Which layers to show\n",
    "from_layer = 44\n",
    "to_layer = 48"
   ]
  },
  {
   "cell_type": "code",
   "execution_count": null,
   "id": "abef56f4-22f1-4674-8793-49910952abcd",
   "metadata": {},
   "outputs": [],
   "source": [
    "# Run to plot the distributions\n",
    "m = 4.3 / 44\n",
    "figsize = (15, 0.3 + (to_layer - from_layer) * m)\n",
    "\n",
    "v_lst = []\n",
    "global_vmax = 0\n",
    "\n",
    "for bnch in experts_dist_files:\n",
    "    print(bnch)\n",
    "    dist_v = experts_dist_files[bnch][(\n",
    "        experts_dist_files[bnch]['Layer'] >= from_layer\n",
    "    ) & (\n",
    "        experts_dist_files[bnch]['Layer'] <= to_layer\n",
    "    )]\n",
    "    vmax = dist_v[experts_columns].max().max()\n",
    "    # vmax = 1\n",
    "    global_vmax = max([global_vmax, vmax])\n",
    "    v_lst.append(dist_v)\n",
    "    # dist_heatmap.plot_heatmap_experts(\n",
    "    #     dist_v,\n",
    "    #     vmax,\n",
    "    #     figsize=figsize,\n",
    "    #     showdiff=False,\n",
    "    #     show_top=False,\n",
    "    #     from_layer=from_layer,\n",
    "    #     to_layer=to_layer\n",
    "    # )\n",
    "\n",
    "# From top to bottom order\n",
    "v_lst = v_lst[::-1]\n",
    "\n",
    "dist_heatmap.comp_one_lan(\n",
    "    v_lst,\n",
    "    vmax=global_vmax,\n",
    "    lan='English',\n",
    "    figsize=figsize,\n",
    "    show_top=False,\n",
    "    from_layer=from_layer,\n",
    "    to_layer=to_layer,\n",
    ")\n",
    "\n",
    "dist_heatmap.comp_one_lan(\n",
    "    v_lst,\n",
    "    vmax=global_vmax,\n",
    "    lan='Hebrew',\n",
    "    figsize=figsize,\n",
    "    show_top=False,\n",
    "    from_layer=from_layer,\n",
    "    to_layer=to_layer,\n",
    ")"
   ]
  }
 ],
 "metadata": {
  "kernelspec": {
   "display_name": "conda_pytorch_p310",
   "language": "python",
   "name": "conda_pytorch_p310"
  },
  "language_info": {
   "codemirror_mode": {
    "name": "ipython",
    "version": 3
   },
   "file_extension": ".py",
   "mimetype": "text/x-python",
   "name": "python",
   "nbconvert_exporter": "python",
   "pygments_lexer": "ipython3",
   "version": "3.10.14"
  }
 },
 "nbformat": 4,
 "nbformat_minor": 5
}
