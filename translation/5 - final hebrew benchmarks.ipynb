{
 "cells": [
  {
   "cell_type": "markdown",
   "id": "cb607844-f55b-4221-937f-02c656ff22d6",
   "metadata": {},
   "source": [
    "# Imports"
   ]
  },
  {
   "cell_type": "code",
   "execution_count": 1,
   "id": "57e3d6f4-b8ac-4463-bb86-1af50b9e16dc",
   "metadata": {},
   "outputs": [],
   "source": [
    "%load_ext autoreload\n",
    "%autoreload 2\n",
    "\n",
    "import pandas as pd\n",
    "import sys\n",
    "import re\n",
    "import json\n",
    "\n",
    "from src.benchmarks_code import gsm8k\n",
    "from src.benchmarks_code import arc_ai\n",
    "from src.benchmarks_code import mmlu\n",
    "from src.benchmarks_code import hellaswag\n",
    "\n",
    "from src.parse_labeling import parse_from_gradio, parse_single_file_gradio, map_rating_to_model\n",
    "from src.translate_func import dict_to_prompt"
   ]
  },
  {
   "cell_type": "code",
   "execution_count": 2,
   "id": "187fb839-318b-4d77-be9c-2eef161b66d6",
   "metadata": {},
   "outputs": [],
   "source": [
    "def query_to_sample(text):\n",
    "    pattern = r\"<(?!response_format\\b)([^>]+)>(.*?)</\\1>\"\n",
    "    matches = re.findall(pattern, text, re.DOTALL)\n",
    "    return {key: value.strip() for key, value in matches}"
   ]
  },
  {
   "cell_type": "code",
   "execution_count": 3,
   "id": "b3c92406-16e7-42cc-9611-2d5d28350471",
   "metadata": {},
   "outputs": [],
   "source": [
    "def get_gold(or_df, return_original_sample=False):\n",
    "    \"\"\"\n",
    "    or_df - a Dataframe with the columns 'rating model', 'gold', 'option 1', 'option 2', 'model 1', 'model 2'\n",
    "    \"\"\"\n",
    "    final_lst = []\n",
    "    \n",
    "    if return_original_sample:\n",
    "        original_text_lst = []\n",
    "    for cnt, row in or_df.iterrows():\n",
    "        if row['rating model'] == 'SKIP':\n",
    "            continue\n",
    "        elif row['gold'] != '':\n",
    "            final_lst.append(row['gold'].replace('Option 1:\\n', '').replace('Option 2:\\n', ''))\n",
    "        elif row['rating model'] == 'BOTH':\n",
    "            if 'gemini' in row['model 1']:\n",
    "                final_lst.append(row['option 1'])\n",
    "            else:\n",
    "                final_lst.append(row['option 2'])\n",
    "        elif row['rating model'] == row['model 1']:\n",
    "            final_lst.append(row['option 1'])\n",
    "        elif row['rating model'] == row['model 2']:\n",
    "            final_lst.append(row['option 2'])\n",
    "        else:\n",
    "            print(cnt, row)\n",
    "            assert False, \"ERROR ERROR ERRORRRRRR!\"\n",
    "\n",
    "        if return_original_sample:\n",
    "            # Add the original (english) text always - unless it is a 'SKIP' sample\n",
    "            original_text_lst.append(row['original'])\n",
    "    \n",
    "    final_lst = [query_to_sample(s) for s in final_lst]\n",
    "    # original_text_lst = [query_to_sample(s) for s in original_text_lst]\n",
    "\n",
    "    if return_original_sample:\n",
    "        return final_lst, original_text_lst\n",
    "    else:\n",
    "        return final_lst"
   ]
  },
  {
   "cell_type": "markdown",
   "id": "172d6940-e1ab-49f7-a7a4-39fd7eb136c0",
   "metadata": {
    "jp-MarkdownHeadingCollapsed": true
   },
   "source": [
    "# ARC-AI2"
   ]
  },
  {
   "cell_type": "code",
   "execution_count": 4,
   "id": "33f97876-6d3f-4a2e-b224-e8012dc6f8d1",
   "metadata": {},
   "outputs": [
    {
     "data": {
      "application/vnd.jupyter.widget-view+json": {
       "model_id": "72fef6a3cbfe4ee4b47b5f5992f711ee",
       "version_major": 2,
       "version_minor": 0
      },
      "text/plain": [
       "README.md: 0.00B [00:00, ?B/s]"
      ]
     },
     "metadata": {},
     "output_type": "display_data"
    },
    {
     "data": {
      "application/vnd.jupyter.widget-view+json": {
       "model_id": "9bdbeebf04254490be493ee6cc0d99d2",
       "version_major": 2,
       "version_minor": 0
      },
      "text/plain": [
       "ARC-Challenge/train-00000-of-00001.parqu(…):   0%|          | 0.00/190k [00:00<?, ?B/s]"
      ]
     },
     "metadata": {},
     "output_type": "display_data"
    },
    {
     "data": {
      "application/vnd.jupyter.widget-view+json": {
       "model_id": "b6f5ebbd3ee54a1e9de20e4c9b63fc2f",
       "version_major": 2,
       "version_minor": 0
      },
      "text/plain": [
       "ARC-Challenge/test-00000-of-00001.parque(…):   0%|          | 0.00/204k [00:00<?, ?B/s]"
      ]
     },
     "metadata": {},
     "output_type": "display_data"
    },
    {
     "data": {
      "application/vnd.jupyter.widget-view+json": {
       "model_id": "25cfa4fb1cca488bb99f402bf398ec7f",
       "version_major": 2,
       "version_minor": 0
      },
      "text/plain": [
       "ARC-Challenge/validation-00000-of-00001.(…):   0%|          | 0.00/55.7k [00:00<?, ?B/s]"
      ]
     },
     "metadata": {},
     "output_type": "display_data"
    },
    {
     "data": {
      "application/vnd.jupyter.widget-view+json": {
       "model_id": "7f96ceb6d3fc4ceca84e65d4c6caec43",
       "version_major": 2,
       "version_minor": 0
      },
      "text/plain": [
       "Generating train split:   0%|          | 0/1119 [00:00<?, ? examples/s]"
      ]
     },
     "metadata": {},
     "output_type": "display_data"
    },
    {
     "data": {
      "application/vnd.jupyter.widget-view+json": {
       "model_id": "634a81d550df4d1bbff654ce45d7ebd5",
       "version_major": 2,
       "version_minor": 0
      },
      "text/plain": [
       "Generating test split:   0%|          | 0/1172 [00:00<?, ? examples/s]"
      ]
     },
     "metadata": {},
     "output_type": "display_data"
    },
    {
     "data": {
      "application/vnd.jupyter.widget-view+json": {
       "model_id": "0842358435d64d54a31331b7c57d3160",
       "version_major": 2,
       "version_minor": 0
      },
      "text/plain": [
       "Generating validation split:   0%|          | 0/299 [00:00<?, ? examples/s]"
      ]
     },
     "metadata": {},
     "output_type": "display_data"
    },
    {
     "data": {
      "text/plain": [
       "{'arc_challenge_train': Dataset({\n",
       "     features: ['id', 'question', 'choices', 'answerKey'],\n",
       "     num_rows: 1119\n",
       " }),\n",
       " 'arc_challenge_test': Dataset({\n",
       "     features: ['id', 'question', 'choices', 'answerKey'],\n",
       "     num_rows: 1172\n",
       " })}"
      ]
     },
     "execution_count": 4,
     "metadata": {},
     "output_type": "execute_result"
    }
   ],
   "source": [
    "arc_en = arc_ai.get_arc_ai2_datasets()\n",
    "arc_en"
   ]
  },
  {
   "cell_type": "code",
   "execution_count": 5,
   "id": "2776b78a-16ff-4238-a35d-cc13b5231cd6",
   "metadata": {},
   "outputs": [
    {
     "name": "stdout",
     "output_type": "stream",
     "text": [
      "(195, 18) (195, 7)\n"
     ]
    }
   ],
   "source": [
    "arc_label_train, arc_or_train = parse_from_gradio(\n",
    "    'labeled_files/arc_ai_labeled_gradio.csv',\n",
    "    'manual_compare/arc_ai2_train_top_200_FULL.csv',\n",
    ")\n",
    "\n",
    "print(arc_label_train.shape, arc_or_train.shape)"
   ]
  },
  {
   "cell_type": "code",
   "execution_count": 6,
   "id": "154f7531-c7ac-4ca7-adbd-d78b5fe5e590",
   "metadata": {},
   "outputs": [
    {
     "data": {
      "text/plain": [
       "rating\n",
       "2       82\n",
       "1       62\n",
       "BOTH    42\n",
       "SKIP     9\n",
       "Name: count, dtype: int64"
      ]
     },
     "execution_count": 6,
     "metadata": {},
     "output_type": "execute_result"
    }
   ],
   "source": [
    "arc_label_train['rating'].value_counts()"
   ]
  },
  {
   "cell_type": "code",
   "execution_count": 7,
   "id": "47de33f3-6dad-4271-b26d-23aaae807572",
   "metadata": {},
   "outputs": [
    {
     "data": {
      "text/plain": [
       "False"
      ]
     },
     "execution_count": 7,
     "metadata": {},
     "output_type": "execute_result"
    }
   ],
   "source": [
    "# should be False\n",
    "(arc_or_train['original'] != arc_label_train['text_column']).any()"
   ]
  },
  {
   "cell_type": "code",
   "execution_count": 8,
   "id": "12557264-2ea0-4c7b-875b-2620c7dd0fb0",
   "metadata": {},
   "outputs": [],
   "source": [
    "arc_or_train['gold'] = arc_label_train['gold']"
   ]
  },
  {
   "cell_type": "code",
   "execution_count": 15,
   "id": "9a84c1ed-a634-45e1-9cd6-4a077a2d2e25",
   "metadata": {},
   "outputs": [
    {
     "data": {
      "text/plain": [
       "True"
      ]
     },
     "execution_count": 15,
     "metadata": {},
     "output_type": "execute_result"
    }
   ],
   "source": [
    "arc_label_test_1 = pd.read_csv('labeled_files/arc_ai_TEST_labeled_gradio.csv')\n",
    "arc_label_test_2 = pd.read_csv('labeled_files/arc_ai_TEST_2_labeled_gradio.csv')\n",
    "\n",
    "(arc_label_test_1.tail(51)['text_column'] == arc_label_test_2.head(51)['text_column'].values).all()"
   ]
  },
  {
   "cell_type": "code",
   "execution_count": 16,
   "id": "494b6255-937d-417d-b7d1-8c49cf45dc3b",
   "metadata": {},
   "outputs": [
    {
     "name": "stdout",
     "output_type": "stream",
     "text": [
      "Throw away 45 'SKIP' samples\n"
     ]
    },
    {
     "data": {
      "text/plain": [
       "(802, 16)"
      ]
     },
     "execution_count": 16,
     "metadata": {},
     "output_type": "execute_result"
    }
   ],
   "source": [
    "arc_label_test_1 = pd.read_csv('labeled_files/arc_ai_TEST_labeled_gradio.csv')\n",
    "arc_label_test_2 = pd.read_csv('labeled_files/arc_ai_TEST_2_labeled_gradio.csv').iloc[51:]\n",
    "\n",
    "arc_label_test = pd.concat([arc_label_test_1, arc_label_test_2], ignore_index=True)\n",
    "\n",
    "arc_label_test = arc_label_test.fillna('')\n",
    "arc_label_test['rating'] = arc_label_test['rating'].apply(str).replace('1.0', '1').replace('2.0', '2')\n",
    "\n",
    "print(f\"Throw away {(arc_label_test['rating'] == 'SKIP').sum()} 'SKIP' samples\")\n",
    "arc_label_test = arc_label_test[arc_label_test['rating'] != 'SKIP']\n",
    "\n",
    "old = arc_label_test.copy()\n",
    "arc_label_test.loc[arc_label_test['gold'] == '', 'gold'] = arc_label_test.loc[arc_label_test['gold'] == '']['new_text_column'].values\n",
    "\n",
    "arc_label_test.shape"
   ]
  },
  {
   "cell_type": "code",
   "execution_count": 17,
   "id": "d56b5c4f-9d57-4027-b831-d45c9a0f3bb6",
   "metadata": {},
   "outputs": [
    {
     "data": {
      "text/plain": [
       "255"
      ]
     },
     "execution_count": 17,
     "metadata": {},
     "output_type": "execute_result"
    }
   ],
   "source": [
    "(old['gold'] != '').sum()"
   ]
  },
  {
   "cell_type": "code",
   "execution_count": 18,
   "id": "66688a11-4f8a-4970-bace-47eccde717d4",
   "metadata": {},
   "outputs": [
    {
     "data": {
      "text/plain": [
       "True"
      ]
     },
     "execution_count": 18,
     "metadata": {},
     "output_type": "execute_result"
    }
   ],
   "source": [
    "# Should be True\n",
    "(old.loc[old['gold'] != '', 'gold'] == arc_label_test.loc[old['gold'] != '', 'gold']).all()"
   ]
  },
  {
   "cell_type": "markdown",
   "id": "d32b5ad5-f8bc-4197-9b8a-c9fb3788cd85",
   "metadata": {},
   "source": [
    "___"
   ]
  },
  {
   "cell_type": "code",
   "execution_count": 19,
   "id": "efe321b5-c7c1-4094-a0df-a431c65a4114",
   "metadata": {},
   "outputs": [
    {
     "data": {
      "text/plain": [
       "(186, 186, 186)"
      ]
     },
     "execution_count": 19,
     "metadata": {},
     "output_type": "execute_result"
    }
   ],
   "source": [
    "arc_he_lst_train, original_txt_train = get_gold(arc_or_train, True)\n",
    "\n",
    "arc_he_lst_train = [{\n",
    "    'query': d['question'],\n",
    "    'choices': [d[f'option {i}'] for i in [1, 2, 3, 4]],\n",
    "} for d in arc_he_lst_train]\n",
    "\n",
    "len(arc_he_lst_train), len(original_txt_train), arc_label_train.shape[0] - (arc_label_train['rating'] == 'SKIP').sum()"
   ]
  },
  {
   "cell_type": "code",
   "execution_count": 20,
   "id": "c726a1aa-6ecb-439a-ad48-ae435d8b365e",
   "metadata": {},
   "outputs": [
    {
     "data": {
      "text/plain": [
       "(802, 802, 802)"
      ]
     },
     "execution_count": 20,
     "metadata": {},
     "output_type": "execute_result"
    }
   ],
   "source": [
    "arc_he_lst_test = []\n",
    "original_txt_test = []\n",
    "\n",
    "for _, row in arc_label_test.iterrows():\n",
    "    d = query_to_sample(row['gold'])\n",
    "    arc_he_lst_test.append({\n",
    "        'query': d['question'],\n",
    "        'choices': [d[f'option {i}'] for i in [1, 2, 3, 4]],\n",
    "    })\n",
    "    \n",
    "    original_txt_test.append(row['text_column'])\n",
    "\n",
    "len(arc_he_lst_test), len(original_txt_test), arc_label_test.shape[0]"
   ]
  },
  {
   "cell_type": "code",
   "execution_count": 21,
   "id": "84e55e48-e662-41ff-b15e-dc38d7bc0033",
   "metadata": {},
   "outputs": [],
   "source": [
    "MAP_LABEL_TO_ANSWER_INDEX = {\n",
    "    'A': 0,\n",
    "    'B': 1,\n",
    "    'C': 2,\n",
    "    'D': 3,\n",
    "    '1': 0,\n",
    "    '2': 1,\n",
    "    '3': 2,\n",
    "    '4': 3,\n",
    "}"
   ]
  },
  {
   "cell_type": "code",
   "execution_count": 22,
   "id": "95e3507d-ad21-47f3-8042-76b1c996d2fc",
   "metadata": {
    "scrolled": true
   },
   "outputs": [],
   "source": [
    "map_indcs_train = {}\n",
    "cnt = 0\n",
    "for i in range(len(arc_he_lst_train)):\n",
    "    while dict_to_prompt(arc_ai.arc_sample_to_dict(arc_en['arc_challenge_train'][cnt])) != original_txt_train[i]:\n",
    "        cnt += 1\n",
    "    map_indcs_train[i] = cnt\n",
    "\n",
    "map_indcs_test = {}\n",
    "cnt = 0\n",
    "for i in range(len(arc_he_lst_test)):\n",
    "    while len(arc_en['arc_challenge_test'][cnt]['choices']['label']) < 4 or dict_to_prompt(arc_ai.arc_sample_to_dict(arc_en['arc_challenge_test'][cnt])) != original_txt_test[i]:\n",
    "        cnt += 1\n",
    "    map_indcs_test[i] = cnt"
   ]
  },
  {
   "cell_type": "code",
   "execution_count": 23,
   "id": "e19810bc-a9b4-4ae0-ae2c-97698d365470",
   "metadata": {},
   "outputs": [
    {
     "data": {
      "text/plain": [
       "(186, 802, 988)"
      ]
     },
     "execution_count": 23,
     "metadata": {},
     "output_type": "execute_result"
    }
   ],
   "source": [
    "for i in range(len(arc_he_lst_train)):\n",
    "    if dict_to_prompt(arc_ai.arc_sample_to_dict(arc_en['arc_challenge_train'][map_indcs_train[i]])) != original_txt_train[i]:\n",
    "        print('WWWWWWWWWWWWWAAAAAAAAAAAAAAAA', i)\n",
    "        break\n",
    "    arc_he_lst_train[i]['answer_index'] = MAP_LABEL_TO_ANSWER_INDEX[arc_en['arc_challenge_train'][map_indcs_train[i]]['answerKey']]\n",
    "    arc_he_lst_train[i]['id'] = arc_en['arc_challenge_train'][map_indcs_train[i]]['id']\n",
    "    arc_he_lst_train[i]['from_arc_split'] = 'train'\n",
    "\n",
    "for i in range(len(arc_he_lst_test)):\n",
    "    if dict_to_prompt(arc_ai.arc_sample_to_dict(arc_en['arc_challenge_test'][map_indcs_test[i]])) != original_txt_test[i]:\n",
    "        print('WWWWWWWWWWWWWAAAAAAAAAAAAAAAA', i)\n",
    "        break\n",
    "    arc_he_lst_test[i]['answer_index'] = MAP_LABEL_TO_ANSWER_INDEX[arc_en['arc_challenge_test'][map_indcs_test[i]]['answerKey']]\n",
    "    arc_he_lst_test[i]['id'] = arc_en['arc_challenge_test'][map_indcs_test[i]]['id']\n",
    "    arc_he_lst_test[i]['from_arc_split'] = 'test'\n",
    "\n",
    "len(arc_he_lst_train), len(arc_he_lst_test), len(arc_he_lst_train) + len(arc_he_lst_test)"
   ]
  },
  {
   "cell_type": "markdown",
   "id": "433b928c-c510-4b6d-9eec-0d434b1f2f6a",
   "metadata": {},
   "source": [
    "___"
   ]
  },
  {
   "cell_type": "code",
   "execution_count": 25,
   "id": "929dec7c-2e69-44b2-bdfe-5a1ec6f91182",
   "metadata": {},
   "outputs": [
    {
     "name": "stdout",
     "output_type": "stream",
     "text": [
      "Successfully saved data to final_hebrew_bnch/arc_ai2_chall_heb.jsonl\n"
     ]
    }
   ],
   "source": [
    "output_filename = \"final_hebrew_bnch/arc_ai2_chall_heb.jsonl\"\n",
    "\n",
    "# Open the file and write each dictionary as a new line\n",
    "with open(output_filename, 'w') as f:\n",
    "    for item in arc_he_lst_train:\n",
    "        # Convert dict to a JSON string and add a newline character\n",
    "        f.write(json.dumps(item) + '\\n')\n",
    "\n",
    "    for item in arc_he_lst_test:\n",
    "        # Convert dict to a JSON string and add a newline character\n",
    "        f.write(json.dumps(item) + '\\n')\n",
    "\n",
    "print(f\"Successfully saved data to {output_filename}\")"
   ]
  },
  {
   "cell_type": "markdown",
   "id": "6529b787-5905-4ab9-ab27-dda655fbde40",
   "metadata": {
    "jp-MarkdownHeadingCollapsed": true
   },
   "source": [
    "# GSM8K"
   ]
  },
  {
   "cell_type": "code",
   "execution_count": 57,
   "id": "121bd3d1-8b62-420f-b6ab-87973eb89ea5",
   "metadata": {},
   "outputs": [
    {
     "data": {
      "text/plain": [
       "{'gsm8k_test': Dataset({\n",
       "     features: ['question', 'answer'],\n",
       "     num_rows: 1319\n",
       " })}"
      ]
     },
     "execution_count": 57,
     "metadata": {},
     "output_type": "execute_result"
    }
   ],
   "source": [
    "gsm_en = gsm8k.get_gsm8k_datasets()\n",
    "gsm_en"
   ]
  },
  {
   "cell_type": "code",
   "execution_count": 58,
   "id": "2cbec3fb-994c-4bb1-b7ee-01e64b32d274",
   "metadata": {},
   "outputs": [
    {
     "name": "stdout",
     "output_type": "stream",
     "text": [
      "(169, 18) (169, 8)\n"
     ]
    }
   ],
   "source": [
    "gsm_label, gsm_or = parse_from_gradio(\n",
    "    'labeled_files/gsm8k_labeled_gradio.csv',\n",
    "    'manual_compare/gsm8k_169_FULL.csv',\n",
    ")\n",
    "\n",
    "print(gsm_label.shape, gsm_or.shape)"
   ]
  },
  {
   "cell_type": "code",
   "execution_count": 59,
   "id": "6911fcd3-5ff8-4641-b042-a459b4bece66",
   "metadata": {},
   "outputs": [
    {
     "data": {
      "text/plain": [
       "False"
      ]
     },
     "execution_count": 59,
     "metadata": {},
     "output_type": "execute_result"
    }
   ],
   "source": [
    "(gsm_or['original'] != gsm_label['text_column']).any()"
   ]
  },
  {
   "cell_type": "code",
   "execution_count": 60,
   "id": "ee96daca-f61e-4be4-a819-c862a44eb5a2",
   "metadata": {},
   "outputs": [],
   "source": [
    "gsm_or['gold'] = gsm_label['gold']"
   ]
  },
  {
   "cell_type": "markdown",
   "id": "4bafa6d9-9bbe-4d5e-9720-cb20e85b0501",
   "metadata": {},
   "source": [
    "___"
   ]
  },
  {
   "cell_type": "code",
   "execution_count": 61,
   "id": "c09ecf45-3b6e-4a7f-aee4-f329a73ea909",
   "metadata": {},
   "outputs": [
    {
     "data": {
      "text/plain": [
       "169"
      ]
     },
     "execution_count": 61,
     "metadata": {},
     "output_type": "execute_result"
    }
   ],
   "source": [
    "gsm_he_lst = get_gold(gsm_or)\n",
    "\n",
    "gsm_he_lst = [{\n",
    "    'query': d['question'],\n",
    "    'gold': d['answer'],\n",
    "} for d in gsm_he_lst]\n",
    "\n",
    "len(gsm_he_lst)"
   ]
  },
  {
   "cell_type": "code",
   "execution_count": 62,
   "id": "385a94f4-ef34-43c9-8e52-439a6227f8a2",
   "metadata": {},
   "outputs": [
    {
     "data": {
      "text/plain": [
       "True"
      ]
     },
     "execution_count": 62,
     "metadata": {},
     "output_type": "execute_result"
    }
   ],
   "source": [
    "gsm_label_1 = pd.read_csv('labeled_files/gsm_TEST_labeled_gradio.csv')\n",
    "gsm_label_2 = pd.read_csv('labeled_files/gsm_TEST_2_labeled_gradio.csv')\n",
    "\n",
    "(gsm_label_1.tail(50)['text_column'] == gsm_label_2.head(50)['text_column'].values).all()"
   ]
  },
  {
   "cell_type": "code",
   "execution_count": 63,
   "id": "70cf9042-a5e0-43b8-8e86-951666a69a00",
   "metadata": {},
   "outputs": [
    {
     "name": "stdout",
     "output_type": "stream",
     "text": [
      "Throw away 105 'SKIP' samples\n",
      "Throw away 0 'SKIP' samples\n"
     ]
    },
    {
     "data": {
      "text/plain": [
       "((495, 16), (165, 16))"
      ]
     },
     "execution_count": 63,
     "metadata": {},
     "output_type": "execute_result"
    }
   ],
   "source": [
    "gsm_label_1 = pd.read_csv('labeled_files/gsm_TEST_labeled_gradio.csv')\n",
    "gsm_label_2 = pd.read_csv('labeled_files/gsm_TEST_2_labeled_gradio.csv').iloc[50:215]\n",
    "\n",
    "def clean(df):\n",
    "    df = df.fillna('')\n",
    "    df['rating'] = df['rating'].apply(str).replace('1.0', '1').replace('2.0', '2')\n",
    "\n",
    "    print(f\"Throw away {(df['rating'] == 'SKIP').sum()} 'SKIP' samples\")\n",
    "    df = df[df['rating'] != 'SKIP']\n",
    "\n",
    "    old = df.copy()\n",
    "    df.loc[df['gold'] == '', 'gold'] = df.loc[df['gold'] == '']['new_text_column'].values\n",
    "\n",
    "    return df\n",
    "\n",
    "gsm_label_1 = clean(gsm_label_1)\n",
    "gsm_label_2 = clean(gsm_label_2)\n",
    "\n",
    "gsm_label_1.shape, gsm_label_2.shape"
   ]
  },
  {
   "cell_type": "code",
   "execution_count": 64,
   "id": "a41ef569-a056-44e2-9077-fe929908e86e",
   "metadata": {},
   "outputs": [
    {
     "data": {
      "text/plain": [
       "(495, 164)"
      ]
     },
     "execution_count": 64,
     "metadata": {},
     "output_type": "execute_result"
    }
   ],
   "source": [
    "gsm_he_1 = []\n",
    "gsm_he_2 = []\n",
    "\n",
    "for _, row in gsm_label_1.iterrows():\n",
    "    d = query_to_sample(row['gold'])\n",
    "    gsm_he_1.append({\n",
    "        'query': d['question'],\n",
    "        'gold': d['answer'],\n",
    "    })\n",
    "\n",
    "for _, row in gsm_label_2.iterrows():\n",
    "    if row['gold'] == 'דילגתי':\n",
    "        continue\n",
    "        #...\n",
    "    d = query_to_sample(row['gold'])\n",
    "    gsm_he_2.append({\n",
    "        'query': d['question'],\n",
    "        'gold': d['answer'],\n",
    "    })\n",
    "\n",
    "len(gsm_he_1), len(gsm_he_2)"
   ]
  },
  {
   "cell_type": "code",
   "execution_count": 65,
   "id": "593f2ee1-9b78-4e1e-80b4-cec1bfde650a",
   "metadata": {},
   "outputs": [
    {
     "data": {
      "text/plain": [
       "169"
      ]
     },
     "execution_count": 65,
     "metadata": {},
     "output_type": "execute_result"
    }
   ],
   "source": [
    "len(gsm_he_lst)"
   ]
  },
  {
   "cell_type": "code",
   "execution_count": 66,
   "id": "c6b2e0a6-018b-4287-a39c-f4d6014d5f7e",
   "metadata": {},
   "outputs": [
    {
     "data": {
      "text/plain": [
       "828"
      ]
     },
     "execution_count": 66,
     "metadata": {},
     "output_type": "execute_result"
    }
   ],
   "source": [
    "gsm_he_lst = gsm_he_lst + gsm_he_1 + gsm_he_2\n",
    "\n",
    "len(gsm_he_lst)"
   ]
  },
  {
   "cell_type": "markdown",
   "id": "20d9ba24-eb3c-4868-b0fb-549ededf3e30",
   "metadata": {},
   "source": [
    "___"
   ]
  },
  {
   "cell_type": "code",
   "execution_count": 67,
   "id": "d7397291-0ee0-4f46-93d5-f33ff5ee9a76",
   "metadata": {},
   "outputs": [
    {
     "name": "stdout",
     "output_type": "stream",
     "text": [
      "Successfully saved data to final_hebrew_bnch/gsm8k_heb.jsonl\n"
     ]
    }
   ],
   "source": [
    "output_filename = \"final_hebrew_bnch/gsm8k_heb.jsonl\"\n",
    "\n",
    "# Open the file and write each dictionary as a new line\n",
    "with open(output_filename, 'w') as f:\n",
    "    for item in gsm_he_lst:\n",
    "        # Convert dict to a JSON string and add a newline character\n",
    "        f.write(json.dumps(item) + '\\n')\n",
    "\n",
    "print(f\"Successfully saved data to {output_filename}\")"
   ]
  },
  {
   "cell_type": "markdown",
   "id": "70414386-d03a-49c4-8ed8-e0894262c752",
   "metadata": {},
   "source": [
    "# MMLU"
   ]
  },
  {
   "cell_type": "code",
   "execution_count": 4,
   "id": "269ff64c-5b0a-4fcb-8033-3b85b4b8c45d",
   "metadata": {},
   "outputs": [
    {
     "data": {
      "text/plain": [
       "{'mmlu_test': Dataset({\n",
       "     features: ['question', 'subject', 'choices', 'answer'],\n",
       "     num_rows: 14042\n",
       " }),\n",
       " 'mmlu_train': Dataset({\n",
       "     features: ['question', 'subject', 'choices', 'answer'],\n",
       "     num_rows: 99842\n",
       " }),\n",
       " 'mmlu_val': Dataset({\n",
       "     features: ['question', 'subject', 'choices', 'answer'],\n",
       "     num_rows: 1531\n",
       " })}"
      ]
     },
     "execution_count": 4,
     "metadata": {},
     "output_type": "execute_result"
    }
   ],
   "source": [
    "from datasets import load_dataset\n",
    "\n",
    "mmlu_en = mmlu.get_mmlu_datasets()\n",
    "mmlu_en['mmlu_train'] = load_dataset(\"cais/mmlu\", \"all\", split='auxiliary_train')\n",
    "mmlu_en['mmlu_val'] = load_dataset(\"cais/mmlu\", \"all\", split='validation')\n",
    "mmlu_en"
   ]
  },
  {
   "cell_type": "code",
   "execution_count": 5,
   "id": "184c050f-96c3-4b53-a2a5-27484f556488",
   "metadata": {},
   "outputs": [
    {
     "data": {
      "text/plain": [
       "(177, 22)"
      ]
     },
     "execution_count": 5,
     "metadata": {},
     "output_type": "execute_result"
    }
   ],
   "source": [
    "mmlu_labels = parse_single_file_gradio('labeled_files/mmlu_test_labeled_gradio.csv')\n",
    "\n",
    "# manual fix\n",
    "mmlu_labels.loc[145, 'rating'] = '1'  # rating missing\n",
    "mmlu_labels.loc[35, 'rating'] = '2'  # rating missing\n",
    "mmlu_labels.loc[35, 'rating model'] =  mmlu_labels.loc[35, 'model 2'] # rating missing\n",
    "mmlu_labels.loc[68, 'gold'] = ''  # the gold is '\\n' instead of ''\n",
    "\n",
    "mmlu_labels.shape"
   ]
  },
  {
   "cell_type": "code",
   "execution_count": 6,
   "id": "4a37526c-8d93-4584-9878-8d4205c59e6f",
   "metadata": {},
   "outputs": [
    {
     "data": {
      "text/plain": [
       "rating\n",
       "2       58\n",
       "1       52\n",
       "SKIP    38\n",
       "BOTH    29\n",
       "Name: count, dtype: int64"
      ]
     },
     "execution_count": 6,
     "metadata": {},
     "output_type": "execute_result"
    }
   ],
   "source": [
    "mmlu_labels['rating'].value_counts()"
   ]
  },
  {
   "cell_type": "code",
   "execution_count": 7,
   "id": "8ae91214-b0cb-4d67-9305-fb7cef587d88",
   "metadata": {},
   "outputs": [
    {
     "name": "stdout",
     "output_type": "stream",
     "text": [
      "Throw away 38 'SKIP' samples\n"
     ]
    }
   ],
   "source": [
    "print(f\"Throw away {(mmlu_labels['rating'] == 'SKIP').sum()} 'SKIP' samples\")\n",
    "mmlu_labels = mmlu_labels[mmlu_labels['rating'] != 'SKIP']"
   ]
  },
  {
   "cell_type": "code",
   "execution_count": 8,
   "id": "247de7f6-c0e2-40a2-867d-740fcaa4c67f",
   "metadata": {},
   "outputs": [
    {
     "data": {
      "text/plain": [
       "(139, 22)"
      ]
     },
     "execution_count": 8,
     "metadata": {},
     "output_type": "execute_result"
    }
   ],
   "source": [
    "mmlu_labels.shape"
   ]
  },
  {
   "cell_type": "markdown",
   "id": "eca8ed47-5c83-4e08-9b97-242d4f37daee",
   "metadata": {},
   "source": [
    "___"
   ]
  },
  {
   "cell_type": "code",
   "execution_count": 9,
   "id": "7fa9b2cf-16f9-4bac-ab76-252e6d6db103",
   "metadata": {
    "scrolled": true
   },
   "outputs": [],
   "source": [
    "mmlu_labels['rating'] = mmlu_labels.apply(lambda x: map_rating_to_model(x, mmlu_labels), axis=1)"
   ]
  },
  {
   "cell_type": "code",
   "execution_count": 10,
   "id": "f77dd9cd-eb97-4f52-b669-f9d59457a91e",
   "metadata": {},
   "outputs": [
    {
     "data": {
      "text/plain": [
       "(139, 139, 139)"
      ]
     },
     "execution_count": 10,
     "metadata": {},
     "output_type": "execute_result"
    }
   ],
   "source": [
    "mmlu_he_lst, mmlu_original_txt = get_gold(mmlu_labels, True)\n",
    "\n",
    "mmlu_he_lst = [{\n",
    "    'query': d['question'],\n",
    "    'choices': [d[f'choice_{i}'] for i in ['a', 'b', 'c', 'd']],\n",
    "} for d in mmlu_he_lst]\n",
    "\n",
    "len(mmlu_he_lst), len(mmlu_original_txt), mmlu_labels.shape[0] - (mmlu_labels['rating'] == 'SKIP').sum()"
   ]
  },
  {
   "cell_type": "code",
   "execution_count": 26,
   "id": "28125690-8168-47cb-94d6-a6f149117fe3",
   "metadata": {},
   "outputs": [],
   "source": [
    "a = pd.read_csv('labeled_files/mmlu_main_sub_TEST_2_labeled_gradio.csv')['rating'].iloc[34:] == 'SKIP'"
   ]
  },
  {
   "cell_type": "code",
   "execution_count": 28,
   "id": "ff875829-8008-42eb-9202-9fa0661c463a",
   "metadata": {},
   "outputs": [
    {
     "data": {
      "text/plain": [
       "(8,)"
      ]
     },
     "execution_count": 28,
     "metadata": {},
     "output_type": "execute_result"
    }
   ],
   "source": [
    "a[a].shape"
   ]
  },
  {
   "cell_type": "code",
   "execution_count": 11,
   "id": "71d8eeb3-4eb1-464c-af50-e6454be9a388",
   "metadata": {},
   "outputs": [
    {
     "name": "stdout",
     "output_type": "stream",
     "text": [
      "Throw away 111 'SKIP' samples\n",
      "Throw away 9 'SKIP' samples\n",
      "Throw away 13 'SKIP' samples\n",
      "Throw away 4 'SKIP' samples\n",
      "mmlu_main_1 (580, 16) 580\n",
      "mmlu_main_2 (185, 16) 185\n",
      "mmlu_prob_1 (68, 16) 68\n",
      "mmlu_prob_2 (60, 16) 60\n"
     ]
    }
   ],
   "source": [
    "more_mmlu = {}\n",
    "more_mmlu['mmlu_main_1'] = pd.read_csv('labeled_files/mmlu_main_sub_TEST_labeled_gradio.csv')\n",
    "more_mmlu['mmlu_main_2'] = pd.read_csv('labeled_files/mmlu_main_sub_TEST_2_labeled_gradio.csv')\n",
    "more_mmlu['mmlu_prob_1'] = pd.read_csv('labeled_files/mmlu_prob_TEST_gradio.csv')\n",
    "more_mmlu['mmlu_prob_2'] = pd.read_csv('labeled_files/mmlu_prob_TEST_2_gradio.csv').head(64)\n",
    "\n",
    "# overlap:\n",
    "assert (more_mmlu['mmlu_main_1']['text_column'].iloc[:500:15] == more_mmlu['mmlu_main_2']['text_column'].head(34).values).all(), 'nonono!'\n",
    "more_mmlu['mmlu_main_2'] = more_mmlu['mmlu_main_2'].iloc[34:]\n",
    "\n",
    "# manual fix\n",
    "if more_mmlu['mmlu_main_1'].loc[326, 'gold'].startswith('question>'):\n",
    "    more_mmlu['mmlu_main_1'].loc[326, 'gold'] = '<' + more_mmlu['mmlu_main_1'].loc[326, 'gold']\n",
    "\n",
    "more_mmlu['mmlu_main_2'].loc[212, 'rating'] = 'SKIP'\n",
    "\n",
    "\n",
    "def clean(df):\n",
    "    df = df.fillna('')\n",
    "    df['rating'] = df['rating'].apply(str).replace('1.0', '1').replace('2.0', '2')\n",
    "\n",
    "    print(f\"Throw away {(df['rating'] == 'SKIP').sum()} 'SKIP' samples\")\n",
    "    df = df[df['rating'] != 'SKIP']\n",
    "\n",
    "    old = df.copy()\n",
    "    df.loc[df['gold'] == '', 'gold'] = df.loc[df['gold'] == '']['new_text_column'].values\n",
    "\n",
    "    return df\n",
    "\n",
    "\n",
    "more_mmlu_he_lst = {k: [] for k in more_mmlu}\n",
    "more_mmlu_original_txt = {k: [] for k in more_mmlu}\n",
    "for k in more_mmlu:\n",
    "    more_mmlu[k] = clean(more_mmlu[k])\n",
    "    for _, row in more_mmlu[k].iterrows():\n",
    "        d = query_to_sample(row['gold'])\n",
    "        more_mmlu_he_lst[k].append({\n",
    "            'query': d['question'],\n",
    "            'choices': [d[f'choice_{i}'] for i in ['a', 'b', 'c', 'd']],\n",
    "        })\n",
    "\n",
    "        more_mmlu_original_txt[k].append(row['text_column'])\n",
    "\n",
    "for k in more_mmlu:\n",
    "    print(k, more_mmlu[k].shape, len(more_mmlu_original_txt[k]))"
   ]
  },
  {
   "cell_type": "code",
   "execution_count": 12,
   "id": "ec6d54d0-261d-4e46-8a89-ae66d2311513",
   "metadata": {},
   "outputs": [],
   "source": [
    "MAP_LABEL_TO_ANSWER_INDEX = {\n",
    "    'A': 0,\n",
    "    'B': 1,\n",
    "    'C': 2,\n",
    "    'D': 3,\n",
    "    '1': 0,\n",
    "    '2': 1,\n",
    "    '3': 2,\n",
    "    '4': 3,\n",
    "    0: 0,\n",
    "    1: 1,\n",
    "    2: 2,\n",
    "    3: 3,\n",
    "}"
   ]
  },
  {
   "cell_type": "code",
   "execution_count": 13,
   "id": "ca2e9f9e-559c-465b-8bfa-cd6152960cc9",
   "metadata": {},
   "outputs": [
    {
     "name": "stdout",
     "output_type": "stream",
     "text": [
      "121\n",
      "----\n",
      "121 18 139 139\n",
      "580 580\n",
      "185 185\n",
      "68 68\n",
      "60 60\n"
     ]
    }
   ],
   "source": [
    "map_indcs = {}\n",
    "cnt = 0\n",
    "# The mmlu test file contains also 22 samples from the val....\n",
    "for i in range(len(mmlu_he_lst)):  # len(mmlu_he_lst)):\n",
    "    while dict_to_prompt(mmlu.mmlu_sample_to_dict(mmlu_en['mmlu_test'][cnt])) != mmlu_original_txt[i]:\n",
    "        cnt += 1\n",
    "        if cnt >= mmlu_en['mmlu_test'].num_rows:\n",
    "            break\n",
    "    if cnt >= mmlu_en['mmlu_test'].num_rows:\n",
    "        break\n",
    "    map_indcs[i] = cnt\n",
    "\n",
    "start_again_from = i\n",
    "print(start_again_from)\n",
    "\n",
    "map_indcs_val = {}\n",
    "cnt = 0\n",
    "for i in range(start_again_from, len(mmlu_he_lst)):\n",
    "    while dict_to_prompt(mmlu.mmlu_sample_to_dict(mmlu_en['mmlu_val'][cnt])) != mmlu_original_txt[i]:\n",
    "        cnt += 1\n",
    "    map_indcs_val[i] = cnt\n",
    "\n",
    "print('----')\n",
    "\n",
    "more_mmlu_map_indcs = {k: {} for k in more_mmlu_he_lst}\n",
    "for k in more_mmlu_he_lst:\n",
    "    cnt = 0\n",
    "    for i in range(len(more_mmlu_he_lst[k])):\n",
    "        while dict_to_prompt(mmlu.mmlu_sample_to_dict(mmlu_en['mmlu_test'][cnt])) != more_mmlu_original_txt[k][i]:\n",
    "            cnt += 1\n",
    "        more_mmlu_map_indcs[k][i] = cnt\n",
    "\n",
    "print(len(map_indcs), len(map_indcs_val), len(mmlu_he_lst), len(map_indcs) + len(map_indcs_val))\n",
    "for k in more_mmlu_he_lst:\n",
    "    print(len(more_mmlu_he_lst[k]), len(more_mmlu_map_indcs[k]))"
   ]
  },
  {
   "cell_type": "code",
   "execution_count": 14,
   "id": "72735f24-decc-445c-9f49-48075db7ed0b",
   "metadata": {},
   "outputs": [
    {
     "name": "stdout",
     "output_type": "stream",
     "text": [
      "139\n",
      "580\n",
      "185\n",
      "68\n",
      "60\n"
     ]
    }
   ],
   "source": [
    "for i in range(start_again_from):\n",
    "    original_en = dict_to_prompt(mmlu.mmlu_sample_to_dict(mmlu_en['mmlu_test'][map_indcs[i]]))\n",
    "    if original_en != mmlu_original_txt[i]:\n",
    "        print('WWWWWWWWWWWWWAAAAAAAAAAAAAAAA', i)\n",
    "        break\n",
    "    new_answer = MAP_LABEL_TO_ANSWER_INDEX[mmlu_en['mmlu_test'][map_indcs[i]]['answer']]\n",
    "    mmlu_he_lst[i]['answer_index'] = new_answer\n",
    "    mmlu_he_lst[i]['from_mmlu_split'] = 'test'\n",
    "    mmlu_he_lst[i]['subject'] = mmlu_en['mmlu_test'][map_indcs[i]]['subject']\n",
    "\n",
    "for i in range(start_again_from, len(mmlu_he_lst)):\n",
    "    original_en = dict_to_prompt(mmlu.mmlu_sample_to_dict(mmlu_en['mmlu_val'][map_indcs_val[i]]))\n",
    "    if original_en != mmlu_original_txt[i]:\n",
    "        print('WWWWWWWWWWWWWAAAAAAAAAAAAAAAA', i)\n",
    "        break\n",
    "    new_answer = MAP_LABEL_TO_ANSWER_INDEX[mmlu_en['mmlu_val'][map_indcs_val[i]]['answer']]\n",
    "    mmlu_he_lst[i]['answer_index'] = new_answer\n",
    "    mmlu_he_lst[i]['from_mmlu_split'] = 'validation'\n",
    "    mmlu_he_lst[i]['subject'] = mmlu_en['mmlu_val'][map_indcs_val[i]]['subject']\n",
    "\n",
    "for k in more_mmlu_he_lst:\n",
    "    for i in range(len(more_mmlu_he_lst[k])):\n",
    "        original_en = dict_to_prompt(mmlu.mmlu_sample_to_dict(mmlu_en['mmlu_test'][more_mmlu_map_indcs[k][i]]))\n",
    "        if original_en != more_mmlu_original_txt[k][i]:\n",
    "            print('WWWWWWWWWWWWWAAAAAAAAAAAAAAAA', i)\n",
    "            break\n",
    "        new_answer = MAP_LABEL_TO_ANSWER_INDEX[mmlu_en['mmlu_test'][more_mmlu_map_indcs[k][i]]['answer']]\n",
    "        more_mmlu_he_lst[k][i]['answer_index'] = new_answer\n",
    "        more_mmlu_he_lst[k][i]['from_mmlu_split'] = 'test'\n",
    "        more_mmlu_he_lst[k][i]['subject'] = mmlu_en['mmlu_test'][more_mmlu_map_indcs[k][i]]['subject']\n",
    "\n",
    "print(len(mmlu_he_lst))\n",
    "for k in more_mmlu_he_lst:\n",
    "    print(len(more_mmlu_he_lst[k]))"
   ]
  },
  {
   "cell_type": "markdown",
   "id": "cd35a24f-df8d-4442-bc19-1ba3d5845246",
   "metadata": {},
   "source": [
    "___"
   ]
  },
  {
   "cell_type": "code",
   "execution_count": 15,
   "id": "cbb51a00-0408-4724-83d2-cdd93d75745d",
   "metadata": {},
   "outputs": [
    {
     "name": "stdout",
     "output_type": "stream",
     "text": [
      "Successfully saved data to final_hebrew_bnch/MMLU_heb_2.jsonl\n"
     ]
    }
   ],
   "source": [
    "output_filename = \"final_hebrew_bnch/MMLU_heb_2.jsonl\"\n",
    "\n",
    "# Open the file and write each dictionary as a new line\n",
    "with open(output_filename, 'w') as f:\n",
    "    for item in mmlu_he_lst:\n",
    "        # Convert dict to a JSON string and add a newline character\n",
    "        f.write(json.dumps(item) + '\\n')\n",
    "\n",
    "    for k in more_mmlu_he_lst:\n",
    "        for item in more_mmlu_he_lst[k]:\n",
    "            # Convert dict to a JSON string and add a newline character\n",
    "            f.write(json.dumps(item) + '\\n')\n",
    "\n",
    "print(f\"Successfully saved data to {output_filename}\")"
   ]
  },
  {
   "cell_type": "markdown",
   "id": "af205d74-f0b5-42d8-859e-56218a89e127",
   "metadata": {},
   "source": [
    "___"
   ]
  },
  {
   "cell_type": "code",
   "execution_count": 176,
   "id": "72b0ab97-118f-4ed9-b696-b2cb6142eb75",
   "metadata": {},
   "outputs": [],
   "source": [
    "# Process the file in chunks of 1000 lines at a time\n",
    "chunk_iterator = pd.read_json(output_filename, lines=True, chunksize=1000)\n",
    "\n",
    "for chunk in chunk_iterator:\n",
    "    mmlu_df = chunk"
   ]
  },
  {
   "cell_type": "code",
   "execution_count": 182,
   "id": "cce21ffb-a38b-4db3-a867-586c2ac39201",
   "metadata": {},
   "outputs": [
    {
     "data": {
      "text/plain": [
       "subject\n",
       "abstract_algebra                       22\n",
       "elementary_mathematics                 22\n",
       "college_mathematics                    21\n",
       "conceptual_physics                     20\n",
       "formal_logic                           20\n",
       "medical_genetics                       20\n",
       "philosophy                             20\n",
       "machine_learning                       20\n",
       "high_school_statistics                 20\n",
       "international_law                      20\n",
       "high_school_computer_science           20\n",
       "high_school_geography                  19\n",
       "human_sexuality                        19\n",
       "virology                               19\n",
       "high_school_world_history              19\n",
       "professional_medicine                  19\n",
       "professional_psychology                19\n",
       "nutrition                              19\n",
       "astronomy                              19\n",
       "high_school_microeconomics             19\n",
       "high_school_psychology                 19\n",
       "high_school_biology                    19\n",
       "high_school_macroeconomics             19\n",
       "high_school_chemistry                  18\n",
       "college_biology                        18\n",
       "prehistory                             18\n",
       "marketing                              18\n",
       "sociology                              18\n",
       "management                             18\n",
       "miscellaneous                          17\n",
       "security_studies                       17\n",
       "world_religions                        17\n",
       "moral_scenarios                        17\n",
       "high_school_mathematics                17\n",
       "clinical_knowledge                     17\n",
       "college_computer_science               17\n",
       "anatomy                                17\n",
       "public_relations                       17\n",
       "human_aging                            17\n",
       "high_school_physics                    16\n",
       "logical_fallacies                      16\n",
       "professional_law                       16\n",
       "econometrics                           16\n",
       "business_ethics                        15\n",
       "college_chemistry                      15\n",
       "college_physics                        15\n",
       "computer_security                      15\n",
       "professional_accounting                14\n",
       "college_medicine                       13\n",
       "electrical_engineering                 13\n",
       "moral_disputes                         13\n",
       "global_facts                           12\n",
       "high_school_european_history           12\n",
       "us_foreign_policy                      12\n",
       "jurisprudence                          12\n",
       "high_school_government_and_politics    11\n",
       "high_school_us_history                  8\n",
       "Name: count, dtype: int64"
      ]
     },
     "execution_count": 182,
     "metadata": {},
     "output_type": "execute_result"
    }
   ],
   "source": [
    "mmlu_df['subject'].value_counts()"
   ]
  },
  {
   "cell_type": "markdown",
   "id": "e1fb903c-e80d-4c3a-b255-beb046e43db0",
   "metadata": {},
   "source": [
    "# HellaSwag"
   ]
  },
  {
   "cell_type": "code",
   "execution_count": 8,
   "id": "64cd7d5a-e2fc-406e-b6d4-fb527843b1f5",
   "metadata": {
    "scrolled": true
   },
   "outputs": [
    {
     "data": {
      "text/plain": [
       "Dataset({\n",
       "    features: ['ind', 'activity_label', 'ctx_a', 'ctx_b', 'ctx', 'endings', 'source_id', 'split', 'split_type', 'label'],\n",
       "    num_rows: 20\n",
       "})"
      ]
     },
     "execution_count": 8,
     "metadata": {},
     "output_type": "execute_result"
    }
   ],
   "source": [
    "from datasets import load_dataset\n",
    "\n",
    "hellaswag_en = hellaswag.get_hellaswag_datasets()\n",
    "hellaswag_en = hellaswag_en['hellaswag_val'].select(range(0, 1_000, 30))\n",
    "hellaswag_en = hellaswag_en.take(20)\n",
    "hellaswag_en"
   ]
  },
  {
   "cell_type": "code",
   "execution_count": 10,
   "id": "ceafac7b-8392-4b90-8b82-9832f388e667",
   "metadata": {},
   "outputs": [
    {
     "data": {
      "text/plain": [
       "(20, 3)"
      ]
     },
     "execution_count": 10,
     "metadata": {},
     "output_type": "execute_result"
    }
   ],
   "source": [
    "hellaswag_labels = pd.read_csv('compare_csv/hellaswag/hellaswag_test_20_samples.csv')\n",
    "\n",
    "hellaswag_labels.shape"
   ]
  },
  {
   "cell_type": "code",
   "execution_count": 11,
   "id": "8ecfd672-24e1-479f-9ae2-4360d051c16b",
   "metadata": {
    "scrolled": true
   },
   "outputs": [
    {
     "data": {
      "text/html": [
       "<div>\n",
       "<style scoped>\n",
       "    .dataframe tbody tr th:only-of-type {\n",
       "        vertical-align: middle;\n",
       "    }\n",
       "\n",
       "    .dataframe tbody tr th {\n",
       "        vertical-align: top;\n",
       "    }\n",
       "\n",
       "    .dataframe thead th {\n",
       "        text-align: right;\n",
       "    }\n",
       "</style>\n",
       "<table border=\"1\" class=\"dataframe\">\n",
       "  <thead>\n",
       "    <tr style=\"text-align: right;\">\n",
       "      <th></th>\n",
       "      <th>original</th>\n",
       "      <th>gemini</th>\n",
       "      <th>answer_label</th>\n",
       "    </tr>\n",
       "  </thead>\n",
       "  <tbody>\n",
       "    <tr>\n",
       "      <th>0</th>\n",
       "      <td>&lt;activity_label&gt;Roof shingle removal&lt;/activity...</td>\n",
       "      <td>&lt;activity_label&gt;הסרת רעפים מהגג&lt;/activity_labe...</td>\n",
       "      <td>3</td>\n",
       "    </tr>\n",
       "    <tr>\n",
       "      <th>1</th>\n",
       "      <td>&lt;activity_label&gt;Gargling mouthwash&lt;/activity_l...</td>\n",
       "      <td>&lt;activity_label&gt;גרגור מי פה&lt;/activity_label&gt;\\n...</td>\n",
       "      <td>1</td>\n",
       "    </tr>\n",
       "    <tr>\n",
       "      <th>2</th>\n",
       "      <td>&lt;activity_label&gt;Kayaking&lt;/activity_label&gt;\\n&lt;ct...</td>\n",
       "      <td>&lt;activity_label&gt;שייט בקיאק&lt;/activity_label&gt;\\n&lt;...</td>\n",
       "      <td>1</td>\n",
       "    </tr>\n",
       "    <tr>\n",
       "      <th>3</th>\n",
       "      <td>&lt;activity_label&gt;Surfing&lt;/activity_label&gt;\\n&lt;ctx...</td>\n",
       "      <td>&lt;activity_label&gt;גלישת גלים&lt;/activity_label&gt;\\n&lt;...</td>\n",
       "      <td>1</td>\n",
       "    </tr>\n",
       "    <tr>\n",
       "      <th>4</th>\n",
       "      <td>&lt;activity_label&gt;Playing violin&lt;/activity_label...</td>\n",
       "      <td>&lt;activity_label&gt;נגינה בכינור&lt;/activity_label&gt;\\...</td>\n",
       "      <td>2</td>\n",
       "    </tr>\n",
       "    <tr>\n",
       "      <th>5</th>\n",
       "      <td>&lt;activity_label&gt;Layup drill in basketball&lt;/act...</td>\n",
       "      <td>&lt;activity_label&gt;תרגול ליי-אפ בכדורסל&lt;/activity...</td>\n",
       "      <td>1</td>\n",
       "    </tr>\n",
       "    <tr>\n",
       "      <th>6</th>\n",
       "      <td>&lt;activity_label&gt;Ice fishing&lt;/activity_label&gt;\\n...</td>\n",
       "      <td>&lt;activity_label&gt;דיג בקרח&lt;/activity_label&gt;\\n&lt;ct...</td>\n",
       "      <td>2</td>\n",
       "    </tr>\n",
       "    <tr>\n",
       "      <th>7</th>\n",
       "      <td>&lt;activity_label&gt;Sharpening knives&lt;/activity_la...</td>\n",
       "      <td>&lt;activity_label&gt;השחזת סכינים&lt;/activity_label&gt;\\...</td>\n",
       "      <td>2</td>\n",
       "    </tr>\n",
       "    <tr>\n",
       "      <th>8</th>\n",
       "      <td>&lt;activity_label&gt;Doing motocross&lt;/activity_labe...</td>\n",
       "      <td>&lt;activity_label&gt;רכיבת מוטוקרוס&lt;/activity_label...</td>\n",
       "      <td>3</td>\n",
       "    </tr>\n",
       "    <tr>\n",
       "      <th>9</th>\n",
       "      <td>&lt;activity_label&gt;High jump&lt;/activity_label&gt;\\n&lt;c...</td>\n",
       "      <td>&lt;activity_label&gt;קפיצה לגובה&lt;/activity_label&gt;\\n...</td>\n",
       "      <td>2</td>\n",
       "    </tr>\n",
       "    <tr>\n",
       "      <th>10</th>\n",
       "      <td>&lt;activity_label&gt;Rope skipping&lt;/activity_label&gt;...</td>\n",
       "      <td>&lt;activity_label&gt;קפיצה בחבל&lt;/activity_label&gt;\\n&lt;...</td>\n",
       "      <td>2</td>\n",
       "    </tr>\n",
       "    <tr>\n",
       "      <th>11</th>\n",
       "      <td>&lt;activity_label&gt;Shuffleboard&lt;/activity_label&gt;\\...</td>\n",
       "      <td>&lt;activity_label&gt;שאפלבורד&lt;/activity_label&gt;\\n&lt;ct...</td>\n",
       "      <td>1</td>\n",
       "    </tr>\n",
       "    <tr>\n",
       "      <th>12</th>\n",
       "      <td>&lt;activity_label&gt;Playing badminton&lt;/activity_la...</td>\n",
       "      <td>&lt;activity_label&gt;לשחק בדמינטון&lt;/activity_label&gt;...</td>\n",
       "      <td>3</td>\n",
       "    </tr>\n",
       "    <tr>\n",
       "      <th>13</th>\n",
       "      <td>&lt;activity_label&gt;Playing harmonica&lt;/activity_la...</td>\n",
       "      <td>&lt;activity_label&gt;נגינה במפוחית&lt;/activity_label&gt;...</td>\n",
       "      <td>1</td>\n",
       "    </tr>\n",
       "    <tr>\n",
       "      <th>14</th>\n",
       "      <td>&lt;activity_label&gt;Running a marathon&lt;/activity_l...</td>\n",
       "      <td>&lt;activity_label&gt;ריצת מרתון&lt;/activity_label&gt;\\n&lt;...</td>\n",
       "      <td>1</td>\n",
       "    </tr>\n",
       "    <tr>\n",
       "      <th>15</th>\n",
       "      <td>&lt;activity_label&gt;Drum corps&lt;/activity_label&gt;\\n&lt;...</td>\n",
       "      <td>&lt;activity_label&gt;להקת תופים&lt;/activity_label&gt;\\n&lt;...</td>\n",
       "      <td>2</td>\n",
       "    </tr>\n",
       "    <tr>\n",
       "      <th>16</th>\n",
       "      <td>&lt;activity_label&gt;Layup drill in basketball&lt;/act...</td>\n",
       "      <td>&lt;activity_label&gt;תרגול ליי-אפ בכדורסל&lt;/activity...</td>\n",
       "      <td>3</td>\n",
       "    </tr>\n",
       "    <tr>\n",
       "      <th>17</th>\n",
       "      <td>&lt;activity_label&gt;Playing guitarra&lt;/activity_lab...</td>\n",
       "      <td>&lt;activity_label&gt;נגינה בגיטרה&lt;/activity_label&gt;\\...</td>\n",
       "      <td>0</td>\n",
       "    </tr>\n",
       "    <tr>\n",
       "      <th>18</th>\n",
       "      <td>&lt;activity_label&gt;Cleaning shoes&lt;/activity_label...</td>\n",
       "      <td>&lt;activity_label&gt;ניקוי נעליים&lt;/activity_label&gt;\\...</td>\n",
       "      <td>2</td>\n",
       "    </tr>\n",
       "    <tr>\n",
       "      <th>19</th>\n",
       "      <td>&lt;activity_label&gt;Clean and jerk&lt;/activity_label...</td>\n",
       "      <td>&lt;activity_label&gt;דחיקה (הרמת משקולות)&lt;/activity...</td>\n",
       "      <td>2</td>\n",
       "    </tr>\n",
       "  </tbody>\n",
       "</table>\n",
       "</div>"
      ],
      "text/plain": [
       "                                             original  \\\n",
       "0   <activity_label>Roof shingle removal</activity...   \n",
       "1   <activity_label>Gargling mouthwash</activity_l...   \n",
       "2   <activity_label>Kayaking</activity_label>\\n<ct...   \n",
       "3   <activity_label>Surfing</activity_label>\\n<ctx...   \n",
       "4   <activity_label>Playing violin</activity_label...   \n",
       "5   <activity_label>Layup drill in basketball</act...   \n",
       "6   <activity_label>Ice fishing</activity_label>\\n...   \n",
       "7   <activity_label>Sharpening knives</activity_la...   \n",
       "8   <activity_label>Doing motocross</activity_labe...   \n",
       "9   <activity_label>High jump</activity_label>\\n<c...   \n",
       "10  <activity_label>Rope skipping</activity_label>...   \n",
       "11  <activity_label>Shuffleboard</activity_label>\\...   \n",
       "12  <activity_label>Playing badminton</activity_la...   \n",
       "13  <activity_label>Playing harmonica</activity_la...   \n",
       "14  <activity_label>Running a marathon</activity_l...   \n",
       "15  <activity_label>Drum corps</activity_label>\\n<...   \n",
       "16  <activity_label>Layup drill in basketball</act...   \n",
       "17  <activity_label>Playing guitarra</activity_lab...   \n",
       "18  <activity_label>Cleaning shoes</activity_label...   \n",
       "19  <activity_label>Clean and jerk</activity_label...   \n",
       "\n",
       "                                               gemini  answer_label  \n",
       "0   <activity_label>הסרת רעפים מהגג</activity_labe...             3  \n",
       "1   <activity_label>גרגור מי פה</activity_label>\\n...             1  \n",
       "2   <activity_label>שייט בקיאק</activity_label>\\n<...             1  \n",
       "3   <activity_label>גלישת גלים</activity_label>\\n<...             1  \n",
       "4   <activity_label>נגינה בכינור</activity_label>\\...             2  \n",
       "5   <activity_label>תרגול ליי-אפ בכדורסל</activity...             1  \n",
       "6   <activity_label>דיג בקרח</activity_label>\\n<ct...             2  \n",
       "7   <activity_label>השחזת סכינים</activity_label>\\...             2  \n",
       "8   <activity_label>רכיבת מוטוקרוס</activity_label...             3  \n",
       "9   <activity_label>קפיצה לגובה</activity_label>\\n...             2  \n",
       "10  <activity_label>קפיצה בחבל</activity_label>\\n<...             2  \n",
       "11  <activity_label>שאפלבורד</activity_label>\\n<ct...             1  \n",
       "12  <activity_label>לשחק בדמינטון</activity_label>...             3  \n",
       "13  <activity_label>נגינה במפוחית</activity_label>...             1  \n",
       "14  <activity_label>ריצת מרתון</activity_label>\\n<...             1  \n",
       "15  <activity_label>להקת תופים</activity_label>\\n<...             2  \n",
       "16  <activity_label>תרגול ליי-אפ בכדורסל</activity...             3  \n",
       "17  <activity_label>נגינה בגיטרה</activity_label>\\...             0  \n",
       "18  <activity_label>ניקוי נעליים</activity_label>\\...             2  \n",
       "19  <activity_label>דחיקה (הרמת משקולות)</activity...             2  "
      ]
     },
     "execution_count": 11,
     "metadata": {},
     "output_type": "execute_result"
    }
   ],
   "source": [
    "hellaswag_labels"
   ]
  },
  {
   "cell_type": "code",
   "execution_count": 12,
   "id": "323cc704-8d0c-4008-ad87-c6431967dee3",
   "metadata": {},
   "outputs": [
    {
     "data": {
      "text/plain": [
       "{'activity_label': 'הסרת רעפים מהגג',\n",
       " 'ctx_a': 'גבר יושב על גג.',\n",
       " 'ctx_b': 'הוא',\n",
       " 'ctx': 'גבר יושב על גג. הוא',\n",
       " 'ending 1': 'משתמש בניילון נצמד כדי לעטוף זוג מגלשי סקי.',\n",
       " 'ending 2': 'תולש אריחים ישרים.',\n",
       " 'ending 3': 'מחזיק קובייה הונגרית.',\n",
       " 'ending 4': 'מתחיל לתלוש את הרעפים מהגג.'}"
      ]
     },
     "execution_count": 12,
     "metadata": {},
     "output_type": "execute_result"
    }
   ],
   "source": [
    "query_to_sample(hellaswag_labels.loc[0, 'gemini'])"
   ]
  },
  {
   "cell_type": "code",
   "execution_count": 17,
   "id": "63ae9259-e1f7-4803-9e6f-14122f8088a4",
   "metadata": {},
   "outputs": [
    {
     "data": {
      "text/plain": [
       "20"
      ]
     },
     "execution_count": 17,
     "metadata": {},
     "output_type": "execute_result"
    }
   ],
   "source": [
    "hellaswag_he_lst = []\n",
    "for cnt, row in hellaswag_labels.iterrows():\n",
    "    d = query_to_sample(row['gemini'])\n",
    "    hellaswag_he_lst.append({\n",
    "        'query': d['ctx'],\n",
    "        'choices': [d[f'ending {i}'] for i in ['1', '2', '3', '4']],\n",
    "        'answer_index': row['answer_label']\n",
    "    })\n",
    "\n",
    "len(hellaswag_he_lst)"
   ]
  },
  {
   "cell_type": "code",
   "execution_count": 19,
   "id": "29454b95-177b-4422-bbb5-1406f6226da9",
   "metadata": {},
   "outputs": [
    {
     "data": {
      "text/plain": [
       "[{'qwery': 'גבר יושב על גג. הוא',\n",
       "  'choices': ['משתמש בניילון נצמד כדי לעטוף זוג מגלשי סקי.',\n",
       "   'תולש אריחים ישרים.',\n",
       "   'מחזיק קובייה הונגרית.',\n",
       "   'מתחיל לתלוש את הרעפים מהגג.'],\n",
       "  'answer_index': 3},\n",
       " {'qwery': 'היא מביאה להם קצת מים לגרגר בפה. הילד והילדה מתחילים לשחק בכיור. האישה',\n",
       "  'choices': ['מנידה בראשה בחוסר אמון ומנופפת לה לשלום.',\n",
       "   'צוחקת על הילדים שמטפטפים מים.',\n",
       "   'חוזרת ומדברת עם הבנים.',\n",
       "   'מוציאה אוכל מהמקרר והם ממשיכים לשחק יחד.'],\n",
       "  'answer_index': 1}]"
      ]
     },
     "execution_count": 19,
     "metadata": {},
     "output_type": "execute_result"
    }
   ],
   "source": [
    "hellaswag_he_lst[:2]"
   ]
  },
  {
   "cell_type": "markdown",
   "id": "f752ed0b-f433-4f2c-aedb-692174637245",
   "metadata": {},
   "source": [
    "___"
   ]
  },
  {
   "cell_type": "code",
   "execution_count": 20,
   "id": "4ddfe157-360a-44d0-9967-b5185dd017e3",
   "metadata": {},
   "outputs": [
    {
     "name": "stdout",
     "output_type": "stream",
     "text": [
      "Successfully saved data to final_hebrew_bnch/hellaswag_20_samples.jsonl\n"
     ]
    }
   ],
   "source": [
    "output_filename = \"final_hebrew_bnch/hellaswag_20_samples.jsonl\"\n",
    "\n",
    "# Open the file and write each dictionary as a new line\n",
    "with open(output_filename, 'w') as f:\n",
    "    for item in hellaswag_he_lst:\n",
    "        # Convert dict to a JSON string and add a newline character\n",
    "        f.write(json.dumps(item) + '\\n')\n",
    "\n",
    "print(f\"Successfully saved data to {output_filename}\")"
   ]
  },
  {
   "cell_type": "markdown",
   "id": "97dd74e0-e9dd-4496-8057-e7f142c8aa20",
   "metadata": {},
   "source": [
    "# COPA"
   ]
  },
  {
   "cell_type": "raw",
   "id": "51644719-9eda-4e84-aad7-b6b9547cd2be",
   "metadata": {
    "scrolled": true
   },
   "source": [
    "from datasets import load_dataset\n",
    "\n",
    "copa_en = copa.get_copa_datasets()\n",
    "copa_en = copa_en['copa_val'].select(range(0, 1_000, 30))\n",
    "copa_en = copa_en.take(20)\n",
    "copa_en"
   ]
  },
  {
   "cell_type": "code",
   "execution_count": 22,
   "id": "c4ef774e-39c1-4205-a0a7-85ea5ca58c1d",
   "metadata": {},
   "outputs": [
    {
     "data": {
      "text/plain": [
       "(20, 3)"
      ]
     },
     "execution_count": 22,
     "metadata": {},
     "output_type": "execute_result"
    }
   ],
   "source": [
    "copa_labels = pd.read_csv('compare_csv/copa/copa_train_20_samples.csv')\n",
    "\n",
    "copa_labels.shape"
   ]
  },
  {
   "cell_type": "code",
   "execution_count": 23,
   "id": "5238dab4-091f-4751-ba57-03f1d3b9f257",
   "metadata": {},
   "outputs": [
    {
     "data": {
      "text/html": [
       "<div>\n",
       "<style scoped>\n",
       "    .dataframe tbody tr th:only-of-type {\n",
       "        vertical-align: middle;\n",
       "    }\n",
       "\n",
       "    .dataframe tbody tr th {\n",
       "        vertical-align: top;\n",
       "    }\n",
       "\n",
       "    .dataframe thead th {\n",
       "        text-align: right;\n",
       "    }\n",
       "</style>\n",
       "<table border=\"1\" class=\"dataframe\">\n",
       "  <thead>\n",
       "    <tr style=\"text-align: right;\">\n",
       "      <th></th>\n",
       "      <th>original</th>\n",
       "      <th>gemini_pro_think_v1</th>\n",
       "      <th>answer_label</th>\n",
       "    </tr>\n",
       "  </thead>\n",
       "  <tbody>\n",
       "    <tr>\n",
       "      <th>0</th>\n",
       "      <td>&lt;premise&gt;My body cast a shadow over the grass....</td>\n",
       "      <td>&lt;premise&gt;גופי הטיל צל על הדשא.&lt;/premise&gt;\\n&lt;cho...</td>\n",
       "      <td>1</td>\n",
       "    </tr>\n",
       "    <tr>\n",
       "      <th>1</th>\n",
       "      <td>&lt;premise&gt;The woman tolerated her friend's diff...</td>\n",
       "      <td>&lt;premise&gt;האישה סבלה את ההתנהגות הקשה של חברתה....</td>\n",
       "      <td>0</td>\n",
       "    </tr>\n",
       "    <tr>\n",
       "      <th>2</th>\n",
       "      <td>&lt;premise&gt;The women met for coffee.&lt;/premise&gt;\\n...</td>\n",
       "      <td>&lt;premise&gt;הנשים נפגשו לקפה.&lt;/premise&gt;\\n&lt;choice1...</td>\n",
       "      <td>1</td>\n",
       "    </tr>\n",
       "  </tbody>\n",
       "</table>\n",
       "</div>"
      ],
      "text/plain": [
       "                                            original  \\\n",
       "0  <premise>My body cast a shadow over the grass....   \n",
       "1  <premise>The woman tolerated her friend's diff...   \n",
       "2  <premise>The women met for coffee.</premise>\\n...   \n",
       "\n",
       "                                 gemini_pro_think_v1  answer_label  \n",
       "0  <premise>גופי הטיל צל על הדשא.</premise>\\n<cho...             1  \n",
       "1  <premise>האישה סבלה את ההתנהגות הקשה של חברתה....             0  \n",
       "2  <premise>הנשים נפגשו לקפה.</premise>\\n<choice1...             1  "
      ]
     },
     "execution_count": 23,
     "metadata": {},
     "output_type": "execute_result"
    }
   ],
   "source": [
    "copa_labels.head(3)"
   ]
  },
  {
   "cell_type": "code",
   "execution_count": 25,
   "id": "8707e331-ec8d-47c4-8366-669a1bcffd11",
   "metadata": {},
   "outputs": [
    {
     "data": {
      "text/plain": [
       "'<premise>גופי הטיל צל על הדשא.</premise>\\n<choice1>הדשא היה מכוסח.</choice1>\\n<choice2>השמש זרחה.</choice2>'"
      ]
     },
     "execution_count": 25,
     "metadata": {},
     "output_type": "execute_result"
    }
   ],
   "source": [
    "copa_labels['gemini_pro_think_v1'].iloc[0]"
   ]
  },
  {
   "cell_type": "code",
   "execution_count": 26,
   "id": "c49441b4-3fd7-4d7b-8488-89caf5e748f0",
   "metadata": {},
   "outputs": [
    {
     "data": {
      "text/plain": [
       "20"
      ]
     },
     "execution_count": 26,
     "metadata": {},
     "output_type": "execute_result"
    }
   ],
   "source": [
    "copa_he_lst = []\n",
    "for cnt, row in copa_labels.iterrows():\n",
    "    d = query_to_sample(row['gemini_pro_think_v1'])\n",
    "    copa_he_lst.append({\n",
    "        'query': d['premise'],\n",
    "        'choices': [d[f'choice{i}'] for i in ['1', '2']],\n",
    "        'answer_index': row['answer_label']\n",
    "    })\n",
    "\n",
    "len(copa_he_lst)"
   ]
  },
  {
   "cell_type": "code",
   "execution_count": 29,
   "id": "f77347d8-05c5-4268-86b2-20da7cd435be",
   "metadata": {},
   "outputs": [
    {
     "data": {
      "text/plain": [
       "[{'qwery': 'גופי הטיל צל על הדשא.',\n",
       "  'choices': ['הדשא היה מכוסח.', 'השמש זרחה.'],\n",
       "  'answer_index': 1},\n",
       " {'qwery': 'האישה סבלה את ההתנהגות הקשה של חברתה.',\n",
       "  'choices': ['האישה ידעה שחברתה עוברת תקופה קשה.',\n",
       "   'האישה הרגישה שחברתה ניצלה את טוב ליבה.'],\n",
       "  'answer_index': 0}]"
      ]
     },
     "execution_count": 29,
     "metadata": {},
     "output_type": "execute_result"
    }
   ],
   "source": [
    "copa_he_lst[:2]"
   ]
  },
  {
   "cell_type": "markdown",
   "id": "726086f9-dd2a-4dbe-a937-e48644f50eac",
   "metadata": {},
   "source": [
    "___"
   ]
  },
  {
   "cell_type": "code",
   "execution_count": 30,
   "id": "e9413d0f-5e46-4cdf-a409-9fbcf3c15e27",
   "metadata": {},
   "outputs": [
    {
     "name": "stdout",
     "output_type": "stream",
     "text": [
      "Successfully saved data to final_hebrew_bnch/copa_20_samples.jsonl\n"
     ]
    }
   ],
   "source": [
    "output_filename = \"final_hebrew_bnch/copa_20_samples.jsonl\"\n",
    "\n",
    "# Open the file and write each dictionary as a new line\n",
    "with open(output_filename, 'w') as f:\n",
    "    for item in copa_he_lst:\n",
    "        # Convert dict to a JSON string and add a newline character\n",
    "        f.write(json.dumps(item) + '\\n')\n",
    "\n",
    "print(f\"Successfully saved data to {output_filename}\")"
   ]
  }
 ],
 "metadata": {
  "kernelspec": {
   "display_name": "conda_pytorch_p310",
   "language": "python",
   "name": "conda_pytorch_p310"
  },
  "language_info": {
   "codemirror_mode": {
    "name": "ipython",
    "version": 3
   },
   "file_extension": ".py",
   "mimetype": "text/x-python",
   "name": "python",
   "nbconvert_exporter": "python",
   "pygments_lexer": "ipython3",
   "version": "3.10.14"
  }
 },
 "nbformat": 4,
 "nbformat_minor": 5
}
