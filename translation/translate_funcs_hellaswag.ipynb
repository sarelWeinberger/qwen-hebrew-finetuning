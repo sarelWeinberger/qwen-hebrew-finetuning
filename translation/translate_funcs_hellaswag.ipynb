{
 "cells": [
  {
   "cell_type": "code",
   "execution_count": 1,
   "id": "initial_id",
   "metadata": {
    "ExecuteTime": {
     "end_time": "2025-07-16T20:10:27.463994Z",
     "start_time": "2025-07-16T20:10:27.460827Z"
    },
    "collapsed": true,
    "jupyter": {
     "outputs_hidden": true
    }
   },
   "outputs": [],
   "source": [
    "# HellaSwag"
   ]
  },
  {
   "cell_type": "code",
   "execution_count": null,
   "id": "41051c4869044543",
   "metadata": {
    "ExecuteTime": {
     "end_time": "2025-07-16T20:10:27.594327Z",
     "start_time": "2025-07-16T20:10:27.592836Z"
    }
   },
   "outputs": [],
   "source": []
  },
  {
   "cell_type": "code",
   "execution_count": null,
   "id": "f2cc388c-45ea-4a61-990e-57f72d9cc9d6",
   "metadata": {
    "ExecuteTime": {
     "end_time": "2025-07-16T20:10:31.793871Z",
     "start_time": "2025-07-16T20:10:27.762203Z"
    }
   },
   "outputs": [],
   "source": [
    "!pip install datasets\n",
    "!pip install openpyxl\n",
    "!pip install -q -U google-genai\n",
    "# !pip install transformers\n",
    "# !pip install accelerate\n",
    "# !pip install peft\n",
    "# !pip install bitsandbytes"
   ]
  },
  {
   "cell_type": "code",
   "execution_count": 1,
   "id": "8e97991c-6dfb-4b6f-80e9-129c802820d9",
   "metadata": {
    "ExecuteTime": {
     "end_time": "2025-07-16T20:10:31.793871Z",
     "start_time": "2025-07-16T20:10:27.762203Z"
    }
   },
   "outputs": [],
   "source": [
    "# Imports\n",
    "%load_ext autoreload\n",
    "%autoreload 2\n",
    "\n",
    "import pandas as pd\n",
    "import sys\n",
    "\n",
    "# Call models\n",
    "from src.call_models import bedrock_connect, call_claude_bedrock\n",
    "from src.call_models import google_connect, call_gemini, all_string_gemini_config, all_int_gemini_config\n",
    "from src.translate_func import claude_translation, gemini_translation\n",
    "\n",
    "# Datasets\n",
    "\n",
    "from src.benchmarks_code import hellaswag\n",
    "from prompts import hallaswag_prompts\n",
    "\n",
    "# Access keys\n",
    "from my_access_keys import google_access_key, aws_access_key, aws_secret_key\n",
    "\n",
    "# .csv utils\n",
    "from src.save_utils import add_dataset_to_csv\n",
    "\n",
    "# Remove annoying warning\n",
    "from IPython.core.display_functions import display"
   ]
  },
  {
   "cell_type": "code",
   "execution_count": 3,
   "id": "9485b6b2f509611b",
   "metadata": {
    "ExecuteTime": {
     "end_time": "2025-07-16T20:10:31.808651Z",
     "start_time": "2025-07-16T20:10:31.797637Z"
    }
   },
   "outputs": [],
   "source": [
    "## GetDataset"
   ]
  },
  {
   "cell_type": "code",
   "execution_count": 2,
   "id": "9a57c574e0e2cf37",
   "metadata": {
    "ExecuteTime": {
     "end_time": "2025-07-16T20:10:32.037915Z",
     "start_time": "2025-07-16T20:10:31.816377Z"
    }
   },
   "outputs": [],
   "source": [
    "bedrock_client = bedrock_connect(aws_access_key, aws_secret_key)\n",
    "google_client = google_connect(google_access_key)"
   ]
  },
  {
   "cell_type": "code",
   "execution_count": 3,
   "id": "cecf171cc60a071e",
   "metadata": {
    "ExecuteTime": {
     "end_time": "2025-07-16T20:10:39.254394Z",
     "start_time": "2025-07-16T20:10:32.043923Z"
    }
   },
   "outputs": [
    {
     "data": {
      "application/vnd.jupyter.widget-view+json": {
       "model_id": "7e860f80430343cca6315f32bed4dd05",
       "version_major": 2,
       "version_minor": 0
      },
      "text/plain": [
       "README.md: 0.00B [00:00, ?B/s]"
      ]
     },
     "metadata": {},
     "output_type": "display_data"
    },
    {
     "data": {
      "application/vnd.jupyter.widget-view+json": {
       "model_id": "40575344eb384358b6029d5564eeacf9",
       "version_major": 2,
       "version_minor": 0
      },
      "text/plain": [
       "data/train-00000-of-00001.parquet:   0%|          | 0.00/24.4M [00:00<?, ?B/s]"
      ]
     },
     "metadata": {},
     "output_type": "display_data"
    },
    {
     "data": {
      "application/vnd.jupyter.widget-view+json": {
       "model_id": "4a20e1ee780f4d1f9b9c58e2f594a556",
       "version_major": 2,
       "version_minor": 0
      },
      "text/plain": [
       "data/test-00000-of-00001.parquet:   0%|          | 0.00/6.11M [00:00<?, ?B/s]"
      ]
     },
     "metadata": {},
     "output_type": "display_data"
    },
    {
     "data": {
      "application/vnd.jupyter.widget-view+json": {
       "model_id": "52fcf7ee650a446dbd2e560266c3261f",
       "version_major": 2,
       "version_minor": 0
      },
      "text/plain": [
       "data/validation-00000-of-00001.parquet:   0%|          | 0.00/6.32M [00:00<?, ?B/s]"
      ]
     },
     "metadata": {},
     "output_type": "display_data"
    },
    {
     "data": {
      "application/vnd.jupyter.widget-view+json": {
       "model_id": "84702551b399455084c0937bb70d8494",
       "version_major": 2,
       "version_minor": 0
      },
      "text/plain": [
       "Generating train split:   0%|          | 0/39905 [00:00<?, ? examples/s]"
      ]
     },
     "metadata": {},
     "output_type": "display_data"
    },
    {
     "data": {
      "application/vnd.jupyter.widget-view+json": {
       "model_id": "60341927c13f4caca122dfa876da4fbb",
       "version_major": 2,
       "version_minor": 0
      },
      "text/plain": [
       "Generating test split:   0%|          | 0/10003 [00:00<?, ? examples/s]"
      ]
     },
     "metadata": {},
     "output_type": "display_data"
    },
    {
     "data": {
      "application/vnd.jupyter.widget-view+json": {
       "model_id": "3ae61f8992794dd1bd12456ca2b81387",
       "version_major": 2,
       "version_minor": 0
      },
      "text/plain": [
       "Generating validation split:   0%|          | 0/10042 [00:00<?, ? examples/s]"
      ]
     },
     "metadata": {},
     "output_type": "display_data"
    },
    {
     "name": "stdout",
     "output_type": "stream",
     "text": [
      "compare_csv/hellaswag_train_top_50.csv\n"
     ]
    },
    {
     "data": {
      "text/plain": [
       "{'hellaswag_train': Dataset({\n",
       "     features: ['ind', 'activity_label', 'ctx_a', 'ctx_b', 'ctx', 'endings', 'source_id', 'split', 'split_type', 'label'],\n",
       "     num_rows: 10\n",
       " })}"
      ]
     },
     "execution_count": 3,
     "metadata": {},
     "output_type": "execute_result"
    }
   ],
   "source": [
    "hellaswag_dataset = hellaswag.get_hellaswag_datasets()\n",
    "hellaswag_dataset['hellaswag_train'] = hellaswag_dataset['hellaswag_train'].skip(5).select([1, 10, 20, 30, 40, 50, 60, 66, 70, 80])\n",
    "hellaswag_file_name = 'compare_csv/hellaswag_train_top_50.csv'\n",
    "\n",
    "print(hellaswag_file_name)\n",
    "hellaswag_dataset"
   ]
  },
  {
   "cell_type": "code",
   "execution_count": null,
   "id": "f0960b13-67bc-47b5-8ba4-a83afcfae367",
   "metadata": {
    "ExecuteTime": {
     "end_time": "2025-07-16T20:10:39.327389Z",
     "start_time": "2025-07-16T20:10:39.297006Z"
    }
   },
   "outputs": [],
   "source": [
    "df = add_dataset_to_csv(hellaswag_file_name, 'original', hellaswag_dataset['hellaswag_train'], hellaswag.hellaswag_sample_to_dict)\n",
    "text_df = add_dataset_to_csv(hellaswag_file_name[:-4] + '-text.csv', 'original', hellaswag_dataset['hellaswag_train'], hellaswag.hellaswag_sample_to_dict)\n",
    "display(df.head(2))\n",
    "display(text_df.head(2))"
   ]
  },
  {
   "cell_type": "raw",
   "id": "7794446e-1cfc-4904-ba15-b82eac6af531",
   "metadata": {
    "ExecuteTime": {
     "end_time": "2025-07-16T20:10:39.354553Z",
     "start_time": "2025-07-16T20:10:39.335152Z"
    }
   },
   "source": [
    "df = pd.read_csv(hellaswag_file_name)\n",
    "text_df = pd.read_csv(hellaswag_file_name[:-4] + '-text.csv')\n",
    "display(df.head(2))\n",
    "display(text_df.head(2))"
   ]
  },
  {
   "cell_type": "code",
   "execution_count": 8,
   "id": "6cc7588eb937f624",
   "metadata": {
    "ExecuteTime": {
     "end_time": "2025-07-16T20:10:40.440922Z",
     "start_time": "2025-07-16T20:10:39.420441Z"
    }
   },
   "outputs": [
    {
     "name": "stdout",
     "output_type": "stream",
     "text": [
      "Requirement already satisfied: IProgress in /Users/oribar-joseph/PycharmProjects/qwen-hebrew-finetuning/.venv/lib/python3.9/site-packages (0.4)\r\n",
      "Requirement already satisfied: six in /Users/oribar-joseph/PycharmProjects/qwen-hebrew-finetuning/.venv/lib/python3.9/site-packages (from IProgress) (1.17.0)\r\n"
     ]
    }
   ],
   "source": [
    "!pip install IProgress\n"
   ]
  },
  {
   "cell_type": "code",
   "execution_count": null,
   "id": "7fcdceba-75c2-41ec-9fc2-8713966c7f84",
   "metadata": {
    "ExecuteTime": {
     "end_time": "2025-07-16T20:10:42.921204Z",
     "start_time": "2025-07-16T20:10:40.449933Z"
    }
   },
   "outputs": [],
   "source": [
    "exp_name = 'claude_v1_refine'\n",
    "hebrew_datasets, text_output = claude_translation(\n",
    "    bedrock_client,\n",
    "    hellaswag_dataset,\n",
    "    hallaswag_prompts.HELLASWAG_INSTRUCT_V1_CLAUDE_REFINE,\n",
    "    hallaswag_prompts.HELLASWAG_FEW_SHOTS,\n",
    "    hallaswag_prompts.HELLASWAG_FORMAT,\n",
    "    hellaswag.hellaswag_sample_to_dict,\n",
    "    hellaswag.hellaswag_dict_to_sample,\n",
    ")"
   ]
  },
  {
   "cell_type": "code",
   "execution_count": null,
   "id": "aea83422-30e4-44b9-9e65-9af829383801",
   "metadata": {
    "ExecuteTime": {
     "end_time": "2025-07-16T19:56:05.455908Z",
     "start_time": "2025-07-16T19:56:05.428629Z"
    }
   },
   "outputs": [],
   "source": [
    "df = add_dataset_to_csv(hellaswag_file_name, exp_name, hebrew_datasets['hellaswag_train'],  hellaswag.hellaswag_sample_to_dict)\n",
    "df.head(2)"
   ]
  },
  {
   "cell_type": "code",
   "execution_count": 4,
   "id": "8ec4f2a4667c11cb",
   "metadata": {
    "ExecuteTime": {
     "end_time": "2025-07-16T20:23:23.468993Z",
     "start_time": "2025-07-16T20:10:45.942236Z"
    }
   },
   "outputs": [
    {
     "name": "stdout",
     "output_type": "stream",
     "text": [
      "Translating hellaswag_train...\n"
     ]
    },
    {
     "data": {
      "application/vnd.jupyter.widget-view+json": {
       "model_id": "cc821da51e774e7791d9f7c0c26392d0",
       "version_major": 2,
       "version_minor": 0
      },
      "text/plain": [
       "  0%|          | 0/10 [00:00<?, ?it/s]"
      ]
     },
     "metadata": {},
     "output_type": "display_data"
    }
   ],
   "source": [
    "exp_name = 'fewshots'\n",
    "\n",
    "hebrew_datasets, text_output = gemini_translation(\n",
    "    google_client,\n",
    "    hellaswag_dataset,\n",
    "    hallaswag_prompts.HELLASWAG_INSTRUCT_V1_GEMINI_MULTI,\n",
    "    hallaswag_prompts.HELLASWAG_FEW_SHOTS,\n",
    "    hellaswag.hellaswag_sample_to_dict,\n",
    "    hellaswag.hellaswag_dict_to_sample,\n",
    "    if_pro=True,\n",
    "    think_bud=20_000\n",
    ")"
   ]
  },
  {
   "cell_type": "code",
   "execution_count": null,
   "id": "af2cfb76-0478-4e5d-9f38-15b8fa6ecdb1",
   "metadata": {
    "ExecuteTime": {
     "end_time": "2025-07-16T20:23:34.354567Z",
     "start_time": "2025-07-16T20:23:34.323724Z"
    }
   },
   "outputs": [],
   "source": [
    "df = add_dataset_to_csv(hellaswag_file_name, exp_name, hebrew_datasets[0]['hellaswag_train'],  hellaswag.hellaswag_sample_to_dict)\n",
    "df"
   ]
  },
  {
   "cell_type": "code",
   "execution_count": 6,
   "id": "9f8323cb-8347-4f04-8c53-0b07e5076838",
   "metadata": {},
   "outputs": [],
   "source": [
    "from src.translate_func import dict_to_prompt"
   ]
  },
  {
   "cell_type": "code",
   "execution_count": 9,
   "id": "628319a8987eaaf2",
   "metadata": {},
   "outputs": [
    {
     "name": "stdout",
     "output_type": "stream",
     "text": [
      "<example>\n",
      "English:\n",
      "<activity_label>Getting a haircut</activity_label>\n",
      "<ctx_a>The man in the blue shirt sits on the chair next to the sink. The other man begins washing his hair. He scrubs in the shampoo and then washes it off.</ctx_a>\n",
      "<ctx_b>he</ctx_b>\n",
      "<ctx>The man in the blue shirt sits on the chair next to the sink. The other man begins washing his hair. He scrubs in the shampoo and then washes it off. he</ctx>\n",
      "<ending 1>then combs it and blow dries his hair after styling it with gel.</ending 1>\n",
      "<ending 2>shows the razor that he has for shaving his hair.</ending 2>\n",
      "<ending 3>hair is now dry, he is on his way to the barber.</ending 3>\n",
      "<ending 4>moves the bucket to the other side of the sink and continues washing his hair.</ending 4>\n",
      "Hebrew:\n",
      "<activity_label>להסתפר</activity_label>\n",
      "<ctx_a>האיש בחולצה הכחולה מתיישב על הכיסא ליד כיור החפיפה. האיש השני מתחיל לחפוף את שיערו. הוא מעסה את השמפו לתוך השיער ואז שוטף אותו.</ctx_a>\n",
      "<ctx_b>הוא</ctx_b>\n",
      "<ctx>האיש בחולצה הכחולה מתיישב על הכיסא ליד כיור החפיפה. האיש השני מתחיל לחפוף את שיערו. הוא מעסה את השמפו לתוך השיער ואז שוטף אותו. הוא</ctx>\n",
      "<ending 1>אז מסרק אותו ומייבש את שיערו בפן לאחר שעיצב אותו עם ג'ל.</ending 1>\n",
      "<ending 2>מציג את התער שיש לו כדי לגלח את שיערו.</ending 2>\n",
      "<ending 3>שיערו יבש כעת, הוא בדרכו לספר.</ending 3>\n",
      "<ending 4>מזיז את הדלי לצד השני של הכיור וממשיך לחפוף את שיערו.</ending 4>\n",
      "</example>\n",
      "\n",
      "<example>\n",
      "English:\n",
      "<activity_label>Starting a campfire</activity_label>\n",
      "<ctx_a>This is a tutorial on how to start a campfire. It shows the campfire burning on the ground.</ctx_a>\n",
      "<ctx_b>it</ctx_b>\n",
      "<ctx>This is a tutorial on how to start a campfire. It shows the campfire burning on the ground. it</ctx>\n",
      "<ending 1>shows the chimney of the home.</ending 1>\n",
      "<ending 2>shows how you can put a few around to have some light.</ending 2>\n",
      "<ending 3>starts with the things you will need to begin with.</ending 3>\n",
      "<ending 4>shows how to hold the fire and set the pot the just a bit to catch propane.</ending 4>\n",
      "Hebrew:\n",
      "<activity_label>הדלקת מדורה</activity_label>\n",
      "<ctx_a>זהו סרטון הדרכה כיצד להדליק מדורה. הוא מראה את המדורה בוערת על הקרקע.</ctx_a>\n",
      "<ctx_b>הוא</ctx_b>\n",
      "<ctx>זהו סרטון הדרכה כיצד להדליק מדורה. הוא מראה את המדורה בוערת על הקרקע. הוא</ctx>\n",
      "<ending 1>מראה את ארובת הבית.</ending 1>\n",
      "<ending 2>מראה איך אפשר לשים כמה מסביב כדי שיהיה קצת אור.</ending 2>\n",
      "<ending 3>מתחיל בדברים שתצטרכו להתחלה.</ending 3>\n",
      "<ending 4>מראה איך להחזיק את האש ולשים את הסיר רק קצת כדי לתפוס פרופאן.</ending 4>\n",
      "</example>\n",
      "\n",
      "<example>\n",
      "English:\n",
      "<activity_label>Painting</activity_label>\n",
      "<ctx_a>She then takes a liner brush to do some finer detailing on the painting such as branches of a tree.</ctx_a>\n",
      "<ctx_b>she</ctx_b>\n",
      "<ctx>She then takes a liner brush to do some finer detailing on the painting such as branches of a tree. she</ctx>\n",
      "<ending 1>then uses a sand shredder to clean off the yin dikate paint.</ending 1>\n",
      "<ending 2>continues painting the canvas.</ending 2>\n",
      "<ending 3>takes a flatter brush to demonstrate a dabbing technique with excess paint to show flower petals.</ending 3>\n",
      "<ending 4>then smells the paint a final time while looking into the mirror and smiling at her work.</ending 4>\n",
      "Hebrew:\n",
      "<activity_label>ציור</activity_label>\n",
      "<ctx_a>לאחר מכן היא לוקחת מכחול דק כדי לעשות פרטים עדינים יותר בציור, כמו ענפים של עץ.</ctx_a>\n",
      "<ctx_b>היא</ctx_b>\n",
      "<ctx>לאחר מכן היא לוקחת מכחול דק כדי לעשות פרטים עדינים יותר בציור, כמו ענפים של עץ. היא</ctx>\n",
      "<ending 1>ואז משתמשת במגרסת חול כדי לנקות את צבע היין דיקייט.</ending 1>\n",
      "<ending 2>ממשיכה לצייר על בד הציור.</ending 2>\n",
      "<ending 3>לוקחת מכחול שטוח יותר כדי להדגים טכניקת טפיחות עם עודפי צבע כדי להראות עלי כותרת של פרח.</ending 3>\n",
      "<ending 4>ואז מריחה את הצבע פעם אחרונה בעודה מביטה במראה ומחייכת אל יצירתה.</ending 4>\n",
      "</example>\n",
      "\n",
      "<example>\n",
      "English:\n",
      "<activity_label>Beer pong</activity_label>\n",
      "<ctx_a>We see an opening title screen. A person walks up stairs into a room and sees beer poured from a keg and people talking.</ctx_a>\n",
      "<ctx_b>people</ctx_b>\n",
      "<ctx>We see an opening title screen. A person walks up stairs into a room and sees beer poured from a keg and people talking. people</ctx>\n",
      "<ending 1>play frypan indoors, and then we see people in airplane airboats floating in the water near a dock, the sky switches to blue.</ending 1>\n",
      "<ending 2>grab squeegees and throw some beer and they do some beer pong.</ending 2>\n",
      "<ending 3>are presenting a bottle of beer.</ending 3>\n",
      "<ending 4>stand and play beer pong while others watch.</ending 4>\n",
      "Hebrew:\n",
      "<activity_label>ביר פונג</activity_label>\n",
      "<ctx_a>רואים כותרות פתיחה. אדם עולה במדרגות לחדר ורואה בירה נמזגת מחבית ואנשים מדברים.</ctx_a>\n",
      "<ctx_b>אנשים</ctx_b>\n",
      "<ctx>רואים כותרות פתיחה. אדם עולה במדרגות לחדר ורואה בירה נמזגת מחבית ואנשים מדברים. אנשים</ctx>\n",
      "<ending 1>משחקים במחבת בתוך הבית, ואז רואים אנשים בסירות רחפת דמויות מטוס צפים במים ליד מזח, והשמיים הופכים לכחולים.</ending 1>\n",
      "<ending 2>תופסים מגבים, זורקים בירה ומשחקים ביר פונג.</ending 2>\n",
      "<ending 3>מציגים בקבוק בירה.</ending 3>\n",
      "<ending 4>עומדים ומשחקים ביר פונג בזמן שאחרים צופים.</ending 4>\n",
      "</example>\n",
      "\n",
      "<example>\n",
      "English:\n",
      "<activity_label>Shot put</activity_label>\n",
      "<ctx_a>We see a man preparing and throwing shotput. We see a man running to measure the distance. We see a man standing and measure.</ctx_a>\n",
      "<ctx_b>we</ctx_b>\n",
      "<ctx>We see a man preparing and throwing shotput. We see a man running to measure the distance. We see a man standing and measure. we</ctx>\n",
      "<ending 1>see a man throw shotput with four shots.</ending 1>\n",
      "<ending 2>see the man throw shotput and a score call.</ending 2>\n",
      "<ending 3>see a man on a stadium floor.</ending 3>\n",
      "<ending 4>see people in the crowd cheering.</ending 4>\n",
      "Hebrew:\n",
      "<activity_label>הדיפת כדור ברזל</activity_label>\n",
      "<ctx_a>רואים גבר מתכונן והודף כדור ברזל. רואים גבר רץ למדוד את המרחק. רואים גבר עומד ומודד.</ctx_a>\n",
      "<ctx_b>אנחנו</ctx_b>\n",
      "<ctx>רואים גבר מתכונן והודף כדור ברזל. רואים גבר רץ למדוד את המרחק. רואים גבר עומד ומודד. אנחנו</ctx>\n",
      "<ending 1>רואים גבר הודף כדור ברזל בארבע הדיפות.</ending 1>\n",
      "<ending 2>רואים את הגבר הודף כדור ברזל ואת הכרזת התוצאה.</ending 2>\n",
      "<ending 3>רואים גבר על רצפת האצטדיון.</ending 3>\n",
      "<ending 4>רואים אנשים בקהל מריעים.</ending 4>\n",
      "</example>\n",
      "\n",
      "<example>\n",
      "English:\n",
      "<activity_label>Cheerleading</activity_label>\n",
      "<ctx_a>Half of the group kneels on the floor and the other standing group exits to the sides.</ctx_a>\n",
      "<ctx_b>the remaining group</ctx_b>\n",
      "<ctx>Half of the group kneels on the floor and the other standing group exits to the sides. the remaining group</ctx>\n",
      "<ending 1>leaves and the two groups on stage speak.</ending 1>\n",
      "<ending 2>stands back up and does a second dance routine together.</ending 2>\n",
      "<ending 3>of people briefly arrives to the mats and kneel on the second row of the gym.</ending 3>\n",
      "<ending 4>of group walk together up the stairs and through the exit doors together.</ending 4>\n",
      "Hebrew:\n",
      "<activity_label>עידוד</activity_label>\n",
      "<ctx_a>חצי מהקבוצה כורעת על הרצפה והקבוצה העומדת השנייה יוצאת לצדדים.</ctx_a>\n",
      "<ctx_b>הקבוצה שנשארה</ctx_b>\n",
      "<ctx>חצי מהקבוצה כורעת על הרצפה והקבוצה העומדת השנייה יוצאת לצדדים. הקבוצה שנשארה</ctx>\n",
      "<ending 1>עוזבת ושתי הקבוצות על הבמה מדברות.</ending 1>\n",
      "<ending 2>נעמדת שוב ומבצעת קטע ריקוד שני ביחד.</ending 2>\n",
      "<ending 3>מגיעה לזמן קצר למזרנים וכורעת בשורה השנייה של האולם.</ending 3>\n",
      "<ending 4>עולה יחד במדרגות ויוצאת דרך דלתות היציאה.</ending 4>\n",
      "</example>\n",
      "\n",
      "<example>\n",
      "English:\n",
      "<activity_label>Playing drums</activity_label>\n",
      "<ctx_a>A man is seen playing the drums with another man beside him with several lights flash around his face.</ctx_a>\n",
      "<ctx_b>another man</ctx_b>\n",
      "<ctx>A man is seen playing the drums with another man beside him with several lights flash around his face. another man</ctx>\n",
      "<ending 1>is seen holding a guitar and several shots of a stage are shown.</ending 1>\n",
      "<ending 2>plays a drum set while the camera follows around.</ending 2>\n",
      "<ending 3>is seen speaking to the man playing drums and the man fades in and out.</ending 3>\n",
      "<ending 4>is seen walking in and out of frame as the man plays with the drummer again and the man continues playing.</ending 4>\n",
      "Hebrew:\n",
      "<activity_label>נגינה בתופים</activity_label>\n",
      "<ctx_a>רואים גבר מנגן בתופים כשלידו גבר נוסף, ומספר אורות מהבהבים סביב פניו.</ctx_a>\n",
      "<ctx_b>גבר נוסף</ctx_b>\n",
      "<ctx>רואים גבר מנגן בתופים כשלידו גבר נוסף, ומספר אורות מהבהבים סביב פניו. גבר נוסף</ctx>\n",
      "<ending 1>נראה מחזיק גיטרה ומוצגים מספר צילומים של במה.</ending 1>\n",
      "<ending 2>מנגן על מערכת תופים בזמן שהמצלמה עוקבת אחריו.</ending 2>\n",
      "<ending 3>נראה מדבר עם הגבר שמנגן בתופים, והגבר נמוג ומופיע לסירוגין.</ending 3>\n",
      "<ending 4>נראה נכנס ויוצא מהפריים בזמן שהגבר מנגן עם המתופף שוב והגבר ממשיך לנגן.</ending 4>\n",
      "</example>\n",
      "\n",
      "<example>\n",
      "English:\n",
      "<activity_label>Ballet</activity_label>\n",
      "<ctx_a>People practice ballet in a studio alone and in couples.</ctx_a>\n",
      "<ctx_b>then</ctx_b>\n",
      "<ctx>People practice ballet in a studio alone and in couples. then</ctx>\n",
      "<ending 1>, a man begins dancing and top dancing standing on the ground.</ending 1>\n",
      "<ending 2>, a boy and a girl dance ballet, then a man enter and dance with the girl.</ending 2>\n",
      "<ending 3>, the band performs ballet in the studio and in the open gathered.</ending 3>\n",
      "<ending 4>, people dances and dances together, dancing.</ending 4>\n",
      "Hebrew:\n",
      "<activity_label>בלט</activity_label>\n",
      "<ctx_a>אנשים מתאמנים בבלט בסטודיו לבד ובזוגות.</ctx_a>\n",
      "<ctx_b>לאחר מכן</ctx_b>\n",
      "<ctx>אנשים מתאמנים בבלט בסטודיו לבד ובזוגות. לאחר מכן</ctx>\n",
      "<ending 1>, גבר מתחיל לרקוד על הרצפה.</ending 1>\n",
      "<ending 2>, נער ונערה רוקדים בלט, ואז גבר נכנס ורוקד עם הנערה.</ending 2>\n",
      "<ending 3>, להקת המחול מופיעה בבלט בסטודיו ובחוץ בפני קהל.</ending 3>\n",
      "<ending 4>, אנשים רוקדים ורוקדים יחד.</ending 4>\n",
      "</example>\n",
      "\n",
      "<example>\n",
      "English:\n",
      "<activity_label>Putting on makeup</activity_label>\n",
      "<ctx_a>She begins to put eye shadow on her eyelids and rubbing it in. She adds eyelash extensions on her eyes.</ctx_a>\n",
      "<ctx_b>then</ctx_b>\n",
      "<ctx>She begins to put eye shadow on her eyelids and rubbing it in. She adds eyelash extensions on her eyes. then</ctx>\n",
      "<ending 1>, she begins to contour her entire face little by little patting it down as she goes along.</ending 1>\n",
      "<ending 2>she reappears and touches her eyelids.</ending 2>\n",
      "<ending 3>she pretends to dusty your eyes.</ending 3>\n",
      "<ending 4>she repeats the process with her lips.</ending 4>\n",
      "Hebrew:\n",
      "<activity_label>להתאפר</activity_label>\n",
      "<ctx_a>היא מתחילה למרוח צללית על עפעפיה ולטשטש אותה. היא מוסיפה תוספות ריסים לעיניה.</ctx_a>\n",
      "<ctx_b>לאחר מכן</ctx_b>\n",
      "<ctx>היא מתחילה למרוח צללית על עפעפיה ולטשטש אותה. היא מוסיפה תוספות ריסים לעיניה. לאחר מכן</ctx>\n",
      "<ending 1>, היא מתחילה לחטב את כל פניה בהדרגה, וטופחת על האיפור תוך כדי התהליך.</ending 1>\n",
      "<ending 2>היא מופיעה מחדש ונוגעת בעפעפיה.</ending 2>\n",
      "<ending 3>היא מעמידה פנים שהיא מאבקת את עינייך.</ending 3>\n",
      "<ending 4>היא חוזרת על התהליך עם שפתיה.</ending 4>\n",
      "</example>\n",
      "\n",
      "<example>\n",
      "English:\n",
      "<activity_label>Tai chi</activity_label>\n",
      "<ctx_a>Three women are standing in a park in a field doing yoga.</ctx_a>\n",
      "<ctx_b>man</ctx_b>\n",
      "<ctx>Three women are standing in a park in a field doing yoga. man</ctx>\n",
      "<ending 1>is running in the park behind the women.</ending 1>\n",
      "<ending 2>is standing inside a gym talking to the camera and showing the exercises.</ending 2>\n",
      "<ending 3>is sitting in the rack talking to the three women.</ending 3>\n",
      "<ending 4>is talking to camera and take her robe off to reveal her beautiful legs, and is shown doing monyou pose.</ending 4>\n",
      "Hebrew:\n",
      "<activity_label>טאי צ'י</activity_label>\n",
      "<ctx_a>שלוש נשים עומדות בפארק בשדה ועושות יוגה.</ctx_a>\n",
      "<ctx_b>גבר</ctx_b>\n",
      "<ctx>שלוש נשים עומדות בפארק בשדה ועושות יוגה. גבר</ctx>\n",
      "<ending 1>רץ בפארק מאחורי הנשים.</ending 1>\n",
      "<ending 2>עומד במכון כושר, מדבר אל המצלמה ומדגים את התרגילים.</ending 2>\n",
      "<ending 3>יושב על המתקן ומשוחח עם שלוש הנשים.</ending 3>\n",
      "<ending 4>מדברת למצלמה, פושטת את החלוק שלה וחושפת את רגליה היפות, ונראית עושה את תנוחת מוניו.</ending 4>\n",
      "</example>\n",
      "\n"
     ]
    }
   ],
   "source": [
    "for i in range(10):\n",
    "    print('<example>\\nEnglish:')\n",
    "    print(dict_to_prompt(hellaswag.hellaswag_sample_to_dict(hellaswag_dataset['hellaswag_train'][i])))\n",
    "    print('Hebrew:')\n",
    "    print(dict_to_prompt(hellaswag.hellaswag_sample_to_dict(hebrew_datasets['hellaswag_train'][i])))\n",
    "    print('</example>')\n",
    "    print()"
   ]
  }
 ],
 "metadata": {
  "kernelspec": {
   "display_name": "conda_pytorch_p310",
   "language": "python",
   "name": "conda_pytorch_p310"
  },
  "language_info": {
   "codemirror_mode": {
    "name": "ipython",
    "version": 3
   },
   "file_extension": ".py",
   "mimetype": "text/x-python",
   "name": "python",
   "nbconvert_exporter": "python",
   "pygments_lexer": "ipython3",
   "version": "3.10.14"
  }
 },
 "nbformat": 4,
 "nbformat_minor": 5
}
