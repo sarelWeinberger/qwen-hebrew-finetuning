{
 "cells": [
  {
   "cell_type": "markdown",
   "id": "1fd4b422-51c5-4629-aef5-0193b019db53",
   "metadata": {},
   "source": [
    "# Imports"
   ]
  },
  {
   "cell_type": "code",
   "execution_count": 28,
   "id": "0fe14f3f-0ced-47af-bf79-d4cd7737227d",
   "metadata": {},
   "outputs": [
    {
     "name": "stdout",
     "output_type": "stream",
     "text": [
      "The autoreload extension is already loaded. To reload it, use:\n",
      "  %reload_ext autoreload\n"
     ]
    }
   ],
   "source": [
    "%load_ext autoreload\n",
    "%autoreload 2\n",
    "\n",
    "import pandas as pd\n",
    "import numpy as np\n",
    "from datasets import Dataset\n",
    "\n",
    "# Call models\n",
    "from src.call_models import google_connect, call_gemini, all_string_gemini_config, all_int_gemini_config\n",
    "from src.translate_func import gemini_translation, dict_to_prompt\n",
    "\n",
    "from src.instruct_data_code import alpaca\n",
    "from prompts import alpaca_prompts\n",
    "\n",
    "# Access keys\n",
    "from my_access_keys import google_access_key\n",
    "\n",
    "# Remove annoying warning\n",
    "from IPython.core.display_functions import display"
   ]
  },
  {
   "cell_type": "code",
   "execution_count": 19,
   "id": "93e5dd7b-a9bc-4baa-92b1-242357cf0eaf",
   "metadata": {},
   "outputs": [],
   "source": [
    "google_client = google_connect(google_access_key)"
   ]
  },
  {
   "cell_type": "markdown",
   "id": "6e5b775d-2688-4cc1-9a96-bceab72c823c",
   "metadata": {},
   "source": [
    "# Get Data"
   ]
  },
  {
   "cell_type": "code",
   "execution_count": 99,
   "id": "07a93998-0f39-4049-8ecd-d359e6467827",
   "metadata": {},
   "outputs": [
    {
     "data": {
      "text/plain": [
       "Dataset({\n",
       "    features: ['output', 'input', 'instruction'],\n",
       "    num_rows: 10\n",
       "})"
      ]
     },
     "execution_count": 99,
     "metadata": {},
     "output_type": "execute_result"
    }
   ],
   "source": [
    "alpaca_dataset = alpaca.get_alpaca_datasets()\n",
    "alpaca_dataset = alpaca_dataset.skip(5).take(10)\n",
    "\n",
    "# Beck from streaming\n",
    "alpaca_dataset = Dataset.from_list(list(alpaca_dataset))\n",
    "\n",
    "alpaca_dataset"
   ]
  },
  {
   "cell_type": "code",
   "execution_count": 103,
   "id": "e843e542-c476-4d82-b01c-c1a855a167a1",
   "metadata": {},
   "outputs": [
    {
     "name": "stdout",
     "output_type": "stream",
     "text": [
      "Translating run...\n"
     ]
    },
    {
     "data": {
      "application/vnd.jupyter.widget-view+json": {
       "model_id": "22e9e617a12f450fb9950abb19df6e10",
       "version_major": 2,
       "version_minor": 0
      },
      "text/plain": [
       "  0%|          | 0/10 [00:00<?, ?it/s]"
      ]
     },
     "metadata": {},
     "output_type": "display_data"
    }
   ],
   "source": [
    "hebrew_datasets, text_output = gemini_translation(\n",
    "    google_client,\n",
    "    {'run': alpaca_dataset},\n",
    "    # small,\n",
    "    alpaca_prompts.ALPACA_INSTRUCT,\n",
    "    alpaca_prompts.ALPACA_FEW_SHOTS,\n",
    "    lambda x: x,\n",
    "    lambda _, x: x,\n",
    "    if_pro=True,\n",
    "    think_bud=1024,\n",
    ")\n",
    "\n",
    "hebrew_datasets = hebrew_datasets['run']\n",
    "text_output = text_output['run']"
   ]
  },
  {
   "cell_type": "code",
   "execution_count": 104,
   "id": "05d281ac-df06-48cb-81fc-1fb8d4cd0658",
   "metadata": {},
   "outputs": [
    {
     "name": "stdout",
     "output_type": "stream",
     "text": [
      "<output>The Commodore 64 was a highly successful 8-bit home computer manufactured by Commodore Business Machine (CBM) in 1982, with sales amounting to approximately 17 million units sold between 1983-1986. It dominated the market with between 30% and 40% share and outsold its competitors, including IBM PC clones, Apple Computers, and Atari computers. At its peak, CBM was building 400,000 C64s a month for a couple of years.</output>\n",
      "<input></input>\n",
      "<instruction>Write a concise summary of the following:\n",
      "\"Commodore 64 (commonly known as the C64 or CBM 64) was manufactured by Commodore Business Machine (CBM) in August 1982 with a starting price of $595. It was an 8-bit home computer with remarkable market success. Between 1983-1986, C64 sales amounted to about 17 million units sold, making them the best-selling single personal computer model of all time in 1983-1986. \n",
      "\n",
      "Additionally, the Commodore 64 dominated the market with between 30% and 40% share and 2 million units sold per year, outselling the IBM PC clones, Apple Computers, and Atari computers. Adding to their success, Sam Tramiel (former Atari president), during an interview in 1989, said they were building 400,000 C64s a month for a couple of years. \"</instruction>\n",
      "\n",
      "<output>הקומודור 64 היה מחשב ביתי 8-סיביות מצליח מאוד שיוצר על ידי Commodore Business Machine (CBM) בשנת 1982, עם מכירות שהסתכמו בכ-17 מיליון יחידות שנמכרו בין השנים 1983-1986. הוא שלט בשוק עם נתח של בין 30% ל-40% ועקף במכירותיו את מתחריו, כולל תואמי IBM PC, מחשבי אפל ומחשבי אטארי. בשיא הייצור, CBM ייצרה 400,000 יחידות C64 בחודש במשך מספר שנים.</output>\n",
      "<input></input>\n",
      "<instruction>כתוב סיכום תמציתי של הטקסט הבא:\n",
      "\"קומודור 64 (הידוע בכינויו C64 או CBM 64) יוצר על ידי Commodore Business Machine (CBM) באוגוסט 1982 עם מחיר התחלתי של 595 דולר. זה היה מחשב ביתי 8-סיביות עם הצלחה שיווקית יוצאת דופן. בין השנים 1983-1986, מכירות ה-C64 הסתכמו בכ-17 מיליון יחידות, מה שהפך אותו לדגם המחשב האישי הבודד הנמכר ביותר בכל הזמנים בשנים 1983-1986.\n",
      "\n",
      "בנוסף, הקומודור 64 שלט בשוק עם נתח של בין 30% ל-40% ו-2 מיליון יחידות שנמכרו בשנה, ועקף במכירות את תואמי ה-IBM PC, מחשבי אפל ומחשבי אטארי. כתוספת להצלחתם, סם טרמיאל (נשיא אטארי לשעבר), אמר במהלך ראיון בשנת 1989 שהם ייצרו 400,000 יחידות C64 בחודש במשך מספר שנים.\"</instruction>\n",
      "\n",
      "--------------------------------------------------------------------------------\n",
      "\n",
      "<output>The fraction 4/16 is equivalent to 1/4 because both fractions represent the same value. A fraction can be simplified by dividing both the numerator and the denominator by a common factor. In this case, 4 is a common factor of both the numerator and the denominator of 4/16. When we divide both by 4, we get 4/4 = 1 and 16/4 = 4, so the simplified fraction is 1/4. Alternatively, we can think of this in terms of multiplication. For example, if we multiply the numerator and denominator of the fraction 1/4 by 4, we get (1x4)/(4x4), or 4/16. Since both fractions can be derived from the other through multiplication or division by the same number, they represent the same value and are equivalent.</output>\n",
      "<input>4/16</input>\n",
      "<instruction>Explain why the following fraction is equivalent to 1/4</instruction>\n",
      "\n",
      "<output>השבר 4/16 שקול ל-1/4 מכיוון ששני השברים מייצגים את אותו הערך. ניתן לצמצם שבר על ידי חלוקת המונה והמכנה בגורם משותף. במקרה זה, 4 הוא גורם משותף גם של המונה וגם של המכנה של 4/16. כאשר אנו מחלקים את שניהם ב-4, אנו מקבלים 4/4 = 1 ו-16/4 = 4, כך שהשבר המצומצם הוא 1/4. לחלופין, אנו יכולים לחשוב על זה במונחים של כפל. לדוגמה, אם נכפיל את המונה והמכנה של השבר 1/4 ב-4, נקבל (1x4)/(4x4), או 4/16. מכיוון שניתן לגזור את שני השברים זה מזה באמצעות כפל או חילוק באותו מספר, הם מייצגים את אותו הערך והם שקולים.</output>\n",
      "<input>4/16</input>\n",
      "<instruction>הסבר מדוע השבר הבא שקול ל-1/4</instruction>\n",
      "\n",
      "--------------------------------------------------------------------------------\n",
      "\n",
      "<output>Sophie sat at her desk, staring blankly at the computer screen. Her mind was racing as she weighed the options in front of her. She had been offered a promotion to a senior management position within her company, but it meant moving across the country and leaving her friends and family behind. At the same time, her dream job at a rival company had finally opened up, and she had been invited for an interview. \n",
      "\n",
      "The thought of leaving her comfortable life behind, to take a chance on something new and uncertain, made Sophie feel anxious, but also excited. She had always been one to take risks, and it had paid off in the past. But now, with such a big decision to make, Sophie couldn't help but feel overwhelmed.\n",
      "\n",
      "After much deliberation, Sophie made her choice. She packed her bags, said goodbye to her loved ones, and moved across the country for the new job. It was a difficult first few months, adjusting to a new city and a new company culture. But as time went by, Sophie realized that she had made the best decision for her career. The job was challenging, but also rewarding, and she was surrounded by passionate, driven colleagues who inspired her to grow and develop.\n",
      "\n",
      "In the end, Sophie's bold move paid off. She was thriving in her new role, and had made new friends and connections in her new city. Looking back, Sophie was grateful for the opportunity to take a risk and make a change, and was confident that she had made the right decision for her career.</output>\n",
      "<input></input>\n",
      "<instruction>Write a short story in third person narration about a protagonist who has to make an important career decision.</instruction>\n",
      "\n",
      "<output>סופי ישבה ליד שולחנה, בוהה במסך המחשב במבט ריק. מחשבותיה התרוצצו בראשה בזמן ששקלה את האפשרויות שעמדו בפניה. הוצע לה קידום לתפקיד ניהולי בכיר בחברה שלה, אך משמעות הדבר הייתה לעבור לקצה השני של המדינה ולהשאיר מאחור את חבריה ומשפחתה. במקביל, משרת חלומותיה בחברה מתחרה התפנתה סוף סוף, והיא הוזמנה לראיון.\n",
      "\n",
      "המחשבה על עזיבת חייה הנוחים, כדי להמר על משהו חדש ולא ודאי, גרמה לסופי לחוש חרדה, אך גם התרגשות. היא תמיד הייתה אחת שלוקחת סיכונים, וזה השתלם לה בעבר. אבל עכשיו, עם החלטה כה גדולה לקבל, סופי לא יכלה שלא להרגיש מוצפת.\n",
      "\n",
      "לאחר התלבטות רבה, סופי קיבלה את החלטתה. היא ארזה את חפציה, נפרדה מיקיריה, ועברה לקצה השני של המדינה עבור העבודה החדשה. החודשים הראשונים היו קשים, והיא נאלצה להסתגל לעיר חדשה ולתרבות ארגונית חדשה. אבל ככל שחלף הזמן, סופי הבינה שהיא קיבלה את ההחלטה הטובה ביותר עבור הקריירה שלה. העבודה הייתה מאתגרת, אך גם מתגמלת, והיא הייתה מוקפת בעמיתים נלהבים ובעלי מוטיבציה שנתנו לה השראה לצמוח ולהתפתח.\n",
      "\n",
      "בסופו של דבר, המהלך הנועז של סופי השתלם. היא שגשגה בתפקידה החדש, ורכשה חברים וקשרים חדשים בעירה החדשה. במבט לאחור, סופי הייתה אסירת תודה על ההזדמנות לקחת סיכון ולעשות שינוי, והייתה בטוחה שקיבלה את ההחלטה הנכונה עבור הקריירה שלה.</output>\n",
      "<input></input>\n",
      "<instruction>כתוב סיפור קצר בגוף שלישי על גיבורה שצריכה לקבל החלטת קריירה חשובה.</instruction>\n",
      "\n",
      "--------------------------------------------------------------------------------\n",
      "\n",
      "<output>There are two spelling errors in the sentence. The corrected sentence should be: \"He finished his meal and left the restaurant.\"</output>\n",
      "<input>He finnished his meal and left the resturant</input>\n",
      "<instruction>Evaluate this sentence for spelling and grammar mistakes</instruction>\n",
      "\n",
      "<output>יש שתי שגיאות כתיב במשפט. המשפט המתוקן צריך להיות: \"He finished his meal and left the restaurant.\"</output>\n",
      "<input>He finnished his meal and left the resturant</input>\n",
      "<instruction>בדוק את המשפט הזה לאיתור שגיאות כתיב ודקדוק</instruction>\n",
      "\n",
      "--------------------------------------------------------------------------------\n",
      "\n",
      "<output>Julius Caesar, the Roman Military general, and statesman was assassinated on March 15, 44 BC. He was stabbed to death at a meeting of the Senate in the Theatre of Pompey by a group of senators who called themselves the Liberatores. Led by Gaius Cassius Longinus, and Marcus Junius Brutus, they believed that Caesar's dictatorship was subverting the Roman Republic and sought to restore the traditional republican government. The exact number of assailants is not known, but it is believed that a group of as many as 60 conspirators participated in the assassination, and each of them took turns in stabbing Caesar. The day of his death is still known as the Ides of March.</output>\n",
      "<input></input>\n",
      "<instruction>How did Julius Caesar die?</instruction>\n",
      "\n",
      "<output>יוליוס קיסר, המצביא והמדינאי הרומי, נרצח ב-15 במרץ, 44 לפנה\"ס. הוא נדקר למוות בישיבת סנאט בתיאטרון פומפיוס על ידי קבוצת סנאטורים שכינו את עצמם \"המשחררים\" (Liberatores). בהנהגתם של גאיוס קסיוס לונגינוס ומרקוס יוניוס ברוטוס, הם האמינו שהדיקטטורה של קיסר חותרת תחת הרפובליקה הרומית וביקשו להשיב את הממשל הרפובליקני המסורתי. מספר התוקפים המדויק אינו ידוע, אך מאמינים כי קבוצה של כ-60 קושרים השתתפה בהתנקשות, וכל אחד מהם דקר את קיסר בתורו. יום מותו עדיין ידוע בשם \"אידו של מארס\".</output>\n",
      "<input></input>\n",
      "<instruction>כיצד מת יוליוס קיסר?</instruction>\n",
      "\n",
      "--------------------------------------------------------------------------------\n",
      "\n",
      "<output>The capital city of France is Paris.</output>\n",
      "<input></input>\n",
      "<instruction>What is the capital of France?</instruction>\n",
      "\n",
      "<output>עיר הבירה של צרפת היא פריז.</output>\n",
      "<input></input>\n",
      "<instruction>מהי בירת צרפת?</instruction>\n",
      "\n",
      "--------------------------------------------------------------------------------\n",
      "\n",
      "<output>Here are ten items a person might need for a camping trip:\n",
      "\n",
      "1. Tent - to provide shelter and protection from the elements\n",
      "2. Sleeping bag - to stay warm and comfortable while sleeping\n",
      "3. Portable stove or campfire grill - for cooking meals\n",
      "4. Cooler with ice or ice packs - to keep perishable food and drinks cold\n",
      "5. Lantern or flashlight - to provide light during the night\n",
      "6. First aid kit - for minor injuries or ailments\n",
      "7. Map and compass or GPS - for navigation on hikes or exploring the area\n",
      "8. Camp chairs or folding chairs - for comfortable seating around the campsite\n",
      "9. Insect repellent - to protect against bug bites\n",
      "10. Sunscreen - to protect against sunburn.</output>\n",
      "<input></input>\n",
      "<instruction>Generate a list of ten items a person might need for a camping trip</instruction>\n",
      "\n",
      "<output>הנה עשרה פריטים שאדם עשוי להזדקק להם לטיול קמפינג:\n",
      "\n",
      "1. אוהל - כדי לספק מחסה והגנה מפני פגעי מזג האוויר\n",
      "2. שק שינה - כדי לשמור על חום ונוחות בזמן השינה\n",
      "3. גזייה ניידת או גריל למדורה - לבישול ארוחות\n",
      "4. צידנית עם קרח או קרחונים - לשמירה על קור של מזון ומשקאות מתכלים\n",
      "5. פנס או עששית - כדי לספק אור במהלך הלילה\n",
      "6. ערכת עזרה ראשונה - לפציעות קלות או מחלות\n",
      "7. מפה ומצפן או GPS - לניווט בטיולים רגליים או בחקר האזור\n",
      "8. כיסאות קמפינג או כיסאות מתקפלים - לישיבה נוחה סביב אתר הקמפינג\n",
      "9. תרסיס דוחה חרקים - להגנה מפני עקיצות חרקים\n",
      "10. קרם הגנה - להגנה מפני כוויות שמש.</output>\n",
      "<input></input>\n",
      "<instruction>צור רשימה של עשרה פריטים שאדם עשוי להזדקק להם לטיול קמפינג</instruction>\n",
      "\n",
      "--------------------------------------------------------------------------------\n",
      "\n",
      "<output>The Great Depression was a period of economic decline that lasted from 1929-1939, making it the longest-lasting depression in modern history. It affected not only the United States but countries around the world, causing substantial social and economic upheaval.\n",
      "\n",
      "There were several major causes of the Great Depression, which include:\n",
      "\n",
      "1. Stock Market Crash of 1929 - In October of 1929, the stock market experienced a significant fall that wiped out millions of investors. This event is considered by many to be the initial trigger of the Great Depression.\n",
      "\n",
      "2. Overproduction - During the 1920s, many industries produced more goods than consumers wanted or could afford. This ultimately led to a decline in demand for goods, causing job loss, lower wages, and business failure.\n",
      "\n",
      "3. High Tariffs and War Debts - Protectionist trade policies in the form of high tariffs led to a decline in global trade, as other countries retaliated with tariffs of their own. Additionally, many countries were struggling to repay war debts, which led to economic instability.\n",
      "\n",
      "4. Bank Failures - As demand for goods declined, many banks began to fail, causing a loss of confidence in the banking system. This led to a massive withdrawal of money from banks, causing even more banks to fail.\n",
      "\n",
      "5. Drought Conditions - The Dust Bowl was a severe drought and dust storm that hit the Great Plains region of the United States in the 1930s. This had a significant impact on agriculture, causing many farmers to lose their land and livelihoods which worsened the effects of the depression.\n",
      "\n",
      "Overall, the Great Depression was caused by a combination of factors, including economic, environmental, and political factors. Its impact was widespread, affecting millions of people around the world.</output>\n",
      "<input></input>\n",
      "<instruction>Discuss the causes of the Great Depression</instruction>\n",
      "\n",
      "<output>השפל הגדול הייתה תקופה של שפל כלכלי שנמשכה בין השנים 1929-1939, מה שהופך אותה לשפל הכלכלי הממושך ביותר בהיסטוריה המודרנית. היא השפיעה לא רק על ארצות הברית אלא על מדינות ברחבי העולם, וגרמה לזעזועים חברתיים וכלכליים משמעותיים.\n",
      "\n",
      "היו מספר גורמים עיקריים לשפל הגדול, הכוללים:\n",
      "\n",
      "1. קריסת שוק המניות של 1929 - באוקטובר 1929, שוק המניות חווה נפילה משמעותית שמחקה את השקעותיהם של מיליוני משקיעים. אירוע זה נחשב בעיני רבים לטריגר הראשוני של השפל הגדול.\n",
      "\n",
      "2. ייצור יתר - במהלך שנות ה-20, תעשיות רבות ייצרו יותר סחורות ממה שהצרכנים רצו או יכלו להרשות לעצמם. דבר זה הוביל בסופו של דבר לירידה בביקוש לסחורות, וגרם לאובדן מקומות עבודה, שכר נמוך יותר וקריסת עסקים.\n",
      "\n",
      "3. מכסים גבוהים וחובות מלחמה - מדיניות סחר פרוטקציוניסטית בצורת מכסים גבוהים הובילה לירידה בסחר העולמי, שכן מדינות אחרות הגיבו במכסים משלהן. בנוסף, מדינות רבות התקשו להחזיר חובות מלחמה, מה שהוביל לחוסר יציבות כלכלית.\n",
      "\n",
      "4. קריסת בנקים - ככל שהביקוש לסחורות ירד, בנקים רבים החלו לקרוס, מה שגרם לאובדן אמון במערכת הבנקאית. דבר זה הוביל למשיכה המונית של כספים מהבנקים, וגרם לקריסתם של בנקים נוספים.\n",
      "\n",
      "5. תנאי בצורת - קערת האבק (The Dust Bowl) הייתה בצורת קשה וסופת אבק שפגעה באזור המישורים הגדולים של ארצות הברית בשנות ה-30. לכך הייתה השפעה משמעותית על החקלאות, וגרמה לחקלאים רבים לאבד את אדמתם ופרנסתם, מה שהחמיר את השפעות השפל.\n",
      "\n",
      "בסך הכל, השפל הגדול נגרם משילוב של גורמים, כולל גורמים כלכליים, סביבתיים ופוליטיים. השפעתו הייתה נרחבת, ופגעה במיליוני אנשים ברחבי העולם.</output>\n",
      "<input></input>\n",
      "<instruction>דון בסיבות לשפל הגדול</instruction>\n",
      "\n",
      "--------------------------------------------------------------------------------\n",
      "\n",
      "<output>Animals: Elephant\n",
      "Plants: Oak tree\n",
      "Minerals: Copper ore</output>\n",
      "<input>Oak tree, copper ore, elephant</input>\n",
      "<instruction>Classify the following into animals, plants, and minerals</instruction>\n",
      "\n",
      "<output>בעלי חיים: פיל\n",
      "צמחים: עץ אלון\n",
      "מינרלים: עפרת נחושת</output>\n",
      "<input>עץ אלון, עפרת נחושת, פיל</input>\n",
      "<instruction>סווג את הפריטים הבאים לבעלי חיים, צמחים ומינרלים</instruction>\n",
      "\n",
      "--------------------------------------------------------------------------------\n",
      "\n",
      "<output>Word embeddings are a type of natural language processing technique used to map words or phrases from a vocabulary to vectors of real numbers. The idea is to represent words in a continuous vector space, where the similarity between words can be measured by the distance between their corresponding vectors. This can be done using algorithms such as Word2Vec or GloVe, among others.\n",
      "\n",
      "The use of word embeddings has revolutionized the field of Natural Language Processing, as it allows computers to understand text in a much more meaningful way than simply looking at the presence or absence of individual words. For example, when using word embeddings, the computer can understand that the words \"dog\" and \"puppy\" are closely related, while the words \"dog\" and \"umbrella\" are not.\n",
      "\n",
      "Word embeddings are used in a wide variety of NLP tasks, including text classification, sentiment analysis, machine translation, named entity recognition, and many others. They form the basis for many advanced language processing techniques, such as deep learning and neural machine translation.</output>\n",
      "<input></input>\n",
      "<instruction>Explain the use of word embeddings in Natural Language Processing</instruction>\n",
      "\n",
      "<output>שיכוני מילים (Word embeddings) הם סוג של טכניקה בעיבוד שפה טבעית המשמשת למיפוי מילים או ביטויים מאוצר מילים לווקטורים של מספרים ממשיים. הרעיון הוא לייצג מילים במרחב וקטורי רציף, שבו ניתן למדוד את הדמיון בין מילים באמצעות המרחק בין הווקטורים התואמים שלהן. ניתן לעשות זאת באמצעות אלגוריתמים כגון Word2Vec או GloVe, בין היתר.\n",
      "\n",
      "השימוש בשיכוני מילים חולל מהפכה בתחום עיבוד השפה הטבעית, מכיוון שהוא מאפשר למחשבים להבין טקסט בצורה הרבה יותר משמעותית מאשר פשוט להסתכל על נוכחות או היעדרות של מילים בודדות. לדוגמה, בעת שימוש בשיכוני מילים, המחשב יכול להבין שהמילים \"כלב\" ו\"גור\" קשורות קשר הדוק, בעוד שהמילים \"כלב\" ו\"מטרייה\" אינן קשורות.\n",
      "\n",
      "שיכוני מילים משמשים במגוון רחב של משימות NLP, כולל סיווג טקסט, ניתוח סנטימנט, תרגום מכונה, זיהוי ישויות בעלות שם, ורבות אחרות. הם מהווים את הבסיס לטכניקות מתקדמות רבות של עיבוד שפה, כגון למידה עמוקה ותרגום מכונה מבוסס רשתות נוירונים.</output>\n",
      "<input></input>\n",
      "<instruction>הסבר את השימוש בשיכוני מילים (word embeddings) בעיבוד שפה טבעית</instruction>\n",
      "\n",
      "--------------------------------------------------------------------------------\n",
      "\n"
     ]
    }
   ],
   "source": [
    "for i in range(10):\n",
    "    print(dict_to_prompt(alpaca_dataset[i]))\n",
    "    print('')\n",
    "    print(dict_to_prompt(hebrew_datasets[i]))\n",
    "    print()\n",
    "    print('-' * 80)\n",
    "    print()"
   ]
  },
  {
   "cell_type": "raw",
   "id": "106d47f0-e0c0-4664-80eb-11e088c6d436",
   "metadata": {},
   "source": [
    "for i in range(5):\n",
    "    print('<example>')\n",
    "    print('English:')\n",
    "    print(dict_to_prompt(alpaca_dataset[i]))\n",
    "    print('Hebrew:')\n",
    "    print(dict_to_prompt(hebrew_datasets[i]))\n",
    "    print('</example>')\n",
    "    print()"
   ]
  }
 ],
 "metadata": {
  "kernelspec": {
   "display_name": "conda_pytorch_p310",
   "language": "python",
   "name": "conda_pytorch_p310"
  },
  "language_info": {
   "codemirror_mode": {
    "name": "ipython",
    "version": 3
   },
   "file_extension": ".py",
   "mimetype": "text/x-python",
   "name": "python",
   "nbconvert_exporter": "python",
   "pygments_lexer": "ipython3",
   "version": "3.10.14"
  }
 },
 "nbformat": 4,
 "nbformat_minor": 5
}
