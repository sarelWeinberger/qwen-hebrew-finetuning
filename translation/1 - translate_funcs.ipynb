{
 "cells": [
  {
   "cell_type": "code",
   "execution_count": 1,
   "id": "640c8e54-2bf1-49d3-a20e-d2b6e7378607",
   "metadata": {
    "ExecuteTime": {
     "end_time": "2025-07-14T07:44:18.247473Z",
     "start_time": "2025-07-14T07:44:07.313929Z"
    },
    "collapsed": true,
    "jupyter": {
     "outputs_hidden": true
    },
    "scrolled": true
   },
   "outputs": [
    {
     "name": "stdout",
     "output_type": "stream",
     "text": [
      "Collecting datasets\n",
      "  Downloading datasets-4.0.0-py3-none-any.whl.metadata (19 kB)\n",
      "Requirement already satisfied: filelock in /home/ec2-user/anaconda3/envs/pytorch_p310/lib/python3.10/site-packages (from datasets) (3.16.1)\n",
      "Requirement already satisfied: numpy>=1.17 in /home/ec2-user/anaconda3/envs/pytorch_p310/lib/python3.10/site-packages (from datasets) (1.26.4)\n",
      "Requirement already satisfied: pyarrow>=15.0.0 in /home/ec2-user/anaconda3/envs/pytorch_p310/lib/python3.10/site-packages (from datasets) (20.0.0)\n",
      "Collecting dill<0.3.9,>=0.3.0 (from datasets)\n",
      "  Downloading dill-0.3.8-py3-none-any.whl.metadata (10 kB)\n",
      "Requirement already satisfied: pandas in /home/ec2-user/anaconda3/envs/pytorch_p310/lib/python3.10/site-packages (from datasets) (2.3.1)\n",
      "Requirement already satisfied: requests>=2.32.2 in /home/ec2-user/anaconda3/envs/pytorch_p310/lib/python3.10/site-packages (from datasets) (2.32.4)\n",
      "Requirement already satisfied: tqdm>=4.66.3 in /home/ec2-user/anaconda3/envs/pytorch_p310/lib/python3.10/site-packages (from datasets) (4.67.1)\n",
      "Collecting xxhash (from datasets)\n",
      "  Downloading xxhash-3.5.0-cp310-cp310-manylinux_2_17_x86_64.manylinux2014_x86_64.whl.metadata (12 kB)\n",
      "Collecting multiprocess<0.70.17 (from datasets)\n",
      "  Downloading multiprocess-0.70.16-py310-none-any.whl.metadata (7.2 kB)\n",
      "Collecting fsspec<=2025.3.0,>=2023.1.0 (from fsspec[http]<=2025.3.0,>=2023.1.0->datasets)\n",
      "  Downloading fsspec-2025.3.0-py3-none-any.whl.metadata (11 kB)\n",
      "Collecting huggingface-hub>=0.24.0 (from datasets)\n",
      "  Downloading huggingface_hub-0.34.4-py3-none-any.whl.metadata (14 kB)\n",
      "Requirement already satisfied: packaging in /home/ec2-user/anaconda3/envs/pytorch_p310/lib/python3.10/site-packages (from datasets) (24.2)\n",
      "Requirement already satisfied: pyyaml>=5.1 in /home/ec2-user/anaconda3/envs/pytorch_p310/lib/python3.10/site-packages (from datasets) (6.0.2)\n",
      "Collecting aiohttp!=4.0.0a0,!=4.0.0a1 (from fsspec[http]<=2025.3.0,>=2023.1.0->datasets)\n",
      "  Downloading aiohttp-3.12.15-cp310-cp310-manylinux_2_17_x86_64.manylinux2014_x86_64.whl.metadata (7.7 kB)\n",
      "Collecting aiohappyeyeballs>=2.5.0 (from aiohttp!=4.0.0a0,!=4.0.0a1->fsspec[http]<=2025.3.0,>=2023.1.0->datasets)\n",
      "  Downloading aiohappyeyeballs-2.6.1-py3-none-any.whl.metadata (5.9 kB)\n",
      "Collecting aiosignal>=1.4.0 (from aiohttp!=4.0.0a0,!=4.0.0a1->fsspec[http]<=2025.3.0,>=2023.1.0->datasets)\n",
      "  Downloading aiosignal-1.4.0-py3-none-any.whl.metadata (3.7 kB)\n",
      "Collecting async-timeout<6.0,>=4.0 (from aiohttp!=4.0.0a0,!=4.0.0a1->fsspec[http]<=2025.3.0,>=2023.1.0->datasets)\n",
      "  Downloading async_timeout-5.0.1-py3-none-any.whl.metadata (5.1 kB)\n",
      "Requirement already satisfied: attrs>=17.3.0 in /home/ec2-user/anaconda3/envs/pytorch_p310/lib/python3.10/site-packages (from aiohttp!=4.0.0a0,!=4.0.0a1->fsspec[http]<=2025.3.0,>=2023.1.0->datasets) (25.3.0)\n",
      "Collecting frozenlist>=1.1.1 (from aiohttp!=4.0.0a0,!=4.0.0a1->fsspec[http]<=2025.3.0,>=2023.1.0->datasets)\n",
      "  Downloading frozenlist-1.7.0-cp310-cp310-manylinux_2_5_x86_64.manylinux1_x86_64.manylinux_2_17_x86_64.manylinux2014_x86_64.whl.metadata (18 kB)\n",
      "Collecting multidict<7.0,>=4.5 (from aiohttp!=4.0.0a0,!=4.0.0a1->fsspec[http]<=2025.3.0,>=2023.1.0->datasets)\n",
      "  Downloading multidict-6.6.4-cp310-cp310-manylinux2014_x86_64.manylinux_2_17_x86_64.manylinux_2_28_x86_64.whl.metadata (5.3 kB)\n",
      "Collecting propcache>=0.2.0 (from aiohttp!=4.0.0a0,!=4.0.0a1->fsspec[http]<=2025.3.0,>=2023.1.0->datasets)\n",
      "  Downloading propcache-0.3.2-cp310-cp310-manylinux_2_17_x86_64.manylinux2014_x86_64.whl.metadata (12 kB)\n",
      "Collecting yarl<2.0,>=1.17.0 (from aiohttp!=4.0.0a0,!=4.0.0a1->fsspec[http]<=2025.3.0,>=2023.1.0->datasets)\n",
      "  Downloading yarl-1.20.1-cp310-cp310-manylinux_2_17_x86_64.manylinux2014_x86_64.whl.metadata (73 kB)\n",
      "Requirement already satisfied: typing-extensions>=4.1.0 in /home/ec2-user/anaconda3/envs/pytorch_p310/lib/python3.10/site-packages (from multidict<7.0,>=4.5->aiohttp!=4.0.0a0,!=4.0.0a1->fsspec[http]<=2025.3.0,>=2023.1.0->datasets) (4.14.1)\n",
      "Requirement already satisfied: idna>=2.0 in /home/ec2-user/anaconda3/envs/pytorch_p310/lib/python3.10/site-packages (from yarl<2.0,>=1.17.0->aiohttp!=4.0.0a0,!=4.0.0a1->fsspec[http]<=2025.3.0,>=2023.1.0->datasets) (3.10)\n",
      "Collecting hf-xet<2.0.0,>=1.1.3 (from huggingface-hub>=0.24.0->datasets)\n",
      "  Downloading hf_xet-1.1.8-cp37-abi3-manylinux_2_17_x86_64.manylinux2014_x86_64.whl.metadata (703 bytes)\n",
      "Requirement already satisfied: charset_normalizer<4,>=2 in /home/ec2-user/anaconda3/envs/pytorch_p310/lib/python3.10/site-packages (from requests>=2.32.2->datasets) (3.4.2)\n",
      "Requirement already satisfied: urllib3<3,>=1.21.1 in /home/ec2-user/anaconda3/envs/pytorch_p310/lib/python3.10/site-packages (from requests>=2.32.2->datasets) (1.26.19)\n",
      "Requirement already satisfied: certifi>=2017.4.17 in /home/ec2-user/anaconda3/envs/pytorch_p310/lib/python3.10/site-packages (from requests>=2.32.2->datasets) (2025.7.14)\n",
      "Requirement already satisfied: python-dateutil>=2.8.2 in /home/ec2-user/anaconda3/envs/pytorch_p310/lib/python3.10/site-packages (from pandas->datasets) (2.9.0)\n",
      "Requirement already satisfied: pytz>=2020.1 in /home/ec2-user/anaconda3/envs/pytorch_p310/lib/python3.10/site-packages (from pandas->datasets) (2025.2)\n",
      "Requirement already satisfied: tzdata>=2022.7 in /home/ec2-user/anaconda3/envs/pytorch_p310/lib/python3.10/site-packages (from pandas->datasets) (2025.2)\n",
      "Requirement already satisfied: six>=1.5 in /home/ec2-user/anaconda3/envs/pytorch_p310/lib/python3.10/site-packages (from python-dateutil>=2.8.2->pandas->datasets) (1.17.0)\n",
      "Downloading datasets-4.0.0-py3-none-any.whl (494 kB)\n",
      "Downloading dill-0.3.8-py3-none-any.whl (116 kB)\n",
      "Downloading fsspec-2025.3.0-py3-none-any.whl (193 kB)\n",
      "Downloading multiprocess-0.70.16-py310-none-any.whl (134 kB)\n",
      "Downloading aiohttp-3.12.15-cp310-cp310-manylinux_2_17_x86_64.manylinux2014_x86_64.whl (1.6 MB)\n",
      "\u001b[2K   \u001b[90m━━━━━━━━━━━━━━━━━━━━━━━━━━━━━━━━━━━━━━━━\u001b[0m \u001b[32m1.6/1.6 MB\u001b[0m \u001b[31m91.7 MB/s\u001b[0m eta \u001b[36m0:00:00\u001b[0m\n",
      "\u001b[?25hDownloading async_timeout-5.0.1-py3-none-any.whl (6.2 kB)\n",
      "Downloading multidict-6.6.4-cp310-cp310-manylinux2014_x86_64.manylinux_2_17_x86_64.manylinux_2_28_x86_64.whl (241 kB)\n",
      "Downloading yarl-1.20.1-cp310-cp310-manylinux_2_17_x86_64.manylinux2014_x86_64.whl (326 kB)\n",
      "Downloading aiohappyeyeballs-2.6.1-py3-none-any.whl (15 kB)\n",
      "Downloading aiosignal-1.4.0-py3-none-any.whl (7.5 kB)\n",
      "Downloading frozenlist-1.7.0-cp310-cp310-manylinux_2_5_x86_64.manylinux1_x86_64.manylinux_2_17_x86_64.manylinux2014_x86_64.whl (222 kB)\n",
      "Downloading huggingface_hub-0.34.4-py3-none-any.whl (561 kB)\n",
      "\u001b[2K   \u001b[90m━━━━━━━━━━━━━━━━━━━━━━━━━━━━━━━━━━━━━━━━\u001b[0m \u001b[32m561.5/561.5 kB\u001b[0m \u001b[31m30.7 MB/s\u001b[0m eta \u001b[36m0:00:00\u001b[0m\n",
      "\u001b[?25hDownloading hf_xet-1.1.8-cp37-abi3-manylinux_2_17_x86_64.manylinux2014_x86_64.whl (3.2 MB)\n",
      "\u001b[2K   \u001b[90m━━━━━━━━━━━━━━━━━━━━━━━━━━━━━━━━━━━━━━━━\u001b[0m \u001b[32m3.2/3.2 MB\u001b[0m \u001b[31m132.7 MB/s\u001b[0m eta \u001b[36m0:00:00\u001b[0m\n",
      "\u001b[?25hDownloading propcache-0.3.2-cp310-cp310-manylinux_2_17_x86_64.manylinux2014_x86_64.whl (198 kB)\n",
      "Downloading xxhash-3.5.0-cp310-cp310-manylinux_2_17_x86_64.manylinux2014_x86_64.whl (194 kB)\n",
      "Installing collected packages: xxhash, propcache, multidict, hf-xet, fsspec, frozenlist, dill, async-timeout, aiohappyeyeballs, yarl, multiprocess, huggingface-hub, aiosignal, aiohttp, datasets\n",
      "\u001b[2K  Attempting uninstall: fsspec\n",
      "\u001b[2K    Found existing installation: fsspec 2025.7.0\n",
      "\u001b[2K    Uninstalling fsspec-2025.7.0:\n",
      "\u001b[2K      Successfully uninstalled fsspec-2025.7.0\n",
      "\u001b[2K  Attempting uninstall: dill0m╺\u001b[0m\u001b[90m━━━━━━━━━━━━━━━━━━━━━━━━━━\u001b[0m \u001b[32m 5/15\u001b[0m [frozenlist]\n",
      "\u001b[2K    Found existing installation: dill 0.4.0━━━━━━━━━━━━━━━━━━━\u001b[0m \u001b[32m 5/15\u001b[0m [frozenlist]\n",
      "\u001b[2K    Uninstalling dill-0.4.0:[0m\u001b[90m━━━━━━━━━━━━━━━━━━━━━━━━━━\u001b[0m \u001b[32m 5/15\u001b[0m [frozenlist]\n",
      "\u001b[2K      Successfully uninstalled dill-0.4.0━━━━━━━━━━━━━━━━━━━━━\u001b[0m \u001b[32m 5/15\u001b[0m [frozenlist]\n",
      "\u001b[2K  Attempting uninstall: multiprocess0m\u001b[90m━━━━━━━━━━━━━━━━━━━━━━━\u001b[0m \u001b[32m 6/15\u001b[0m [dill]t]\n",
      "\u001b[2K    Found existing installation: multiprocess 0.70.18━━━━━━━━━\u001b[0m \u001b[32m 6/15\u001b[0m [dill]\n",
      "\u001b[2K    Uninstalling multiprocess-0.70.18:\u001b[91m╸\u001b[0m\u001b[90m━━━━━━━━━━━━━\u001b[0m \u001b[32m10/15\u001b[0m [multiprocess]\n",
      "\u001b[2K      Successfully uninstalled multiprocess-0.70.18━━━━━━━━━━━\u001b[0m \u001b[32m10/15\u001b[0m [multiprocess]\n",
      "\u001b[2K   \u001b[90m━━━━━━━━━━━━━━━━━━━━━━━━━━━━━━━━━━━━━━━━\u001b[0m \u001b[32m15/15\u001b[0m [datasets]/15\u001b[0m [datasets]ce-hub]\n",
      "\u001b[1A\u001b[2K\u001b[31mERROR: pip's dependency resolver does not currently take into account all the packages that are installed. This behaviour is the source of the following dependency conflicts.\n",
      "pathos 0.3.4 requires dill>=0.4.0, but you have dill 0.3.8 which is incompatible.\n",
      "pathos 0.3.4 requires multiprocess>=0.70.18, but you have multiprocess 0.70.16 which is incompatible.\u001b[0m\u001b[31m\n",
      "\u001b[0mSuccessfully installed aiohappyeyeballs-2.6.1 aiohttp-3.12.15 aiosignal-1.4.0 async-timeout-5.0.1 datasets-4.0.0 dill-0.3.8 frozenlist-1.7.0 fsspec-2025.3.0 hf-xet-1.1.8 huggingface-hub-0.34.4 multidict-6.6.4 multiprocess-0.70.16 propcache-0.3.2 xxhash-3.5.0 yarl-1.20.1\n",
      "Collecting openpyxl\n",
      "  Downloading openpyxl-3.1.5-py2.py3-none-any.whl.metadata (2.5 kB)\n",
      "Collecting et-xmlfile (from openpyxl)\n",
      "  Downloading et_xmlfile-2.0.0-py3-none-any.whl.metadata (2.7 kB)\n",
      "Downloading openpyxl-3.1.5-py2.py3-none-any.whl (250 kB)\n",
      "Downloading et_xmlfile-2.0.0-py3-none-any.whl (18 kB)\n",
      "Installing collected packages: et-xmlfile, openpyxl\n",
      "\u001b[2K   \u001b[90m━━━━━━━━━━━━━━━━━━━━━━━━━━━━━━━━━━━━━━━━\u001b[0m \u001b[32m2/2\u001b[0m [openpyxl]1/2\u001b[0m [openpyxl]\n",
      "\u001b[1A\u001b[2KSuccessfully installed et-xmlfile-2.0.0 openpyxl-3.1.5\n",
      "Collecting gradio\n",
      "  Downloading gradio-5.43.1-py3-none-any.whl.metadata (16 kB)\n",
      "Collecting aiofiles<25.0,>=22.0 (from gradio)\n",
      "  Downloading aiofiles-24.1.0-py3-none-any.whl.metadata (10 kB)\n",
      "Requirement already satisfied: anyio<5.0,>=3.0 in /home/ec2-user/anaconda3/envs/pytorch_p310/lib/python3.10/site-packages (from gradio) (4.9.0)\n",
      "Requirement already satisfied: brotli>=1.1.0 in /home/ec2-user/anaconda3/envs/pytorch_p310/lib/python3.10/site-packages (from gradio) (1.1.0)\n",
      "Requirement already satisfied: fastapi<1.0,>=0.115.2 in /home/ec2-user/anaconda3/envs/pytorch_p310/lib/python3.10/site-packages (from gradio) (0.116.1)\n",
      "Collecting ffmpy (from gradio)\n",
      "  Downloading ffmpy-0.6.1-py3-none-any.whl.metadata (2.9 kB)\n",
      "Collecting gradio-client==1.12.1 (from gradio)\n",
      "  Downloading gradio_client-1.12.1-py3-none-any.whl.metadata (7.1 kB)\n",
      "Collecting groovy~=0.1 (from gradio)\n",
      "  Downloading groovy-0.1.2-py3-none-any.whl.metadata (6.1 kB)\n",
      "Requirement already satisfied: httpx<1.0,>=0.24.1 in /home/ec2-user/anaconda3/envs/pytorch_p310/lib/python3.10/site-packages (from gradio) (0.28.1)\n",
      "Requirement already satisfied: huggingface-hub<1.0,>=0.33.5 in /home/ec2-user/anaconda3/envs/pytorch_p310/lib/python3.10/site-packages (from gradio) (0.34.4)\n",
      "Requirement already satisfied: jinja2<4.0 in /home/ec2-user/anaconda3/envs/pytorch_p310/lib/python3.10/site-packages (from gradio) (3.1.6)\n",
      "Requirement already satisfied: markupsafe<4.0,>=2.0 in /home/ec2-user/anaconda3/envs/pytorch_p310/lib/python3.10/site-packages (from gradio) (3.0.2)\n",
      "Requirement already satisfied: numpy<3.0,>=1.0 in /home/ec2-user/anaconda3/envs/pytorch_p310/lib/python3.10/site-packages (from gradio) (1.26.4)\n",
      "Collecting orjson~=3.0 (from gradio)\n",
      "  Downloading orjson-3.11.2-cp310-cp310-manylinux_2_17_x86_64.manylinux2014_x86_64.whl.metadata (1.2 kB)\n",
      "Requirement already satisfied: packaging in /home/ec2-user/anaconda3/envs/pytorch_p310/lib/python3.10/site-packages (from gradio) (24.2)\n",
      "Requirement already satisfied: pandas<3.0,>=1.0 in /home/ec2-user/anaconda3/envs/pytorch_p310/lib/python3.10/site-packages (from gradio) (2.3.1)\n",
      "Requirement already satisfied: pillow<12.0,>=8.0 in /home/ec2-user/anaconda3/envs/pytorch_p310/lib/python3.10/site-packages (from gradio) (11.3.0)\n",
      "Requirement already satisfied: pydantic<2.12,>=2.0 in /home/ec2-user/anaconda3/envs/pytorch_p310/lib/python3.10/site-packages (from gradio) (2.9.2)\n",
      "Collecting pydub (from gradio)\n",
      "  Downloading pydub-0.25.1-py2.py3-none-any.whl.metadata (1.4 kB)\n",
      "Collecting python-multipart>=0.0.18 (from gradio)\n",
      "  Downloading python_multipart-0.0.20-py3-none-any.whl.metadata (1.8 kB)\n",
      "Requirement already satisfied: pyyaml<7.0,>=5.0 in /home/ec2-user/anaconda3/envs/pytorch_p310/lib/python3.10/site-packages (from gradio) (6.0.2)\n",
      "Collecting ruff>=0.9.3 (from gradio)\n",
      "  Downloading ruff-0.12.10-py3-none-manylinux_2_17_x86_64.manylinux2014_x86_64.whl.metadata (25 kB)\n",
      "Collecting safehttpx<0.2.0,>=0.1.6 (from gradio)\n",
      "  Downloading safehttpx-0.1.6-py3-none-any.whl.metadata (4.2 kB)\n",
      "Collecting semantic-version~=2.0 (from gradio)\n",
      "  Downloading semantic_version-2.10.0-py2.py3-none-any.whl.metadata (9.7 kB)\n",
      "Requirement already satisfied: starlette<1.0,>=0.40.0 in /home/ec2-user/anaconda3/envs/pytorch_p310/lib/python3.10/site-packages (from gradio) (0.47.1)\n",
      "Requirement already satisfied: tomlkit<0.14.0,>=0.12.0 in /home/ec2-user/anaconda3/envs/pytorch_p310/lib/python3.10/site-packages (from gradio) (0.13.3)\n",
      "Requirement already satisfied: typer<1.0,>=0.12 in /home/ec2-user/anaconda3/envs/pytorch_p310/lib/python3.10/site-packages (from gradio) (0.16.0)\n",
      "Requirement already satisfied: typing-extensions~=4.0 in /home/ec2-user/anaconda3/envs/pytorch_p310/lib/python3.10/site-packages (from gradio) (4.14.1)\n",
      "Requirement already satisfied: uvicorn>=0.14.0 in /home/ec2-user/anaconda3/envs/pytorch_p310/lib/python3.10/site-packages (from gradio) (0.35.0)\n",
      "Requirement already satisfied: fsspec in /home/ec2-user/anaconda3/envs/pytorch_p310/lib/python3.10/site-packages (from gradio-client==1.12.1->gradio) (2025.3.0)\n",
      "Requirement already satisfied: websockets<16.0,>=10.0 in /home/ec2-user/anaconda3/envs/pytorch_p310/lib/python3.10/site-packages (from gradio-client==1.12.1->gradio) (15.0.1)\n",
      "Requirement already satisfied: exceptiongroup>=1.0.2 in /home/ec2-user/anaconda3/envs/pytorch_p310/lib/python3.10/site-packages (from anyio<5.0,>=3.0->gradio) (1.3.0)\n",
      "Requirement already satisfied: idna>=2.8 in /home/ec2-user/anaconda3/envs/pytorch_p310/lib/python3.10/site-packages (from anyio<5.0,>=3.0->gradio) (3.10)\n",
      "Requirement already satisfied: sniffio>=1.1 in /home/ec2-user/anaconda3/envs/pytorch_p310/lib/python3.10/site-packages (from anyio<5.0,>=3.0->gradio) (1.3.1)\n",
      "Requirement already satisfied: certifi in /home/ec2-user/anaconda3/envs/pytorch_p310/lib/python3.10/site-packages (from httpx<1.0,>=0.24.1->gradio) (2025.7.14)\n",
      "Requirement already satisfied: httpcore==1.* in /home/ec2-user/anaconda3/envs/pytorch_p310/lib/python3.10/site-packages (from httpx<1.0,>=0.24.1->gradio) (1.0.9)\n",
      "Requirement already satisfied: h11>=0.16 in /home/ec2-user/anaconda3/envs/pytorch_p310/lib/python3.10/site-packages (from httpcore==1.*->httpx<1.0,>=0.24.1->gradio) (0.16.0)\n",
      "Requirement already satisfied: filelock in /home/ec2-user/anaconda3/envs/pytorch_p310/lib/python3.10/site-packages (from huggingface-hub<1.0,>=0.33.5->gradio) (3.16.1)\n",
      "Requirement already satisfied: requests in /home/ec2-user/anaconda3/envs/pytorch_p310/lib/python3.10/site-packages (from huggingface-hub<1.0,>=0.33.5->gradio) (2.32.4)\n",
      "Requirement already satisfied: tqdm>=4.42.1 in /home/ec2-user/anaconda3/envs/pytorch_p310/lib/python3.10/site-packages (from huggingface-hub<1.0,>=0.33.5->gradio) (4.67.1)\n",
      "Requirement already satisfied: hf-xet<2.0.0,>=1.1.3 in /home/ec2-user/anaconda3/envs/pytorch_p310/lib/python3.10/site-packages (from huggingface-hub<1.0,>=0.33.5->gradio) (1.1.8)\n",
      "Requirement already satisfied: python-dateutil>=2.8.2 in /home/ec2-user/anaconda3/envs/pytorch_p310/lib/python3.10/site-packages (from pandas<3.0,>=1.0->gradio) (2.9.0)\n",
      "Requirement already satisfied: pytz>=2020.1 in /home/ec2-user/anaconda3/envs/pytorch_p310/lib/python3.10/site-packages (from pandas<3.0,>=1.0->gradio) (2025.2)\n",
      "Requirement already satisfied: tzdata>=2022.7 in /home/ec2-user/anaconda3/envs/pytorch_p310/lib/python3.10/site-packages (from pandas<3.0,>=1.0->gradio) (2025.2)\n",
      "Requirement already satisfied: annotated-types>=0.6.0 in /home/ec2-user/anaconda3/envs/pytorch_p310/lib/python3.10/site-packages (from pydantic<2.12,>=2.0->gradio) (0.7.0)\n",
      "Requirement already satisfied: pydantic-core==2.23.4 in /home/ec2-user/anaconda3/envs/pytorch_p310/lib/python3.10/site-packages (from pydantic<2.12,>=2.0->gradio) (2.23.4)\n",
      "Requirement already satisfied: click>=8.0.0 in /home/ec2-user/anaconda3/envs/pytorch_p310/lib/python3.10/site-packages (from typer<1.0,>=0.12->gradio) (8.2.1)\n",
      "Requirement already satisfied: shellingham>=1.3.0 in /home/ec2-user/anaconda3/envs/pytorch_p310/lib/python3.10/site-packages (from typer<1.0,>=0.12->gradio) (1.5.4)\n",
      "Requirement already satisfied: rich>=10.11.0 in /home/ec2-user/anaconda3/envs/pytorch_p310/lib/python3.10/site-packages (from typer<1.0,>=0.12->gradio) (14.0.0)\n",
      "Requirement already satisfied: six>=1.5 in /home/ec2-user/anaconda3/envs/pytorch_p310/lib/python3.10/site-packages (from python-dateutil>=2.8.2->pandas<3.0,>=1.0->gradio) (1.17.0)\n",
      "Requirement already satisfied: markdown-it-py>=2.2.0 in /home/ec2-user/anaconda3/envs/pytorch_p310/lib/python3.10/site-packages (from rich>=10.11.0->typer<1.0,>=0.12->gradio) (3.0.0)\n",
      "Requirement already satisfied: pygments<3.0.0,>=2.13.0 in /home/ec2-user/anaconda3/envs/pytorch_p310/lib/python3.10/site-packages (from rich>=10.11.0->typer<1.0,>=0.12->gradio) (2.19.2)\n",
      "Requirement already satisfied: mdurl~=0.1 in /home/ec2-user/anaconda3/envs/pytorch_p310/lib/python3.10/site-packages (from markdown-it-py>=2.2.0->rich>=10.11.0->typer<1.0,>=0.12->gradio) (0.1.2)\n",
      "Requirement already satisfied: charset_normalizer<4,>=2 in /home/ec2-user/anaconda3/envs/pytorch_p310/lib/python3.10/site-packages (from requests->huggingface-hub<1.0,>=0.33.5->gradio) (3.4.2)\n",
      "Requirement already satisfied: urllib3<3,>=1.21.1 in /home/ec2-user/anaconda3/envs/pytorch_p310/lib/python3.10/site-packages (from requests->huggingface-hub<1.0,>=0.33.5->gradio) (1.26.19)\n",
      "Downloading gradio-5.43.1-py3-none-any.whl (59.6 MB)\n",
      "\u001b[2K   \u001b[90m━━━━━━━━━━━━━━━━━━━━━━━━━━━━━━━━━━━━━━━━\u001b[0m \u001b[32m59.6/59.6 MB\u001b[0m \u001b[31m149.1 MB/s\u001b[0m eta \u001b[36m0:00:00\u001b[0ma \u001b[36m0:00:01\u001b[0m\n",
      "\u001b[?25hDownloading gradio_client-1.12.1-py3-none-any.whl (324 kB)\n",
      "Downloading aiofiles-24.1.0-py3-none-any.whl (15 kB)\n",
      "Downloading groovy-0.1.2-py3-none-any.whl (14 kB)\n",
      "Downloading orjson-3.11.2-cp310-cp310-manylinux_2_17_x86_64.manylinux2014_x86_64.whl (121 kB)\n",
      "Downloading safehttpx-0.1.6-py3-none-any.whl (8.7 kB)\n",
      "Downloading semantic_version-2.10.0-py2.py3-none-any.whl (15 kB)\n",
      "Downloading python_multipart-0.0.20-py3-none-any.whl (24 kB)\n",
      "Downloading ruff-0.12.10-py3-none-manylinux_2_17_x86_64.manylinux2014_x86_64.whl (13.1 MB)\n",
      "\u001b[2K   \u001b[90m━━━━━━━━━━━━━━━━━━━━━━━━━━━━━━━━━━━━━━━━\u001b[0m \u001b[32m13.1/13.1 MB\u001b[0m \u001b[31m206.6 MB/s\u001b[0m eta \u001b[36m0:00:00\u001b[0m\n",
      "\u001b[?25hDownloading ffmpy-0.6.1-py3-none-any.whl (5.5 kB)\n",
      "Downloading pydub-0.25.1-py2.py3-none-any.whl (32 kB)\n",
      "Installing collected packages: pydub, semantic-version, ruff, python-multipart, orjson, groovy, ffmpy, aiofiles, safehttpx, gradio-client, gradio\n",
      "\u001b[2K   \u001b[90m━━━━━━━━━━━━━━━━━━━━━━━━━━━━━━━━━━━━━━━━\u001b[0m \u001b[32m11/11\u001b[0m [gradio]10/11\u001b[0m [gradio]client]\n",
      "\u001b[1A\u001b[2KSuccessfully installed aiofiles-24.1.0 ffmpy-0.6.1 gradio-5.43.1 gradio-client-1.12.1 groovy-0.1.2 orjson-3.11.2 pydub-0.25.1 python-multipart-0.0.20 ruff-0.12.10 safehttpx-0.1.6 semantic-version-2.10.0\n",
      "Collecting openai\n",
      "  Downloading openai-1.101.0-py3-none-any.whl.metadata (29 kB)\n",
      "Requirement already satisfied: anyio<5,>=3.5.0 in /home/ec2-user/anaconda3/envs/pytorch_p310/lib/python3.10/site-packages (from openai) (4.9.0)\n",
      "Requirement already satisfied: distro<2,>=1.7.0 in /home/ec2-user/anaconda3/envs/pytorch_p310/lib/python3.10/site-packages (from openai) (1.8.0)\n",
      "Requirement already satisfied: httpx<1,>=0.23.0 in /home/ec2-user/anaconda3/envs/pytorch_p310/lib/python3.10/site-packages (from openai) (0.28.1)\n",
      "Collecting jiter<1,>=0.4.0 (from openai)\n",
      "  Downloading jiter-0.10.0-cp310-cp310-manylinux_2_17_x86_64.manylinux2014_x86_64.whl.metadata (5.2 kB)\n",
      "Requirement already satisfied: pydantic<3,>=1.9.0 in /home/ec2-user/anaconda3/envs/pytorch_p310/lib/python3.10/site-packages (from openai) (2.9.2)\n",
      "Requirement already satisfied: sniffio in /home/ec2-user/anaconda3/envs/pytorch_p310/lib/python3.10/site-packages (from openai) (1.3.1)\n",
      "Requirement already satisfied: tqdm>4 in /home/ec2-user/anaconda3/envs/pytorch_p310/lib/python3.10/site-packages (from openai) (4.67.1)\n",
      "Requirement already satisfied: typing-extensions<5,>=4.11 in /home/ec2-user/anaconda3/envs/pytorch_p310/lib/python3.10/site-packages (from openai) (4.14.1)\n",
      "Requirement already satisfied: exceptiongroup>=1.0.2 in /home/ec2-user/anaconda3/envs/pytorch_p310/lib/python3.10/site-packages (from anyio<5,>=3.5.0->openai) (1.3.0)\n",
      "Requirement already satisfied: idna>=2.8 in /home/ec2-user/anaconda3/envs/pytorch_p310/lib/python3.10/site-packages (from anyio<5,>=3.5.0->openai) (3.10)\n",
      "Requirement already satisfied: certifi in /home/ec2-user/anaconda3/envs/pytorch_p310/lib/python3.10/site-packages (from httpx<1,>=0.23.0->openai) (2025.7.14)\n",
      "Requirement already satisfied: httpcore==1.* in /home/ec2-user/anaconda3/envs/pytorch_p310/lib/python3.10/site-packages (from httpx<1,>=0.23.0->openai) (1.0.9)\n",
      "Requirement already satisfied: h11>=0.16 in /home/ec2-user/anaconda3/envs/pytorch_p310/lib/python3.10/site-packages (from httpcore==1.*->httpx<1,>=0.23.0->openai) (0.16.0)\n",
      "Requirement already satisfied: annotated-types>=0.6.0 in /home/ec2-user/anaconda3/envs/pytorch_p310/lib/python3.10/site-packages (from pydantic<3,>=1.9.0->openai) (0.7.0)\n",
      "Requirement already satisfied: pydantic-core==2.23.4 in /home/ec2-user/anaconda3/envs/pytorch_p310/lib/python3.10/site-packages (from pydantic<3,>=1.9.0->openai) (2.23.4)\n",
      "Downloading openai-1.101.0-py3-none-any.whl (810 kB)\n",
      "\u001b[2K   \u001b[90m━━━━━━━━━━━━━━━━━━━━━━━━━━━━━━━━━━━━━━━━\u001b[0m \u001b[32m810.8/810.8 kB\u001b[0m \u001b[31m35.1 MB/s\u001b[0m eta \u001b[36m0:00:00\u001b[0m\n",
      "\u001b[?25hDownloading jiter-0.10.0-cp310-cp310-manylinux_2_17_x86_64.manylinux2014_x86_64.whl (352 kB)\n",
      "Installing collected packages: jiter, openai\n",
      "\u001b[2K   \u001b[90m━━━━━━━━━━━━━━━━━━━━━━━━━━━━━━━━━━━━━━━━\u001b[0m \u001b[32m2/2\u001b[0m [openai]2m1/2\u001b[0m [openai]\n",
      "\u001b[1A\u001b[2KSuccessfully installed jiter-0.10.0 openai-1.101.0\n"
     ]
    }
   ],
   "source": [
    "!pip install datasets\n",
    "!pip install openpyxl\n",
    "\n",
    "#For Gemini\n",
    "!pip install -q -U google-genai\n",
    "\n",
    "# For the labeling interface\n",
    "!pip install gradio\n",
    "\n",
    "# For the Qwen-MT\n",
    "!pip install -U openai"
   ]
  },
  {
   "cell_type": "markdown",
   "id": "d52ac5aa-eb0a-4ae5-b8de-a5d2a6fbc453",
   "metadata": {},
   "source": [
    "# Imports"
   ]
  },
  {
   "cell_type": "code",
   "execution_count": 1,
   "id": "7c5c1afb-bf91-456d-aecd-63dbe731d117",
   "metadata": {
    "ExecuteTime": {
     "end_time": "2025-07-14T07:45:18.857392Z",
     "start_time": "2025-07-14T07:45:18.835995Z"
    }
   },
   "outputs": [],
   "source": [
    "%load_ext autoreload\n",
    "%autoreload 2\n",
    "\n",
    "import pandas as pd\n",
    "import sys\n",
    "from datasets import concatenate_datasets\n",
    "\n",
    "# Call models\n",
    "from src.call_models import bedrock_connect, call_claude_bedrock\n",
    "from src.call_models import google_connect, call_gemini, all_string_gemini_config, all_int_gemini_config\n",
    "from src.translate_func import claude_translation, gemini_translation\n",
    "\n",
    "# Datasets\n",
    "from src.benchmarks_code import arc_ai\n",
    "from src.benchmarks_code import gsm8k\n",
    "from src.benchmarks_code import copa\n",
    "from prompts import arc_prompts\n",
    "from prompts import gsm_prompts\n",
    "from prompts import copa_prompts\n",
    "#from prompts import hellaswag_prompts\n",
    "\n",
    "# Access keys\n",
    "from my_access_keys import google_access_key, aws_access_key, aws_secret_key\n",
    "\n",
    "# .csv utils\n",
    "from src.save_utils import add_dataset_to_csv\n",
    "\n",
    "# Remove annoying warning\n",
    "from IPython.core.display_functions import display"
   ]
  },
  {
   "cell_type": "code",
   "execution_count": 4,
   "id": "23027f8a-2c23-4dfb-96ec-8bfe768ec35e",
   "metadata": {},
   "outputs": [],
   "source": [
    "from my_access_keys import google_project_id"
   ]
  },
  {
   "cell_type": "code",
   "execution_count": 3,
   "id": "ee4c23e3-3705-4090-b599-f06d7bef152e",
   "metadata": {
    "ExecuteTime": {
     "end_time": "2025-07-14T07:45:20.897912Z",
     "start_time": "2025-07-14T07:45:20.537138Z"
    },
    "scrolled": true
   },
   "outputs": [],
   "source": [
    "# Get the model's access keys\n",
    "bedrock_client = bedrock_connect(aws_access_key, aws_secret_key)\n",
    "google_client = google_connect(google_access_key)"
   ]
  },
  {
   "cell_type": "markdown",
   "id": "d558c746-5323-449a-9715-0787c26e8144",
   "metadata": {
    "jp-MarkdownHeadingCollapsed": true
   },
   "source": [
    "# Check Models Calls"
   ]
  },
  {
   "cell_type": "raw",
   "id": "befff497-7ce7-4b96-b8d9-9a9a8f1e0f40",
   "metadata": {},
   "source": [
    "print('claude:')\n",
    "print(call_claude_bedrock(\n",
    "    bedrock_client,\n",
    "    'Which one is more accurate in Hebrew? repeat the right sentence, without adding anything\\nכדור הארץ מסתובב על צירו OR כדור הארץ מסתובב סביב צירו',\n",
    "    system_prompt='ALWAYS start and end your answers with \"*\"',\n",
    "))"
   ]
  },
  {
   "cell_type": "code",
   "execution_count": 16,
   "id": "81c5d593-94d8-4c77-9edd-f2d88f54bb8e",
   "metadata": {
    "ExecuteTime": {
     "end_time": "2025-07-14T07:45:29.155206Z",
     "start_time": "2025-07-14T07:45:26.180645Z"
    }
   },
   "outputs": [
    {
     "name": "stdout",
     "output_type": "stream",
     "text": [
      "Gemini:\n",
      "{\"recipe\": \"Classic Chocolate Chip Cookies\", \"ingredients\": \"1 cup (2 sticks) unsalted butter, softened; 3/4 cup granulated sugar; 3/4 cup packed light brown sugar; 2 large eggs; 1 teaspoon vanilla extract; 2 1/4 cups all-purpose flour; 1 teaspoon baking soda; 1/2 teaspoon salt; 12 ounces chocolate chips (semi-sweet or milk chocolate)\"}\n",
      "---\n",
      "dict_keys(['recipe', 'ingredients'])\n"
     ]
    }
   ],
   "source": [
    "print('Gemini:')\n",
    "generate_content_config = all_string_gemini_config(['recipe', 'ingredients'], 'ALWAYS THINK BEFORE ANSWERING!', think_bud=200)\n",
    "response = call_gemini(google_client, \"List a popular cookie recipe, and include the amounts of ingredients.\", generate_content_config)\n",
    "print(response.text)\n",
    "print('---')\n",
    "my_recipes = response.parsed\n",
    "print(my_recipes.keys())"
   ]
  },
  {
   "cell_type": "markdown",
   "id": "a7e9b7c3-0fe6-4d38-9f14-11dbc22c4407",
   "metadata": {
    "jp-MarkdownHeadingCollapsed": true
   },
   "source": [
    "# ARC_AI2"
   ]
  },
  {
   "cell_type": "markdown",
   "id": "45f8b0ca-de73-46c6-908d-35f288bb3c16",
   "metadata": {
    "jp-MarkdownHeadingCollapsed": true
   },
   "source": [
    "## Get Dataset"
   ]
  },
  {
   "cell_type": "code",
   "execution_count": 8,
   "id": "dc1f8efc-d4cb-4b6e-b88c-7b3ef27d2f4a",
   "metadata": {
    "ExecuteTime": {
     "end_time": "2025-07-14T07:45:56.319299Z",
     "start_time": "2025-07-14T07:45:39.967771Z"
    }
   },
   "outputs": [
    {
     "name": "stdout",
     "output_type": "stream",
     "text": [
      "compare_csv/arc_ai2_chall_test_503-853.csv\n"
     ]
    },
    {
     "data": {
      "text/plain": [
       "{'arc_challenge_train': Dataset({\n",
       "     features: ['id', 'question', 'choices', 'answerKey'],\n",
       "     num_rows: 20\n",
       " }),\n",
       " 'arc_challenge_test': Dataset({\n",
       "     features: ['id', 'question', 'choices', 'answerKey'],\n",
       "     num_rows: 350\n",
       " })}"
      ]
     },
     "execution_count": 8,
     "metadata": {},
     "output_type": "execute_result"
    }
   ],
   "source": [
    "arc_dataset = arc_ai.get_arc_ai2_datasets()\n",
    "arc_dataset['arc_challenge_train'] = arc_dataset['arc_challenge_train'].skip(5).take(20)\n",
    "# arc_dataset['arc_challenge_train'] = arc_dataset['arc_challenge_train'].skip(5).take(90)\n",
    "\n",
    "# Remove sample number 121 - with only 3 optional answers....\n",
    "# arc_dataset['arc_challenge_test'] = concatenate_datasets([arc_dataset['arc_challenge_test'].take(120), arc_dataset['arc_challenge_test'].skip(122).take(80)])\n",
    "arc_dataset['arc_challenge_test'] = arc_dataset['arc_challenge_test'].skip(502).take(350)\n",
    "\n",
    "file_name = 'compare_csv/arc_ai2_chall_test_503-853.csv'\n",
    "\n",
    "print(file_name)\n",
    "arc_dataset"
   ]
  },
  {
   "cell_type": "code",
   "execution_count": 9,
   "id": "6fa2c39e-756e-4107-b79f-0245efb1de71",
   "metadata": {},
   "outputs": [
    {
     "data": {
      "text/plain": [
       "Dataset({\n",
       "    features: ['id', 'question', 'choices', 'answerKey'],\n",
       "    num_rows: 349\n",
       "})"
      ]
     },
     "execution_count": 9,
     "metadata": {},
     "output_type": "execute_result"
    }
   ],
   "source": [
    "use_indcs = list(range(arc_dataset['arc_challenge_test'].num_rows))\n",
    "for i, s in enumerate(arc_dataset['arc_challenge_test']):\n",
    "    if len(s['choices']['label']) != 4:\n",
    "        use_indcs.remove(i)\n",
    "for i, s in enumerate(arc_dataset['arc_challenge_test'].select(use_indcs)):\n",
    "    if len(s['choices']['label']) != 4:\n",
    "        print(i)\n",
    "\n",
    "arc_dataset['arc_challenge_test'] = arc_dataset['arc_challenge_test'].select(use_indcs)\n",
    "arc_dataset['arc_challenge_test']"
   ]
  },
  {
   "cell_type": "raw",
   "id": "a46d3db2-fd9a-43a6-95e4-e6bc446bc097",
   "metadata": {
    "scrolled": true
   },
   "source": [
    "df = add_dataset_to_csv(file_name, 'original', arc_dataset['arc_challenge_test'], arc_ai.arc_sample_to_dict)\n",
    "text_df = add_dataset_to_csv(file_name[:-4] + '-text.csv', 'original', arc_dataset['arc_challenge_test'], arc_ai.arc_sample_to_dict)\n",
    "display(df.head(2))\n",
    "display(text_df.head(2))"
   ]
  },
  {
   "cell_type": "code",
   "execution_count": 12,
   "id": "fde19841-0339-47b4-bdc6-6b5390ac3067",
   "metadata": {},
   "outputs": [
    {
     "name": "stdout",
     "output_type": "stream",
     "text": [
      "(349, 1) (349, 1)\n"
     ]
    },
    {
     "data": {
      "text/html": [
       "<div>\n",
       "<style scoped>\n",
       "    .dataframe tbody tr th:only-of-type {\n",
       "        vertical-align: middle;\n",
       "    }\n",
       "\n",
       "    .dataframe tbody tr th {\n",
       "        vertical-align: top;\n",
       "    }\n",
       "\n",
       "    .dataframe thead th {\n",
       "        text-align: right;\n",
       "    }\n",
       "</style>\n",
       "<table border=\"1\" class=\"dataframe\">\n",
       "  <thead>\n",
       "    <tr style=\"text-align: right;\">\n",
       "      <th></th>\n",
       "      <th>original</th>\n",
       "    </tr>\n",
       "  </thead>\n",
       "  <tbody>\n",
       "    <tr>\n",
       "      <th>0</th>\n",
       "      <td>&lt;question&gt;When a mixture of oxygen and hydroge...</td>\n",
       "    </tr>\n",
       "    <tr>\n",
       "      <th>1</th>\n",
       "      <td>&lt;question&gt;Which device most likely provided te...</td>\n",
       "    </tr>\n",
       "  </tbody>\n",
       "</table>\n",
       "</div>"
      ],
      "text/plain": [
       "                                            original\n",
       "0  <question>When a mixture of oxygen and hydroge...\n",
       "1  <question>Which device most likely provided te..."
      ]
     },
     "metadata": {},
     "output_type": "display_data"
    },
    {
     "data": {
      "text/html": [
       "<div>\n",
       "<style scoped>\n",
       "    .dataframe tbody tr th:only-of-type {\n",
       "        vertical-align: middle;\n",
       "    }\n",
       "\n",
       "    .dataframe tbody tr th {\n",
       "        vertical-align: top;\n",
       "    }\n",
       "\n",
       "    .dataframe thead th {\n",
       "        text-align: right;\n",
       "    }\n",
       "</style>\n",
       "<table border=\"1\" class=\"dataframe\">\n",
       "  <thead>\n",
       "    <tr style=\"text-align: right;\">\n",
       "      <th></th>\n",
       "      <th>original</th>\n",
       "    </tr>\n",
       "  </thead>\n",
       "  <tbody>\n",
       "    <tr>\n",
       "      <th>0</th>\n",
       "      <td>&lt;question&gt;When a mixture of oxygen and hydroge...</td>\n",
       "    </tr>\n",
       "    <tr>\n",
       "      <th>1</th>\n",
       "      <td>&lt;question&gt;Which device most likely provided te...</td>\n",
       "    </tr>\n",
       "  </tbody>\n",
       "</table>\n",
       "</div>"
      ],
      "text/plain": [
       "                                            original\n",
       "0  <question>When a mixture of oxygen and hydroge...\n",
       "1  <question>Which device most likely provided te..."
      ]
     },
     "metadata": {},
     "output_type": "display_data"
    }
   ],
   "source": [
    "df = pd.read_csv(file_name)\n",
    "text_df = pd.read_csv(file_name[:-4] + '-text.csv')\n",
    "print(df.shape, text_df.shape)\n",
    "display(df.head(2))\n",
    "display(text_df.head(2))"
   ]
  },
  {
   "cell_type": "markdown",
   "id": "0110eefb-aab4-451d-b273-b0d5a554c91f",
   "metadata": {},
   "source": [
    "## Run Translation"
   ]
  },
  {
   "cell_type": "markdown",
   "id": "36f09840-3fa3-4124-8feb-a52d8cb213f9",
   "metadata": {
    "jp-MarkdownHeadingCollapsed": true
   },
   "source": [
    "### Claude"
   ]
  },
  {
   "cell_type": "raw",
   "id": "e22dc004-b66f-4fa0-8ab2-b61faf30a250",
   "metadata": {},
   "source": [
    "small = {}\n",
    "small['check'] = arc_dataset['arc_challenge_test'].take(2)\n",
    "small"
   ]
  },
  {
   "cell_type": "raw",
   "id": "1f4ac32d-741b-47a6-a65d-cf60eadfde4a",
   "metadata": {},
   "source": [
    "exp_name = 'claude_v2_refine'\n",
    "\n",
    "hebrew_datasets, text_output = claude_translation(\n",
    "    bedrock_client,\n",
    "    arc_dataset,\n",
    "    # small,\n",
    "    arc_prompts.ARC_INSTRUCT_V2_CLAUDE_REFINE,\n",
    "    arc_prompts.ARC_FEW_SHOTS,\n",
    "    arc_prompts.ARC_FORMAT_REFINE,\n",
    "    arc_ai.arc_sample_to_dict,\n",
    "    arc_ai.arc_dict_to_sample,\n",
    ")"
   ]
  },
  {
   "cell_type": "code",
   "execution_count": 22,
   "id": "7ecaedca-00f7-4ec9-a101-4f3acbc62239",
   "metadata": {},
   "outputs": [
    {
     "name": "stdout",
     "output_type": "stream",
     "text": [
      "Translating arc_challenge_train...\n"
     ]
    },
    {
     "data": {
      "application/vnd.jupyter.widget-view+json": {
       "model_id": "807f17ec50d14634b20ea658c4d613b0",
       "version_major": 2,
       "version_minor": 0
      },
      "text/plain": [
       "  0%|          | 0/20 [00:00<?, ?it/s]"
      ]
     },
     "metadata": {},
     "output_type": "display_data"
    },
    {
     "name": "stdout",
     "output_type": "stream",
     "text": [
      "CPU times: user 164 ms, sys: 20.1 ms, total: 184 ms\n",
      "Wall time: 3min 53s\n"
     ]
    }
   ],
   "source": [
    "%%time\n",
    "\n",
    "# exp_name = 'claude_3-7_v7_thinking'\n",
    "exp_name = 'claude_4_opus_v7_thinking'\n",
    "\n",
    "hebrew_datasets, text_output = claude_translation(\n",
    "    bedrock_client,\n",
    "    arc_dataset,\n",
    "    # small,\n",
    "    arc_prompts.ARC_INSTRUCT_V7_CLAUDE,\n",
    "    arc_prompts.ARC_FEW_SHOTS,\n",
    "    arc_prompts.ARC_FORMAT,\n",
    "    arc_ai.arc_sample_to_dict,\n",
    "    arc_ai.arc_dict_to_sample,\n",
    "    if_four=False,\n",
    ")"
   ]
  },
  {
   "cell_type": "code",
   "execution_count": 23,
   "id": "0c37eecb-3465-4fbb-b50f-0be51b0f0617",
   "metadata": {},
   "outputs": [],
   "source": [
    "def len_mat(text):\n",
    "    pattern = r\"<(?!response_format\\b)([^>]+)>(.*?)</\\1>\"\n",
    "    matches = re.findall(pattern, text, re.DOTALL)\n",
    "    return len(matches)"
   ]
  },
  {
   "cell_type": "code",
   "execution_count": 24,
   "id": "81d34937-f38c-42d2-85a1-6ab0f8a80a81",
   "metadata": {},
   "outputs": [
    {
     "data": {
      "text/plain": [
       "5    20\n",
       "Name: count, dtype: int64"
      ]
     },
     "execution_count": 24,
     "metadata": {},
     "output_type": "execute_result"
    }
   ],
   "source": [
    "import re\n",
    "pd.Series([len_mat(i) for i in text_output['arc_challenge_test']]).value_counts()"
   ]
  },
  {
   "cell_type": "code",
   "execution_count": 26,
   "id": "842f48b3-a902-418a-97b5-b65eebd1cdab",
   "metadata": {},
   "outputs": [
    {
     "data": {
      "text/html": [
       "<div>\n",
       "<style scoped>\n",
       "    .dataframe tbody tr th:only-of-type {\n",
       "        vertical-align: middle;\n",
       "    }\n",
       "\n",
       "    .dataframe tbody tr th {\n",
       "        vertical-align: top;\n",
       "    }\n",
       "\n",
       "    .dataframe thead th {\n",
       "        text-align: right;\n",
       "    }\n",
       "</style>\n",
       "<table border=\"1\" class=\"dataframe\">\n",
       "  <thead>\n",
       "    <tr style=\"text-align: right;\">\n",
       "      <th></th>\n",
       "      <th>original</th>\n",
       "      <th>claude_3-7_v7_thinking</th>\n",
       "      <th>claude_4_opus_v7_thinking</th>\n",
       "    </tr>\n",
       "  </thead>\n",
       "  <tbody>\n",
       "    <tr>\n",
       "      <th>0</th>\n",
       "      <td>&lt;question&gt;Which land form is the result of the...</td>\n",
       "      <td>&lt;question&gt;איזו צורת נוף היא תוצאה של הכוח הבונ...</td>\n",
       "      <td>&lt;question&gt;איזו צורת קרקע היא תוצאה של כוח בונה...</td>\n",
       "    </tr>\n",
       "    <tr>\n",
       "      <th>1</th>\n",
       "      <td>&lt;question&gt;Which statement best compares single...</td>\n",
       "      <td>&lt;question&gt;איזו אמירה משווה בצורה הטובה ביותר ב...</td>\n",
       "      <td>&lt;question&gt;איזו אמירה משווה בצורה הטובה ביותר ב...</td>\n",
       "    </tr>\n",
       "  </tbody>\n",
       "</table>\n",
       "</div>"
      ],
      "text/plain": [
       "                                            original  \\\n",
       "0  <question>Which land form is the result of the...   \n",
       "1  <question>Which statement best compares single...   \n",
       "\n",
       "                              claude_3-7_v7_thinking  \\\n",
       "0  <question>איזו צורת נוף היא תוצאה של הכוח הבונ...   \n",
       "1  <question>איזו אמירה משווה בצורה הטובה ביותר ב...   \n",
       "\n",
       "                           claude_4_opus_v7_thinking  \n",
       "0  <question>איזו צורת קרקע היא תוצאה של כוח בונה...  \n",
       "1  <question>איזו אמירה משווה בצורה הטובה ביותר ב...  "
      ]
     },
     "metadata": {},
     "output_type": "display_data"
    },
    {
     "data": {
      "text/html": [
       "<div>\n",
       "<style scoped>\n",
       "    .dataframe tbody tr th:only-of-type {\n",
       "        vertical-align: middle;\n",
       "    }\n",
       "\n",
       "    .dataframe tbody tr th {\n",
       "        vertical-align: top;\n",
       "    }\n",
       "\n",
       "    .dataframe thead th {\n",
       "        text-align: right;\n",
       "    }\n",
       "</style>\n",
       "<table border=\"1\" class=\"dataframe\">\n",
       "  <thead>\n",
       "    <tr style=\"text-align: right;\">\n",
       "      <th></th>\n",
       "      <th>original</th>\n",
       "      <th>claude_3-7_v7_thinking text</th>\n",
       "      <th>claude_4_opus_v7_thinking text</th>\n",
       "    </tr>\n",
       "  </thead>\n",
       "  <tbody>\n",
       "    <tr>\n",
       "      <th>0</th>\n",
       "      <td>&lt;question&gt;Which land form is the result of the...</td>\n",
       "      <td>Thinking:\\nI need to translate the question an...</td>\n",
       "      <td>Thinking:\\nLet me translate this question abou...</td>\n",
       "    </tr>\n",
       "    <tr>\n",
       "      <th>1</th>\n",
       "      <td>&lt;question&gt;Which statement best compares single...</td>\n",
       "      <td>Thinking:\\nI need to translate the given Engli...</td>\n",
       "      <td>Thinking:\\nLet me translate this carefully, ke...</td>\n",
       "    </tr>\n",
       "  </tbody>\n",
       "</table>\n",
       "</div>"
      ],
      "text/plain": [
       "                                            original  \\\n",
       "0  <question>Which land form is the result of the...   \n",
       "1  <question>Which statement best compares single...   \n",
       "\n",
       "                         claude_3-7_v7_thinking text  \\\n",
       "0  Thinking:\\nI need to translate the question an...   \n",
       "1  Thinking:\\nI need to translate the given Engli...   \n",
       "\n",
       "                      claude_4_opus_v7_thinking text  \n",
       "0  Thinking:\\nLet me translate this question abou...  \n",
       "1  Thinking:\\nLet me translate this carefully, ke...  "
      ]
     },
     "metadata": {},
     "output_type": "display_data"
    }
   ],
   "source": [
    "df = add_dataset_to_csv(file_name, exp_name, hebrew_datasets['arc_challenge_test'], arc_ai.arc_sample_to_dict)\n",
    "text_df[exp_name + ' text'] = text_output['arc_challenge_test']\n",
    "text_df.to_csv(file_name[:-4] + '-text.csv', index=False)\n",
    "display(df.head(2))\n",
    "display(text_df.head(2))"
   ]
  },
  {
   "cell_type": "markdown",
   "id": "ba1a501e-f0e0-4897-a3d2-f922f52d9719",
   "metadata": {
    "jp-MarkdownHeadingCollapsed": true
   },
   "source": [
    "### Gemini"
   ]
  },
  {
   "cell_type": "code",
   "execution_count": 13,
   "id": "8380d3b9-45a1-4c4e-8267-7541cbb4a117",
   "metadata": {},
   "outputs": [
    {
     "data": {
      "text/plain": [
       "{'arc_challenge_test': Dataset({\n",
       "     features: ['id', 'question', 'choices', 'answerKey'],\n",
       "     num_rows: 349\n",
       " })}"
      ]
     },
     "execution_count": 13,
     "metadata": {},
     "output_type": "execute_result"
    }
   ],
   "source": [
    "small = {}\n",
    "small['arc_challenge_test'] = arc_dataset['arc_challenge_test']\n",
    "small"
   ]
  },
  {
   "cell_type": "code",
   "execution_count": 14,
   "id": "0c7138f8-5877-491e-b656-828508414445",
   "metadata": {},
   "outputs": [
    {
     "name": "stdout",
     "output_type": "stream",
     "text": [
      "Translating arc_challenge_test...\n"
     ]
    },
    {
     "data": {
      "application/vnd.jupyter.widget-view+json": {
       "model_id": "11d82e9129a340578e67a341132b86d2",
       "version_major": 2,
       "version_minor": 0
      },
      "text/plain": [
       "  0%|          | 0/349 [00:00<?, ?it/s]"
      ]
     },
     "metadata": {},
     "output_type": "display_data"
    },
    {
     "name": "stdout",
     "output_type": "stream",
     "text": [
      "Sleeping.... Done!                                "
     ]
    }
   ],
   "source": [
    "exp_name = 'gemini_pro_think_v2'\n",
    "\n",
    "hebrew_datasets, text_output = gemini_translation(\n",
    "    google_client,\n",
    "    # arc_dataset,\n",
    "    small,\n",
    "    arc_prompts.ARC_INSTRUCT_V2_GEMINI,\n",
    "    arc_prompts.ARC_FEW_SHOTS,\n",
    "    arc_ai.arc_sample_to_dict,\n",
    "    arc_ai.arc_dict_to_sample,\n",
    "    if_pro=True,\n",
    "    # if_pro=False,\n",
    "    think_bud=20_000\n",
    "    # think_bud=2_000\n",
    ")"
   ]
  },
  {
   "cell_type": "code",
   "execution_count": 58,
   "id": "a695994b-4b48-4dc3-9868-5a017ed27703",
   "metadata": {},
   "outputs": [
    {
     "data": {
      "text/plain": [
       "{'id': 'Mercury_402539',\n",
       " 'question': 'During an experiment, a class heated a balloon that had an initial circumference of 25 cm. The circumference increased to 27 cm. Which is the best conclusion that can be drawn?',\n",
       " 'choices': {'label': ['A', 'B', 'C', 'D'],\n",
       "  'text': ['The molecules inside the balloon lost energy to the outside.',\n",
       "   'The molecules inside the balloon gained energy from the heat.',\n",
       "   'The energy of the molecules inside the balloon remained the same.',\n",
       "   'The molecules inside the balloon were escaping outside.']},\n",
       " 'answerKey': 'B',\n",
       " 'translation_status': 'Failed to translate!'}"
      ]
     },
     "execution_count": 58,
     "metadata": {},
     "output_type": "execute_result"
    }
   ],
   "source": [
    "hebrew_datasets['arc_challenge_test'][262]"
   ]
  },
  {
   "cell_type": "code",
   "execution_count": 15,
   "id": "75c38d8d-1ce5-48d7-83a5-7ba547572dd4",
   "metadata": {},
   "outputs": [
    {
     "data": {
      "text/plain": [
       "{'arc_challenge_test': Dataset({\n",
       "     features: ['id', 'question', 'choices', 'answerKey', 'translation_status'],\n",
       "     num_rows: 349\n",
       " })}"
      ]
     },
     "execution_count": 15,
     "metadata": {},
     "output_type": "execute_result"
    }
   ],
   "source": [
    "hebrew_datasets"
   ]
  },
  {
   "cell_type": "code",
   "execution_count": 16,
   "id": "bd92c3ba-325c-458b-9fbe-5c6bc87282e4",
   "metadata": {},
   "outputs": [
    {
     "data": {
      "text/html": [
       "<div>\n",
       "<style scoped>\n",
       "    .dataframe tbody tr th:only-of-type {\n",
       "        vertical-align: middle;\n",
       "    }\n",
       "\n",
       "    .dataframe tbody tr th {\n",
       "        vertical-align: top;\n",
       "    }\n",
       "\n",
       "    .dataframe thead th {\n",
       "        text-align: right;\n",
       "    }\n",
       "</style>\n",
       "<table border=\"1\" class=\"dataframe\">\n",
       "  <thead>\n",
       "    <tr style=\"text-align: right;\">\n",
       "      <th></th>\n",
       "      <th>original</th>\n",
       "      <th>gemini_pro_think_v2</th>\n",
       "    </tr>\n",
       "  </thead>\n",
       "  <tbody>\n",
       "    <tr>\n",
       "      <th>0</th>\n",
       "      <td>&lt;question&gt;When a mixture of oxygen and hydroge...</td>\n",
       "      <td>&lt;question&gt;כאשר מציתים תערובת של חמצן ומימן במב...</td>\n",
       "    </tr>\n",
       "    <tr>\n",
       "      <th>1</th>\n",
       "      <td>&lt;question&gt;Which device most likely provided te...</td>\n",
       "      <td>&lt;question&gt;איזה מכשיר ככל הנראה סיפק את הטכנולו...</td>\n",
       "    </tr>\n",
       "  </tbody>\n",
       "</table>\n",
       "</div>"
      ],
      "text/plain": [
       "                                            original  \\\n",
       "0  <question>When a mixture of oxygen and hydroge...   \n",
       "1  <question>Which device most likely provided te...   \n",
       "\n",
       "                                 gemini_pro_think_v2  \n",
       "0  <question>כאשר מציתים תערובת של חמצן ומימן במב...  \n",
       "1  <question>איזה מכשיר ככל הנראה סיפק את הטכנולו...  "
      ]
     },
     "metadata": {},
     "output_type": "display_data"
    },
    {
     "data": {
      "text/html": [
       "<div>\n",
       "<style scoped>\n",
       "    .dataframe tbody tr th:only-of-type {\n",
       "        vertical-align: middle;\n",
       "    }\n",
       "\n",
       "    .dataframe tbody tr th {\n",
       "        vertical-align: top;\n",
       "    }\n",
       "\n",
       "    .dataframe thead th {\n",
       "        text-align: right;\n",
       "    }\n",
       "</style>\n",
       "<table border=\"1\" class=\"dataframe\">\n",
       "  <thead>\n",
       "    <tr style=\"text-align: right;\">\n",
       "      <th></th>\n",
       "      <th>original</th>\n",
       "      <th>gemini_pro_think_v2 text</th>\n",
       "    </tr>\n",
       "  </thead>\n",
       "  <tbody>\n",
       "    <tr>\n",
       "      <th>0</th>\n",
       "      <td>&lt;question&gt;When a mixture of oxygen and hydroge...</td>\n",
       "      <td>**Reflecting on the Translation Process**\\n\\nO...</td>\n",
       "    </tr>\n",
       "    <tr>\n",
       "      <th>1</th>\n",
       "      <td>&lt;question&gt;Which device most likely provided te...</td>\n",
       "      <td>**Hebrew Translation: A Swift and Accurate Ada...</td>\n",
       "    </tr>\n",
       "  </tbody>\n",
       "</table>\n",
       "</div>"
      ],
      "text/plain": [
       "                                            original  \\\n",
       "0  <question>When a mixture of oxygen and hydroge...   \n",
       "1  <question>Which device most likely provided te...   \n",
       "\n",
       "                            gemini_pro_think_v2 text  \n",
       "0  **Reflecting on the Translation Process**\\n\\nO...  \n",
       "1  **Hebrew Translation: A Swift and Accurate Ada...  "
      ]
     },
     "metadata": {},
     "output_type": "display_data"
    }
   ],
   "source": [
    "df = add_dataset_to_csv(file_name, exp_name, hebrew_datasets['arc_challenge_test'], arc_ai.arc_sample_to_dict)\n",
    "text_df[exp_name + ' text'] = text_output['arc_challenge_test']\n",
    "text_df.to_csv(file_name[:-4] + '-text.csv', index=False)\n",
    "display(df.head(2))\n",
    "display(text_df.head(2))"
   ]
  },
  {
   "cell_type": "code",
   "execution_count": 17,
   "id": "ec42599d-ec40-4ba8-907b-a463520dc754",
   "metadata": {},
   "outputs": [
    {
     "data": {
      "text/plain": [
       "((349, 2), (349, 2))"
      ]
     },
     "execution_count": 17,
     "metadata": {},
     "output_type": "execute_result"
    }
   ],
   "source": [
    "df.shape, text_df.shape"
   ]
  },
  {
   "cell_type": "raw",
   "id": "e175a518-d5d5-4995-9086-b2ae542f5639",
   "metadata": {},
   "source": [
    "exp_name = 'gemini_v1_few_options'\n",
    "\n",
    "hebrew_datasets = gemini_translation(\n",
    "    google_client,\n",
    "    arc_dataset,\n",
    "    arc_prompts.ARC_INSTRUCT_V1_GEMINI_MULTI,\n",
    "    arc_prompts.ARC_FEW_SHOTS,\n",
    "    arc_ai.arc_sample_to_dict,\n",
    "    arc_ai.arc_dict_to_sample,\n",
    "    if_pro=False,\n",
    "    think_bud=20_000\n",
    ")"
   ]
  },
  {
   "cell_type": "markdown",
   "id": "f1691522-c65b-44ef-9bd4-3a8eefa04c3a",
   "metadata": {
    "jp-MarkdownHeadingCollapsed": true
   },
   "source": [
    "### Multi-options Translation - Gemini"
   ]
  },
  {
   "cell_type": "raw",
   "id": "8f9b6a17-318b-42ee-ab40-5cc3b9fee748",
   "metadata": {},
   "source": [
    "print(arc_prompts.ARC_INSTRUCT_MULTI_V1)"
   ]
  },
  {
   "cell_type": "raw",
   "id": "6731727d-c775-4ce5-95c2-ec7d2b90dd03",
   "metadata": {},
   "source": [
    "hebrew_datasets = gemini_multi_translation(\n",
    "    google_client,\n",
    "    arc_dataset,\n",
    "    arc_prompts.ARC_INSTRUCT_MULTI_V1,\n",
    "    arc_prompts.ARC_FEW_SHOTS,\n",
    "    arc_ai.arc_sample_to_dict,\n",
    "    arc_ai.arc_dict_to_sample,\n",
    ")"
   ]
  },
  {
   "cell_type": "markdown",
   "id": "851254f5-cfbf-462e-98dd-3338614ff9ef",
   "metadata": {},
   "source": [
    "### Claude vs Gemini (using Gemini as judge)"
   ]
  },
  {
   "cell_type": "raw",
   "id": "56a89000-d34e-41bc-95b0-2fdd574d3676",
   "metadata": {},
   "source": [
    "hebrew_datasets = gemini_claude_best_translation(\n",
    "    google_client,\n",
    "    bedrock_client,\n",
    "    arc_dataset,\n",
    "    arc_prompts.ARC_INSTRUCT_V,\n",
    "    arc_prompts.ARC_FEW_SHOTS,\n",
    "    arc_prompts.ARC_FORMAT,\n",
    "    arc_ai.arc_sample_to_dict,\n",
    "    arc_ai.arc_dict_to_sample,\n",
    ")"
   ]
  },
  {
   "cell_type": "markdown",
   "id": "296388da-d4fb-4b36-a2db-1c57f951882e",
   "metadata": {
    "jp-MarkdownHeadingCollapsed": true
   },
   "source": [
    "# GSM8K"
   ]
  },
  {
   "cell_type": "markdown",
   "id": "a1a0c4f1-e6ad-4c67-ae6b-bee463139102",
   "metadata": {},
   "source": [
    "## Get Dataset"
   ]
  },
  {
   "cell_type": "code",
   "execution_count": 24,
   "id": "e4560b4b-9ace-40fc-843e-65d41b309da5",
   "metadata": {},
   "outputs": [
    {
     "name": "stdout",
     "output_type": "stream",
     "text": [
      "compare_csv/gsm8k_main_test_1001-1150.csv\n"
     ]
    },
    {
     "data": {
      "text/plain": [
       "{'gsm8k_test': Dataset({\n",
       "     features: ['question', 'answer'],\n",
       "     num_rows: 149\n",
       " })}"
      ]
     },
     "execution_count": 24,
     "metadata": {},
     "output_type": "execute_result"
    }
   ],
   "source": [
    "gsm_dataset = gsm8k.get_gsm8k_datasets()\n",
    "gsm_dataset['gsm8k_test'] = gsm_dataset['gsm8k_test'].skip(1_000).select(list(range(0, 67)) + list(range(68, 150)))\n",
    "# gsm_file_name = 'compare_csv/gsm8k_main_test_top_200.csv'\n",
    "gsm_file_name = 'compare_csv/gsm8k_main_test_1001-1150.csv'\n",
    "\n",
    "print(gsm_file_name)\n",
    "gsm_dataset"
   ]
  },
  {
   "cell_type": "code",
   "execution_count": 25,
   "id": "30fe58e1-70b0-42ce-9d13-223efb383e10",
   "metadata": {},
   "outputs": [
    {
     "data": {
      "text/html": [
       "<div>\n",
       "<style scoped>\n",
       "    .dataframe tbody tr th:only-of-type {\n",
       "        vertical-align: middle;\n",
       "    }\n",
       "\n",
       "    .dataframe tbody tr th {\n",
       "        vertical-align: top;\n",
       "    }\n",
       "\n",
       "    .dataframe thead th {\n",
       "        text-align: right;\n",
       "    }\n",
       "</style>\n",
       "<table border=\"1\" class=\"dataframe\">\n",
       "  <thead>\n",
       "    <tr style=\"text-align: right;\">\n",
       "      <th></th>\n",
       "      <th>original</th>\n",
       "    </tr>\n",
       "  </thead>\n",
       "  <tbody>\n",
       "    <tr>\n",
       "      <th>0</th>\n",
       "      <td>&lt;question&gt;Doctor Jones is scheduling his time ...</td>\n",
       "    </tr>\n",
       "    <tr>\n",
       "      <th>1</th>\n",
       "      <td>&lt;question&gt;Jordan wanted to surprise her mom wi...</td>\n",
       "    </tr>\n",
       "  </tbody>\n",
       "</table>\n",
       "</div>"
      ],
      "text/plain": [
       "                                            original\n",
       "0  <question>Doctor Jones is scheduling his time ...\n",
       "1  <question>Jordan wanted to surprise her mom wi..."
      ]
     },
     "metadata": {},
     "output_type": "display_data"
    },
    {
     "data": {
      "text/html": [
       "<div>\n",
       "<style scoped>\n",
       "    .dataframe tbody tr th:only-of-type {\n",
       "        vertical-align: middle;\n",
       "    }\n",
       "\n",
       "    .dataframe tbody tr th {\n",
       "        vertical-align: top;\n",
       "    }\n",
       "\n",
       "    .dataframe thead th {\n",
       "        text-align: right;\n",
       "    }\n",
       "</style>\n",
       "<table border=\"1\" class=\"dataframe\">\n",
       "  <thead>\n",
       "    <tr style=\"text-align: right;\">\n",
       "      <th></th>\n",
       "      <th>original</th>\n",
       "    </tr>\n",
       "  </thead>\n",
       "  <tbody>\n",
       "    <tr>\n",
       "      <th>0</th>\n",
       "      <td>&lt;question&gt;Doctor Jones is scheduling his time ...</td>\n",
       "    </tr>\n",
       "    <tr>\n",
       "      <th>1</th>\n",
       "      <td>&lt;question&gt;Jordan wanted to surprise her mom wi...</td>\n",
       "    </tr>\n",
       "  </tbody>\n",
       "</table>\n",
       "</div>"
      ],
      "text/plain": [
       "                                            original\n",
       "0  <question>Doctor Jones is scheduling his time ...\n",
       "1  <question>Jordan wanted to surprise her mom wi..."
      ]
     },
     "metadata": {},
     "output_type": "display_data"
    }
   ],
   "source": [
    "df = add_dataset_to_csv(gsm_file_name, 'original', gsm_dataset['gsm8k_test'], gsm8k.gsm8k_sample_to_dict)\n",
    "text_df = add_dataset_to_csv(gsm_file_name[:-4] + '-text.csv', 'original', gsm_dataset['gsm8k_test'], gsm8k.gsm8k_sample_to_dict)\n",
    "display(df.head(2))\n",
    "display(text_df.head(2))"
   ]
  },
  {
   "cell_type": "raw",
   "id": "706d9421-8162-4cee-a345-db0b95d8d465",
   "metadata": {},
   "source": [
    "df = pd.read_csv(gsm_file_name)\n",
    "text_df = pd.read_csv(gsm_file_name[:-4] + '-text.csv')\n",
    "print(df.shape, text_df.shape)\n",
    "display(df.head(2))\n",
    "display(text_df.head(2))"
   ]
  },
  {
   "cell_type": "markdown",
   "id": "04fb0d82-bb51-4e63-801c-0df8d2f85b8d",
   "metadata": {},
   "source": [
    "## Run Translation"
   ]
  },
  {
   "cell_type": "markdown",
   "id": "cd27f1cb-ef7d-4bdd-9f34-05292e28f7ea",
   "metadata": {
    "jp-MarkdownHeadingCollapsed": true
   },
   "source": [
    "### Claude"
   ]
  },
  {
   "cell_type": "raw",
   "id": "e0ac7385-066f-43e7-810c-ac750793f3c2",
   "metadata": {},
   "source": [
    "small = {}\n",
    "small['check'] = gsm_dataset['gsm8k_test'].take(4)\n",
    "small"
   ]
  },
  {
   "cell_type": "raw",
   "id": "e8938fe3-2daf-4e59-a518-146372206930",
   "metadata": {
    "scrolled": true
   },
   "source": [
    "exp_name = 'claude_v2_refine'\n",
    "\n",
    "hebrew_datasets, text_output = claude_translation(\n",
    "    bedrock_client,\n",
    "    # small,\n",
    "    gsm_dataset,\n",
    "    gsm_prompts.GSM_INSTRUCT_CLAUDE_REFINE_V2,\n",
    "    gsm_prompts.GSM_FEW_SHOTS,\n",
    "    # gsm_prompts.GSM_FORMAT,\n",
    "    gsm_prompts.GSM_FORMAT_REFINE,\n",
    "    gsm8k.gsm8k_sample_to_dict,\n",
    "    gsm8k.gsm8k_dict_to_sample,\n",
    ")"
   ]
  },
  {
   "cell_type": "code",
   "execution_count": 14,
   "id": "8f2b7eec-b851-4efd-8d18-581849d8c93b",
   "metadata": {},
   "outputs": [
    {
     "name": "stdout",
     "output_type": "stream",
     "text": [
      "Translating gsm8k_test...\n"
     ]
    },
    {
     "data": {
      "application/vnd.jupyter.widget-view+json": {
       "model_id": "cbc0484cb7f946a6a2ae912c6f5690d2",
       "version_major": 2,
       "version_minor": 0
      },
      "text/plain": [
       "  0%|          | 0/20 [00:00<?, ?it/s]"
      ]
     },
     "metadata": {},
     "output_type": "display_data"
    },
    {
     "name": "stdout",
     "output_type": "stream",
     "text": [
      "CPU times: user 216 ms, sys: 34.5 ms, total: 250 ms\n",
      "Wall time: 4min 20s\n"
     ]
    }
   ],
   "source": [
    "%%time\n",
    "\n",
    "# exp_name = 'claude_3-7_v7_thinking'\n",
    "exp_name = 'claude_4_opus_v7_thinking'\n",
    "\n",
    "hebrew_datasets, text_output = claude_translation(\n",
    "    bedrock_client,\n",
    "    # small,\n",
    "    gsm_dataset,\n",
    "    gsm_prompts.GSM_INSTRUCT_CLAUDE_V2,\n",
    "    gsm_prompts.GSM_FEW_SHOTS,\n",
    "    gsm_prompts.GSM_FORMAT,\n",
    "    # gsm_prompts.GSM_FORMAT_REFINE,\n",
    "    gsm8k.gsm8k_sample_to_dict,\n",
    "    gsm8k.gsm8k_dict_to_sample,\n",
    "    if_four=False,\n",
    ")"
   ]
  },
  {
   "cell_type": "code",
   "execution_count": 15,
   "id": "056391ad-23bb-4ebf-9a7c-89d9820f2310",
   "metadata": {},
   "outputs": [],
   "source": [
    "def len_mat(text):\n",
    "    pattern = r\"<(?!response_format\\b)([^>]+)>(.*?)</\\1>\"\n",
    "    matches = re.findall(pattern, text, re.DOTALL)\n",
    "    return len(matches)"
   ]
  },
  {
   "cell_type": "code",
   "execution_count": 16,
   "id": "2f225c03-c75b-47b0-b5bc-80920d4bf28e",
   "metadata": {},
   "outputs": [
    {
     "data": {
      "text/plain": [
       "2    20\n",
       "Name: count, dtype: int64"
      ]
     },
     "execution_count": 16,
     "metadata": {},
     "output_type": "execute_result"
    }
   ],
   "source": [
    "import re\n",
    "pd.Series([len_mat(i) for i in text_output['gsm8k_test']]).value_counts()"
   ]
  },
  {
   "cell_type": "code",
   "execution_count": 20,
   "id": "fa056d69-8fa9-476b-9361-dcf43209bbef",
   "metadata": {
    "scrolled": true
   },
   "outputs": [
    {
     "name": "stdout",
     "output_type": "stream",
     "text": [
      "Thinking:\n",
      "I need to translate this English math question into Hebrew following the guidelines:\n",
      "\n",
      "1. The question is about James running sprints, which is a common activity that doesn't need cultural adaptation\n",
      "2. I need to use an Israeli name instead of James - I'll use יעקב (Ya'akov) which is a common Israeli name\n",
      "3. The measurements are in meters which is already used in Israel, so no conversion needed\n",
      "4. The structure and numbers remain the same\n",
      "\n",
      "Let me translate:\n",
      "\n",
      "Question: James decides to run 3 sprints 3 times a week. He runs 60 meters each sprint. How many total meters does he run a week?\n",
      "\n",
      "Answer: He sprints 3*3=<<3*3=9>>9 times\n",
      "So he runs 9*60=<<9*60=540>>540 meters\n",
      "#### 540\n",
      "\n",
      "Hebrew translation:\n",
      "Question: יעקב מחליט לרוץ 3 ספרינטים 3 פעמים בשבוע. הוא רץ 60 מטרים בכל ספרינט. כמה מטרים סך הכל הוא רץ בשבוע?\n",
      "\n",
      "Answer: הוא עושה ספרינטים 3*3=<<3*3=9>>9 פעמים\n",
      "אז הוא רץ 9*60=<<9*60=540>>540 מטרים\n",
      "#### 540\n",
      "\n",
      "Text:\n",
      "<question>יעקב מחליט לרוץ 3 ספרינטים 3 פעמים בשבוע. הוא רץ 60 מטרים בכל ספרינט. כמה מטרים סך הכל הוא רץ בשבוע?</question>\n",
      "<answer>הוא עושה ספרינטים 3*3=<<3*3=9>>9 פעמים\n",
      "אז הוא רץ 9*60=<<9*60=540>>540 מטרים\n",
      "#### 540</answer>\n"
     ]
    }
   ],
   "source": [
    "print(text_output['gsm8k_test'][3])"
   ]
  },
  {
   "cell_type": "code",
   "execution_count": 18,
   "id": "41e2e1a4-2728-4f48-9441-d76d383e2c48",
   "metadata": {},
   "outputs": [
    {
     "data": {
      "text/html": [
       "<div>\n",
       "<style scoped>\n",
       "    .dataframe tbody tr th:only-of-type {\n",
       "        vertical-align: middle;\n",
       "    }\n",
       "\n",
       "    .dataframe tbody tr th {\n",
       "        vertical-align: top;\n",
       "    }\n",
       "\n",
       "    .dataframe thead th {\n",
       "        text-align: right;\n",
       "    }\n",
       "</style>\n",
       "<table border=\"1\" class=\"dataframe\">\n",
       "  <thead>\n",
       "    <tr style=\"text-align: right;\">\n",
       "      <th></th>\n",
       "      <th>original</th>\n",
       "      <th>claude_3-7_v7_thinking</th>\n",
       "      <th>claude_4_opus_v7_thinking</th>\n",
       "    </tr>\n",
       "  </thead>\n",
       "  <tbody>\n",
       "    <tr>\n",
       "      <th>0</th>\n",
       "      <td>&lt;question&gt;Janet’s ducks lay 16 eggs per day. S...</td>\n",
       "      <td>&lt;question&gt;הברווזים של יעל מטילים 16 ביצים כל י...</td>\n",
       "      <td>&lt;question&gt;ברווזות של ג'נט מטילות 16 ביצים ביום...</td>\n",
       "    </tr>\n",
       "    <tr>\n",
       "      <th>1</th>\n",
       "      <td>&lt;question&gt;A robe takes 2 bolts of blue fiber a...</td>\n",
       "      <td>&lt;question&gt;גלימה דורשת 2 גלילים של בד כחול וחצי...</td>\n",
       "      <td>&lt;question&gt;חלוק דורש 2 גלילי סיבים כחולים וחצי ...</td>\n",
       "    </tr>\n",
       "  </tbody>\n",
       "</table>\n",
       "</div>"
      ],
      "text/plain": [
       "                                            original  \\\n",
       "0  <question>Janet’s ducks lay 16 eggs per day. S...   \n",
       "1  <question>A robe takes 2 bolts of blue fiber a...   \n",
       "\n",
       "                              claude_3-7_v7_thinking  \\\n",
       "0  <question>הברווזים של יעל מטילים 16 ביצים כל י...   \n",
       "1  <question>גלימה דורשת 2 גלילים של בד כחול וחצי...   \n",
       "\n",
       "                           claude_4_opus_v7_thinking  \n",
       "0  <question>ברווזות של ג'נט מטילות 16 ביצים ביום...  \n",
       "1  <question>חלוק דורש 2 גלילי סיבים כחולים וחצי ...  "
      ]
     },
     "execution_count": 18,
     "metadata": {},
     "output_type": "execute_result"
    }
   ],
   "source": [
    "df = add_dataset_to_csv(gsm_file_name, exp_name, hebrew_datasets['gsm8k_test'], gsm8k.gsm8k_sample_to_dict)\n",
    "df.head(2)"
   ]
  },
  {
   "cell_type": "code",
   "execution_count": 19,
   "id": "041dc7cd-45f7-4cbb-963c-95d2b9a165a7",
   "metadata": {},
   "outputs": [
    {
     "data": {
      "text/html": [
       "<div>\n",
       "<style scoped>\n",
       "    .dataframe tbody tr th:only-of-type {\n",
       "        vertical-align: middle;\n",
       "    }\n",
       "\n",
       "    .dataframe tbody tr th {\n",
       "        vertical-align: top;\n",
       "    }\n",
       "\n",
       "    .dataframe thead th {\n",
       "        text-align: right;\n",
       "    }\n",
       "</style>\n",
       "<table border=\"1\" class=\"dataframe\">\n",
       "  <thead>\n",
       "    <tr style=\"text-align: right;\">\n",
       "      <th></th>\n",
       "      <th>original</th>\n",
       "      <th>claude_3-7_v7_thinking text</th>\n",
       "      <th>claude_4_opus_v7_thinking text</th>\n",
       "    </tr>\n",
       "  </thead>\n",
       "  <tbody>\n",
       "    <tr>\n",
       "      <th>0</th>\n",
       "      <td>&lt;question&gt;Janet’s ducks lay 16 eggs per day. S...</td>\n",
       "      <td>Thinking:\\nLet's translate this question from ...</td>\n",
       "      <td>Thinking:\\nLet me translate this step by step:...</td>\n",
       "    </tr>\n",
       "    <tr>\n",
       "      <th>1</th>\n",
       "      <td>&lt;question&gt;A robe takes 2 bolts of blue fiber a...</td>\n",
       "      <td>Thinking:\\nLet me translate this math problem ...</td>\n",
       "      <td>Thinking:\\nI need to translate this question a...</td>\n",
       "    </tr>\n",
       "  </tbody>\n",
       "</table>\n",
       "</div>"
      ],
      "text/plain": [
       "                                            original  \\\n",
       "0  <question>Janet’s ducks lay 16 eggs per day. S...   \n",
       "1  <question>A robe takes 2 bolts of blue fiber a...   \n",
       "\n",
       "                         claude_3-7_v7_thinking text  \\\n",
       "0  Thinking:\\nLet's translate this question from ...   \n",
       "1  Thinking:\\nLet me translate this math problem ...   \n",
       "\n",
       "                      claude_4_opus_v7_thinking text  \n",
       "0  Thinking:\\nLet me translate this step by step:...  \n",
       "1  Thinking:\\nI need to translate this question a...  "
      ]
     },
     "execution_count": 19,
     "metadata": {},
     "output_type": "execute_result"
    }
   ],
   "source": [
    "text_df[exp_name + ' text'] = text_output['gsm8k_test']\n",
    "text_df.to_csv(gsm_file_name[:-4] + '-text.csv', index=False)\n",
    "text_df.head(2)"
   ]
  },
  {
   "cell_type": "code",
   "execution_count": 73,
   "id": "a511b93a-e919-4a52-ac18-a9f708277213",
   "metadata": {
    "collapsed": true,
    "jupyter": {
     "outputs_hidden": true
    },
    "scrolled": true
   },
   "outputs": [
    {
     "name": "stdout",
     "output_type": "stream",
     "text": [
      "First translation attempt:\n",
      "<question>התרנגולות של ינט מטילות 16 ביצים ביום. היא אוכלת שלוש לארוחת בוקר כל בוקר ואופה מאפינס לחבריה כל יום עם ארבע. היא מוכרת את השאר בשוק האיכרים מדי יום ב-2$ לביצת ברווז טרייה. כמה דולרים היא מרוויחה כל יום בשוק האיכרים?</question>\n",
      "<answer>ינט מוכרת 16 - 3 - 4 = <<16-3-4=9>>9 ביצי ברווז ביום.\n",
      "היא מרוויחה 9 * 2 = $<<9*2=18>>18 כל יום בשוק האיכרים.\n",
      "#### 18</answer>\n",
      "\n",
      "<explain>\n",
      "The translation needs several improvements:\n",
      "1. \"Janet\" should be changed to a more common Israeli name like \"יעל\"\n",
      "2. The original mentions \"ducks\" but I mistakenly translated to \"תרנגולות\" (chickens) in the first sentence\n",
      "3. Need to change dollars ($) to shekels (₪)\n",
      "4. \"Farmers' market\" should be translated to the more common Israeli term \"שוק איכרים\" \n",
      "5. Need to ensure consistency with \"duck eggs\" throughout the translation\n",
      "6. The formatting and structure should be preserved but with Hebrew right-to-left orientation\n",
      "</explain>\n",
      "\n",
      "Improved translation:\n",
      "<question>הברווזים של יעל מטילים 16 ביצים ביום. היא אוכלת שלוש לארוחת בוקר כל בוקר ואופה מאפינס לחבריה כל יום עם ארבע. היא מוכרת את שאר הביצים בשוק האיכרים מדי יום ב-2 ₪ לביצת ברווז טרייה. כמה שקלים היא מרוויחה כל יום בשוק האיכרים?</question>\n",
      "<answer>יעל מוכרת 16 - 3 - 4 = <<16-3-4=9>>9 ביצי ברווז ביום.\n",
      "היא מרוויחה 9 * 2 = ₪<<9*2=18>>18 כל יום בשוק האיכרים.\n",
      "#### 18</answer>\n",
      "\n",
      " - - - - - - - - - - - - - - - - - - - - - - - - - - - -\n",
      "\n",
      "First translation attempt:\n",
      "<question>גלימה דורשת 2 גלילי בד כחול וחצי מכמות זו של בד לבן. כמה גלילי בד סך הכל דרושים?</question>\n",
      "<answer>דרוש 2/2=<<2/2=1>>1 גליל של בד לבן\n",
      "אז הכמות הכוללת של בד היא 2+1=<<2+1=3>>3 גלילי בד\n",
      "#### 3</answer>\n",
      "\n",
      "<explain>\n",
      "התרגום הראשוני טוב, אבל יש מקום לשיפור:\n",
      "1. המילה \"robe\" תורגמה ל\"גלימה\" שזה נכון, אבל אפשר להשתמש במילה \"חלוק\" שיותר נפוצה בעברית יומיומית.\n",
      "2. המילה \"bolts\" תורגמה ל\"גלילי בד\" שזה תרגום טוב, אבל אפשר להשתמש במילה \"גלילים\" שהיא יותר נפוצה.\n",
      "3. המילה \"fiber\" תורגמה ל\"בד\" שזה לא מדויק לחלוטין, אך מתאים להקשר. אפשר להשתמש במילה \"אריג\" שהיא יותר מדויקת.\n",
      "4. כדאי לשפר את הניסוח בתשובה כדי שיהיה יותר טבעי בעברית.\n",
      "</explain>\n",
      "\n",
      "Improved translation:\n",
      "<question>לתפירת חלוק נדרשים 2 גלילי אריג כחול וחצי מכמות זו של אריג לבן. כמה גלילי אריג נדרשים בסך הכל?</question>\n",
      "<answer>נדרש 2/2=<<2/2=1>>1 גליל של אריג לבן\n",
      "לכן הכמות הכוללת של אריג היא 2+1=<<2+1=3>>3 גלילי אריג\n",
      "#### 3</answer>\n",
      "\n",
      " - - - - - - - - - - - - - - - - - - - - - - - - - - - -\n",
      "\n",
      "First translation attempt:\n",
      "<question>ג'וש מחליט לנסות לשפץ בית ולמכור אותו ברווח. הוא קונה בית ב-80,000 דולר ואז משקיע 50,000 דולר בשיפוצים. זה הגדיל את ערך הבית ב-150%. כמה רווח הוא עשה?</question>\n",
      "<answer>עלות הבית והשיפוצים הסתכמה ב-80,000+50,000=$<<80000+50000=130000>>130,000\n",
      "הוא הגדיל את ערך הבית ב-80,000*1.5=<<80000*1.5=120000>>120,000\n",
      "אז הערך החדש של הבית הוא 120,000+80,000=$<<120000+80000=200000>>200,000\n",
      "אז הוא עשה רווח של 200,000-130,000=$<<200000-130000=70000>>70,000\n",
      "#### 70000</answer>\n",
      "\n",
      "<explain>\n",
      "The translation needs several improvements:\n",
      "1. Replace dollars with shekels (₪) as the currency\n",
      "2. Use a more Israeli name instead of Josh\n",
      "3. Use the term \"פליפ\" which is commonly used in Israel for house flipping\n",
      "4. Make sure all monetary values use the shekel symbol consistently\n",
      "5. Use more natural Hebrew phrasing for the real estate context\n",
      "</explain>\n",
      "\n",
      "Improved translation:\n",
      "<question>יואב מחליט לנסות לעשות \"פליפ\" לדירה. הוא קונה דירה ב-80,000₪ ואז משקיע 50,000₪ בשיפוצים. זה העלה את ערך הדירה ב-150%. כמה רווח הוא עשה?</question>\n",
      "<answer>עלות הדירה והשיפוצים הסתכמה ב-80,000+50,000=₪<<80000+50000=130000>>130,000\n",
      "הוא העלה את ערך הדירה ב-80,000*1.5=<<80000*1.5=120000>>120,000₪\n",
      "אז הערך החדש של הדירה הוא 120,000+80,000=₪<<120000+80000=200000>>200,000\n",
      "אז הוא עשה רווח של 200,000-130,000=₪<<200000-130000=70000>>70,000\n",
      "#### 70000</answer>\n",
      "\n",
      " - - - - - - - - - - - - - - - - - - - - - - - - - - - -\n",
      "\n",
      "First translation attempt:\n",
      "<question>ג'יימס מחליט לרוץ 3 ספרינטים 3 פעמים בשבוע. הוא רץ 60 מטרים בכל ספרינט. כמה מטרים סך הכל הוא רץ בשבוע?</question>\n",
      "<answer>הוא מבצע ספרינט 3*3=<<3*3=9>>9 פעמים\n",
      "אז הוא רץ 9*60=<<9*60=540>>540 מטרים\n",
      "#### 540</answer>\n",
      "\n",
      "<explain>\n",
      "התרגום הראשוני טוב באופן כללי, אך יש מקום לשיפור:\n",
      "1. כדאי להחליף את השם \"ג'יימס\" לשם ישראלי נפוץ יותר כמו \"יעקב\" או \"יוסי\"\n",
      "2. אפשר לשפר את הניסוח של המשפט הראשון בתשובה ל\"הוא רץ ספרינט\" במקום \"הוא מבצע ספרינט\"\n",
      "3. אפשר להוסיף את המילה \"בסך הכל\" במשפט השני של התשובה לשיפור הבהירות\n",
      "</explain>\n",
      "\n",
      "Improved translation:\n",
      "<question>יוסי מחליט לרוץ 3 ספרינטים 3 פעמים בשבוע. הוא רץ 60 מטרים בכל ספרינט. כמה מטרים סך הכל הוא רץ בשבוע?</question>\n",
      "<answer>הוא רץ ספרינט 3*3=<<3*3=9>>9 פעמים בשבוע\n",
      "אז בסך הכל הוא רץ 9*60=<<9*60=540>>540 מטרים\n",
      "#### 540</answer>\n",
      "\n",
      " - - - - - - - - - - - - - - - - - - - - - - - - - - - -\n",
      "\n",
      "First translation attempt:\n",
      "<question>בכל יום, ונדי מאכילה כל אחת מהתרנגולות שלה שלוש כוסות של תערובת מזון לתרנגולות, המכילה זרעים, תולעי קמח וירקות כדי לשמור על בריאותן. היא נותנת לתרנגולות את המזון שלהן בשלוש ארוחות נפרדות. בבוקר, היא נותנת ללהקת התרנגולות שלה 15 כוסות מזון. אחר הצהריים, היא נותנת לתרנגולות שלה עוד 25 כוסות מזון. כמה כוסות מזון היא צריכה לתת לתרנגולות שלה בארוחה האחרונה של היום אם גודל להקת התרנגולות של ונדי הוא 20 תרנגולות?</question>\n",
      "<answer>אם כל תרנגולת אוכלת 3 כוסות מזון ביום, אז עבור 20 תרנגולות הן יצטרכו 3*20=<<3*20=60>>60 כוסות מזון ביום.\n",
      "אם היא מאכילה את הלהקה 15 כוסות מזון בבוקר, ו-25 כוסות אחר הצהריים, אז הארוחה האחרונה תדרוש 60-15-25=<<60-15-25=20>>20 כוסות מזון לתרנגולות.\n",
      "#### 20</answer>\n",
      "\n",
      "<explain>\n",
      "התרגום הראשוני טוב באופן כללי, אך יש מספר שינויים שכדאי לבצע כדי להתאים אותו יותר לקהל ישראלי:\n",
      "\n",
      "1. שם: \"ונדי\" הוא שם לא נפוץ בישראל, עדיף להחליף אותו בשם ישראלי יותר כמו \"נועה\".\n",
      "2. מונחים: \"להקת תרנגולות\" נשמע קצת מוזר בעברית, עדיף \"להקת העופות\" או פשוט \"התרנגולות שלה\".\n",
      "3. ניסוח: כדאי לשפר מעט את הניסוח כדי שיהיה טבעי יותר בעברית.\n",
      "4. עקביות: להשתמש במונח \"תערובת מזון\" באופן עקבי.\n",
      "</explain>\n",
      "\n",
      "Improved translation:\n",
      "<question>בכל יום, נועה מאכילה כל אחת מהתרנגולות שלה שלוש כוסות של תערובת מזון, המכילה זרעים, תולעי קמח וירקות כדי לשמור על בריאותן. היא נותנת לתרנגולות את המזון בשלוש ארוחות נפרדות. בבוקר, היא נותנת לתרנגולות שלה 15 כוסות תערובת. אחר הצהריים, היא נותנת להן עוד 25 כוסות תערובת. כמה כוסות תערובת היא צריכה לתת לתרנגולות בארוחה האחרונה של היום אם בלול של נועה יש 20 תרנגולות?</question>\n",
      "<answer>אם כל תרנגולת אוכלת 3 כוסות תערובת מזון ביום, אז עבור 20 תרנגולות הן יצטרכו 3*20=<<3*20=60>>60 כוסות תערובת ביום.\n",
      "אם היא מאכילה את התרנגולות 15 כוסות תערובת בבוקר, ו-25 כוסות אחר הצהריים, אז בארוחה האחרונה היא תצטרך לתת 60-15-25=<<60-15-25=20>>20 כוסות תערובת.\n",
      "#### 20</answer>\n",
      "\n",
      " - - - - - - - - - - - - - - - - - - - - - - - - - - - -\n",
      "\n",
      "First translation attempt:\n",
      "<question>קיילר הלך לחנות לקנות כוסות לדירתו החדשה. כוס אחת עולה 5₪, אבל כל כוס שנייה עולה רק 60% מהמחיר. קיילר רוצה לקנות 16 כוסות. כמה עליו לשלם עבורן?</question>\n",
      "<answer>המחיר המוזל של כוס אחת הוא 60/100 * 5 = ₪<<60/100*5=3>>3.\n",
      "אם כל כוס שנייה זולה יותר, זה אומר שקיילר הולך לקנות 16 / 2 = <<16/2=8>>8 כוסות מוזלות.\n",
      "אז עבור הכוסות המוזלות, קיילר הולך לשלם 8 * 3 = ₪<<8*3=24>>24.\n",
      "ועבור הכוסות במחיר רגיל, קיילר ישלם 8 * 5 = ₪<<8*5=40>>40.\n",
      "אז בסך הכל קיילר צריך לשלם 24 + 40 = ₪<<24+40=64>>64 עבור הכוסות שהוא רוצה לקנות.\n",
      "#### 64</answer>\n",
      "\n",
      "<explain>\n",
      "התרגום הראשוני טוב, אך יש מקום לשיפור:\n",
      "1. השם \"קיילר\" אינו נפוץ בישראל, עדיף להחליף אותו בשם ישראלי יותר כמו \"קובי\".\n",
      "2. כדאי להשתמש במילה \"כוסות\" באופן עקבי במקום לעבור בין \"כוסות\" ל\"כוס\".\n",
      "3. אפשר לשפר מעט את הניסוח כדי שיהיה טבעי יותר בעברית.\n",
      "</explain>\n",
      "\n",
      "Improved translation:\n",
      "<question>קובי הלך לחנות לקנות כוסות לדירתו החדשה. כוס אחת עולה 5₪, אבל כל כוס שנייה עולה רק 60% מהמחיר. קובי רוצה לקנות 16 כוסות. כמה עליו לשלם עבורן?</question>\n",
      "<answer>המחיר המוזל של כוס אחת הוא 60/100 * 5 = ₪<<60/100*5=3>>3.\n",
      "אם כל כוס שנייה זולה יותר, זה אומר שקובי הולך לקנות 16 / 2 = <<16/2=8>>8 כוסות מוזלות.\n",
      "עבור הכוסות המוזלות, קובי ישלם 8 * 3 = ₪<<8*3=24>>24.\n",
      "ועבור הכוסות במחיר רגיל, קובי ישלם 8 * 5 = ₪<<8*5=40>>40.\n",
      "בסך הכל קובי צריך לשלם 24 + 40 = ₪<<24+40=64>>64 עבור הכוסות שהוא רוצה לקנות.\n",
      "#### 64</answer>\n",
      "\n",
      " - - - - - - - - - - - - - - - - - - - - - - - - - - - -\n",
      "\n",
      "First translation attempt:\n",
      "<question>לטל יש פי שניים כבשים מאשר לחן. לחן יש פי 4 כבשים מאשר לשירה. כמה כבשים יש לטל, חן ושירה ביחד אם לשירה יש 20 כבשים?</question>\n",
      "<answer>אם לשירה יש 20 כבשים, לחן יש 4 * 20 כבשים = <<20*4=80>>80 כבשים\n",
      "לטל יש פי שניים כבשים מאשר לחן, שזה 2 * 80 כבשים = <<2*80=160>>160 כבשים\n",
      "ביחד, לשלושתן יש 20 כבשים + 160 כבשים + 80 כבשים = <<20+160+80=260>>260 כבשים\n",
      "#### 260</answer>\n",
      "\n",
      "<explain>\n",
      "The translation is generally good, but I made the following changes:\n",
      "1. I replaced the foreign names (Toulouse, Charleston, Seattle) with common Israeli names (Tal, Chen, Shira) to make the problem more relatable for Israeli students.\n",
      "2. I used feminine forms for the names since the Hebrew translation requires gender agreement.\n",
      "3. I maintained the same mathematical structure and relationships between the quantities.\n",
      "4. The translation preserves the original formatting and calculation steps.\n",
      "\n",
      "For the improved version, I'll keep the same translation but ensure the gender agreement is consistent throughout.\n",
      "</explain>\n",
      "\n",
      "Improved translation:\n",
      "<question>לטל יש פי שניים כבשים מאשר לחן. לחן יש פי 4 כבשים מאשר לשירה. כמה כבשים יש לטל, חן ושירה ביחד אם לשירה יש 20 כבשים?</question>\n",
      "<answer>אם לשירה יש 20 כבשים, לחן יש 4 * 20 כבשים = <<20*4=80>>80 כבשים\n",
      "לטל יש פי שניים כבשים מאשר לחן, שזה 2 * 80 כבשים = <<2*80=160>>160 כבשים\n",
      "ביחד, לשלושתן יש 20 כבשים + 160 כבשים + 80 כבשים = <<20+160+80=260>>260 כבשים\n",
      "#### 260</answer>\n",
      "\n",
      " - - - - - - - - - - - - - - - - - - - - - - - - - - - -\n",
      "\n",
      "First translation attempt:\n",
      "<question>קרלה מורידה קובץ בגודל 200 ג'יגה-בייט. בדרך כלל היא יכולה להוריד 2 ג'יגה-בייט לדקה, אבל אחרי 40% מההורדה, חלונות מאלצת אותה לאתחל את המחשב כדי להתקין עדכונים, מה שלוקח 20 דקות. אז קרלה צריכה להתחיל את ההורדה מחדש מההתחלה. כמה זמן לוקח להוריד את הקובץ?</question>\n",
      "<answer>קודם נמצא כמה ג'יגה-בייט יש ב-40% מהקובץ: 200 ג'יגה-בייט * 40% = <<200*40*.01=80>>80 ג'יגה-בייט\n",
      "אז נחלק את המספר הזה בקצב ההורדה כדי למצוא את הזמן עד שחלונות מתאתחלת: 80 ג'יגה-בייט / 2 ג'יגה-בייט לדקה = <<80/2=40>>40 דקות\n",
      "אז נמצא את הזמן להוריד את כל הקובץ אחרי האתחול: 200 ג'יגה-בייט / 2 ג'יגה-בייט לדקה = <<200/2=100>>100 דקות\n",
      "אז נחבר את הזמן להוריד 40% מהקובץ, להוריד את כל הקובץ, ולחכות שחלונות תתעדכן: 40 דקות + 100 דקות + 20 דקות = <<40+100+20=160>>160 דקות\n",
      "#### 160</answer>\n",
      "\n",
      "<explain>\n",
      "The translation is generally good, but there are a few improvements we can make:\n",
      "\n",
      "1. Change the name \"קרלה\" (Carla) to a more common Israeli name like \"כרמל\" (Carmel)\n",
      "2. Use the feminine form correctly for \"מורידה\" (downloading)\n",
      "3. Make the wording more natural in Hebrew by adjusting some phrases\n",
      "4. Fix a typo in the question - \"How load\" should be \"How long\"\n",
      "5. Use the proper Hebrew term for Windows operating system (חלונות)\n",
      "6. Make sure all technical terms are properly translated and consistent\n",
      "</explain>\n",
      "\n",
      "Improved translation:\n",
      "<question>כרמל מורידה קובץ בגודל 200 ג'יגה-בייט. בדרך כלל היא יכולה להוריד 2 ג'יגה-בייט לדקה, אבל לאחר השלמת 40% מההורדה, מערכת ההפעלה חלונות מאלצת אתחול מחדש כדי להתקין עדכונים, תהליך שאורך 20 דקות. לאחר מכן, כרמל נאלצת להתחיל את ההורדה מחדש מההתחלה. כמה זמן בסך הכל לוקח להוריד את הקובץ?</question>\n",
      "<answer>ראשית נמצא כמה ג'יגה-בייט יש ב-40% מהקובץ: 200 ג'יגה-בייט * 40% = <<200*40*.01=80>>80 ג'יגה-בייט\n",
      "כעת נחלק את המספר הזה בקצב ההורדה כדי למצוא את הזמן עד שחלונות מתאתחלת: 80 ג'יגה-בייט / 2 ג'יגה-בייט לדקה = <<80/2=40>>40 דקות\n",
      "אחר כך נמצא את הזמן להוריד את כל הקובץ אחרי האתחול: 200 ג'יגה-בייט / 2 ג'יגה-בייט לדקה = <<200/2=100>>100 דקות\n",
      "לבסוף נחבר את הזמן להוריד 40% מהקובץ, את זמן העדכון של חלונות, ואת הזמן להוריד את כל הקובץ מחדש: 40 דקות + 20 דקות + 100 דקות = <<40+100+20=160>>160 דקות\n",
      "#### 160</answer>\n",
      "\n",
      " - - - - - - - - - - - - - - - - - - - - - - - - - - - -\n",
      "\n",
      "First translation attempt:\n",
      "<question>יוחנן נוהג במשך 3 שעות במהירות של 60 מייל לשעה ואז מסתובב כי הוא מבין שהוא שכח משהו חשוב מאוד בבית. הוא מנסה להגיע הביתה תוך 4 שעות אבל מבלה את השעתיים הראשונות בפקק תנועה. הוא מבלה את חצי השעה הבאה בנהיגה במהירות של 30 מייל לשעה, לפני שהוא מצליח לנהוג את שארית הזמן של 4 השעות במהירות של 80 מייל לשעה. כמה רחוק הוא מהבית בסוף אותן 4 שעות?</question>\n",
      "<answer>כאשר הוא הסתובב הוא היה 3*60=<<3*60=180>>180 מייל מהבית\n",
      "הוא הצליח לנהוג רק 4-2=<<4-2=2>>2 שעות בארבע השעות הראשונות\n",
      "בחצי שעה הוא נוסע 30*.5=<<30*.5=15>>15 מייל\n",
      "אז הוא נוהג עוד 2-.5=<<2-.5=1.5>>1.5 שעות\n",
      "בזמן הזה הוא נוסע 80*1.5=<<80*1.5=120>>120 מייל\n",
      "אז הוא נהג 120+15=<<120+15=135>>135 מייל\n",
      "אז הוא נמצא 180-135=<<180-135=45>>45 מייל מהבית\n",
      "#### 45</answer>\n",
      "\n",
      "<explain>\n",
      "The translation needs several improvements:\n",
      "1. Convert miles to kilometers as this is the standard unit in Israel\n",
      "2. Use a more common Israeli name instead of \"יוחנן\" (Yochanan)\n",
      "3. Improve the flow of the Hebrew text to sound more natural\n",
      "4. Keep the mathematical calculations in miles to maintain consistency with the original problem\n",
      "5. Use more natural Hebrew phrasing for describing traffic situations\n",
      "</explain>\n",
      "\n",
      "Improved translation:\n",
      "<question>יובל נוהג במשך 3 שעות במהירות של 60 קמ\"ש ואז מסתובב כי הוא נזכר ששכח משהו חשוב מאוד בבית. הוא מנסה להגיע הביתה תוך 4 שעות, אבל במשך השעתיים הראשונות הוא תקוע בפקק תנועה ולא מתקדם כלל. לאחר מכן הוא נוהג חצי שעה במהירות של 30 קמ\"ש, ואת שארית הזמן מתוך 4 השעות הוא נוהג במהירות של 80 קמ\"ש. כמה רחוק הוא מהבית בסוף אותן 4 שעות?</question>\n",
      "<answer>כאשר הוא הסתובב הוא היה 3*60=<<3*60=180>>180 קמ\"ש מהבית\n",
      "הוא הצליח לנהוג רק 4-2=<<4-2=2>>2 שעות מתוך ארבע השעות\n",
      "בחצי שעה הוא נסע 30*0.5=<<30*0.5=15>>15 ק\"מ\n",
      "אחר כך הוא נהג עוד 2-0.5=<<2-0.5=1.5>>1.5 שעות\n",
      "בזמן הזה הוא נסע 80*1.5=<<80*1.5=120>>120 ק\"מ\n",
      "סך הכל הוא נסע 120+15=<<120+15=135>>135 ק\"מ\n",
      "לכן הוא נמצא 180-135=<<180-135=45>>45 ק\"מ מהבית\n",
      "#### 45</answer>\n",
      "\n",
      " - - - - - - - - - - - - - - - - - - - - - - - - - - - -\n",
      "\n",
      "First translation attempt:\n",
      "<question>השכר השעתי של אליזה עבור 40 השעות הראשונות שהיא עובדת בכל שבוע הוא 10$. היא גם מקבלת תשלום שעות נוספות של 1.2 פעמים משכרה השעתי הרגיל. אם אליזה עבדה 45 שעות השבוע, כמה היא הרוויחה השבוע?</question>\n",
      "<answer>אליזה זכאית ל-45 - 40 = <<45-40=5>>5 שעות נוספות.\n",
      "השכר השעתי שלה עבור שעות נוספות הוא 10$ × 1.2 = $<<10*1.2=12>>12.\n",
      "לכן, אליזה תקבל 12$ × 5 = $<<12*5=60>>60 עבור שעות נוספות.\n",
      "השכר השבועי הרגיל שלה הוא 10$ × 40 = $<<10*40=400>>400.\n",
      "לכן, אליזה תקבל סך הכל 400$ + 60$ = $<<400+60=460>>460 עבור עבודתה השבוע.\n",
      "#### 460</answer>\n",
      "\n",
      "<explain>\n",
      "התרגום הראשוני טוב, אך יש מספר שינויים שכדאי לבצע:\n",
      "1. להחליף את השם \"אליזה\" לשם ישראלי נפוץ יותר כמו \"אלה\"\n",
      "2. להחליף דולרים לשקלים\n",
      "3. לשפר את הניסוח בעברית כך שיהיה טבעי יותר\n",
      "4. להתאים את המונחים לשוק העבודה הישראלי (למשל \"שעות נוספות\" במקום תרגום מילולי של \"overtime pay\")\n",
      "5. לוודא שהסימון של המטבע עקבי ומופיע אחרי המספר כמקובל בעברית (₪)\n",
      "</explain>\n",
      "\n",
      "Improved translation:\n",
      "<question>השכר השעתי של אלה עבור 40 השעות הראשונות שהיא עובדת בכל שבוע הוא 10₪. היא גם מקבלת תשלום עבור שעות נוספות בשיעור של 1.2 פעמים משכרה השעתי הרגיל. אם אלה עבדה 45 שעות השבוע, כמה היא הרוויחה בסך הכל השבוע?</question>\n",
      "<answer>אלה זכאית ל-45 - 40 = <<45-40=5>>5 שעות נוספות.\n",
      "השכר השעתי שלה עבור שעות נוספות הוא 10₪ × 1.2 = <<10*1.2=12>>12₪.\n",
      "לכן, אלה תקבל 12₪ × 5 = <<12*5=60>>60₪ עבור שעות נוספות.\n",
      "השכר השבועי הרגיל שלה הוא 10₪ × 40 = <<10*40=400>>400₪.\n",
      "לכן, אלה תקבל בסך הכל 400₪ + 60₪ = <<400+60=460>>460₪ עבור עבודתה השבוע.\n",
      "#### 460</answer>\n",
      "\n",
      " - - - - - - - - - - - - - - - - - - - - - - - - - - - -\n",
      "\n"
     ]
    }
   ],
   "source": [
    "for i in range(10):\n",
    "    print(text_df['claude_v2_refine text'].iloc[i])\n",
    "    print('\\n - - - - - - - - - - - - - - - - - - - - - - - - - - - -\\n')"
   ]
  },
  {
   "cell_type": "raw",
   "id": "626db1a1-0360-470f-b862-9511c10379fa",
   "metadata": {
    "scrolled": true
   },
   "source": [
    "for i in range(10):\n",
    "    print(df['original'].iloc[i])\n",
    "    print()\n",
    "    print(df['claude_v1'].iloc[i])\n",
    "    print('\\n - - - - - - - - - - - - - - - - - - - - - - - - - - - - \\n')"
   ]
  },
  {
   "cell_type": "markdown",
   "id": "2ad5fe66-3d0b-4c0e-8493-25df183943e3",
   "metadata": {},
   "source": [
    "### Gemini"
   ]
  },
  {
   "cell_type": "code",
   "execution_count": 15,
   "id": "86950ef9-4305-41ba-9e7f-379e8de2aea0",
   "metadata": {},
   "outputs": [
    {
     "data": {
      "text/plain": [
       "{'gsm8k_test': Dataset({\n",
       "     features: ['question', 'answer'],\n",
       "     num_rows: 99\n",
       " })}"
      ]
     },
     "execution_count": 15,
     "metadata": {},
     "output_type": "execute_result"
    }
   ],
   "source": [
    "small = {}\n",
    "small['gsm8k_test'] = gsm_dataset['gsm8k_test'].select(list(range(50, 67)) + list(range(68, 150)))\n",
    "small"
   ]
  },
  {
   "cell_type": "code",
   "execution_count": 16,
   "id": "dc9bcf4d-b33f-41cb-9993-289642e9037b",
   "metadata": {},
   "outputs": [
    {
     "name": "stdout",
     "output_type": "stream",
     "text": [
      "Translating gsm8k_test...\n"
     ]
    },
    {
     "data": {
      "application/vnd.jupyter.widget-view+json": {
       "model_id": "5b118eb7177a42958088491dfbf16fde",
       "version_major": 2,
       "version_minor": 0
      },
      "text/plain": [
       "  0%|          | 0/99 [00:00<?, ?it/s]"
      ]
     },
     "metadata": {},
     "output_type": "display_data"
    },
    {
     "name": "stdout",
     "output_type": "stream",
     "text": [
      "Sleeping in the \"While\" because of 503 UNAVAILABLE. {'error': {'code': 503, 'message': 'The model is overloaded. Please try again later.', 'status': 'UNAVAILABLE'}}.... Done!"
     ]
    }
   ],
   "source": [
    "exp_name = 'gemini_pro_think_v2'\n",
    "\n",
    "hebrew_datasets, text_output = gemini_translation(\n",
    "    google_client,\n",
    "    small,\n",
    "    # gsm_dataset,\n",
    "    gsm_prompts.GSM_INSTRUCT_GEMINI_V2,\n",
    "    gsm_prompts.GSM_FEW_SHOTS,\n",
    "    gsm8k.gsm8k_sample_to_dict,\n",
    "    gsm8k.gsm8k_dict_to_sample,\n",
    "    if_pro=True,\n",
    "    think_bud=8192,\n",
    ")"
   ]
  },
  {
   "cell_type": "code",
   "execution_count": 19,
   "id": "be7fd288-1d79-4f80-a043-bc8cc6b00805",
   "metadata": {},
   "outputs": [
    {
     "name": "stdout",
     "output_type": "stream",
     "text": [
      "50 50\n"
     ]
    },
    {
     "data": {
      "text/plain": [
       "Dataset({\n",
       "    features: ['question', 'answer', 'translation_status'],\n",
       "    num_rows: 50\n",
       "})"
      ]
     },
     "execution_count": 19,
     "metadata": {},
     "output_type": "execute_result"
    }
   ],
   "source": [
    "import pickle\n",
    "from datasets import Dataset, concatenate_datasets\n",
    "\n",
    "with open('gemini_cp/ck - gemini_gsm8k_test_50.pkl', 'rb') as f:\n",
    "    lst_1 = pickle.load(f)\n",
    "with open('gemini_cp/ck - gemini_gsm8k_test_50_text.pkl', 'rb') as f:\n",
    "    lst_1_text = pickle.load(f)\n",
    "print(len(lst_1), len(lst_1_text))\n",
    "\n",
    "lst_1 = Dataset.from_list(lst_1)\n",
    "lst_1"
   ]
  },
  {
   "cell_type": "code",
   "execution_count": 21,
   "id": "8989d9c7-76ae-4959-82e5-74e18599254a",
   "metadata": {},
   "outputs": [],
   "source": [
    "hebrew_datasets['gsm8k_test'] = concatenate_datasets([lst_1, hebrew_datasets['gsm8k_test']])\n",
    "text_output['gsm8k_test'] = lst_1_text + text_output['gsm8k_test']"
   ]
  },
  {
   "cell_type": "code",
   "execution_count": 26,
   "id": "460d473b-3013-43c7-8a1e-cbbcf7a23c2a",
   "metadata": {},
   "outputs": [
    {
     "data": {
      "text/plain": [
       "149"
      ]
     },
     "execution_count": 26,
     "metadata": {},
     "output_type": "execute_result"
    }
   ],
   "source": [
    "len(text_output['gsm8k_test'])"
   ]
  },
  {
   "cell_type": "code",
   "execution_count": 27,
   "id": "3c5c6c47-db0b-43c7-a25f-cf841d6d0f6e",
   "metadata": {},
   "outputs": [
    {
     "data": {
      "text/plain": [
       "{'gsm8k_test': Dataset({\n",
       "     features: ['question', 'answer', 'translation_status'],\n",
       "     num_rows: 149\n",
       " })}"
      ]
     },
     "execution_count": 27,
     "metadata": {},
     "output_type": "execute_result"
    }
   ],
   "source": [
    "hebrew_datasets"
   ]
  },
  {
   "cell_type": "code",
   "execution_count": 28,
   "id": "30d44035-cb16-42cf-bd50-6eaca4a0cb44",
   "metadata": {},
   "outputs": [
    {
     "name": "stdout",
     "output_type": "stream",
     "text": [
      "(149, 2) (149, 2)\n"
     ]
    },
    {
     "data": {
      "text/html": [
       "<div>\n",
       "<style scoped>\n",
       "    .dataframe tbody tr th:only-of-type {\n",
       "        vertical-align: middle;\n",
       "    }\n",
       "\n",
       "    .dataframe tbody tr th {\n",
       "        vertical-align: top;\n",
       "    }\n",
       "\n",
       "    .dataframe thead th {\n",
       "        text-align: right;\n",
       "    }\n",
       "</style>\n",
       "<table border=\"1\" class=\"dataframe\">\n",
       "  <thead>\n",
       "    <tr style=\"text-align: right;\">\n",
       "      <th></th>\n",
       "      <th>original</th>\n",
       "      <th>gemini_pro_think_v2</th>\n",
       "    </tr>\n",
       "  </thead>\n",
       "  <tbody>\n",
       "    <tr>\n",
       "      <th>0</th>\n",
       "      <td>&lt;question&gt;Doctor Jones is scheduling his time ...</td>\n",
       "      <td>&lt;question&gt;דוקטור כהן מתכנן את זמנו ליום שני. ה...</td>\n",
       "    </tr>\n",
       "    <tr>\n",
       "      <th>1</th>\n",
       "      <td>&lt;question&gt;Jordan wanted to surprise her mom wi...</td>\n",
       "      <td>&lt;question&gt;ירדן רצתה להפתיע את אמא שלה עם עוגת ...</td>\n",
       "    </tr>\n",
       "  </tbody>\n",
       "</table>\n",
       "</div>"
      ],
      "text/plain": [
       "                                            original  \\\n",
       "0  <question>Doctor Jones is scheduling his time ...   \n",
       "1  <question>Jordan wanted to surprise her mom wi...   \n",
       "\n",
       "                                 gemini_pro_think_v2  \n",
       "0  <question>דוקטור כהן מתכנן את זמנו ליום שני. ה...  \n",
       "1  <question>ירדן רצתה להפתיע את אמא שלה עם עוגת ...  "
      ]
     },
     "metadata": {},
     "output_type": "display_data"
    },
    {
     "data": {
      "text/html": [
       "<div>\n",
       "<style scoped>\n",
       "    .dataframe tbody tr th:only-of-type {\n",
       "        vertical-align: middle;\n",
       "    }\n",
       "\n",
       "    .dataframe tbody tr th {\n",
       "        vertical-align: top;\n",
       "    }\n",
       "\n",
       "    .dataframe thead th {\n",
       "        text-align: right;\n",
       "    }\n",
       "</style>\n",
       "<table border=\"1\" class=\"dataframe\">\n",
       "  <thead>\n",
       "    <tr style=\"text-align: right;\">\n",
       "      <th></th>\n",
       "      <th>original</th>\n",
       "      <th>gemini_pro_think_v2 text</th>\n",
       "    </tr>\n",
       "  </thead>\n",
       "  <tbody>\n",
       "    <tr>\n",
       "      <th>0</th>\n",
       "      <td>&lt;question&gt;Doctor Jones is scheduling his time ...</td>\n",
       "      <td>**My Thought Process: Translating a Math Probl...</td>\n",
       "    </tr>\n",
       "    <tr>\n",
       "      <th>1</th>\n",
       "      <td>&lt;question&gt;Jordan wanted to surprise her mom wi...</td>\n",
       "      <td>**My Translation Process for the Math Problem*...</td>\n",
       "    </tr>\n",
       "  </tbody>\n",
       "</table>\n",
       "</div>"
      ],
      "text/plain": [
       "                                            original  \\\n",
       "0  <question>Doctor Jones is scheduling his time ...   \n",
       "1  <question>Jordan wanted to surprise her mom wi...   \n",
       "\n",
       "                            gemini_pro_think_v2 text  \n",
       "0  **My Thought Process: Translating a Math Probl...  \n",
       "1  **My Translation Process for the Math Problem*...  "
      ]
     },
     "metadata": {},
     "output_type": "display_data"
    }
   ],
   "source": [
    "df = add_dataset_to_csv(gsm_file_name, exp_name, hebrew_datasets['gsm8k_test'], gsm8k.gsm8k_sample_to_dict)\n",
    "text_df[exp_name + ' text'] = text_output['gsm8k_test']\n",
    "text_df.to_csv(gsm_file_name[:-4] + '-text.csv', index=False)\n",
    "print(df.shape, text_df.shape)\n",
    "display(df.head(2))\n",
    "display(text_df.head(2))"
   ]
  },
  {
   "cell_type": "markdown",
   "id": "6e1cdf75-2b7d-4d6e-965e-e020e0600c26",
   "metadata": {},
   "source": [
    "# COPA"
   ]
  },
  {
   "cell_type": "markdown",
   "id": "fc51f484-1ab1-483e-9e5c-3c271e60cd19",
   "metadata": {},
   "source": [
    "## Get Dataset"
   ]
  },
  {
   "cell_type": "code",
   "execution_count": 31,
   "id": "0da971df-5eb1-4370-abcb-a1803f73c994",
   "metadata": {},
   "outputs": [
    {
     "name": "stdout",
     "output_type": "stream",
     "text": [
      "compare_csv/copa/copa_train_cause.csv\n"
     ]
    },
    {
     "data": {
      "text/plain": [
       "{'copa_train': Dataset({\n",
       "     features: ['label', 'id', 'premise', 'question', 'choice1', 'choice2', 'mirrored'],\n",
       "     num_rows: 250\n",
       " })}"
      ]
     },
     "execution_count": 31,
     "metadata": {},
     "output_type": "execute_result"
    }
   ],
   "source": [
    "copa_dataset = copa.get_copa_datasets()\n",
    "\n",
    "# remove mirrored samples\n",
    "copa_train_indices = (pd.Series(copa_dataset['copa_train']['mirrored']) == False)\n",
    "copa_train_indices = copa_train_indices[copa_train_indices].index\n",
    "copa_dataset['copa_train'] = copa_dataset['copa_train'].select(copa_train_indices)\n",
    "\n",
    "copa_split = 'train'\n",
    "question_type = 'cause'\n",
    "\n",
    "# keep only the wanted split and question_type\n",
    "for split in ['train', 'test']:\n",
    "    if split != copa_split:\n",
    "        del copa_dataset['copa_' + split]\n",
    "        continue\n",
    "    look_on = pd.DataFrame(copa_dataset['copa_' + split])\n",
    "    use_indices = look_on[look_on['question'] == question_type].index\n",
    "    copa_dataset['copa_' + split] = copa_dataset['copa_' + split].select(use_indices)\n",
    "    \n",
    "copa_file_name = f'compare_csv/copa/copa_{copa_split}_{question_type}.csv'\n",
    "\n",
    "print(copa_file_name)\n",
    "copa_dataset"
   ]
  },
  {
   "cell_type": "code",
   "execution_count": null,
   "id": "af698931-9526-424d-af50-b042a4648b6c",
   "metadata": {
    "scrolled": true
   },
   "outputs": [],
   "source": [
    "df = add_dataset_to_csv(copa_file_name, 'original', copa_dataset['copa_' + copa_split], copa.copa_sample_to_dict)\n",
    "text_df = add_dataset_to_csv(copa_file_name[:-4] + '-text.csv', 'original', copa_dataset['copa_' + copa_split], copa.copa_sample_to_dict)\n",
    "display(df.head(2))\n",
    "display(text_df.head(2))"
   ]
  },
  {
   "cell_type": "code",
   "execution_count": null,
   "id": "28ecec89-6fbc-4be9-8ed9-c1db380983e0",
   "metadata": {},
   "outputs": [],
   "source": [
    "df = pd.read_csv(copa_file_name)\n",
    "text_df = pd.read_csv(copa_file_name[:-4] + '-text.csv')\n",
    "print(df.shape, text_df.shape)\n",
    "display(df.head(2))\n",
    "display(text_df.head(2))"
   ]
  },
  {
   "cell_type": "code",
   "execution_count": null,
   "id": "3b4c62d8-516d-4711-83a7-a6b6719db76a",
   "metadata": {},
   "outputs": [],
   "source": [
    "df.shape, text_df.shape"
   ]
  },
  {
   "cell_type": "markdown",
   "id": "193fb532-a8fd-41ea-ad05-093ea0e3b87d",
   "metadata": {},
   "source": [
    "## Run Gemini"
   ]
  },
  {
   "cell_type": "raw",
   "id": "d05380e5-8b20-4c5d-93e9-220e2650d5be",
   "metadata": {},
   "source": [
    "small = {}\n",
    "small['copa_' + copa_split] = copa_dataset['copa_' + copa_split]\n",
    "small"
   ]
  },
  {
   "cell_type": "code",
   "execution_count": 14,
   "id": "e06db493-cba6-40ee-a2cb-4029761906fa",
   "metadata": {},
   "outputs": [
    {
     "name": "stdout",
     "output_type": "stream",
     "text": [
      "Translating copa_train...\n"
     ]
    },
    {
     "data": {
      "application/vnd.jupyter.widget-view+json": {
       "model_id": "00e4aad112bb4dcd9877d9faa3614036",
       "version_major": 2,
       "version_minor": 0
      },
      "text/plain": [
       "  0%|          | 0/20 [00:00<?, ?it/s]"
      ]
     },
     "metadata": {},
     "output_type": "display_data"
    }
   ],
   "source": [
    "exp_name = 'gemini_pro_think_v1'\n",
    "\n",
    "hebrew_datasets, text_output = gemini_translation(\n",
    "    google_client,\n",
    "    copa_dataset,\n",
    "    copa_prompts.COPA_INSTRUCT_V1_GEMINI,\n",
    "    copa_prompts.COPA_FEW_SHOTS,\n",
    "    copa.copa_sample_to_dict,\n",
    "    copa.copa_dict_to_sample,\n",
    "    if_pro=True,\n",
    "    think_bud=128,\n",
    ")"
   ]
  },
  {
   "cell_type": "code",
   "execution_count": 15,
   "id": "4a6fc27d-8856-4f5a-8332-1115c8d4d463",
   "metadata": {},
   "outputs": [
    {
     "data": {
      "text/plain": [
       "{'copa_train': Dataset({\n",
       "     features: ['label', 'id', 'premise', 'question', 'choice1', 'choice2', 'mirrored', 'translation_status'],\n",
       "     num_rows: 20\n",
       " })}"
      ]
     },
     "execution_count": 15,
     "metadata": {},
     "output_type": "execute_result"
    }
   ],
   "source": [
    "hebrew_datasets"
   ]
  },
  {
   "cell_type": "code",
   "execution_count": 16,
   "id": "e55c0d4a-f184-4e0a-84e3-9c6c4e57ebaa",
   "metadata": {},
   "outputs": [
    {
     "data": {
      "text/plain": [
       "{'label': 1,\n",
       " 'id': 1,\n",
       " 'premise': 'גופי הטיל צל על הדשא.',\n",
       " 'question': 'סיבה',\n",
       " 'choice1': 'הדשא היה מכוסח.',\n",
       " 'choice2': 'השמש זרחה.',\n",
       " 'mirrored': False,\n",
       " 'translation_status': 'Success'}"
      ]
     },
     "execution_count": 16,
     "metadata": {},
     "output_type": "execute_result"
    }
   ],
   "source": [
    "hebrew_datasets['copa_train'][0]"
   ]
  },
  {
   "cell_type": "code",
   "execution_count": 17,
   "id": "1f5ef629-e3da-48b8-a78f-9019b1c0ab5a",
   "metadata": {},
   "outputs": [
    {
     "name": "stdout",
     "output_type": "stream",
     "text": [
      "(20, 2) (20, 2)\n"
     ]
    },
    {
     "data": {
      "text/html": [
       "<div>\n",
       "<style scoped>\n",
       "    .dataframe tbody tr th:only-of-type {\n",
       "        vertical-align: middle;\n",
       "    }\n",
       "\n",
       "    .dataframe tbody tr th {\n",
       "        vertical-align: top;\n",
       "    }\n",
       "\n",
       "    .dataframe thead th {\n",
       "        text-align: right;\n",
       "    }\n",
       "</style>\n",
       "<table border=\"1\" class=\"dataframe\">\n",
       "  <thead>\n",
       "    <tr style=\"text-align: right;\">\n",
       "      <th></th>\n",
       "      <th>original</th>\n",
       "      <th>gemini_pro_think_v1</th>\n",
       "    </tr>\n",
       "  </thead>\n",
       "  <tbody>\n",
       "    <tr>\n",
       "      <th>0</th>\n",
       "      <td>&lt;premise&gt;My body cast a shadow over the grass....</td>\n",
       "      <td>&lt;premise&gt;גופי הטיל צל על הדשא.&lt;/premise&gt;\\n&lt;cho...</td>\n",
       "    </tr>\n",
       "    <tr>\n",
       "      <th>1</th>\n",
       "      <td>&lt;premise&gt;The woman tolerated her friend's diff...</td>\n",
       "      <td>&lt;premise&gt;האישה סבלה את ההתנהגות הקשה של חברתה....</td>\n",
       "    </tr>\n",
       "  </tbody>\n",
       "</table>\n",
       "</div>"
      ],
      "text/plain": [
       "                                            original  \\\n",
       "0  <premise>My body cast a shadow over the grass....   \n",
       "1  <premise>The woman tolerated her friend's diff...   \n",
       "\n",
       "                                 gemini_pro_think_v1  \n",
       "0  <premise>גופי הטיל צל על הדשא.</premise>\\n<cho...  \n",
       "1  <premise>האישה סבלה את ההתנהגות הקשה של חברתה....  "
      ]
     },
     "metadata": {},
     "output_type": "display_data"
    },
    {
     "data": {
      "text/html": [
       "<div>\n",
       "<style scoped>\n",
       "    .dataframe tbody tr th:only-of-type {\n",
       "        vertical-align: middle;\n",
       "    }\n",
       "\n",
       "    .dataframe tbody tr th {\n",
       "        vertical-align: top;\n",
       "    }\n",
       "\n",
       "    .dataframe thead th {\n",
       "        text-align: right;\n",
       "    }\n",
       "</style>\n",
       "<table border=\"1\" class=\"dataframe\">\n",
       "  <thead>\n",
       "    <tr style=\"text-align: right;\">\n",
       "      <th></th>\n",
       "      <th>original</th>\n",
       "      <th>gemini_pro_think_v1 text</th>\n",
       "    </tr>\n",
       "  </thead>\n",
       "  <tbody>\n",
       "    <tr>\n",
       "      <th>0</th>\n",
       "      <td>&lt;premise&gt;My body cast a shadow over the grass....</td>\n",
       "      <td>**Breaking Down the Translation Task**\\n\\nOkay...</td>\n",
       "    </tr>\n",
       "    <tr>\n",
       "      <th>1</th>\n",
       "      <td>&lt;premise&gt;The woman tolerated her friend's diff...</td>\n",
       "      <td>**Breaking Down the Translation Challenge**\\n\\...</td>\n",
       "    </tr>\n",
       "  </tbody>\n",
       "</table>\n",
       "</div>"
      ],
      "text/plain": [
       "                                            original  \\\n",
       "0  <premise>My body cast a shadow over the grass....   \n",
       "1  <premise>The woman tolerated her friend's diff...   \n",
       "\n",
       "                            gemini_pro_think_v1 text  \n",
       "0  **Breaking Down the Translation Task**\\n\\nOkay...  \n",
       "1  **Breaking Down the Translation Challenge**\\n\\...  "
      ]
     },
     "metadata": {},
     "output_type": "display_data"
    }
   ],
   "source": [
    "df = add_dataset_to_csv(copa_file_name, exp_name, hebrew_datasets['copa_' + copa_split], copa.copa_sample_to_dict)\n",
    "text_df[exp_name + ' text'] = text_output['copa_' + copa_split]\n",
    "text_df.to_csv(copa_file_name[:-4] + '-text.csv', index=False)\n",
    "print(df.shape, text_df.shape)\n",
    "display(df.head(2))\n",
    "display(text_df.head(2))"
   ]
  },
  {
   "cell_type": "code",
   "execution_count": 20,
   "id": "3766405f-3d25-4fb0-86f0-0efaa29205ce",
   "metadata": {},
   "outputs": [],
   "source": [
    "df['answer_label'] = pd.Series(hebrew_datasets['copa_' + copa_split]['label'])"
   ]
  },
  {
   "cell_type": "code",
   "execution_count": 21,
   "id": "45e1ca92-3be2-4591-bbaa-b413f481e960",
   "metadata": {},
   "outputs": [
    {
     "data": {
      "text/html": [
       "<div>\n",
       "<style scoped>\n",
       "    .dataframe tbody tr th:only-of-type {\n",
       "        vertical-align: middle;\n",
       "    }\n",
       "\n",
       "    .dataframe tbody tr th {\n",
       "        vertical-align: top;\n",
       "    }\n",
       "\n",
       "    .dataframe thead th {\n",
       "        text-align: right;\n",
       "    }\n",
       "</style>\n",
       "<table border=\"1\" class=\"dataframe\">\n",
       "  <thead>\n",
       "    <tr style=\"text-align: right;\">\n",
       "      <th></th>\n",
       "      <th>original</th>\n",
       "      <th>gemini_pro_think_v1</th>\n",
       "      <th>answer_label</th>\n",
       "    </tr>\n",
       "  </thead>\n",
       "  <tbody>\n",
       "    <tr>\n",
       "      <th>0</th>\n",
       "      <td>&lt;premise&gt;My body cast a shadow over the grass....</td>\n",
       "      <td>&lt;premise&gt;גופי הטיל צל על הדשא.&lt;/premise&gt;\\n&lt;cho...</td>\n",
       "      <td>1</td>\n",
       "    </tr>\n",
       "    <tr>\n",
       "      <th>1</th>\n",
       "      <td>&lt;premise&gt;The woman tolerated her friend's diff...</td>\n",
       "      <td>&lt;premise&gt;האישה סבלה את ההתנהגות הקשה של חברתה....</td>\n",
       "      <td>0</td>\n",
       "    </tr>\n",
       "    <tr>\n",
       "      <th>2</th>\n",
       "      <td>&lt;premise&gt;The women met for coffee.&lt;/premise&gt;\\n...</td>\n",
       "      <td>&lt;premise&gt;הנשים נפגשו לקפה.&lt;/premise&gt;\\n&lt;choice1...</td>\n",
       "      <td>1</td>\n",
       "    </tr>\n",
       "    <tr>\n",
       "      <th>3</th>\n",
       "      <td>&lt;premise&gt;The runner wore shorts.&lt;/premise&gt;\\n&lt;c...</td>\n",
       "      <td>&lt;premise&gt;הרץ לבש מכנסיים קצרים.&lt;/premise&gt;\\n&lt;ch...</td>\n",
       "      <td>1</td>\n",
       "    </tr>\n",
       "    <tr>\n",
       "      <th>4</th>\n",
       "      <td>&lt;premise&gt;The guests of the party hid behind th...</td>\n",
       "      <td>&lt;premise&gt;אורחי המסיבה התחבאו מאחורי הספה.&lt;/pre...</td>\n",
       "      <td>0</td>\n",
       "    </tr>\n",
       "  </tbody>\n",
       "</table>\n",
       "</div>"
      ],
      "text/plain": [
       "                                            original  \\\n",
       "0  <premise>My body cast a shadow over the grass....   \n",
       "1  <premise>The woman tolerated her friend's diff...   \n",
       "2  <premise>The women met for coffee.</premise>\\n...   \n",
       "3  <premise>The runner wore shorts.</premise>\\n<c...   \n",
       "4  <premise>The guests of the party hid behind th...   \n",
       "\n",
       "                                 gemini_pro_think_v1  answer_label  \n",
       "0  <premise>גופי הטיל צל על הדשא.</premise>\\n<cho...             1  \n",
       "1  <premise>האישה סבלה את ההתנהגות הקשה של חברתה....             0  \n",
       "2  <premise>הנשים נפגשו לקפה.</premise>\\n<choice1...             1  \n",
       "3  <premise>הרץ לבש מכנסיים קצרים.</premise>\\n<ch...             1  \n",
       "4  <premise>אורחי המסיבה התחבאו מאחורי הספה.</pre...             0  "
      ]
     },
     "execution_count": 21,
     "metadata": {},
     "output_type": "execute_result"
    }
   ],
   "source": [
    "df.head()"
   ]
  },
  {
   "cell_type": "code",
   "execution_count": 23,
   "id": "cb32d4c7-d748-4870-8250-9283660380c3",
   "metadata": {},
   "outputs": [
    {
     "data": {
      "text/plain": [
       "0     True\n",
       "1     True\n",
       "2     True\n",
       "3     True\n",
       "4     True\n",
       "5     True\n",
       "6     True\n",
       "7     True\n",
       "8     True\n",
       "9     True\n",
       "10    True\n",
       "11    True\n",
       "12    True\n",
       "13    True\n",
       "14    True\n",
       "15    True\n",
       "16    True\n",
       "17    True\n",
       "18    True\n",
       "19    True\n",
       "dtype: bool"
      ]
     },
     "execution_count": 23,
     "metadata": {},
     "output_type": "execute_result"
    }
   ],
   "source": [
    "df['answer_label'] == pd.Series(hebrew_datasets['copa_' + copa_split]['label'])"
   ]
  },
  {
   "cell_type": "code",
   "execution_count": 22,
   "id": "9c788aae-d59b-4059-b586-a9b8c8f0fc75",
   "metadata": {},
   "outputs": [],
   "source": [
    "df.to_csv(copa_file_name, index=False)"
   ]
  },
  {
   "cell_type": "raw",
   "id": "8415e7eb-a0cc-4357-b915-eb43b8157efe",
   "metadata": {},
   "source": [
    "for i in range(6):\n",
    "    print('<example>\\nEnglish:')\n",
    "    print(dict_to_prompt(copa.copa_sample_to_dict(small['copa_train'][i])))\n",
    "    print('Hebrew:')\n",
    "    print(dict_to_prompt(copa.copa_sample_to_dict(hebrew_datasets['copa_train'][i])))\n",
    "    print('</example>\\n')"
   ]
  }
 ],
 "metadata": {
  "kernelspec": {
   "display_name": "conda_pytorch_p310",
   "language": "python",
   "name": "conda_pytorch_p310"
  },
  "language_info": {
   "codemirror_mode": {
    "name": "ipython",
    "version": 3
   },
   "file_extension": ".py",
   "mimetype": "text/x-python",
   "name": "python",
   "nbconvert_exporter": "python",
   "pygments_lexer": "ipython3",
   "version": "3.10.14"
  }
 },
 "nbformat": 4,
 "nbformat_minor": 5
}
