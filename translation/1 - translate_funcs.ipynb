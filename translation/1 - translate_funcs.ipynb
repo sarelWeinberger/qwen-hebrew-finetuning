{
 "cells": [
  {
   "cell_type": "markdown",
   "id": "d52ac5aa-eb0a-4ae5-b8de-a5d2a6fbc453",
   "metadata": {},
   "source": [
    "# Imports"
   ]
  },
  {
   "cell_type": "code",
   "execution_count": null,
   "id": "7c5c1afb-bf91-456d-aecd-63dbe731d117",
   "metadata": {
    "ExecuteTime": {
     "end_time": "2025-07-14T07:45:18.857392Z",
     "start_time": "2025-07-14T07:45:18.835995Z"
    }
   },
   "outputs": [],
   "source": [
    "%load_ext autoreload\n",
    "%autoreload 2\n",
    "\n",
    "import pandas as pd\n",
    "import sys\n",
    "from datasets import concatenate_datasets\n",
    "\n",
    "# Call models\n",
    "from src.call_models import bedrock_connect, call_claude_bedrock\n",
    "from src.call_models import google_connect, call_gemini, all_string_gemini_config, all_int_gemini_config\n",
    "from src.translate_func import claude_translation, gemini_translation\n",
    "\n",
    "# Datasets\n",
    "from src.benchmarks_code import arc_ai\n",
    "from src.benchmarks_code import gsm8k\n",
    "from src.benchmarks_code import copa\n",
    "from prompts import arc_prompts\n",
    "from prompts import gsm_prompts\n",
    "from prompts import copa_prompts\n",
    "#from prompts import hellaswag_prompts\n",
    "\n",
    "# Access keys\n",
    "from my_access_keys import google_access_key, aws_access_key, aws_secret_key\n",
    "\n",
    "# .csv utils\n",
    "from src.save_utils import add_dataset_to_csv\n",
    "\n",
    "# Remove annoying warning\n",
    "from IPython.core.display_functions import display"
   ]
  },
  {
   "cell_type": "code",
   "execution_count": null,
   "id": "23027f8a-2c23-4dfb-96ec-8bfe768ec35e",
   "metadata": {},
   "outputs": [],
   "source": [
    "from my_access_keys import google_project_id"
   ]
  },
  {
   "cell_type": "code",
   "execution_count": null,
   "id": "ee4c23e3-3705-4090-b599-f06d7bef152e",
   "metadata": {
    "ExecuteTime": {
     "end_time": "2025-07-14T07:45:20.897912Z",
     "start_time": "2025-07-14T07:45:20.537138Z"
    },
    "scrolled": true
   },
   "outputs": [],
   "source": [
    "# Get the model's access keys\n",
    "bedrock_client = bedrock_connect(aws_access_key, aws_secret_key)\n",
    "google_client = google_connect(google_access_key)"
   ]
  },
  {
   "cell_type": "markdown",
   "id": "d558c746-5323-449a-9715-0787c26e8144",
   "metadata": {
    "jp-MarkdownHeadingCollapsed": true
   },
   "source": [
    "# Check Models Calls"
   ]
  },
  {
   "cell_type": "raw",
   "id": "befff497-7ce7-4b96-b8d9-9a9a8f1e0f40",
   "metadata": {},
   "source": [
    "print('claude:')\n",
    "print(call_claude_bedrock(\n",
    "    bedrock_client,\n",
    "    'Which one is more accurate in Hebrew? repeat the right sentence, without adding anything\\nכדור הארץ מסתובב על צירו OR כדור הארץ מסתובב סביב צירו',\n",
    "    system_prompt='ALWAYS start and end your answers with \"*\"',\n",
    "))"
   ]
  },
  {
   "cell_type": "code",
   "execution_count": null,
   "id": "81c5d593-94d8-4c77-9edd-f2d88f54bb8e",
   "metadata": {
    "ExecuteTime": {
     "end_time": "2025-07-14T07:45:29.155206Z",
     "start_time": "2025-07-14T07:45:26.180645Z"
    }
   },
   "outputs": [],
   "source": [
    "print('Gemini:')\n",
    "generate_content_config = all_string_gemini_config(['recipe', 'ingredients'], 'ALWAYS THINK BEFORE ANSWERING!', think_bud=200)\n",
    "response = call_gemini(google_client, \"List a popular cookie recipe, and include the amounts of ingredients.\", generate_content_config)\n",
    "print(response.text)\n",
    "print('---')\n",
    "my_recipes = response.parsed\n",
    "print(my_recipes.keys())"
   ]
  },
  {
   "cell_type": "markdown",
   "id": "a7e9b7c3-0fe6-4d38-9f14-11dbc22c4407",
   "metadata": {},
   "source": [
    "# ARC_AI2"
   ]
  },
  {
   "cell_type": "markdown",
   "id": "45f8b0ca-de73-46c6-908d-35f288bb3c16",
   "metadata": {},
   "source": [
    "## Get Dataset"
   ]
  },
  {
   "cell_type": "code",
   "execution_count": null,
   "id": "dc1f8efc-d4cb-4b6e-b88c-7b3ef27d2f4a",
   "metadata": {
    "ExecuteTime": {
     "end_time": "2025-07-14T07:45:56.319299Z",
     "start_time": "2025-07-14T07:45:39.967771Z"
    }
   },
   "outputs": [],
   "source": [
    "arc_dataset = arc_ai.get_arc_ai2_datasets()\n",
    "# arc_dataset['arc_challenge_train'] = arc_dataset['arc_challenge_train'].skip(5).take(20)\n",
    "# arc_dataset['arc_challenge_train'] = arc_dataset['arc_challenge_train'].skip(5).take(90)\n",
    "\n",
    "# Remove sample number 121 - with only 3 optional answers....\n",
    "# arc_dataset['arc_challenge_test'] = concatenate_datasets([arc_dataset['arc_challenge_test'].take(120), arc_dataset['arc_challenge_test'].skip(122).take(80)])\n",
    "arc_dataset['arc_challenge_test'] = arc_dataset['arc_challenge_test'].skip(900).take(30)\n",
    "\n",
    "file_name = 'compare_csv/arc_ai2/arc_ai2_chall_test_901-930.csv'\n",
    "\n",
    "print(file_name)\n",
    "arc_dataset"
   ]
  },
  {
   "cell_type": "code",
   "execution_count": null,
   "id": "6fa2c39e-756e-4107-b79f-0245efb1de71",
   "metadata": {},
   "outputs": [],
   "source": [
    "use_indcs = list(range(arc_dataset['arc_challenge_test'].num_rows))\n",
    "for i, s in enumerate(arc_dataset['arc_challenge_test']):\n",
    "    if len(s['choices']['label']) != 4:\n",
    "        use_indcs.remove(i)\n",
    "for i, s in enumerate(arc_dataset['arc_challenge_test'].select(use_indcs)):\n",
    "    if len(s['choices']['label']) != 4:\n",
    "        print(i)\n",
    "\n",
    "arc_dataset['arc_challenge_test'] = arc_dataset['arc_challenge_test'].select(use_indcs)\n",
    "arc_dataset['arc_challenge_test']"
   ]
  },
  {
   "cell_type": "raw",
   "id": "278711da-12d0-4d96-bc0a-8e771450c48f",
   "metadata": {
    "scrolled": true
   },
   "source": [
    "df = add_dataset_to_csv(file_name, 'original', arc_dataset['arc_challenge_test'], arc_ai.arc_sample_to_dict)\n",
    "text_df = add_dataset_to_csv(file_name[:-4] + '-text.csv', 'original', arc_dataset['arc_challenge_test'], arc_ai.arc_sample_to_dict)\n",
    "display(df.head(2))\n",
    "display(text_df.head(2))"
   ]
  },
  {
   "cell_type": "code",
   "execution_count": null,
   "id": "fde19841-0339-47b4-bdc6-6b5390ac3067",
   "metadata": {},
   "outputs": [],
   "source": [
    "df = pd.read_csv(file_name)\n",
    "text_df = pd.read_csv(file_name[:-4] + '-text.csv')\n",
    "print(df.shape, text_df.shape)\n",
    "display(df.head(2))\n",
    "display(text_df.head(2))"
   ]
  },
  {
   "cell_type": "code",
   "execution_count": null,
   "id": "2b363c5c-4ffe-43d7-af9a-b8faa45e1788",
   "metadata": {},
   "outputs": [],
   "source": [
    "df.shape, text_df.shape"
   ]
  },
  {
   "cell_type": "markdown",
   "id": "0110eefb-aab4-451d-b273-b0d5a554c91f",
   "metadata": {},
   "source": [
    "## Run Translation"
   ]
  },
  {
   "cell_type": "markdown",
   "id": "36f09840-3fa3-4124-8feb-a52d8cb213f9",
   "metadata": {
    "jp-MarkdownHeadingCollapsed": true
   },
   "source": [
    "### Claude"
   ]
  },
  {
   "cell_type": "raw",
   "id": "e22dc004-b66f-4fa0-8ab2-b61faf30a250",
   "metadata": {},
   "source": [
    "small = {}\n",
    "small['check'] = arc_dataset['arc_challenge_test'].take(2)\n",
    "small"
   ]
  },
  {
   "cell_type": "raw",
   "id": "1f4ac32d-741b-47a6-a65d-cf60eadfde4a",
   "metadata": {},
   "source": [
    "exp_name = 'claude_v2_refine'\n",
    "\n",
    "hebrew_datasets, text_output = claude_translation(\n",
    "    bedrock_client,\n",
    "    arc_dataset,\n",
    "    # small,\n",
    "    arc_prompts.ARC_INSTRUCT_V2_CLAUDE_REFINE,\n",
    "    arc_prompts.ARC_FEW_SHOTS,\n",
    "    arc_prompts.ARC_FORMAT_REFINE,\n",
    "    arc_ai.arc_sample_to_dict,\n",
    "    arc_ai.arc_dict_to_sample,\n",
    ")"
   ]
  },
  {
   "cell_type": "code",
   "execution_count": null,
   "id": "7ecaedca-00f7-4ec9-a101-4f3acbc62239",
   "metadata": {},
   "outputs": [],
   "source": [
    "%%time\n",
    "\n",
    "# exp_name = 'claude_3-7_v7_thinking'\n",
    "exp_name = 'claude_4_opus_v7_thinking'\n",
    "\n",
    "hebrew_datasets, text_output = claude_translation(\n",
    "    bedrock_client,\n",
    "    arc_dataset,\n",
    "    # small,\n",
    "    arc_prompts.ARC_INSTRUCT_V7_CLAUDE,\n",
    "    arc_prompts.ARC_FEW_SHOTS,\n",
    "    arc_prompts.ARC_FORMAT,\n",
    "    arc_ai.arc_sample_to_dict,\n",
    "    arc_ai.arc_dict_to_sample,\n",
    "    if_four=False,\n",
    ")"
   ]
  },
  {
   "cell_type": "code",
   "execution_count": null,
   "id": "0c37eecb-3465-4fbb-b50f-0be51b0f0617",
   "metadata": {},
   "outputs": [],
   "source": [
    "def len_mat(text):\n",
    "    pattern = r\"<(?!response_format\\b)([^>]+)>(.*?)</\\1>\"\n",
    "    matches = re.findall(pattern, text, re.DOTALL)\n",
    "    return len(matches)"
   ]
  },
  {
   "cell_type": "code",
   "execution_count": null,
   "id": "81d34937-f38c-42d2-85a1-6ab0f8a80a81",
   "metadata": {},
   "outputs": [],
   "source": [
    "import re\n",
    "pd.Series([len_mat(i) for i in text_output['arc_challenge_test']]).value_counts()"
   ]
  },
  {
   "cell_type": "code",
   "execution_count": null,
   "id": "842f48b3-a902-418a-97b5-b65eebd1cdab",
   "metadata": {},
   "outputs": [],
   "source": [
    "df = add_dataset_to_csv(file_name, exp_name, hebrew_datasets['arc_challenge_test'], arc_ai.arc_sample_to_dict)\n",
    "text_df[exp_name + ' text'] = text_output['arc_challenge_test']\n",
    "text_df.to_csv(file_name[:-4] + '-text.csv', index=False)\n",
    "display(df.head(2))\n",
    "display(text_df.head(2))"
   ]
  },
  {
   "cell_type": "markdown",
   "id": "ba1a501e-f0e0-4897-a3d2-f922f52d9719",
   "metadata": {},
   "source": [
    "### Gemini"
   ]
  },
  {
   "cell_type": "code",
   "execution_count": null,
   "id": "8380d3b9-45a1-4c4e-8267-7541cbb4a117",
   "metadata": {},
   "outputs": [],
   "source": [
    "small = {}\n",
    "small['arc_challenge_test'] = arc_dataset['arc_challenge_test']\n",
    "small"
   ]
  },
  {
   "cell_type": "code",
   "execution_count": null,
   "id": "0c7138f8-5877-491e-b656-828508414445",
   "metadata": {},
   "outputs": [],
   "source": [
    "exp_name = 'gemini'\n",
    "\n",
    "hebrew_datasets, text_output = gemini_translation(\n",
    "    google_client,\n",
    "    # arc_dataset,\n",
    "    small,\n",
    "    arc_prompts.ARC_INSTRUCT_V2_GEMINI,\n",
    "    arc_prompts.ARC_FEW_SHOTS,\n",
    "    arc_ai.arc_sample_to_dict,\n",
    "    arc_ai.arc_dict_to_sample,\n",
    "    if_pro=True,\n",
    "    # if_pro=False,\n",
    "    think_bud=4096,\n",
    "    # think_bud=2_000\n",
    ")"
   ]
  },
  {
   "cell_type": "code",
   "execution_count": null,
   "id": "75c38d8d-1ce5-48d7-83a5-7ba547572dd4",
   "metadata": {},
   "outputs": [],
   "source": [
    "hebrew_datasets"
   ]
  },
  {
   "cell_type": "code",
   "execution_count": null,
   "id": "a695994b-4b48-4dc3-9868-5a017ed27703",
   "metadata": {},
   "outputs": [],
   "source": [
    "hebrew_datasets['arc_challenge_test'][0]"
   ]
  },
  {
   "cell_type": "code",
   "execution_count": null,
   "id": "bd92c3ba-325c-458b-9fbe-5c6bc87282e4",
   "metadata": {},
   "outputs": [],
   "source": [
    "df = add_dataset_to_csv(file_name, exp_name, hebrew_datasets['arc_challenge_test'], arc_ai.arc_sample_to_dict)\n",
    "text_df[exp_name + ' text'] = text_output['arc_challenge_test']\n",
    "text_df.to_csv(file_name[:-4] + '-text.csv', index=False)\n",
    "display(df.head(2))\n",
    "display(text_df.head(2))"
   ]
  },
  {
   "cell_type": "code",
   "execution_count": null,
   "id": "ec42599d-ec40-4ba8-907b-a463520dc754",
   "metadata": {},
   "outputs": [],
   "source": [
    "df.shape, text_df.shape"
   ]
  },
  {
   "cell_type": "raw",
   "id": "e175a518-d5d5-4995-9086-b2ae542f5639",
   "metadata": {},
   "source": [
    "exp_name = 'gemini_v1_few_options'\n",
    "\n",
    "hebrew_datasets = gemini_translation(\n",
    "    google_client,\n",
    "    arc_dataset,\n",
    "    arc_prompts.ARC_INSTRUCT_V1_GEMINI_MULTI,\n",
    "    arc_prompts.ARC_FEW_SHOTS,\n",
    "    arc_ai.arc_sample_to_dict,\n",
    "    arc_ai.arc_dict_to_sample,\n",
    "    if_pro=False,\n",
    "    think_bud=20_000\n",
    ")"
   ]
  },
  {
   "cell_type": "markdown",
   "id": "f1691522-c65b-44ef-9bd4-3a8eefa04c3a",
   "metadata": {
    "jp-MarkdownHeadingCollapsed": true
   },
   "source": [
    "### Multi-options Translation - Gemini"
   ]
  },
  {
   "cell_type": "raw",
   "id": "8f9b6a17-318b-42ee-ab40-5cc3b9fee748",
   "metadata": {},
   "source": [
    "print(arc_prompts.ARC_INSTRUCT_MULTI_V1)"
   ]
  },
  {
   "cell_type": "raw",
   "id": "6731727d-c775-4ce5-95c2-ec7d2b90dd03",
   "metadata": {},
   "source": [
    "hebrew_datasets = gemini_multi_translation(\n",
    "    google_client,\n",
    "    arc_dataset,\n",
    "    arc_prompts.ARC_INSTRUCT_MULTI_V1,\n",
    "    arc_prompts.ARC_FEW_SHOTS,\n",
    "    arc_ai.arc_sample_to_dict,\n",
    "    arc_ai.arc_dict_to_sample,\n",
    ")"
   ]
  },
  {
   "cell_type": "markdown",
   "id": "851254f5-cfbf-462e-98dd-3338614ff9ef",
   "metadata": {},
   "source": [
    "### Claude vs Gemini (using Gemini as judge)"
   ]
  },
  {
   "cell_type": "raw",
   "id": "56a89000-d34e-41bc-95b0-2fdd574d3676",
   "metadata": {},
   "source": [
    "hebrew_datasets = gemini_claude_best_translation(\n",
    "    google_client,\n",
    "    bedrock_client,\n",
    "    arc_dataset,\n",
    "    arc_prompts.ARC_INSTRUCT_V,\n",
    "    arc_prompts.ARC_FEW_SHOTS,\n",
    "    arc_prompts.ARC_FORMAT,\n",
    "    arc_ai.arc_sample_to_dict,\n",
    "    arc_ai.arc_dict_to_sample,\n",
    ")"
   ]
  },
  {
   "cell_type": "markdown",
   "id": "296388da-d4fb-4b36-a2db-1c57f951882e",
   "metadata": {
    "jp-MarkdownHeadingCollapsed": true
   },
   "source": [
    "# GSM8K"
   ]
  },
  {
   "cell_type": "markdown",
   "id": "a1a0c4f1-e6ad-4c67-ae6b-bee463139102",
   "metadata": {},
   "source": [
    "## Get Dataset"
   ]
  },
  {
   "cell_type": "code",
   "execution_count": null,
   "id": "e4560b4b-9ace-40fc-843e-65d41b309da5",
   "metadata": {},
   "outputs": [],
   "source": [
    "gsm_dataset = gsm8k.get_gsm8k_datasets()\n",
    "gsm_dataset['gsm8k_test'] = gsm_dataset['gsm8k_test'].skip(1_000).select(list(range(0, 67)) + list(range(68, 150)))\n",
    "# gsm_file_name = 'compare_csv/gsm8k_main_test_top_200.csv'\n",
    "gsm_file_name = 'compare_csv/gsm8k_main_test_1001-1150.csv'\n",
    "\n",
    "print(gsm_file_name)\n",
    "gsm_dataset"
   ]
  },
  {
   "cell_type": "code",
   "execution_count": null,
   "id": "30fe58e1-70b0-42ce-9d13-223efb383e10",
   "metadata": {},
   "outputs": [],
   "source": [
    "df = add_dataset_to_csv(gsm_file_name, 'original', gsm_dataset['gsm8k_test'], gsm8k.gsm8k_sample_to_dict)\n",
    "text_df = add_dataset_to_csv(gsm_file_name[:-4] + '-text.csv', 'original', gsm_dataset['gsm8k_test'], gsm8k.gsm8k_sample_to_dict)\n",
    "display(df.head(2))\n",
    "display(text_df.head(2))"
   ]
  },
  {
   "cell_type": "raw",
   "id": "706d9421-8162-4cee-a345-db0b95d8d465",
   "metadata": {},
   "source": [
    "df = pd.read_csv(gsm_file_name)\n",
    "text_df = pd.read_csv(gsm_file_name[:-4] + '-text.csv')\n",
    "print(df.shape, text_df.shape)\n",
    "display(df.head(2))\n",
    "display(text_df.head(2))"
   ]
  },
  {
   "cell_type": "markdown",
   "id": "04fb0d82-bb51-4e63-801c-0df8d2f85b8d",
   "metadata": {},
   "source": [
    "## Run Translation"
   ]
  },
  {
   "cell_type": "markdown",
   "id": "cd27f1cb-ef7d-4bdd-9f34-05292e28f7ea",
   "metadata": {
    "jp-MarkdownHeadingCollapsed": true
   },
   "source": [
    "### Claude"
   ]
  },
  {
   "cell_type": "raw",
   "id": "e0ac7385-066f-43e7-810c-ac750793f3c2",
   "metadata": {},
   "source": [
    "small = {}\n",
    "small['check'] = gsm_dataset['gsm8k_test'].take(4)\n",
    "small"
   ]
  },
  {
   "cell_type": "raw",
   "id": "e8938fe3-2daf-4e59-a518-146372206930",
   "metadata": {
    "scrolled": true
   },
   "source": [
    "exp_name = 'claude_v2_refine'\n",
    "\n",
    "hebrew_datasets, text_output = claude_translation(\n",
    "    bedrock_client,\n",
    "    # small,\n",
    "    gsm_dataset,\n",
    "    gsm_prompts.GSM_INSTRUCT_CLAUDE_REFINE_V2,\n",
    "    gsm_prompts.GSM_FEW_SHOTS,\n",
    "    # gsm_prompts.GSM_FORMAT,\n",
    "    gsm_prompts.GSM_FORMAT_REFINE,\n",
    "    gsm8k.gsm8k_sample_to_dict,\n",
    "    gsm8k.gsm8k_dict_to_sample,\n",
    ")"
   ]
  },
  {
   "cell_type": "code",
   "execution_count": null,
   "id": "8f2b7eec-b851-4efd-8d18-581849d8c93b",
   "metadata": {},
   "outputs": [],
   "source": [
    "%%time\n",
    "\n",
    "# exp_name = 'claude_3-7_v7_thinking'\n",
    "exp_name = 'claude_4_opus_v7_thinking'\n",
    "\n",
    "hebrew_datasets, text_output = claude_translation(\n",
    "    bedrock_client,\n",
    "    # small,\n",
    "    gsm_dataset,\n",
    "    gsm_prompts.GSM_INSTRUCT_CLAUDE_V2,\n",
    "    gsm_prompts.GSM_FEW_SHOTS,\n",
    "    gsm_prompts.GSM_FORMAT,\n",
    "    # gsm_prompts.GSM_FORMAT_REFINE,\n",
    "    gsm8k.gsm8k_sample_to_dict,\n",
    "    gsm8k.gsm8k_dict_to_sample,\n",
    "    if_four=False,\n",
    ")"
   ]
  },
  {
   "cell_type": "code",
   "execution_count": null,
   "id": "056391ad-23bb-4ebf-9a7c-89d9820f2310",
   "metadata": {},
   "outputs": [],
   "source": [
    "def len_mat(text):\n",
    "    pattern = r\"<(?!response_format\\b)([^>]+)>(.*?)</\\1>\"\n",
    "    matches = re.findall(pattern, text, re.DOTALL)\n",
    "    return len(matches)"
   ]
  },
  {
   "cell_type": "code",
   "execution_count": null,
   "id": "2f225c03-c75b-47b0-b5bc-80920d4bf28e",
   "metadata": {},
   "outputs": [],
   "source": [
    "import re\n",
    "pd.Series([len_mat(i) for i in text_output['gsm8k_test']]).value_counts()"
   ]
  },
  {
   "cell_type": "code",
   "execution_count": null,
   "id": "fa056d69-8fa9-476b-9361-dcf43209bbef",
   "metadata": {
    "scrolled": true
   },
   "outputs": [],
   "source": [
    "print(text_output['gsm8k_test'][3])"
   ]
  },
  {
   "cell_type": "code",
   "execution_count": null,
   "id": "41e2e1a4-2728-4f48-9441-d76d383e2c48",
   "metadata": {},
   "outputs": [],
   "source": [
    "df = add_dataset_to_csv(gsm_file_name, exp_name, hebrew_datasets['gsm8k_test'], gsm8k.gsm8k_sample_to_dict)\n",
    "df.head(2)"
   ]
  },
  {
   "cell_type": "code",
   "execution_count": null,
   "id": "041dc7cd-45f7-4cbb-963c-95d2b9a165a7",
   "metadata": {},
   "outputs": [],
   "source": [
    "text_df[exp_name + ' text'] = text_output['gsm8k_test']\n",
    "text_df.to_csv(gsm_file_name[:-4] + '-text.csv', index=False)\n",
    "text_df.head(2)"
   ]
  },
  {
   "cell_type": "code",
   "execution_count": null,
   "id": "a511b93a-e919-4a52-ac18-a9f708277213",
   "metadata": {
    "scrolled": true
   },
   "outputs": [],
   "source": [
    "for i in range(10):\n",
    "    print(text_df['claude_v2_refine text'].iloc[i])\n",
    "    print('\\n - - - - - - - - - - - - - - - - - - - - - - - - - - - -\\n')"
   ]
  },
  {
   "cell_type": "raw",
   "id": "626db1a1-0360-470f-b862-9511c10379fa",
   "metadata": {
    "scrolled": true
   },
   "source": [
    "for i in range(10):\n",
    "    print(df['original'].iloc[i])\n",
    "    print()\n",
    "    print(df['claude_v1'].iloc[i])\n",
    "    print('\\n - - - - - - - - - - - - - - - - - - - - - - - - - - - - \\n')"
   ]
  },
  {
   "cell_type": "markdown",
   "id": "2ad5fe66-3d0b-4c0e-8493-25df183943e3",
   "metadata": {},
   "source": [
    "### Gemini"
   ]
  },
  {
   "cell_type": "code",
   "execution_count": null,
   "id": "86950ef9-4305-41ba-9e7f-379e8de2aea0",
   "metadata": {},
   "outputs": [],
   "source": [
    "small = {}\n",
    "small['gsm8k_test'] = gsm_dataset['gsm8k_test'].select(list(range(50, 67)) + list(range(68, 150)))\n",
    "small"
   ]
  },
  {
   "cell_type": "code",
   "execution_count": null,
   "id": "dc9bcf4d-b33f-41cb-9993-289642e9037b",
   "metadata": {},
   "outputs": [],
   "source": [
    "exp_name = 'gemini_pro_think_v2'\n",
    "\n",
    "hebrew_datasets, text_output = gemini_translation(\n",
    "    google_client,\n",
    "    small,\n",
    "    # gsm_dataset,\n",
    "    gsm_prompts.GSM_INSTRUCT_GEMINI_V2,\n",
    "    gsm_prompts.GSM_FEW_SHOTS,\n",
    "    gsm8k.gsm8k_sample_to_dict,\n",
    "    gsm8k.gsm8k_dict_to_sample,\n",
    "    if_pro=True,\n",
    "    think_bud=8192,\n",
    ")"
   ]
  },
  {
   "cell_type": "code",
   "execution_count": null,
   "id": "be7fd288-1d79-4f80-a043-bc8cc6b00805",
   "metadata": {},
   "outputs": [],
   "source": [
    "import pickle\n",
    "from datasets import Dataset, concatenate_datasets\n",
    "\n",
    "with open('gemini_cp/ck - gemini_gsm8k_test_50.pkl', 'rb') as f:\n",
    "    lst_1 = pickle.load(f)\n",
    "with open('gemini_cp/ck - gemini_gsm8k_test_50_text.pkl', 'rb') as f:\n",
    "    lst_1_text = pickle.load(f)\n",
    "print(len(lst_1), len(lst_1_text))\n",
    "\n",
    "lst_1 = Dataset.from_list(lst_1)\n",
    "lst_1"
   ]
  },
  {
   "cell_type": "code",
   "execution_count": null,
   "id": "8989d9c7-76ae-4959-82e5-74e18599254a",
   "metadata": {},
   "outputs": [],
   "source": [
    "hebrew_datasets['gsm8k_test'] = concatenate_datasets([lst_1, hebrew_datasets['gsm8k_test']])\n",
    "text_output['gsm8k_test'] = lst_1_text + text_output['gsm8k_test']"
   ]
  },
  {
   "cell_type": "code",
   "execution_count": null,
   "id": "460d473b-3013-43c7-8a1e-cbbcf7a23c2a",
   "metadata": {},
   "outputs": [],
   "source": [
    "len(text_output['gsm8k_test'])"
   ]
  },
  {
   "cell_type": "code",
   "execution_count": null,
   "id": "3c5c6c47-db0b-43c7-a25f-cf841d6d0f6e",
   "metadata": {},
   "outputs": [],
   "source": [
    "hebrew_datasets"
   ]
  },
  {
   "cell_type": "code",
   "execution_count": null,
   "id": "30d44035-cb16-42cf-bd50-6eaca4a0cb44",
   "metadata": {},
   "outputs": [],
   "source": [
    "df = add_dataset_to_csv(gsm_file_name, exp_name, hebrew_datasets['gsm8k_test'], gsm8k.gsm8k_sample_to_dict)\n",
    "text_df[exp_name + ' text'] = text_output['gsm8k_test']\n",
    "text_df.to_csv(gsm_file_name[:-4] + '-text.csv', index=False)\n",
    "print(df.shape, text_df.shape)\n",
    "display(df.head(2))\n",
    "display(text_df.head(2))"
   ]
  },
  {
   "cell_type": "markdown",
   "id": "6e1cdf75-2b7d-4d6e-965e-e020e0600c26",
   "metadata": {},
   "source": [
    "# COPA"
   ]
  },
  {
   "cell_type": "markdown",
   "id": "fc51f484-1ab1-483e-9e5c-3c271e60cd19",
   "metadata": {
    "jp-MarkdownHeadingCollapsed": true
   },
   "source": [
    "## Get Dataset"
   ]
  },
  {
   "cell_type": "code",
   "execution_count": null,
   "id": "0da971df-5eb1-4370-abcb-a1803f73c994",
   "metadata": {},
   "outputs": [],
   "source": [
    "copa_dataset = copa.get_copa_datasets()\n",
    "\n",
    "# remove mirrored samples\n",
    "copa_train_indices = (pd.Series(copa_dataset['copa_train']['mirrored']) == False)\n",
    "copa_train_indices = copa_train_indices[copa_train_indices].index\n",
    "copa_dataset['copa_train'] = copa_dataset['copa_train'].select(copa_train_indices)\n",
    "\n",
    "copa_split = 'test'\n",
    "question_type = 'effect'\n",
    "if question_type == 'cause':\n",
    "    copa_few_shots_prompt = copa_prompts.COPA_FEW_SHOTS_CAUSE\n",
    "else:\n",
    "    copa_few_shots_prompt = copa_prompts.COPA_FEW_SHOTS_EFFECT\n",
    "\n",
    "# keep only the wanted split and question_type\n",
    "for split in ['train', 'test']:\n",
    "    if split != copa_split:\n",
    "        del copa_dataset['copa_' + split]\n",
    "        continue\n",
    "    look_on = pd.DataFrame(copa_dataset['copa_' + split])\n",
    "    use_indices = look_on[look_on['question'] == question_type].index\n",
    "    copa_dataset['copa_' + split] = copa_dataset['copa_' + split].select(use_indices)\n",
    "    \n",
    "copa_file_name = f'compare_csv/copa/copa_{copa_split}_{question_type}.csv'\n",
    "\n",
    "print(copa_file_name)\n",
    "copa_dataset"
   ]
  },
  {
   "cell_type": "code",
   "execution_count": null,
   "id": "af698931-9526-424d-af50-b042a4648b6c",
   "metadata": {
    "scrolled": true
   },
   "outputs": [],
   "source": [
    "df = add_dataset_to_csv(copa_file_name, 'original', copa_dataset['copa_' + copa_split], copa.copa_sample_to_dict)\n",
    "text_df = add_dataset_to_csv(copa_file_name[:-4] + '-text.csv', 'original', copa_dataset['copa_' + copa_split], copa.copa_sample_to_dict)\n",
    "display(df.head(2))\n",
    "display(text_df.head(2))"
   ]
  },
  {
   "cell_type": "code",
   "execution_count": null,
   "id": "28ecec89-6fbc-4be9-8ed9-c1db380983e0",
   "metadata": {},
   "outputs": [],
   "source": [
    "df = pd.read_csv(copa_file_name)\n",
    "text_df = pd.read_csv(copa_file_name[:-4] + '-text.csv')\n",
    "print(df.shape, text_df.shape)\n",
    "display(df.head(2))\n",
    "display(text_df.head(2))"
   ]
  },
  {
   "cell_type": "code",
   "execution_count": null,
   "id": "3b4c62d8-516d-4711-83a7-a6b6719db76a",
   "metadata": {},
   "outputs": [],
   "source": [
    "df.shape, text_df.shape"
   ]
  },
  {
   "cell_type": "markdown",
   "id": "193fb532-a8fd-41ea-ad05-093ea0e3b87d",
   "metadata": {
    "jp-MarkdownHeadingCollapsed": true
   },
   "source": [
    "## Run Gemini"
   ]
  },
  {
   "cell_type": "raw",
   "id": "d05380e5-8b20-4c5d-93e9-220e2650d5be",
   "metadata": {},
   "source": [
    "small = {}\n",
    "small['copa_' + copa_split] = copa_dataset['copa_' + copa_split]\n",
    "small"
   ]
  },
  {
   "cell_type": "code",
   "execution_count": null,
   "id": "f0873d39-1311-47aa-953c-3fa4547c2d5c",
   "metadata": {},
   "outputs": [],
   "source": [
    "print(copa_file_name)\n",
    "print('cause?   ', copa_few_shots_prompt == copa_prompts.COPA_FEW_SHOTS_CAUSE)\n",
    "print('effect?  ', copa_few_shots_prompt == copa_prompts.COPA_FEW_SHOTS_EFFECT)"
   ]
  },
  {
   "cell_type": "code",
   "execution_count": null,
   "id": "be5b4553-04cb-4957-8a55-5e8f1e415005",
   "metadata": {},
   "outputs": [],
   "source": [
    "exp_name = 'gemini'\n",
    "\n",
    "hebrew_datasets, text_output = gemini_translation(\n",
    "    google_client,\n",
    "    copa_dataset,\n",
    "    copa_prompts.COPA_INSTRUCT_V1_GEMINI,\n",
    "    copa_few_shots_prompt,\n",
    "    copa.copa_sample_to_dict,\n",
    "    copa.copa_dict_to_sample,\n",
    "    if_pro=True,\n",
    "    think_bud=2048,\n",
    ")"
   ]
  },
  {
   "cell_type": "code",
   "execution_count": null,
   "id": "4a6fc27d-8856-4f5a-8332-1115c8d4d463",
   "metadata": {},
   "outputs": [],
   "source": [
    "hebrew_datasets"
   ]
  },
  {
   "cell_type": "code",
   "execution_count": null,
   "id": "e55c0d4a-f184-4e0a-84e3-9c6c4e57ebaa",
   "metadata": {},
   "outputs": [],
   "source": [
    "hebrew_datasets['copa_test'][0]"
   ]
  },
  {
   "cell_type": "code",
   "execution_count": null,
   "id": "1f5ef629-e3da-48b8-a78f-9019b1c0ab5a",
   "metadata": {},
   "outputs": [],
   "source": [
    "df = add_dataset_to_csv(copa_file_name, exp_name, hebrew_datasets['copa_' + copa_split], copa.copa_sample_to_dict)\n",
    "text_df[exp_name + ' text'] = text_output['copa_' + copa_split]\n",
    "text_df.to_csv(copa_file_name[:-4] + '-text.csv', index=False)\n",
    "print(df.shape, text_df.shape)\n",
    "display(df.head(2))\n",
    "display(text_df.head(2))"
   ]
  },
  {
   "cell_type": "code",
   "execution_count": null,
   "id": "3766405f-3d25-4fb0-86f0-0efaa29205ce",
   "metadata": {},
   "outputs": [],
   "source": [
    "df['answer_label'] = pd.Series(hebrew_datasets['copa_' + copa_split]['label'])"
   ]
  },
  {
   "cell_type": "code",
   "execution_count": null,
   "id": "45e1ca92-3be2-4591-bbaa-b413f481e960",
   "metadata": {},
   "outputs": [],
   "source": [
    "df.head()"
   ]
  },
  {
   "cell_type": "code",
   "execution_count": null,
   "id": "cb32d4c7-d748-4870-8250-9283660380c3",
   "metadata": {},
   "outputs": [],
   "source": [
    "print((df['answer_label'] == pd.Series(hebrew_datasets['copa_' + copa_split]['label'])).all())\n",
    "(df['answer_label'] == pd.Series(hebrew_datasets['copa_' + copa_split]['label']))"
   ]
  },
  {
   "cell_type": "code",
   "execution_count": null,
   "id": "9c788aae-d59b-4059-b586-a9b8c8f0fc75",
   "metadata": {},
   "outputs": [],
   "source": [
    "df.to_csv(copa_file_name, index=False)"
   ]
  },
  {
   "cell_type": "raw",
   "id": "8415e7eb-a0cc-4357-b915-eb43b8157efe",
   "metadata": {},
   "source": [
    "for i in range(6):\n",
    "    print('<example>\\nEnglish:')\n",
    "    print(dict_to_prompt(copa.copa_sample_to_dict(small['copa_train'][i])))\n",
    "    print('Hebrew:')\n",
    "    print(dict_to_prompt(copa.copa_sample_to_dict(hebrew_datasets['copa_train'][i])))\n",
    "    print('</example>\\n')"
   ]
  }
 ],
 "metadata": {
  "kernelspec": {
   "display_name": "conda_pytorch_p310",
   "language": "python",
   "name": "conda_pytorch_p310"
  },
  "language_info": {
   "codemirror_mode": {
    "name": "ipython",
    "version": 3
   },
   "file_extension": ".py",
   "mimetype": "text/x-python",
   "name": "python",
   "nbconvert_exporter": "python",
   "pygments_lexer": "ipython3",
   "version": "3.10.14"
  }
 },
 "nbformat": 4,
 "nbformat_minor": 5
}
