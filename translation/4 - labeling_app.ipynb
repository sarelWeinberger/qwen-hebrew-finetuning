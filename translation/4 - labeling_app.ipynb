{
 "cells": [
  {
   "cell_type": "markdown",
   "id": "a4dabcfb-62a2-4687-a087-485574dd0741",
   "metadata": {},
   "source": [
    "# Imports"
   ]
  },
  {
   "cell_type": "code",
   "execution_count": 1,
   "id": "5e78a52c-0d78-4fa6-b1f6-70cff341a3aa",
   "metadata": {},
   "outputs": [],
   "source": [
    "%load_ext autoreload\n",
    "%autoreload 2\n",
    "\n",
    "import pandas as pd\n",
    "import numpy as np\n",
    "import re\n",
    "\n",
    "from src import gradio_utils\n",
    "\n",
    "from src.parse_labeling import parse_labeled_file\n",
    "from src.wikidata_utils import translate_term, wikidata_gradio"
   ]
  },
  {
   "cell_type": "markdown",
   "id": "c456b36b-1b9d-4fd1-b0df-fc51186b3cdb",
   "metadata": {
    "jp-MarkdownHeadingCollapsed": true
   },
   "source": [
    "# Read File"
   ]
  },
  {
   "cell_type": "markdown",
   "id": "4de9b378-0532-490d-abd1-b6fec23a096f",
   "metadata": {},
   "source": [
    "## Concat ARC"
   ]
  },
  {
   "cell_type": "raw",
   "id": "0414ddc4-8512-4007-8d57-7c584d7cfe34",
   "metadata": {
    "scrolled": true
   },
   "source": [
    "benchmark_name = 'arc_ai2_comparison_90'"
   ]
  },
  {
   "cell_type": "raw",
   "id": "964d77b1-49da-4453-bf36-3a072ff72995",
   "metadata": {
    "scrolled": true
   },
   "source": [
    "file_name = f'labeled_files/{benchmark_name}.txt'\n",
    "csv_name = f'manual_compare/{benchmark_name}_FULL.csv'\n",
    "label_df, or_df = parse_labeled_file(file_name, csv_name)"
   ]
  },
  {
   "cell_type": "raw",
   "id": "d4d52d87-b6c7-417d-a4c6-f0615083a02a",
   "metadata": {},
   "source": [
    "label_df.shape, or_df.shape"
   ]
  },
  {
   "cell_type": "raw",
   "id": "bb2655c2-15e6-4b5b-bebb-972d665709c6",
   "metadata": {},
   "source": [
    "file_name = 'manual_compare/arc_ai2_comparison_91_200_FULL.csv'\n",
    "or_df_more = pd.read_csv(file_name)\n",
    "or_df_more.shape"
   ]
  },
  {
   "cell_type": "raw",
   "id": "a51e5080-7e91-4a61-af5c-4d60d3ffaab5",
   "metadata": {},
   "source": [
    "display(label_df.head(2))\n",
    "display(or_df.head(2))\n",
    "display(or_df_more.head(2))"
   ]
  },
  {
   "cell_type": "raw",
   "id": "19187f75-a044-414b-98cb-f174f55a83af",
   "metadata": {
    "scrolled": true
   },
   "source": [
    "new_df = pd.concat([\n",
    "    or_df[or_df_more.columns],\n",
    "    or_df_more,\n",
    "], ignore_index=True)\n",
    "print(new_df.shape)\n",
    "new_df.tail(3)"
   ]
  },
  {
   "cell_type": "raw",
   "id": "d7458489-640c-47cd-ba2c-6fd7d2a903f6",
   "metadata": {},
   "source": [
    "new_df.to_csv('manual_compare/arc_ai2_train_top_200_FULL.csv')"
   ]
  },
  {
   "cell_type": "markdown",
   "id": "c66d497d-8bff-41df-872e-f2d3aee4fc3a",
   "metadata": {
    "jp-MarkdownHeadingCollapsed": true
   },
   "source": [
    "## Claude Version"
   ]
  },
  {
   "cell_type": "raw",
   "id": "101ffd1c-1565-498b-bd8e-d786a080bce4",
   "metadata": {},
   "source": [
    "new_df = pd.read_csv('manual_compare/claude_vers_comparison_FULL.csv')\n",
    "new_df.head(3)"
   ]
  },
  {
   "cell_type": "markdown",
   "id": "34703c18-5482-4da6-81ea-63fc4164a814",
   "metadata": {
    "jp-MarkdownHeadingCollapsed": true
   },
   "source": [
    "## GSM8K"
   ]
  },
  {
   "cell_type": "code",
   "execution_count": null,
   "id": "b064246e-5c82-4742-88fe-7c895a3e0906",
   "metadata": {},
   "outputs": [],
   "source": [
    "file_name = f'labeled_files/gsm8k_comparison_200.txt'\n",
    "csv_name = f'manual_compare/gsm8k_comparison_200_FULL.csv'\n",
    "old_label_df, new_df = parse_labeled_file(file_name, csv_name)\n",
    "\n",
    "old_label_df.reset_index(inplace=True, drop=True)\n",
    "new_df.reset_index(inplace=True, drop=True)\n",
    "\n",
    "print((new_df['option 1'] == old_label_df['option 1']).sum())\n",
    "print((new_df['option 2'] == old_label_df['option 2']).sum())\n",
    "\n",
    "old_label_df.shape, new_df.shape"
   ]
  },
  {
   "cell_type": "code",
   "execution_count": null,
   "id": "ce974c11-0a0e-43aa-aa51-eda9e984b40f",
   "metadata": {},
   "outputs": [],
   "source": [
    "new_df.index, old_label_df.index"
   ]
  },
  {
   "cell_type": "code",
   "execution_count": null,
   "id": "d47bf40d-f21e-4338-bccc-ce5a21e51650",
   "metadata": {},
   "outputs": [],
   "source": [
    "display(old_label_df.head(2))\n",
    "display(new_df.head(2))"
   ]
  },
  {
   "cell_type": "markdown",
   "id": "d34792b9-d6b3-4679-87eb-42cefe6df353",
   "metadata": {
    "jp-MarkdownHeadingCollapsed": true
   },
   "source": [
    "## MMLU"
   ]
  },
  {
   "cell_type": "code",
   "execution_count": null,
   "id": "5b1643f0-f105-4e31-ae2f-67af396fcc5c",
   "metadata": {},
   "outputs": [],
   "source": [
    "new_df = pd.read_csv('manual_compare/mmlu_test_each_90_FULL.csv')\n",
    "print(new_df.shape)\n",
    "new_df.head(2)"
   ]
  },
  {
   "cell_type": "code",
   "execution_count": null,
   "id": "9d068d16-3410-4eed-be3d-bc5d4a03f2af",
   "metadata": {},
   "outputs": [],
   "source": [
    "# Concat the train which was labeled\n",
    "mmlu_train = pd.read_csv('labeled_files/mmlu_train_labeled_gradio.csv')\n",
    "mmlu_train.fillna('', inplace=True)\n",
    "mmlu_train = mmlu_train[(mmlu_train['gold'] != '') | (mmlu_train['rating'] != '')]\n",
    "print(mmlu_train.shape)\n",
    "mmlu_train.head(2)"
   ]
  },
  {
   "cell_type": "markdown",
   "id": "2ed55656-81f4-4827-a393-bb93ad35df64",
   "metadata": {
    "jp-MarkdownHeadingCollapsed": true
   },
   "source": [
    "## ARC only gemini"
   ]
  },
  {
   "cell_type": "code",
   "execution_count": null,
   "id": "40aa773b-bdb4-4f09-be13-c5a641fc2d48",
   "metadata": {},
   "outputs": [],
   "source": [
    "new_df = pd.read_csv('compare_csv/arc_ai2_chall_test_503-853.csv')\n",
    "print(new_df.shape)\n",
    "new_df = new_df.tail(149 + 51).reset_index(drop=True)\n",
    "print(new_df.shape)\n",
    "new_df.head(2)"
   ]
  },
  {
   "cell_type": "code",
   "execution_count": null,
   "id": "53ecf05d-1aaf-4cae-8fa3-6a9f4f6a454d",
   "metadata": {},
   "outputs": [],
   "source": [
    "arc_gemini_df = pd.DataFrame()\n",
    "arc_gemini_df['text_column'] = new_df['original']\n",
    "arc_gemini_df['new_text_column'] = new_df['gemini_pro_think_v2']\n",
    "arc_gemini_df['gold'] = ''\n",
    "arc_gemini_df['rating'] = ''\n",
    "print(arc_gemini_df.shape)\n",
    "arc_gemini_df.head(2)"
   ]
  },
  {
   "cell_type": "code",
   "execution_count": null,
   "id": "e0f942e3-cde1-49b9-bbda-62d845cd04ba",
   "metadata": {},
   "outputs": [],
   "source": [
    "old_test_arc = pd.read_csv('labeled_files/arc_ai_TEST_labeled_gradio.csv')\n",
    "old_test_arc = old_test_arc.fillna('')\n",
    "old_test_arc['rating'] = old_test_arc['rating'].apply(str).replace('1.0', '1').replace('2.0', '2')\n",
    "\n",
    "arc_gemini_df = pd.concat([old_test_arc, arc_gemini_df], ignore_index=True)\n",
    "arc_gemini_df = arc_gemini_df.fillna('')\n",
    "arc_gemini_df.shape"
   ]
  },
  {
   "cell_type": "code",
   "execution_count": null,
   "id": "22394cd9-88b1-47bd-90c1-b64929296b05",
   "metadata": {},
   "outputs": [],
   "source": [
    "display(arc_gemini_df.head())\n",
    "display(arc_gemini_df.tail())"
   ]
  },
  {
   "cell_type": "code",
   "execution_count": null,
   "id": "5dd2f216-7136-4697-9109-5ad9bb8382eb",
   "metadata": {},
   "outputs": [],
   "source": [
    "arc_gemini_df.to_csv('labeled_files/arc_ai_TEST_2_labeled_gradio.csv', index=False)"
   ]
  },
  {
   "cell_type": "markdown",
   "id": "5c6ee555-03d1-47e8-a94e-fc442ebb029a",
   "metadata": {
    "jp-MarkdownHeadingCollapsed": true
   },
   "source": [
    "## GSM only gemini"
   ]
  },
  {
   "cell_type": "markdown",
   "id": "78ce0bb1-ccf9-4e2a-a240-490a4fd99fc8",
   "metadata": {
    "jp-MarkdownHeadingCollapsed": true
   },
   "source": [
    "### For Israel"
   ]
  },
  {
   "cell_type": "code",
   "execution_count": null,
   "id": "e3a42066-93e4-47e4-9599-f2e4c0ba5d2c",
   "metadata": {},
   "outputs": [],
   "source": [
    "# new_df = pd.read_csv('compare_csv/gsm8k_main_test_201-500.csv')\n",
    "new_df = pd.read_csv('compare_csv/gsm8k_main_test_501-600.csv')\n",
    "new_df_2 = pd.read_csv('compare_csv/gsm8k_main_test_601-1000.csv').head(200)\n",
    "new_df = pd.concat([new_df, new_df_2], ignore_index=True)\n",
    "print(new_df.shape)\n",
    "new_df.head(2)"
   ]
  },
  {
   "cell_type": "code",
   "execution_count": null,
   "id": "a55a389c-25b0-4655-9cf3-bb168c6690ce",
   "metadata": {},
   "outputs": [],
   "source": [
    "gsm_gemini_df = pd.DataFrame()\n",
    "gsm_gemini_df['text_column'] = new_df['original']\n",
    "gsm_gemini_df['new_text_column'] = new_df['gemini_pro_think_v2']\n",
    "gsm_gemini_df['gold'] = ''\n",
    "gsm_gemini_df['rating'] = ''\n",
    "print(gsm_gemini_df.shape)\n",
    "gsm_gemini_df.head(2)"
   ]
  },
  {
   "cell_type": "code",
   "execution_count": null,
   "id": "950c1e20-17ef-4f65-95fe-ad095f390900",
   "metadata": {},
   "outputs": [],
   "source": [
    "old_test_gsm = pd.read_csv('labeled_files/gsm_TEST_labeled_gradio.csv')\n",
    "old_test_gsm = old_test_gsm.fillna('')\n",
    "old_test_gsm['rating'] = old_test_gsm['rating'].apply(str).replace('1.0', '1').replace('2.0', '2')\n",
    "\n",
    "gsm_gemini_df = pd.concat([old_test_gsm, gsm_gemini_df], ignore_index=True)\n",
    "gsm_gemini_df = gsm_gemini_df.fillna('')\n",
    "gsm_gemini_df.shape"
   ]
  },
  {
   "cell_type": "code",
   "execution_count": null,
   "id": "d2cf1562-c6fe-492e-8bf4-a23033ede7ea",
   "metadata": {},
   "outputs": [],
   "source": [
    "display(gsm_gemini_df.head(2))\n",
    "display(gsm_gemini_df.iloc[300:302])\n",
    "display(gsm_gemini_df.tail(2))"
   ]
  },
  {
   "cell_type": "code",
   "execution_count": null,
   "id": "f54b6597-012e-43c3-9a42-eb6cebd765e3",
   "metadata": {},
   "outputs": [],
   "source": [
    "gsm_gemini_df.to_csv('labeled_files/gsm_TEST_labeled_gradio.csv', index=False)"
   ]
  },
  {
   "cell_type": "markdown",
   "id": "0deb8ca8-3bd7-4a96-9ea0-5ad783e38543",
   "metadata": {},
   "source": [
    "### For Guy"
   ]
  },
  {
   "cell_type": "code",
   "execution_count": null,
   "id": "1fc8407a-2654-48d4-a675-ee82f01c075f",
   "metadata": {},
   "outputs": [],
   "source": [
    "# overlap_df = pd.read_csv('compare_csv/gsm8k_main_test_201-500.csv').tail(70)\n",
    "new_df = pd.read_csv('compare_csv/gsm8k_main_test_601-1000.csv').tail(250).reset_index(drop=True)\n",
    "\n",
    "# new_df = pd.concat([overlap_df, new_df], ignore_index=True)\n",
    "\n",
    "# new_df = pd.read_csv('compare_csv/gsm8k_main_test_501-600.csv')\n",
    "print(new_df.shape)\n",
    "display(new_df.head(2))\n",
    "display(new_df.tail(2))"
   ]
  },
  {
   "cell_type": "code",
   "execution_count": null,
   "id": "06fc02dc-d8ac-45d3-b1ec-156bb7e87f83",
   "metadata": {},
   "outputs": [],
   "source": [
    "gsm_gemini_df = pd.DataFrame()\n",
    "gsm_gemini_df['text_column'] = new_df['original']\n",
    "gsm_gemini_df['new_text_column'] = new_df['gemini_pro_think_v2']\n",
    "gsm_gemini_df['gold'] = ''\n",
    "gsm_gemini_df['rating'] = ''\n",
    "print(gsm_gemini_df.shape)\n",
    "gsm_gemini_df.head(2)"
   ]
  },
  {
   "cell_type": "code",
   "execution_count": null,
   "id": "9c99bd58-cb5f-4e30-b411-3eaade83effc",
   "metadata": {},
   "outputs": [],
   "source": [
    "display(gsm_gemini_df.head(3))\n",
    "display(gsm_gemini_df.tail(3))"
   ]
  },
  {
   "cell_type": "code",
   "execution_count": null,
   "id": "a52673bf-698d-4179-8129-d3ea1105948a",
   "metadata": {},
   "outputs": [],
   "source": [
    "gsm_gemini_df.to_csv('labeled_files/gsm_TEST_2_labeled_gradio.csv', index=False)"
   ]
  },
  {
   "cell_type": "markdown",
   "id": "8bdd4cba-7035-496c-978d-fedb06af503a",
   "metadata": {},
   "source": [
    "___"
   ]
  },
  {
   "cell_type": "code",
   "execution_count": null,
   "id": "f319de6a-3101-44b3-8881-3bada0ddcf10",
   "metadata": {},
   "outputs": [],
   "source": [
    "more_gsm = pd.read_csv('compare_csv/gsm8k_main_test_1001-1150.csv')\n",
    "more_gsm.shape"
   ]
  },
  {
   "cell_type": "code",
   "execution_count": null,
   "id": "606c04e4-87d7-4d5b-b57d-ca280f0c6e75",
   "metadata": {},
   "outputs": [],
   "source": [
    "more_gsm_gradio = pd.DataFrame()\n",
    "more_gsm_gradio['text_column'] = more_gsm['original']\n",
    "more_gsm_gradio['new_text_column'] = more_gsm['gemini_pro_think_v2']\n",
    "more_gsm_gradio['gold'] = ''\n",
    "more_gsm_gradio['rating'] = ''\n",
    "print(more_gsm_gradio.shape)\n",
    "more_gsm_gradio.head(2)"
   ]
  },
  {
   "cell_type": "code",
   "execution_count": null,
   "id": "ae5f384b-368f-42ec-bd86-b77ba4d478c8",
   "metadata": {
    "scrolled": true
   },
   "outputs": [],
   "source": [
    "old_test_gsm = pd.read_csv('labeled_files/gsm_TEST_2_labeled_gradio.csv')\n",
    "old_test_gsm = old_test_gsm.fillna('')\n",
    "old_test_gsm['rating'] = old_test_gsm['rating'].apply(str).replace('1.0', '1').replace('2.0', '2')\n",
    "\n",
    "gsm_gemini_df = pd.concat([old_test_gsm, more_gsm_gradio], ignore_index=True)\n",
    "gsm_gemini_df = gsm_gemini_df.fillna('')\n",
    "gsm_gemini_df.shape"
   ]
  },
  {
   "cell_type": "code",
   "execution_count": null,
   "id": "a604f549-e261-4fd3-b7d5-5325927af287",
   "metadata": {
    "scrolled": true
   },
   "outputs": [],
   "source": [
    "display(gsm_gemini_df.head())\n",
    "display(gsm_gemini_df.tail())"
   ]
  },
  {
   "cell_type": "code",
   "execution_count": 14,
   "id": "cb0eda36-b304-4017-a0c9-32ce4bf8ad43",
   "metadata": {},
   "outputs": [],
   "source": [
    "gsm_gemini_df.to_csv('labeled_files/gsm_TEST_2_labeled_gradio.csv', index=False)"
   ]
  },
  {
   "cell_type": "markdown",
   "id": "d5ce9d9c-87f8-445f-96db-4ddd95d21fec",
   "metadata": {
    "jp-MarkdownHeadingCollapsed": true
   },
   "source": [
    "## MMLU only Gemini"
   ]
  },
  {
   "cell_type": "raw",
   "id": "6977f00e-78f7-488c-b4a5-ee3c25c8c3f9",
   "metadata": {},
   "source": [
    "new_df_1_1 = pd.read_csv('compare_csv/mmlu/mmlu_test_main_sub_300.csv')\n",
    "new_df_1_2 = pd.read_csv('compare_csv/mmlu/mmlu_test_main_sub_301-500.csv')\n",
    "new_df_1 = pd.concat([new_df_1_1, new_df_1_2], ignore_index=True)\n",
    "new_df_1 = new_df_1[new_df_1.groupby('original').cumcount() == 0]\n",
    "new_df_1 = new_df_1.iloc[::15]\n",
    "new_df_1.shape"
   ]
  },
  {
   "cell_type": "code",
   "execution_count": 2,
   "id": "c48f327f-2831-4651-8287-2f328a8dc767",
   "metadata": {},
   "outputs": [
    {
     "data": {
      "text/plain": [
       "(496, 16)"
      ]
     },
     "execution_count": 2,
     "metadata": {},
     "output_type": "execute_result"
    }
   ],
   "source": [
    "old_israel = pd.read_csv('labeled_files/mmlu_main_sub_TEST_labeled_gradio.csv')\n",
    "old_israel.shape"
   ]
  },
  {
   "cell_type": "code",
   "execution_count": 3,
   "id": "320ad98b-90b2-469c-a6db-33872b05528d",
   "metadata": {},
   "outputs": [
    {
     "name": "stdout",
     "output_type": "stream",
     "text": [
      "(390, 4)\n",
      "(389, 4)\n",
      "(195, 4)\n"
     ]
    }
   ],
   "source": [
    "new_df_2_1 = pd.read_csv('compare_csv/mmlu/mmlu_test_main_sub_501-700.csv')\n",
    "new_df_2_2 = pd.read_csv('compare_csv/mmlu/mmlu_test_main_sub_701-892.csv')\n",
    "new_df_2 = pd.concat([new_df_2_1, new_df_2_2], ignore_index=True)\n",
    "print(new_df_2.shape)\n",
    "new_df_2 = new_df_2[new_df_2.groupby('original').cumcount() == 0]\n",
    "print(new_df_2.shape)\n",
    "new_df_2 = new_df_2.iloc[::2]\n",
    "print(new_df_2.shape)\n",
    "\n",
    "new_df = new_df_2"
   ]
  },
  {
   "cell_type": "raw",
   "id": "8c3f14cc-72b6-4b46-be8d-758343619ecc",
   "metadata": {
    "scrolled": true
   },
   "source": [
    "new_df = pd.concat([new_df_1, new_df_2], ignore_index=True)\n",
    "new_df = new_df.fillna('')\n",
    "print(new_df.shape)\n",
    "new_df.head()"
   ]
  },
  {
   "cell_type": "code",
   "execution_count": 4,
   "id": "2f63f217-23fc-4bd0-a4f5-f9a275186a27",
   "metadata": {},
   "outputs": [
    {
     "name": "stdout",
     "output_type": "stream",
     "text": [
      "(195, 4)\n"
     ]
    },
    {
     "data": {
      "text/html": [
       "<div>\n",
       "<style scoped>\n",
       "    .dataframe tbody tr th:only-of-type {\n",
       "        vertical-align: middle;\n",
       "    }\n",
       "\n",
       "    .dataframe tbody tr th {\n",
       "        vertical-align: top;\n",
       "    }\n",
       "\n",
       "    .dataframe thead th {\n",
       "        text-align: right;\n",
       "    }\n",
       "</style>\n",
       "<table border=\"1\" class=\"dataframe\">\n",
       "  <thead>\n",
       "    <tr style=\"text-align: right;\">\n",
       "      <th></th>\n",
       "      <th>text_column</th>\n",
       "      <th>new_text_column</th>\n",
       "      <th>gold</th>\n",
       "      <th>rating</th>\n",
       "    </tr>\n",
       "  </thead>\n",
       "  <tbody>\n",
       "    <tr>\n",
       "      <th>387</th>\n",
       "      <td>&lt;question&gt;What does the term anatman mean?&lt;/qu...</td>\n",
       "      <td>&lt;question&gt;מה פירוש המונח אנטמן?&lt;/question&gt;\\n&lt;c...</td>\n",
       "      <td></td>\n",
       "      <td></td>\n",
       "    </tr>\n",
       "    <tr>\n",
       "      <th>389</th>\n",
       "      <td>&lt;question&gt;Pure Land Buddhism belongs to which ...</td>\n",
       "      <td>&lt;question&gt;לאיזה זרם משתייך בודהיזם של הארץ הטה...</td>\n",
       "      <td></td>\n",
       "      <td></td>\n",
       "    </tr>\n",
       "  </tbody>\n",
       "</table>\n",
       "</div>"
      ],
      "text/plain": [
       "                                           text_column  \\\n",
       "387  <question>What does the term anatman mean?</qu...   \n",
       "389  <question>Pure Land Buddhism belongs to which ...   \n",
       "\n",
       "                                       new_text_column gold rating  \n",
       "387  <question>מה פירוש המונח אנטמן?</question>\\n<c...              \n",
       "389  <question>לאיזה זרם משתייך בודהיזם של הארץ הטה...              "
      ]
     },
     "execution_count": 4,
     "metadata": {},
     "output_type": "execute_result"
    }
   ],
   "source": [
    "mmlu_gemini_df = pd.DataFrame()\n",
    "mmlu_gemini_df['text_column'] = new_df['original']\n",
    "mmlu_gemini_df['new_text_column'] = new_df['gemini_pro_think_v1']\n",
    "mmlu_gemini_df['gold'] = ''\n",
    "mmlu_gemini_df['rating'] = ''\n",
    "print(mmlu_gemini_df.shape)\n",
    "mmlu_gemini_df.tail(2)"
   ]
  },
  {
   "cell_type": "code",
   "execution_count": 5,
   "id": "8f2cd710-2968-4aa2-a547-8745cf9a3f9b",
   "metadata": {},
   "outputs": [
    {
     "name": "stdout",
     "output_type": "stream",
     "text": [
      "(691, 16)\n"
     ]
    },
    {
     "data": {
      "text/html": [
       "<div>\n",
       "<style scoped>\n",
       "    .dataframe tbody tr th:only-of-type {\n",
       "        vertical-align: middle;\n",
       "    }\n",
       "\n",
       "    .dataframe tbody tr th {\n",
       "        vertical-align: top;\n",
       "    }\n",
       "\n",
       "    .dataframe thead th {\n",
       "        text-align: right;\n",
       "    }\n",
       "</style>\n",
       "<table border=\"1\" class=\"dataframe\">\n",
       "  <thead>\n",
       "    <tr style=\"text-align: right;\">\n",
       "      <th></th>\n",
       "      <th>text_column</th>\n",
       "      <th>new_text_column</th>\n",
       "      <th>gold</th>\n",
       "      <th>rating</th>\n",
       "      <th>category_annotation_1</th>\n",
       "      <th>severity_annotation_1</th>\n",
       "      <th>category_annotation_2</th>\n",
       "      <th>severity_annotation_2</th>\n",
       "      <th>category_annotation_3</th>\n",
       "      <th>severity_annotation_3</th>\n",
       "      <th>category_annotation_4</th>\n",
       "      <th>severity_annotation_4</th>\n",
       "      <th>category_annotation_5</th>\n",
       "      <th>severity_annotation_5</th>\n",
       "      <th>category_annotation_6</th>\n",
       "      <th>severity_annotation_6</th>\n",
       "    </tr>\n",
       "  </thead>\n",
       "  <tbody>\n",
       "    <tr>\n",
       "      <th>688</th>\n",
       "      <td>&lt;question&gt;To which tradition do the anti-Han r...</td>\n",
       "      <td>&lt;question&gt;לאיזו מסורת שייכת קבוצת המורדים נגד ...</td>\n",
       "      <td></td>\n",
       "      <td></td>\n",
       "      <td></td>\n",
       "      <td></td>\n",
       "      <td></td>\n",
       "      <td></td>\n",
       "      <td></td>\n",
       "      <td></td>\n",
       "      <td></td>\n",
       "      <td></td>\n",
       "      <td></td>\n",
       "      <td></td>\n",
       "      <td></td>\n",
       "      <td></td>\n",
       "    </tr>\n",
       "    <tr>\n",
       "      <th>689</th>\n",
       "      <td>&lt;question&gt;What does the term anatman mean?&lt;/qu...</td>\n",
       "      <td>&lt;question&gt;מה פירוש המונח אנטמן?&lt;/question&gt;\\n&lt;c...</td>\n",
       "      <td></td>\n",
       "      <td></td>\n",
       "      <td></td>\n",
       "      <td></td>\n",
       "      <td></td>\n",
       "      <td></td>\n",
       "      <td></td>\n",
       "      <td></td>\n",
       "      <td></td>\n",
       "      <td></td>\n",
       "      <td></td>\n",
       "      <td></td>\n",
       "      <td></td>\n",
       "      <td></td>\n",
       "    </tr>\n",
       "    <tr>\n",
       "      <th>690</th>\n",
       "      <td>&lt;question&gt;Pure Land Buddhism belongs to which ...</td>\n",
       "      <td>&lt;question&gt;לאיזה זרם משתייך בודהיזם של הארץ הטה...</td>\n",
       "      <td></td>\n",
       "      <td></td>\n",
       "      <td></td>\n",
       "      <td></td>\n",
       "      <td></td>\n",
       "      <td></td>\n",
       "      <td></td>\n",
       "      <td></td>\n",
       "      <td></td>\n",
       "      <td></td>\n",
       "      <td></td>\n",
       "      <td></td>\n",
       "      <td></td>\n",
       "      <td></td>\n",
       "    </tr>\n",
       "  </tbody>\n",
       "</table>\n",
       "</div>"
      ],
      "text/plain": [
       "                                           text_column  \\\n",
       "688  <question>To which tradition do the anti-Han r...   \n",
       "689  <question>What does the term anatman mean?</qu...   \n",
       "690  <question>Pure Land Buddhism belongs to which ...   \n",
       "\n",
       "                                       new_text_column gold rating  \\\n",
       "688  <question>לאיזו מסורת שייכת קבוצת המורדים נגד ...               \n",
       "689  <question>מה פירוש המונח אנטמן?</question>\\n<c...               \n",
       "690  <question>לאיזה זרם משתייך בודהיזם של הארץ הטה...               \n",
       "\n",
       "    category_annotation_1 severity_annotation_1 category_annotation_2  \\\n",
       "688                                                                     \n",
       "689                                                                     \n",
       "690                                                                     \n",
       "\n",
       "    severity_annotation_2 category_annotation_3 severity_annotation_3  \\\n",
       "688                                                                     \n",
       "689                                                                     \n",
       "690                                                                     \n",
       "\n",
       "    category_annotation_4 severity_annotation_4 category_annotation_5  \\\n",
       "688                                                                     \n",
       "689                                                                     \n",
       "690                                                                     \n",
       "\n",
       "    severity_annotation_5 category_annotation_6 severity_annotation_6  \n",
       "688                                                                    \n",
       "689                                                                    \n",
       "690                                                                    "
      ]
     },
     "execution_count": 5,
     "metadata": {},
     "output_type": "execute_result"
    }
   ],
   "source": [
    "mmlu_gemini_df = pd.concat([old_israel, mmlu_gemini_df], ignore_index=True)\n",
    "print(mmlu_gemini_df.shape)\n",
    "mmlu_gemini_df = mmlu_gemini_df.fillna('')\n",
    "mmlu_gemini_df.tail(3)"
   ]
  },
  {
   "cell_type": "code",
   "execution_count": 6,
   "id": "5cf12e78-2f3e-4c76-bf63-5bd5381f6d0c",
   "metadata": {},
   "outputs": [
    {
     "data": {
      "text/plain": [
       "True"
      ]
     },
     "execution_count": 6,
     "metadata": {},
     "output_type": "execute_result"
    }
   ],
   "source": [
    "mmlu_gemini_df['text_column'].is_unique"
   ]
  },
  {
   "cell_type": "raw",
   "id": "646d35b3-fd68-4936-bbe4-b00bed972e00",
   "metadata": {},
   "source": [
    "old_test_arc = pd.read_csv('labeled_files/arc_ai_TEST_labeled_gradio.csv')\n",
    "old_test_arc = old_test_arc.fillna('')\n",
    "old_test_arc['rating'] = old_test_arc['rating'].apply(str).replace('1.0', '1').replace('2.0', '2')\n",
    "\n",
    "arc_gemini_df = pd.concat([old_test_arc, arc_gemini_df], ignore_index=True)\n",
    "arc_gemini_df = arc_gemini_df.fillna('')\n",
    "arc_gemini_df.shape"
   ]
  },
  {
   "cell_type": "code",
   "execution_count": 7,
   "id": "beab4014-d74e-44ad-8f7f-62f7303c9815",
   "metadata": {
    "collapsed": true,
    "jupyter": {
     "outputs_hidden": true
    }
   },
   "outputs": [
    {
     "data": {
      "text/html": [
       "<div>\n",
       "<style scoped>\n",
       "    .dataframe tbody tr th:only-of-type {\n",
       "        vertical-align: middle;\n",
       "    }\n",
       "\n",
       "    .dataframe tbody tr th {\n",
       "        vertical-align: top;\n",
       "    }\n",
       "\n",
       "    .dataframe thead th {\n",
       "        text-align: right;\n",
       "    }\n",
       "</style>\n",
       "<table border=\"1\" class=\"dataframe\">\n",
       "  <thead>\n",
       "    <tr style=\"text-align: right;\">\n",
       "      <th></th>\n",
       "      <th>text_column</th>\n",
       "      <th>new_text_column</th>\n",
       "      <th>gold</th>\n",
       "      <th>rating</th>\n",
       "      <th>category_annotation_1</th>\n",
       "      <th>severity_annotation_1</th>\n",
       "      <th>category_annotation_2</th>\n",
       "      <th>severity_annotation_2</th>\n",
       "      <th>category_annotation_3</th>\n",
       "      <th>severity_annotation_3</th>\n",
       "      <th>category_annotation_4</th>\n",
       "      <th>severity_annotation_4</th>\n",
       "      <th>category_annotation_5</th>\n",
       "      <th>severity_annotation_5</th>\n",
       "      <th>category_annotation_6</th>\n",
       "      <th>severity_annotation_6</th>\n",
       "    </tr>\n",
       "  </thead>\n",
       "  <tbody>\n",
       "    <tr>\n",
       "      <th>0</th>\n",
       "      <td>&lt;question&gt;Let p = (1, 2, 5, 4)(2, 3) in S_5 . ...</td>\n",
       "      <td>&lt;question&gt;תהי p = (1, 2, 5, 4)(2, 3) ב-S_5. מצ...</td>\n",
       "      <td>&lt;question&gt;יהי p = (1, 2, 5, 4)(2, 3) ב-S_5. מצ...</td>\n",
       "      <td>1</td>\n",
       "      <td></td>\n",
       "      <td></td>\n",
       "      <td></td>\n",
       "      <td></td>\n",
       "      <td></td>\n",
       "      <td></td>\n",
       "      <td></td>\n",
       "      <td></td>\n",
       "      <td></td>\n",
       "      <td></td>\n",
       "      <td></td>\n",
       "      <td></td>\n",
       "    </tr>\n",
       "    <tr>\n",
       "      <th>1</th>\n",
       "      <td>&lt;question&gt;Find all zeros in the indicated fini...</td>\n",
       "      <td>&lt;question&gt;מצאו את כל האפסים בשדה הסופי המצוין ...</td>\n",
       "      <td></td>\n",
       "      <td></td>\n",
       "      <td></td>\n",
       "      <td></td>\n",
       "      <td></td>\n",
       "      <td></td>\n",
       "      <td></td>\n",
       "      <td></td>\n",
       "      <td></td>\n",
       "      <td></td>\n",
       "      <td></td>\n",
       "      <td></td>\n",
       "      <td></td>\n",
       "      <td></td>\n",
       "    </tr>\n",
       "    <tr>\n",
       "      <th>2</th>\n",
       "      <td>&lt;question&gt;Statement 1 | A factor group of a no...</td>\n",
       "      <td>&lt;question&gt;טענה 1 | חבורת מנה של חבורה לא-אבלית...</td>\n",
       "      <td></td>\n",
       "      <td></td>\n",
       "      <td></td>\n",
       "      <td></td>\n",
       "      <td></td>\n",
       "      <td></td>\n",
       "      <td></td>\n",
       "      <td></td>\n",
       "      <td></td>\n",
       "      <td></td>\n",
       "      <td></td>\n",
       "      <td></td>\n",
       "      <td></td>\n",
       "      <td></td>\n",
       "    </tr>\n",
       "    <tr>\n",
       "      <th>3</th>\n",
       "      <td>&lt;question&gt;Find the product of the given polyno...</td>\n",
       "      <td>&lt;question&gt;מצאו את המכפלה של הפולינומים הנתונים...</td>\n",
       "      <td></td>\n",
       "      <td></td>\n",
       "      <td></td>\n",
       "      <td></td>\n",
       "      <td></td>\n",
       "      <td></td>\n",
       "      <td></td>\n",
       "      <td></td>\n",
       "      <td></td>\n",
       "      <td></td>\n",
       "      <td></td>\n",
       "      <td></td>\n",
       "      <td></td>\n",
       "      <td></td>\n",
       "    </tr>\n",
       "    <tr>\n",
       "      <th>4</th>\n",
       "      <td>&lt;question&gt;Statement 1 | If a group has an elem...</td>\n",
       "      <td>&lt;question&gt;טענה 1 | אם בחבורה יש איבר מסדר 15, ...</td>\n",
       "      <td></td>\n",
       "      <td></td>\n",
       "      <td></td>\n",
       "      <td></td>\n",
       "      <td></td>\n",
       "      <td></td>\n",
       "      <td></td>\n",
       "      <td></td>\n",
       "      <td></td>\n",
       "      <td></td>\n",
       "      <td></td>\n",
       "      <td></td>\n",
       "      <td></td>\n",
       "      <td></td>\n",
       "    </tr>\n",
       "  </tbody>\n",
       "</table>\n",
       "</div>"
      ],
      "text/plain": [
       "                                         text_column  \\\n",
       "0  <question>Let p = (1, 2, 5, 4)(2, 3) in S_5 . ...   \n",
       "1  <question>Find all zeros in the indicated fini...   \n",
       "2  <question>Statement 1 | A factor group of a no...   \n",
       "3  <question>Find the product of the given polyno...   \n",
       "4  <question>Statement 1 | If a group has an elem...   \n",
       "\n",
       "                                     new_text_column  \\\n",
       "0  <question>תהי p = (1, 2, 5, 4)(2, 3) ב-S_5. מצ...   \n",
       "1  <question>מצאו את כל האפסים בשדה הסופי המצוין ...   \n",
       "2  <question>טענה 1 | חבורת מנה של חבורה לא-אבלית...   \n",
       "3  <question>מצאו את המכפלה של הפולינומים הנתונים...   \n",
       "4  <question>טענה 1 | אם בחבורה יש איבר מסדר 15, ...   \n",
       "\n",
       "                                                gold rating  \\\n",
       "0  <question>יהי p = (1, 2, 5, 4)(2, 3) ב-S_5. מצ...      1   \n",
       "1                                                             \n",
       "2                                                             \n",
       "3                                                             \n",
       "4                                                             \n",
       "\n",
       "  category_annotation_1 severity_annotation_1 category_annotation_2  \\\n",
       "0                                                                     \n",
       "1                                                                     \n",
       "2                                                                     \n",
       "3                                                                     \n",
       "4                                                                     \n",
       "\n",
       "  severity_annotation_2 category_annotation_3 severity_annotation_3  \\\n",
       "0                                                                     \n",
       "1                                                                     \n",
       "2                                                                     \n",
       "3                                                                     \n",
       "4                                                                     \n",
       "\n",
       "  category_annotation_4 severity_annotation_4 category_annotation_5  \\\n",
       "0                                                                     \n",
       "1                                                                     \n",
       "2                                                                     \n",
       "3                                                                     \n",
       "4                                                                     \n",
       "\n",
       "  severity_annotation_5 category_annotation_6 severity_annotation_6  \n",
       "0                                                                    \n",
       "1                                                                    \n",
       "2                                                                    \n",
       "3                                                                    \n",
       "4                                                                    "
      ]
     },
     "metadata": {},
     "output_type": "display_data"
    },
    {
     "data": {
      "text/html": [
       "<div>\n",
       "<style scoped>\n",
       "    .dataframe tbody tr th:only-of-type {\n",
       "        vertical-align: middle;\n",
       "    }\n",
       "\n",
       "    .dataframe tbody tr th {\n",
       "        vertical-align: top;\n",
       "    }\n",
       "\n",
       "    .dataframe thead th {\n",
       "        text-align: right;\n",
       "    }\n",
       "</style>\n",
       "<table border=\"1\" class=\"dataframe\">\n",
       "  <thead>\n",
       "    <tr style=\"text-align: right;\">\n",
       "      <th></th>\n",
       "      <th>text_column</th>\n",
       "      <th>new_text_column</th>\n",
       "      <th>gold</th>\n",
       "      <th>rating</th>\n",
       "      <th>category_annotation_1</th>\n",
       "      <th>severity_annotation_1</th>\n",
       "      <th>category_annotation_2</th>\n",
       "      <th>severity_annotation_2</th>\n",
       "      <th>category_annotation_3</th>\n",
       "      <th>severity_annotation_3</th>\n",
       "      <th>category_annotation_4</th>\n",
       "      <th>severity_annotation_4</th>\n",
       "      <th>category_annotation_5</th>\n",
       "      <th>severity_annotation_5</th>\n",
       "      <th>category_annotation_6</th>\n",
       "      <th>severity_annotation_6</th>\n",
       "    </tr>\n",
       "  </thead>\n",
       "  <tbody>\n",
       "    <tr>\n",
       "      <th>686</th>\n",
       "      <td>&lt;question&gt;What does the term \"Qur'an\" literall...</td>\n",
       "      <td>&lt;question&gt;מה פירושו המילולי של המונח 'קוראן'?&lt;...</td>\n",
       "      <td></td>\n",
       "      <td></td>\n",
       "      <td></td>\n",
       "      <td></td>\n",
       "      <td></td>\n",
       "      <td></td>\n",
       "      <td></td>\n",
       "      <td></td>\n",
       "      <td></td>\n",
       "      <td></td>\n",
       "      <td></td>\n",
       "      <td></td>\n",
       "      <td></td>\n",
       "      <td></td>\n",
       "    </tr>\n",
       "    <tr>\n",
       "      <th>687</th>\n",
       "      <td>&lt;question&gt; Which tradition is known to promote...</td>\n",
       "      <td>&lt;question&gt;איזו מסורת ידועה בכך שהיא מקדמת \"האר...</td>\n",
       "      <td></td>\n",
       "      <td></td>\n",
       "      <td></td>\n",
       "      <td></td>\n",
       "      <td></td>\n",
       "      <td></td>\n",
       "      <td></td>\n",
       "      <td></td>\n",
       "      <td></td>\n",
       "      <td></td>\n",
       "      <td></td>\n",
       "      <td></td>\n",
       "      <td></td>\n",
       "      <td></td>\n",
       "    </tr>\n",
       "    <tr>\n",
       "      <th>688</th>\n",
       "      <td>&lt;question&gt;To which tradition do the anti-Han r...</td>\n",
       "      <td>&lt;question&gt;לאיזו מסורת שייכת קבוצת המורדים נגד ...</td>\n",
       "      <td></td>\n",
       "      <td></td>\n",
       "      <td></td>\n",
       "      <td></td>\n",
       "      <td></td>\n",
       "      <td></td>\n",
       "      <td></td>\n",
       "      <td></td>\n",
       "      <td></td>\n",
       "      <td></td>\n",
       "      <td></td>\n",
       "      <td></td>\n",
       "      <td></td>\n",
       "      <td></td>\n",
       "    </tr>\n",
       "    <tr>\n",
       "      <th>689</th>\n",
       "      <td>&lt;question&gt;What does the term anatman mean?&lt;/qu...</td>\n",
       "      <td>&lt;question&gt;מה פירוש המונח אנטמן?&lt;/question&gt;\\n&lt;c...</td>\n",
       "      <td></td>\n",
       "      <td></td>\n",
       "      <td></td>\n",
       "      <td></td>\n",
       "      <td></td>\n",
       "      <td></td>\n",
       "      <td></td>\n",
       "      <td></td>\n",
       "      <td></td>\n",
       "      <td></td>\n",
       "      <td></td>\n",
       "      <td></td>\n",
       "      <td></td>\n",
       "      <td></td>\n",
       "    </tr>\n",
       "    <tr>\n",
       "      <th>690</th>\n",
       "      <td>&lt;question&gt;Pure Land Buddhism belongs to which ...</td>\n",
       "      <td>&lt;question&gt;לאיזה זרם משתייך בודהיזם של הארץ הטה...</td>\n",
       "      <td></td>\n",
       "      <td></td>\n",
       "      <td></td>\n",
       "      <td></td>\n",
       "      <td></td>\n",
       "      <td></td>\n",
       "      <td></td>\n",
       "      <td></td>\n",
       "      <td></td>\n",
       "      <td></td>\n",
       "      <td></td>\n",
       "      <td></td>\n",
       "      <td></td>\n",
       "      <td></td>\n",
       "    </tr>\n",
       "  </tbody>\n",
       "</table>\n",
       "</div>"
      ],
      "text/plain": [
       "                                           text_column  \\\n",
       "686  <question>What does the term \"Qur'an\" literall...   \n",
       "687  <question> Which tradition is known to promote...   \n",
       "688  <question>To which tradition do the anti-Han r...   \n",
       "689  <question>What does the term anatman mean?</qu...   \n",
       "690  <question>Pure Land Buddhism belongs to which ...   \n",
       "\n",
       "                                       new_text_column gold rating  \\\n",
       "686  <question>מה פירושו המילולי של המונח 'קוראן'?<...               \n",
       "687  <question>איזו מסורת ידועה בכך שהיא מקדמת \"האר...               \n",
       "688  <question>לאיזו מסורת שייכת קבוצת המורדים נגד ...               \n",
       "689  <question>מה פירוש המונח אנטמן?</question>\\n<c...               \n",
       "690  <question>לאיזה זרם משתייך בודהיזם של הארץ הטה...               \n",
       "\n",
       "    category_annotation_1 severity_annotation_1 category_annotation_2  \\\n",
       "686                                                                     \n",
       "687                                                                     \n",
       "688                                                                     \n",
       "689                                                                     \n",
       "690                                                                     \n",
       "\n",
       "    severity_annotation_2 category_annotation_3 severity_annotation_3  \\\n",
       "686                                                                     \n",
       "687                                                                     \n",
       "688                                                                     \n",
       "689                                                                     \n",
       "690                                                                     \n",
       "\n",
       "    category_annotation_4 severity_annotation_4 category_annotation_5  \\\n",
       "686                                                                     \n",
       "687                                                                     \n",
       "688                                                                     \n",
       "689                                                                     \n",
       "690                                                                     \n",
       "\n",
       "    severity_annotation_5 category_annotation_6 severity_annotation_6  \n",
       "686                                                                    \n",
       "687                                                                    \n",
       "688                                                                    \n",
       "689                                                                    \n",
       "690                                                                    "
      ]
     },
     "metadata": {},
     "output_type": "display_data"
    }
   ],
   "source": [
    "display(mmlu_gemini_df.head())\n",
    "display(mmlu_gemini_df.tail())"
   ]
  },
  {
   "cell_type": "code",
   "execution_count": 8,
   "id": "81307a44-e8c4-4d39-ac02-d3b9f4876717",
   "metadata": {},
   "outputs": [
    {
     "data": {
      "text/plain": [
       "154"
      ]
     },
     "execution_count": 8,
     "metadata": {},
     "output_type": "execute_result"
    }
   ],
   "source": [
    "(mmlu_gemini_df['gold'] != '').sum()"
   ]
  },
  {
   "cell_type": "code",
   "execution_count": 9,
   "id": "730216ee-0459-4b67-8bfc-060c5d09b2bf",
   "metadata": {},
   "outputs": [],
   "source": [
    "mmlu_gemini_df.to_csv('labeled_files/mmlu_main_sub_TEST_labeled_gradio.csv', index=False)"
   ]
  },
  {
   "cell_type": "markdown",
   "id": "833419a2-eeec-4ac6-9490-e77b52c922b7",
   "metadata": {},
   "source": [
    "___"
   ]
  },
  {
   "cell_type": "raw",
   "id": "c949d3ff-4475-4ff6-94c4-59c4043a141f",
   "metadata": {},
   "source": [
    "mmlu_gemini_df = pd.read_csv('labeled_files/mmlu_main_sub_TEST_labeled_gradio.csv')\n",
    "mmlu_gemini_df = mmlu_gemini_df.fillna('')\n",
    "mmlu_gemini_df['rating'] = mmlu_gemini_df['rating'].apply(str).replace('1.0', '1').replace('2.0', '2')\n",
    "mmlu_gemini_df.shape"
   ]
  },
  {
   "cell_type": "raw",
   "id": "dfde9c15-e10c-4f3d-9ce5-e2b70da41352",
   "metadata": {},
   "source": [
    "mmlu_gemini_df.head(2)"
   ]
  },
  {
   "cell_type": "raw",
   "id": "032fe92c-3344-460c-9d7c-6e62f0f4c6a3",
   "metadata": {},
   "source": [
    "manual = pd.read_excel('labeled_files/manual/mmlu_main_sub_TEST_labeled_gradio.xlsx')\n",
    "manual = manual.fillna('')\n",
    "manual['rating'] = manual['rating'].apply(str).replace('1.0', '1').replace('2.0', '2')\n",
    "manual = manual[manual.groupby('text_column').cumcount() == 0].reset_index(drop=True)\n",
    "manual.shape"
   ]
  },
  {
   "cell_type": "raw",
   "id": "b01536ab-2640-4563-99a2-4079ff1203f1",
   "metadata": {},
   "source": [
    "(manual['text_column'] == mmlu_gemini_df['text_column']).all()"
   ]
  },
  {
   "cell_type": "raw",
   "id": "2e314e89-6f10-4039-9d25-f0cef2c5bb1e",
   "metadata": {},
   "source": [
    "mmlu_gemini_df['rating'] = manual['rating']\n",
    "mmlu_gemini_df['gold'] = manual['gold']"
   ]
  },
  {
   "cell_type": "raw",
   "id": "93e981cb-ac6e-4a4f-a5f1-1ae6b7bbeb4e",
   "metadata": {},
   "source": [
    "mmlu_gemini_df.to_csv('labeled_files/mmlu_main_sub_TEST_labeled_gradio.csv', index=False)"
   ]
  },
  {
   "cell_type": "markdown",
   "id": "83d9c4e0-6b95-436e-94cc-807c87a91035",
   "metadata": {},
   "source": [
    "____"
   ]
  },
  {
   "cell_type": "code",
   "execution_count": 21,
   "id": "6b7fdb07-bc88-4b00-b359-85bd51d15f1f",
   "metadata": {},
   "outputs": [
    {
     "name": "stdout",
     "output_type": "stream",
     "text": [
      "(81, 4)\n"
     ]
    },
    {
     "data": {
      "text/html": [
       "<div>\n",
       "<style scoped>\n",
       "    .dataframe tbody tr th:only-of-type {\n",
       "        vertical-align: middle;\n",
       "    }\n",
       "\n",
       "    .dataframe tbody tr th {\n",
       "        vertical-align: top;\n",
       "    }\n",
       "\n",
       "    .dataframe thead th {\n",
       "        text-align: right;\n",
       "    }\n",
       "</style>\n",
       "<table border=\"1\" class=\"dataframe\">\n",
       "  <thead>\n",
       "    <tr style=\"text-align: right;\">\n",
       "      <th></th>\n",
       "      <th>original</th>\n",
       "      <th>gemini</th>\n",
       "      <th>answer_label</th>\n",
       "      <th>subject</th>\n",
       "    </tr>\n",
       "  </thead>\n",
       "  <tbody>\n",
       "    <tr>\n",
       "      <th>0</th>\n",
       "      <td>&lt;question&gt;Which of the following statements do...</td>\n",
       "      <td>&lt;question&gt;איזו מהטענות הבאות אינה מתארת נכונה ...</td>\n",
       "      <td>ב</td>\n",
       "      <td>high_school_government_and_politics</td>\n",
       "    </tr>\n",
       "    <tr>\n",
       "      <th>1</th>\n",
       "      <td>&lt;question&gt;What power was granted to the states...</td>\n",
       "      <td>&lt;question&gt;איזו מהסמכויות הבאות, שהוחזקה על ידי...</td>\n",
       "      <td>א</td>\n",
       "      <td>high_school_government_and_politics</td>\n",
       "    </tr>\n",
       "    <tr>\n",
       "      <th>2</th>\n",
       "      <td>&lt;question&gt;Federal judges are subject to which ...</td>\n",
       "      <td>&lt;question&gt;שופטים בישראל כפופים לאיזה מבין הליכ...</td>\n",
       "      <td>א</td>\n",
       "      <td>high_school_government_and_politics</td>\n",
       "    </tr>\n",
       "    <tr>\n",
       "      <th>3</th>\n",
       "      <td>&lt;question&gt;Which of the following defines the s...</td>\n",
       "      <td>&lt;question&gt;איזה מהבאים מגדיר את הבולטות של סוגי...</td>\n",
       "      <td>ד</td>\n",
       "      <td>high_school_government_and_politics</td>\n",
       "    </tr>\n",
       "    <tr>\n",
       "      <th>4</th>\n",
       "      <td>&lt;question&gt;Which principle was established by t...</td>\n",
       "      <td>&lt;question&gt;איזה עיקרון מרכזי ביסס בית המשפט העל...</td>\n",
       "      <td>ג</td>\n",
       "      <td>high_school_government_and_politics</td>\n",
       "    </tr>\n",
       "  </tbody>\n",
       "</table>\n",
       "</div>"
      ],
      "text/plain": [
       "                                            original  \\\n",
       "0  <question>Which of the following statements do...   \n",
       "1  <question>What power was granted to the states...   \n",
       "2  <question>Federal judges are subject to which ...   \n",
       "3  <question>Which of the following defines the s...   \n",
       "4  <question>Which principle was established by t...   \n",
       "\n",
       "                                              gemini answer_label  \\\n",
       "0  <question>איזו מהטענות הבאות אינה מתארת נכונה ...            ב   \n",
       "1  <question>איזו מהסמכויות הבאות, שהוחזקה על ידי...            א   \n",
       "2  <question>שופטים בישראל כפופים לאיזה מבין הליכ...            א   \n",
       "3  <question>איזה מהבאים מגדיר את הבולטות של סוגי...            ד   \n",
       "4  <question>איזה עיקרון מרכזי ביסס בית המשפט העל...            ג   \n",
       "\n",
       "                               subject  \n",
       "0  high_school_government_and_politics  \n",
       "1  high_school_government_and_politics  \n",
       "2  high_school_government_and_politics  \n",
       "3  high_school_government_and_politics  \n",
       "4  high_school_government_and_politics  "
      ]
     },
     "execution_count": 21,
     "metadata": {},
     "output_type": "execute_result"
    }
   ],
   "source": [
    "new_df = pd.read_csv('compare_csv/mmlu/mmlu_test_prob_sub.csv')\n",
    "new_df = new_df.fillna('')\n",
    "\n",
    "new_df = new_df.iloc[1::2].reset_index(drop=True)\n",
    "\n",
    "print(new_df.shape)\n",
    "new_df.head()"
   ]
  },
  {
   "cell_type": "code",
   "execution_count": 22,
   "id": "a944f529-ee87-416b-9034-dbfe1a9edd69",
   "metadata": {},
   "outputs": [
    {
     "data": {
      "text/plain": [
       "True"
      ]
     },
     "execution_count": 22,
     "metadata": {},
     "output_type": "execute_result"
    }
   ],
   "source": [
    "new_df['original'].is_unique"
   ]
  },
  {
   "cell_type": "code",
   "execution_count": 23,
   "id": "9d9a988f-e96b-4e08-8108-ea37d3b0b194",
   "metadata": {},
   "outputs": [
    {
     "name": "stdout",
     "output_type": "stream",
     "text": [
      "(81, 4)\n"
     ]
    },
    {
     "data": {
      "text/html": [
       "<div>\n",
       "<style scoped>\n",
       "    .dataframe tbody tr th:only-of-type {\n",
       "        vertical-align: middle;\n",
       "    }\n",
       "\n",
       "    .dataframe tbody tr th {\n",
       "        vertical-align: top;\n",
       "    }\n",
       "\n",
       "    .dataframe thead th {\n",
       "        text-align: right;\n",
       "    }\n",
       "</style>\n",
       "<table border=\"1\" class=\"dataframe\">\n",
       "  <thead>\n",
       "    <tr style=\"text-align: right;\">\n",
       "      <th></th>\n",
       "      <th>text_column</th>\n",
       "      <th>new_text_column</th>\n",
       "      <th>gold</th>\n",
       "      <th>rating</th>\n",
       "    </tr>\n",
       "  </thead>\n",
       "  <tbody>\n",
       "    <tr>\n",
       "      <th>79</th>\n",
       "      <td>&lt;question&gt;What tend to be the effects of oil a...</td>\n",
       "      <td>&lt;question&gt;מהן ההשפעות של סחר בנפט ובמשאבי טבע ...</td>\n",
       "      <td></td>\n",
       "      <td></td>\n",
       "    </tr>\n",
       "    <tr>\n",
       "      <th>80</th>\n",
       "      <td>&lt;question&gt;What led Britain to impose new taxes...</td>\n",
       "      <td>&lt;question&gt;מה הייתה סיבה מרכזית להטלת מיסים על ...</td>\n",
       "      <td></td>\n",
       "      <td></td>\n",
       "    </tr>\n",
       "  </tbody>\n",
       "</table>\n",
       "</div>"
      ],
      "text/plain": [
       "                                          text_column  \\\n",
       "79  <question>What tend to be the effects of oil a...   \n",
       "80  <question>What led Britain to impose new taxes...   \n",
       "\n",
       "                                      new_text_column gold rating  \n",
       "79  <question>מהן ההשפעות של סחר בנפט ובמשאבי טבע ...              \n",
       "80  <question>מה הייתה סיבה מרכזית להטלת מיסים על ...              "
      ]
     },
     "execution_count": 23,
     "metadata": {},
     "output_type": "execute_result"
    }
   ],
   "source": [
    "mmlu_gemini_df = pd.DataFrame()\n",
    "mmlu_gemini_df['text_column'] = new_df['original']\n",
    "mmlu_gemini_df['new_text_column'] = new_df['gemini']\n",
    "mmlu_gemini_df['gold'] = ''\n",
    "mmlu_gemini_df['rating'] = ''\n",
    "print(mmlu_gemini_df.shape)\n",
    "mmlu_gemini_df.tail(2)"
   ]
  },
  {
   "cell_type": "code",
   "execution_count": null,
   "id": "b869521d-40c8-4bd8-8ccb-4b92008caa64",
   "metadata": {},
   "outputs": [],
   "source": [
    "display(mmlu_gemini_df.head())\n",
    "display(mmlu_gemini_df.tail())"
   ]
  },
  {
   "cell_type": "code",
   "execution_count": 24,
   "id": "c515f23a-147d-4421-bd60-eab239cc088b",
   "metadata": {},
   "outputs": [],
   "source": [
    "mmlu_gemini_df.to_csv('labeled_files/mmlu_prob_TEST_2_gradio.csv', index=False)"
   ]
  },
  {
   "cell_type": "markdown",
   "id": "2c6fe530-0d40-4721-b6d2-6b553b9b9960",
   "metadata": {},
   "source": [
    "# Create UI"
   ]
  },
  {
   "cell_type": "markdown",
   "id": "9b8aa57e-de68-4921-9a05-ade1b974c3e1",
   "metadata": {
    "jp-MarkdownHeadingCollapsed": true
   },
   "source": [
    "## Create new file"
   ]
  },
  {
   "cell_type": "raw",
   "id": "ea66cc95-7c06-4b33-bc27-c8b3e33baec2",
   "metadata": {},
   "source": [
    "def enter_to_text(x):\n",
    "    return f\"\"\"Option 1:\n",
    "{x['option 1']}\n",
    "\n",
    "Option 2:\n",
    "{x['option 2']}\"\"\""
   ]
  },
  {
   "cell_type": "raw",
   "id": "76bab488-897a-45b9-a68d-6ec25d0fa9ea",
   "metadata": {
    "scrolled": true
   },
   "source": [
    "labeled_df = pd.DataFrame()\n",
    "labeled_df['text_column'] = new_df['original']\n",
    "labeled_df['new_text_column'] = new_df.apply(enter_to_text, axis=1)\n",
    "labeled_df['gold'] = ''\n",
    "labeled_df['rating'] = ''\n",
    "\n",
    "# maybe add?\n",
    "labeled_df['model 1'] = new_df['model 1']\n",
    "labeled_df['model 2'] = new_df['model 2']\n",
    "print(labeled_df.shape)\n",
    "labeled_df.head(2)"
   ]
  },
  {
   "attachments": {},
   "cell_type": "raw",
   "id": "fefe788b-3605-49d7-b471-ff0b688ae24e",
   "metadata": {},
   "source": [
    "# Check matching and add already lebeled gold and rating\n",
    "print(labeled_df.index, old_label_df.index)\n",
    "\n",
    "for i in range(old_label_df.shape[0]):\n",
    "    if not old_label_df['option 1'].iloc[i] in labeled_df['new_text_column'].iloc[i]:\n",
    "        print(i)\n",
    "        break\n",
    "else:\n",
    "    print('hey!')"
   ]
  },
  {
   "cell_type": "raw",
   "id": "6215fe17-6520-46b7-8999-e652b9110dae",
   "metadata": {},
   "source": [
    "# Add the already-labeled gold and rating for the top arc samples\n",
    "labeled_df.loc[:, ['gold', 'rating']] = old_label_df[['gold', 'rating']]\n",
    "display(labeled_df.head(2))"
   ]
  },
  {
   "cell_type": "raw",
   "id": "5c5c3391-8630-43da-981e-9efef354137d",
   "metadata": {},
   "source": [
    "# Concat with train-labeled mmlu\n",
    "labeled_df = pd.concat([labeled_df, mmlu_train], ignore_index=True)\n",
    "print(labeled_df.shape)\n",
    "labeled_df.tail(2)"
   ]
  },
  {
   "cell_type": "raw",
   "id": "3ec8397b-f856-4f94-8300-862085c7f2af",
   "metadata": {},
   "source": [
    "labeled_df.to_csv(save_to, index=False)"
   ]
  },
  {
   "cell_type": "markdown",
   "id": "b9c21650-1bda-4af7-ba73-de875a2f9716",
   "metadata": {
    "jp-MarkdownHeadingCollapsed": true
   },
   "source": [
    "## Create overlap file"
   ]
  },
  {
   "cell_type": "code",
   "execution_count": null,
   "id": "d3e39749-12cf-481f-9719-ab9528ea2b36",
   "metadata": {},
   "outputs": [],
   "source": [
    "gsm_save_to = 'labeled_files/gsm8k_labeled_gradio.csv'\n",
    "arc_save_to = 'labeled_files/arc_ai_labeled_gradio.csv'\n",
    "mmlu_save_to = 'labeled_files/mmlu_test_labeled_gradio.csv'\n",
    "\n",
    "# overlap_save_to = 'labeled_files/overlap_gradio.csv'\n",
    "\n",
    "def read_and_fill(file_path):\n",
    "    df = pd.read_csv(file_path)\n",
    "    return df.fillna('')\n",
    "    \n",
    "gsm_labeled_df = read_and_fill(gsm_save_to)\n",
    "arc_labeled_df = read_and_fill(arc_save_to)\n",
    "mmlu_labeled_df = read_and_fill(mmlu_save_to)"
   ]
  },
  {
   "cell_type": "raw",
   "id": "6fdbb4ca-274c-4e42-ba25-e2bfe8b0b685",
   "metadata": {
    "scrolled": true
   },
   "source": [
    "concat_columns = arc_labeled_df.columns\n",
    "\n",
    "concat_lst = [\n",
    "    arc_labeled_df.iloc[10:40][concat_columns],\n",
    "    gsm_labeled_df.iloc[10:40][concat_columns],\n",
    "    mmlu_labeled_df.iloc[10:40][concat_columns],\n",
    "]\n",
    "\n",
    "for df in concat_lst:\n",
    "    df['overlap_indx'] = range(10, 40)\n",
    "\n",
    "second_labeler_overlap = pd.concat(concat_lst, ignore_index=True)\n",
    "# second_labeler_overlap['gold'] = ''\n",
    "# second_labeler_overlap['rating'] = ''\n",
    "\n",
    "second_labeler_overlap.iloc[28:32]"
   ]
  },
  {
   "cell_type": "raw",
   "id": "a73148b6-8cb8-47cd-87b2-3f469388bf1f",
   "metadata": {},
   "source": [
    "second_labeler_overlap.to_csv('labeled_files/overlap_israel.csv', index=False)"
   ]
  },
  {
   "cell_type": "raw",
   "id": "cb9065e2-8f6c-46f1-af0d-d6798409f2f0",
   "metadata": {},
   "source": [
    "concat_columns = ['text_column', 'new_text_column']\n",
    "\n",
    "concat_lst = [\n",
    "    arc_labeled_df.iloc[10:40][concat_columns],\n",
    "    gsm_labeled_df.iloc[10:40][concat_columns],\n",
    "    mmlu_labeled_df.iloc[10:40][concat_columns],\n",
    "]\n",
    "\n",
    "for df in concat_lst:\n",
    "    df['overlap_indx'] = range(10, 40)\n",
    "\n",
    "second_labeler_overlap = pd.concat(concat_lst, ignore_index=True)\n",
    "second_labeler_overlap['gold'] = ''\n",
    "second_labeler_overlap['rating'] = ''\n",
    "\n",
    "second_labeler_overlap.iloc[28:32]"
   ]
  },
  {
   "cell_type": "raw",
   "id": "60b76977-3edf-4f3d-81fd-56c88ba19c3a",
   "metadata": {},
   "source": [
    "second_labeler_overlap.to_csv(overlap_save_to, index=False)"
   ]
  },
  {
   "cell_type": "markdown",
   "id": "91cb42c7-9017-4a28-9c25-2a5556b8f86d",
   "metadata": {},
   "source": [
    "## Run existing file"
   ]
  },
  {
   "cell_type": "code",
   "execution_count": 2,
   "id": "2f642ae3-40a4-4ce5-8e2d-9b7e3b494572",
   "metadata": {},
   "outputs": [],
   "source": [
    "mmlu_save_to = 'labeled_files/mmlu_prob_TEST_gradio.csv'\n",
    "# mmlu_save_to = 'labeled_files/check_this.csv'"
   ]
  },
  {
   "cell_type": "code",
   "execution_count": 3,
   "id": "db3d2cec-f01e-4308-8cc6-b91abe5fd341",
   "metadata": {
    "scrolled": true
   },
   "outputs": [],
   "source": [
    "mmlu_labeled_df = pd.read_csv(mmlu_save_to)\n",
    "mmlu_labeled_df = mmlu_labeled_df.fillna('')\n",
    "mmlu_labeled_df['rating'] = mmlu_labeled_df['rating'].apply(str).replace('1.0', '1').replace('2.0', '2')"
   ]
  },
  {
   "cell_type": "code",
   "execution_count": 4,
   "id": "d2c2b08d-c390-4bf0-9c12-6a27f5d6227d",
   "metadata": {
    "collapsed": true,
    "jupyter": {
     "outputs_hidden": true
    }
   },
   "outputs": [
    {
     "data": {
      "text/html": [
       "<div>\n",
       "<style scoped>\n",
       "    .dataframe tbody tr th:only-of-type {\n",
       "        vertical-align: middle;\n",
       "    }\n",
       "\n",
       "    .dataframe tbody tr th {\n",
       "        vertical-align: top;\n",
       "    }\n",
       "\n",
       "    .dataframe thead th {\n",
       "        text-align: right;\n",
       "    }\n",
       "</style>\n",
       "<table border=\"1\" class=\"dataframe\">\n",
       "  <thead>\n",
       "    <tr style=\"text-align: right;\">\n",
       "      <th></th>\n",
       "      <th>text_column</th>\n",
       "      <th>new_text_column</th>\n",
       "      <th>gold</th>\n",
       "      <th>rating</th>\n",
       "    </tr>\n",
       "  </thead>\n",
       "  <tbody>\n",
       "    <tr>\n",
       "      <th>0</th>\n",
       "      <td>&lt;question&gt;Which of the following best describe...</td>\n",
       "      <td>&lt;question&gt;איזו מהאפשרויות הבאות מתארת בצורה הט...</td>\n",
       "      <td></td>\n",
       "      <td></td>\n",
       "    </tr>\n",
       "    <tr>\n",
       "      <th>1</th>\n",
       "      <td>&lt;question&gt;Which of the following plays the mos...</td>\n",
       "      <td>&lt;question&gt;לאיזה מהבאים יש את התפקיד המשמעותי ב...</td>\n",
       "      <td></td>\n",
       "      <td></td>\n",
       "    </tr>\n",
       "  </tbody>\n",
       "</table>\n",
       "</div>"
      ],
      "text/plain": [
       "                                         text_column  \\\n",
       "0  <question>Which of the following best describe...   \n",
       "1  <question>Which of the following plays the mos...   \n",
       "\n",
       "                                     new_text_column gold rating  \n",
       "0  <question>איזו מהאפשרויות הבאות מתארת בצורה הט...              \n",
       "1  <question>לאיזה מהבאים יש את התפקיד המשמעותי ב...              "
      ]
     },
     "metadata": {},
     "output_type": "display_data"
    },
    {
     "data": {
      "text/html": [
       "<div>\n",
       "<style scoped>\n",
       "    .dataframe tbody tr th:only-of-type {\n",
       "        vertical-align: middle;\n",
       "    }\n",
       "\n",
       "    .dataframe tbody tr th {\n",
       "        vertical-align: top;\n",
       "    }\n",
       "\n",
       "    .dataframe thead th {\n",
       "        text-align: right;\n",
       "    }\n",
       "</style>\n",
       "<table border=\"1\" class=\"dataframe\">\n",
       "  <thead>\n",
       "    <tr style=\"text-align: right;\">\n",
       "      <th></th>\n",
       "      <th>text_column</th>\n",
       "      <th>new_text_column</th>\n",
       "      <th>gold</th>\n",
       "      <th>rating</th>\n",
       "    </tr>\n",
       "  </thead>\n",
       "  <tbody>\n",
       "    <tr>\n",
       "      <th>79</th>\n",
       "      <td>&lt;question&gt;What was the significance of the Tru...</td>\n",
       "      <td>&lt;question&gt;מה הייתה משמעותה של דוקטרינת טרומן?&lt;...</td>\n",
       "      <td></td>\n",
       "      <td></td>\n",
       "    </tr>\n",
       "    <tr>\n",
       "      <th>80</th>\n",
       "      <td>&lt;question&gt;The dominant course for foreign poli...</td>\n",
       "      <td>&lt;question&gt;התפיסה האסטרטגית, שהייתה בעלת השפעה ...</td>\n",
       "      <td></td>\n",
       "      <td></td>\n",
       "    </tr>\n",
       "  </tbody>\n",
       "</table>\n",
       "</div>"
      ],
      "text/plain": [
       "                                          text_column  \\\n",
       "79  <question>What was the significance of the Tru...   \n",
       "80  <question>The dominant course for foreign poli...   \n",
       "\n",
       "                                      new_text_column gold rating  \n",
       "79  <question>מה הייתה משמעותה של דוקטרינת טרומן?<...              \n",
       "80  <question>התפיסה האסטרטגית, שהייתה בעלת השפעה ...              "
      ]
     },
     "metadata": {},
     "output_type": "display_data"
    }
   ],
   "source": [
    "display(mmlu_labeled_df.head(2))\n",
    "display(mmlu_labeled_df.tail(2))"
   ]
  },
  {
   "cell_type": "code",
   "execution_count": 5,
   "id": "4d9050e5-d67b-47f3-954e-1fdabca217cc",
   "metadata": {},
   "outputs": [
    {
     "data": {
      "text/plain": [
       "dtype('O')"
      ]
     },
     "execution_count": 5,
     "metadata": {},
     "output_type": "execute_result"
    }
   ],
   "source": [
    "mmlu_labeled_df['rating'].dtype"
   ]
  },
  {
   "cell_type": "code",
   "execution_count": 6,
   "id": "cf284956-57ee-4ac7-93cd-c5f18ff5899b",
   "metadata": {},
   "outputs": [
    {
     "name": "stdout",
     "output_type": "stream",
     "text": [
      "* Running on local URL:  http://127.0.0.1:7860\n",
      "* Running on public URL: https://7fe89088a19a16505b.gradio.live\n",
      "\n",
      "This share link expires in 1 week. For free permanent hosting and GPU upgrades, run `gradio deploy` from the terminal in the working directory to deploy to Hugging Face Spaces (https://huggingface.co/spaces)\n",
      "* Running on local URL:  http://127.0.0.1:7861\n",
      "* Running on public URL: https://56144b1e136b8bd7be.gradio.live\n",
      "\n",
      "This share link expires in 1 week. For free permanent hosting and GPU upgrades, run `gradio deploy` from the terminal in the working directory to deploy to Hugging Face Spaces (https://huggingface.co/spaces)\n"
     ]
    }
   ],
   "source": [
    "# This is the MMLU server\n",
    "mmlu_server = gradio_utils.run_annotator(mmlu_labeled_df, mmlu_save_to, ' MMLU only')\n",
    "wiki_server = wikidata_gradio()"
   ]
  },
  {
   "cell_type": "code",
   "execution_count": null,
   "id": "53a7036b-1c25-41a7-b798-2f61ad8242b6",
   "metadata": {},
   "outputs": [],
   "source": [
    "mmlu_server.close()"
   ]
  },
  {
   "cell_type": "code",
   "execution_count": null,
   "id": "51cade17-d87c-4c0b-a047-eb66d4eb1249",
   "metadata": {},
   "outputs": [],
   "source": [
    "wiki_server.close()"
   ]
  },
  {
   "cell_type": "markdown",
   "id": "b54706ff-719f-48dd-ba23-7929032fdcce",
   "metadata": {},
   "source": [
    "___"
   ]
  },
  {
   "cell_type": "code",
   "execution_count": 7,
   "id": "362e5cfb-2fc7-49e8-ae8e-ba3fe08d64d4",
   "metadata": {},
   "outputs": [],
   "source": [
    "second_mmlu_save_to = 'labeled_files/mmlu_prob_TEST_2_gradio.csv'"
   ]
  },
  {
   "cell_type": "code",
   "execution_count": 8,
   "id": "8b3b33dd-87bc-485e-a2e5-1264052aed77",
   "metadata": {
    "scrolled": true
   },
   "outputs": [],
   "source": [
    "second_mmlu_labeled_df = pd.read_csv(second_mmlu_save_to)\n",
    "second_mmlu_labeled_df = second_mmlu_labeled_df.fillna('')\n",
    "second_mmlu_labeled_df['rating'] = second_mmlu_labeled_df['rating'].apply(str).replace('1.0', '1').replace('2.0', '2')"
   ]
  },
  {
   "cell_type": "code",
   "execution_count": 9,
   "id": "316ac0a2-4ed7-4512-b921-4bb37d0033f0",
   "metadata": {
    "collapsed": true,
    "jupyter": {
     "outputs_hidden": true
    }
   },
   "outputs": [
    {
     "data": {
      "text/html": [
       "<div>\n",
       "<style scoped>\n",
       "    .dataframe tbody tr th:only-of-type {\n",
       "        vertical-align: middle;\n",
       "    }\n",
       "\n",
       "    .dataframe tbody tr th {\n",
       "        vertical-align: top;\n",
       "    }\n",
       "\n",
       "    .dataframe thead th {\n",
       "        text-align: right;\n",
       "    }\n",
       "</style>\n",
       "<table border=\"1\" class=\"dataframe\">\n",
       "  <thead>\n",
       "    <tr style=\"text-align: right;\">\n",
       "      <th></th>\n",
       "      <th>text_column</th>\n",
       "      <th>new_text_column</th>\n",
       "      <th>gold</th>\n",
       "      <th>rating</th>\n",
       "    </tr>\n",
       "  </thead>\n",
       "  <tbody>\n",
       "    <tr>\n",
       "      <th>0</th>\n",
       "      <td>&lt;question&gt;Which of the following statements do...</td>\n",
       "      <td>&lt;question&gt;איזו מהטענות הבאות אינה מתארת נכונה ...</td>\n",
       "      <td></td>\n",
       "      <td></td>\n",
       "    </tr>\n",
       "    <tr>\n",
       "      <th>1</th>\n",
       "      <td>&lt;question&gt;What power was granted to the states...</td>\n",
       "      <td>&lt;question&gt;איזו מהסמכויות הבאות, שהוחזקה על ידי...</td>\n",
       "      <td></td>\n",
       "      <td></td>\n",
       "    </tr>\n",
       "  </tbody>\n",
       "</table>\n",
       "</div>"
      ],
      "text/plain": [
       "                                         text_column  \\\n",
       "0  <question>Which of the following statements do...   \n",
       "1  <question>What power was granted to the states...   \n",
       "\n",
       "                                     new_text_column gold rating  \n",
       "0  <question>איזו מהטענות הבאות אינה מתארת נכונה ...              \n",
       "1  <question>איזו מהסמכויות הבאות, שהוחזקה על ידי...              "
      ]
     },
     "metadata": {},
     "output_type": "display_data"
    },
    {
     "data": {
      "text/html": [
       "<div>\n",
       "<style scoped>\n",
       "    .dataframe tbody tr th:only-of-type {\n",
       "        vertical-align: middle;\n",
       "    }\n",
       "\n",
       "    .dataframe tbody tr th {\n",
       "        vertical-align: top;\n",
       "    }\n",
       "\n",
       "    .dataframe thead th {\n",
       "        text-align: right;\n",
       "    }\n",
       "</style>\n",
       "<table border=\"1\" class=\"dataframe\">\n",
       "  <thead>\n",
       "    <tr style=\"text-align: right;\">\n",
       "      <th></th>\n",
       "      <th>text_column</th>\n",
       "      <th>new_text_column</th>\n",
       "      <th>gold</th>\n",
       "      <th>rating</th>\n",
       "    </tr>\n",
       "  </thead>\n",
       "  <tbody>\n",
       "    <tr>\n",
       "      <th>79</th>\n",
       "      <td>&lt;question&gt;What tend to be the effects of oil a...</td>\n",
       "      <td>&lt;question&gt;מהן ההשפעות של סחר בנפט ובמשאבי טבע ...</td>\n",
       "      <td></td>\n",
       "      <td></td>\n",
       "    </tr>\n",
       "    <tr>\n",
       "      <th>80</th>\n",
       "      <td>&lt;question&gt;What led Britain to impose new taxes...</td>\n",
       "      <td>&lt;question&gt;מה הייתה סיבה מרכזית להטלת מיסים על ...</td>\n",
       "      <td></td>\n",
       "      <td></td>\n",
       "    </tr>\n",
       "  </tbody>\n",
       "</table>\n",
       "</div>"
      ],
      "text/plain": [
       "                                          text_column  \\\n",
       "79  <question>What tend to be the effects of oil a...   \n",
       "80  <question>What led Britain to impose new taxes...   \n",
       "\n",
       "                                      new_text_column gold rating  \n",
       "79  <question>מהן ההשפעות של סחר בנפט ובמשאבי טבע ...              \n",
       "80  <question>מה הייתה סיבה מרכזית להטלת מיסים על ...              "
      ]
     },
     "metadata": {},
     "output_type": "display_data"
    }
   ],
   "source": [
    "display(second_mmlu_labeled_df.head(2))\n",
    "display(second_mmlu_labeled_df.tail(2))"
   ]
  },
  {
   "cell_type": "code",
   "execution_count": 10,
   "id": "d5e95117-68c0-4894-94eb-577ef6529975",
   "metadata": {},
   "outputs": [
    {
     "data": {
      "text/plain": [
       "(dtype('O'), (81, 4))"
      ]
     },
     "execution_count": 10,
     "metadata": {},
     "output_type": "execute_result"
    }
   ],
   "source": [
    "second_mmlu_labeled_df['rating'].dtype, second_mmlu_labeled_df.shape"
   ]
  },
  {
   "cell_type": "code",
   "execution_count": 11,
   "id": "02af16ed-5e16-4986-b127-b9ed7dff87b0",
   "metadata": {},
   "outputs": [
    {
     "name": "stdout",
     "output_type": "stream",
     "text": [
      "* Running on local URL:  http://127.0.0.1:7862\n",
      "* Running on public URL: https://b986adb769f1c42ee4.gradio.live\n",
      "\n",
      "This share link expires in 1 week. For free permanent hosting and GPU upgrades, run `gradio deploy` from the terminal in the working directory to deploy to Hugging Face Spaces (https://huggingface.co/spaces)\n",
      "* Running on local URL:  http://127.0.0.1:7863\n",
      "* Running on public URL: https://e5ec4c63e17a8109ac.gradio.live\n",
      "\n",
      "This share link expires in 1 week. For free permanent hosting and GPU upgrades, run `gradio deploy` from the terminal in the working directory to deploy to Hugging Face Spaces (https://huggingface.co/spaces)\n"
     ]
    }
   ],
   "source": [
    "# This is the MMLU server\n",
    "second_mmlu_server = gradio_utils.run_annotator(second_mmlu_labeled_df, second_mmlu_save_to, ' MMLU only')\n",
    "second_wiki_server = wikidata_gradio()"
   ]
  },
  {
   "cell_type": "code",
   "execution_count": null,
   "id": "301be140-e6f7-4430-89e4-85dba6432a3a",
   "metadata": {},
   "outputs": [],
   "source": [
    "second_mmlu_server.close()"
   ]
  },
  {
   "cell_type": "code",
   "execution_count": null,
   "id": "6fe6ca26-9d28-4ef1-89a3-b8265a5d7ba9",
   "metadata": {},
   "outputs": [],
   "source": [
    "second_wiki_server.close()"
   ]
  },
  {
   "cell_type": "markdown",
   "id": "be666a99-6d09-4bfd-80d1-eb7f19b3fb6a",
   "metadata": {},
   "source": [
    "___"
   ]
  },
  {
   "cell_type": "raw",
   "id": "3b76daeb-bdbb-49e7-b941-37239293a949",
   "metadata": {},
   "source": [
    "gsm_second_labeler_save_to = 'labeled_files/gsm_TEST_2_labeled_gradio.csv'"
   ]
  },
  {
   "cell_type": "raw",
   "id": "b010a662-8c0b-4acf-8987-fef4e93534bd",
   "metadata": {},
   "source": [
    "gsm_second_labeled_df = pd.read_csv(gsm_second_labeler_save_to)\n",
    "gsm_second_labeled_df = gsm_second_labeled_df.fillna('')\n",
    "gsm_second_labeled_df['rating'] = gsm_second_labeled_df['rating'].apply(str).replace('1.0', '1').replace('2.0', '2')"
   ]
  },
  {
   "cell_type": "raw",
   "id": "424d8658-1d07-4520-a767-e35c56f29ae0",
   "metadata": {},
   "source": [
    "gsm_second_labeled_df.shape"
   ]
  },
  {
   "cell_type": "raw",
   "id": "551e70bf-8048-472a-bb14-d2c7d7bf28a1",
   "metadata": {},
   "source": [
    "# Different servers\n",
    "gsm_second_labeler_server = gradio_utils.run_annotator(gsm_second_labeled_df, gsm_second_labeler_save_to, 'GSM8K second - ')"
   ]
  },
  {
   "cell_type": "raw",
   "id": "5ba143ba-acbf-4982-9072-b208fbaec720",
   "metadata": {},
   "source": [
    "second_labeler_server.close()"
   ]
  }
 ],
 "metadata": {
  "kernelspec": {
   "display_name": "conda_pytorch_p310",
   "language": "python",
   "name": "conda_pytorch_p310"
  },
  "language_info": {
   "codemirror_mode": {
    "name": "ipython",
    "version": 3
   },
   "file_extension": ".py",
   "mimetype": "text/x-python",
   "name": "python",
   "nbconvert_exporter": "python",
   "pygments_lexer": "ipython3",
   "version": "3.10.14"
  }
 },
 "nbformat": 4,
 "nbformat_minor": 5
}
