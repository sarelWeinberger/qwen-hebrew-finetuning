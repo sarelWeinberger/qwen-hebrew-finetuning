{
 "cells": [
  {
   "cell_type": "code",
   "id": "initial_id",
   "metadata": {
    "collapsed": true,
    "ExecuteTime": {
     "end_time": "2025-07-16T19:17:18.606850Z",
     "start_time": "2025-07-16T19:17:14.589630Z"
    }
   },
   "source": [
    "!pip install datasets\n",
    "!pip install openpyxl\n",
    "!pip install -q -U google-genai\n",
    "# !pip install transformers\n",
    "# !pip install accelerate\n",
    "# !pip install peft\n",
    "# !pip install bitsandbytes\n",
    "# Imports\n",
    "%load_ext autoreload\n",
    "%autoreload 2\n",
    "\n",
    "import pandas as pd\n",
    "import sys\n",
    "\n",
    "# Call models\n",
    "from src.call_models import bedrock_connect, call_claude_bedrock\n",
    "from src.call_models import google_connect, call_gemini, all_string_gemini_config, all_int_gemini_config\n",
    "from src.translate_func import claude_translation, gemini_translation\n",
    "\n",
    "# Datasets\n",
    "from prompts import mmlu_prompts\n",
    "from src.benchmarks_code import mmlu\n",
    "# Access keys\n",
    "from my_access_keys import google_access_key, aws_access_key, aws_secret_key\n",
    "\n",
    "# .csv utils\n",
    "from src.save_utils import add_dataset_to_csv\n",
    "\n",
    "# Remove annoying warning\n",
    "from IPython.core.display_functions import display"
   ],
   "outputs": [
    {
     "name": "stdout",
     "output_type": "stream",
     "text": [
      "Requirement already satisfied: datasets in /Users/oribar-joseph/PycharmProjects/qwen-hebrew-finetuning/.venv/lib/python3.9/site-packages (3.6.0)\r\n",
      "Requirement already satisfied: filelock in /Users/oribar-joseph/PycharmProjects/qwen-hebrew-finetuning/.venv/lib/python3.9/site-packages (from datasets) (3.18.0)\r\n",
      "Requirement already satisfied: numpy>=1.17 in /Users/oribar-joseph/PycharmProjects/qwen-hebrew-finetuning/.venv/lib/python3.9/site-packages (from datasets) (2.0.2)\r\n",
      "Requirement already satisfied: pyarrow>=15.0.0 in /Users/oribar-joseph/PycharmProjects/qwen-hebrew-finetuning/.venv/lib/python3.9/site-packages (from datasets) (20.0.0)\r\n",
      "Requirement already satisfied: dill<0.3.9,>=0.3.0 in /Users/oribar-joseph/PycharmProjects/qwen-hebrew-finetuning/.venv/lib/python3.9/site-packages (from datasets) (0.3.8)\r\n",
      "Requirement already satisfied: pandas in /Users/oribar-joseph/PycharmProjects/qwen-hebrew-finetuning/.venv/lib/python3.9/site-packages (from datasets) (2.3.0)\r\n",
      "Requirement already satisfied: requests>=2.32.2 in /Users/oribar-joseph/PycharmProjects/qwen-hebrew-finetuning/.venv/lib/python3.9/site-packages (from datasets) (2.32.4)\r\n",
      "Requirement already satisfied: tqdm>=4.66.3 in /Users/oribar-joseph/PycharmProjects/qwen-hebrew-finetuning/.venv/lib/python3.9/site-packages (from datasets) (4.67.1)\r\n",
      "Requirement already satisfied: xxhash in /Users/oribar-joseph/PycharmProjects/qwen-hebrew-finetuning/.venv/lib/python3.9/site-packages (from datasets) (3.5.0)\r\n",
      "Requirement already satisfied: multiprocess<0.70.17 in /Users/oribar-joseph/PycharmProjects/qwen-hebrew-finetuning/.venv/lib/python3.9/site-packages (from datasets) (0.70.16)\r\n",
      "Requirement already satisfied: fsspec<=2025.3.0,>=2023.1.0 in /Users/oribar-joseph/PycharmProjects/qwen-hebrew-finetuning/.venv/lib/python3.9/site-packages (from fsspec[http]<=2025.3.0,>=2023.1.0->datasets) (2025.3.0)\r\n",
      "Requirement already satisfied: huggingface-hub>=0.24.0 in /Users/oribar-joseph/PycharmProjects/qwen-hebrew-finetuning/.venv/lib/python3.9/site-packages (from datasets) (0.33.2)\r\n",
      "Requirement already satisfied: packaging in /Users/oribar-joseph/PycharmProjects/qwen-hebrew-finetuning/.venv/lib/python3.9/site-packages (from datasets) (25.0)\r\n",
      "Requirement already satisfied: pyyaml>=5.1 in /Users/oribar-joseph/PycharmProjects/qwen-hebrew-finetuning/.venv/lib/python3.9/site-packages (from datasets) (6.0.2)\r\n",
      "Requirement already satisfied: aiohttp!=4.0.0a0,!=4.0.0a1 in /Users/oribar-joseph/PycharmProjects/qwen-hebrew-finetuning/.venv/lib/python3.9/site-packages (from fsspec[http]<=2025.3.0,>=2023.1.0->datasets) (3.12.13)\r\n",
      "Requirement already satisfied: aiohappyeyeballs>=2.5.0 in /Users/oribar-joseph/PycharmProjects/qwen-hebrew-finetuning/.venv/lib/python3.9/site-packages (from aiohttp!=4.0.0a0,!=4.0.0a1->fsspec[http]<=2025.3.0,>=2023.1.0->datasets) (2.6.1)\r\n",
      "Requirement already satisfied: aiosignal>=1.1.2 in /Users/oribar-joseph/PycharmProjects/qwen-hebrew-finetuning/.venv/lib/python3.9/site-packages (from aiohttp!=4.0.0a0,!=4.0.0a1->fsspec[http]<=2025.3.0,>=2023.1.0->datasets) (1.4.0)\r\n",
      "Requirement already satisfied: async-timeout<6.0,>=4.0 in /Users/oribar-joseph/PycharmProjects/qwen-hebrew-finetuning/.venv/lib/python3.9/site-packages (from aiohttp!=4.0.0a0,!=4.0.0a1->fsspec[http]<=2025.3.0,>=2023.1.0->datasets) (5.0.1)\r\n",
      "Requirement already satisfied: attrs>=17.3.0 in /Users/oribar-joseph/PycharmProjects/qwen-hebrew-finetuning/.venv/lib/python3.9/site-packages (from aiohttp!=4.0.0a0,!=4.0.0a1->fsspec[http]<=2025.3.0,>=2023.1.0->datasets) (25.3.0)\r\n",
      "Requirement already satisfied: frozenlist>=1.1.1 in /Users/oribar-joseph/PycharmProjects/qwen-hebrew-finetuning/.venv/lib/python3.9/site-packages (from aiohttp!=4.0.0a0,!=4.0.0a1->fsspec[http]<=2025.3.0,>=2023.1.0->datasets) (1.7.0)\r\n",
      "Requirement already satisfied: multidict<7.0,>=4.5 in /Users/oribar-joseph/PycharmProjects/qwen-hebrew-finetuning/.venv/lib/python3.9/site-packages (from aiohttp!=4.0.0a0,!=4.0.0a1->fsspec[http]<=2025.3.0,>=2023.1.0->datasets) (6.6.3)\r\n",
      "Requirement already satisfied: propcache>=0.2.0 in /Users/oribar-joseph/PycharmProjects/qwen-hebrew-finetuning/.venv/lib/python3.9/site-packages (from aiohttp!=4.0.0a0,!=4.0.0a1->fsspec[http]<=2025.3.0,>=2023.1.0->datasets) (0.3.2)\r\n",
      "Requirement already satisfied: yarl<2.0,>=1.17.0 in /Users/oribar-joseph/PycharmProjects/qwen-hebrew-finetuning/.venv/lib/python3.9/site-packages (from aiohttp!=4.0.0a0,!=4.0.0a1->fsspec[http]<=2025.3.0,>=2023.1.0->datasets) (1.20.1)\r\n",
      "Requirement already satisfied: typing-extensions>=4.1.0 in /Users/oribar-joseph/PycharmProjects/qwen-hebrew-finetuning/.venv/lib/python3.9/site-packages (from multidict<7.0,>=4.5->aiohttp!=4.0.0a0,!=4.0.0a1->fsspec[http]<=2025.3.0,>=2023.1.0->datasets) (4.14.1)\r\n",
      "Requirement already satisfied: idna>=2.0 in /Users/oribar-joseph/PycharmProjects/qwen-hebrew-finetuning/.venv/lib/python3.9/site-packages (from yarl<2.0,>=1.17.0->aiohttp!=4.0.0a0,!=4.0.0a1->fsspec[http]<=2025.3.0,>=2023.1.0->datasets) (3.10)\r\n",
      "Requirement already satisfied: hf-xet<2.0.0,>=1.1.2 in /Users/oribar-joseph/PycharmProjects/qwen-hebrew-finetuning/.venv/lib/python3.9/site-packages (from huggingface-hub>=0.24.0->datasets) (1.1.5)\r\n",
      "Requirement already satisfied: charset_normalizer<4,>=2 in /Users/oribar-joseph/PycharmProjects/qwen-hebrew-finetuning/.venv/lib/python3.9/site-packages (from requests>=2.32.2->datasets) (3.4.2)\r\n",
      "Requirement already satisfied: urllib3<3,>=1.21.1 in /Users/oribar-joseph/PycharmProjects/qwen-hebrew-finetuning/.venv/lib/python3.9/site-packages (from requests>=2.32.2->datasets) (1.26.20)\r\n",
      "Requirement already satisfied: certifi>=2017.4.17 in /Users/oribar-joseph/PycharmProjects/qwen-hebrew-finetuning/.venv/lib/python3.9/site-packages (from requests>=2.32.2->datasets) (2025.6.15)\r\n",
      "Requirement already satisfied: python-dateutil>=2.8.2 in /Users/oribar-joseph/PycharmProjects/qwen-hebrew-finetuning/.venv/lib/python3.9/site-packages (from pandas->datasets) (2.9.0.post0)\r\n",
      "Requirement already satisfied: pytz>=2020.1 in /Users/oribar-joseph/PycharmProjects/qwen-hebrew-finetuning/.venv/lib/python3.9/site-packages (from pandas->datasets) (2025.2)\r\n",
      "Requirement already satisfied: tzdata>=2022.7 in /Users/oribar-joseph/PycharmProjects/qwen-hebrew-finetuning/.venv/lib/python3.9/site-packages (from pandas->datasets) (2025.2)\r\n",
      "Requirement already satisfied: six>=1.5 in /Users/oribar-joseph/PycharmProjects/qwen-hebrew-finetuning/.venv/lib/python3.9/site-packages (from python-dateutil>=2.8.2->pandas->datasets) (1.17.0)\r\n",
      "Requirement already satisfied: openpyxl in /Users/oribar-joseph/PycharmProjects/qwen-hebrew-finetuning/.venv/lib/python3.9/site-packages (3.1.5)\r\n",
      "Requirement already satisfied: et-xmlfile in /Users/oribar-joseph/PycharmProjects/qwen-hebrew-finetuning/.venv/lib/python3.9/site-packages (from openpyxl) (2.0.0)\r\n"
     ]
    }
   ],
   "execution_count": 1
  },
  {
   "metadata": {
    "ExecuteTime": {
     "end_time": "2025-07-16T19:17:18.723023Z",
     "start_time": "2025-07-16T19:17:18.610604Z"
    }
   },
   "cell_type": "code",
   "source": [
    "bedrock_client = bedrock_connect(aws_access_key, aws_secret_key)\n",
    "google_client = google_connect(google_access_key)"
   ],
   "id": "1799ef79a44e3a78",
   "outputs": [],
   "execution_count": 2
  },
  {
   "metadata": {
    "ExecuteTime": {
     "end_time": "2025-07-16T19:17:36.545759Z",
     "start_time": "2025-07-16T19:17:33.556177Z"
    }
   },
   "cell_type": "code",
   "source": [
    "mmlu_dataset = mmlu.get_mmlu_datasets()\n",
    "mmlu_dataset['mmlu_dev'] = mmlu_dataset['mmlu_dev'].take(50)\n",
    "mmlu_file_name = 'compare_csv/mmlu_train_top_50.csv'\n",
    "\n",
    "print(mmlu_file_name)\n",
    "mmlu_dataset"
   ],
   "id": "7105ab20d2156f9c",
   "outputs": [
    {
     "name": "stdout",
     "output_type": "stream",
     "text": [
      "compare_csv/mmlu_train_top_50.csv\n"
     ]
    },
    {
     "data": {
      "text/plain": [
       "{'mmlu_dev': Dataset({\n",
       "     features: ['question', 'subject', 'choices', 'answer'],\n",
       "     num_rows: 50\n",
       " })}"
      ]
     },
     "execution_count": 6,
     "metadata": {},
     "output_type": "execute_result"
    }
   ],
   "execution_count": 6
  },
  {
   "metadata": {
    "ExecuteTime": {
     "end_time": "2025-07-16T19:17:36.637859Z",
     "start_time": "2025-07-16T19:17:36.619852Z"
    }
   },
   "cell_type": "code",
   "source": "mmlu_dataset",
   "id": "fe574bc83458aa72",
   "outputs": [
    {
     "data": {
      "text/plain": [
       "{'mmlu_dev': Dataset({\n",
       "     features: ['question', 'subject', 'choices', 'answer'],\n",
       "     num_rows: 50\n",
       " })}"
      ]
     },
     "execution_count": 7,
     "metadata": {},
     "output_type": "execute_result"
    }
   ],
   "execution_count": 7
  },
  {
   "metadata": {
    "ExecuteTime": {
     "end_time": "2025-07-16T19:17:36.744293Z",
     "start_time": "2025-07-16T19:17:36.716874Z"
    }
   },
   "cell_type": "code",
   "source": [
    "df = add_dataset_to_csv(mmlu_file_name, 'original', mmlu_dataset['mmlu_dev'], mmlu.mmlu_sample_to_dict)\n",
    "text_df = add_dataset_to_csv(mmlu_file_name[:-4] + '-text.csv', 'original', mmlu_dataset['mmlu_dev'], mmlu.mmlu_sample_to_dict)\n",
    "display(df.head(2))\n",
    "display(text_df.head(2))"
   ],
   "id": "efcc4a5d1f65ed8d",
   "outputs": [
    {
     "data": {
      "text/plain": [
       "                                            original\n",
       "0  <question>Find all c in Z_3 such that Z_3[x]/(...\n",
       "1  <question>Statement 1 | If aH is an element of..."
      ],
      "text/html": [
       "<div>\n",
       "<style scoped>\n",
       "    .dataframe tbody tr th:only-of-type {\n",
       "        vertical-align: middle;\n",
       "    }\n",
       "\n",
       "    .dataframe tbody tr th {\n",
       "        vertical-align: top;\n",
       "    }\n",
       "\n",
       "    .dataframe thead th {\n",
       "        text-align: right;\n",
       "    }\n",
       "</style>\n",
       "<table border=\"1\" class=\"dataframe\">\n",
       "  <thead>\n",
       "    <tr style=\"text-align: right;\">\n",
       "      <th></th>\n",
       "      <th>original</th>\n",
       "    </tr>\n",
       "  </thead>\n",
       "  <tbody>\n",
       "    <tr>\n",
       "      <th>0</th>\n",
       "      <td>&lt;question&gt;Find all c in Z_3 such that Z_3[x]/(...</td>\n",
       "    </tr>\n",
       "    <tr>\n",
       "      <th>1</th>\n",
       "      <td>&lt;question&gt;Statement 1 | If aH is an element of...</td>\n",
       "    </tr>\n",
       "  </tbody>\n",
       "</table>\n",
       "</div>"
      ]
     },
     "metadata": {},
     "output_type": "display_data"
    },
    {
     "data": {
      "text/plain": [
       "                                            original\n",
       "0  <question>Find all c in Z_3 such that Z_3[x]/(...\n",
       "1  <question>Statement 1 | If aH is an element of..."
      ],
      "text/html": [
       "<div>\n",
       "<style scoped>\n",
       "    .dataframe tbody tr th:only-of-type {\n",
       "        vertical-align: middle;\n",
       "    }\n",
       "\n",
       "    .dataframe tbody tr th {\n",
       "        vertical-align: top;\n",
       "    }\n",
       "\n",
       "    .dataframe thead th {\n",
       "        text-align: right;\n",
       "    }\n",
       "</style>\n",
       "<table border=\"1\" class=\"dataframe\">\n",
       "  <thead>\n",
       "    <tr style=\"text-align: right;\">\n",
       "      <th></th>\n",
       "      <th>original</th>\n",
       "    </tr>\n",
       "  </thead>\n",
       "  <tbody>\n",
       "    <tr>\n",
       "      <th>0</th>\n",
       "      <td>&lt;question&gt;Find all c in Z_3 such that Z_3[x]/(...</td>\n",
       "    </tr>\n",
       "    <tr>\n",
       "      <th>1</th>\n",
       "      <td>&lt;question&gt;Statement 1 | If aH is an element of...</td>\n",
       "    </tr>\n",
       "  </tbody>\n",
       "</table>\n",
       "</div>"
      ]
     },
     "metadata": {},
     "output_type": "display_data"
    }
   ],
   "execution_count": 8
  },
  {
   "metadata": {
    "ExecuteTime": {
     "end_time": "2025-07-16T19:25:53.909676Z",
     "start_time": "2025-07-16T19:17:37.997012Z"
    }
   },
   "cell_type": "code",
   "source": [
    "exp_name = 'claude_v1_refine'\n",
    "hebrew_datasets, text_output = claude_translation(\n",
    "    bedrock_client,\n",
    "    mmlu_dataset,\n",
    "    mmlu_prompts.MMLU_INSTRUCT_V1_CLAUDE_REFINE,\n",
    "    mmlu_prompts.MMLU_FEW_SHOTS,\n",
    "    mmlu_prompts.MMLU_FORMAT,\n",
    "    mmlu.mmlu_sample_to_dict,\n",
    "    mmlu.mmlu_dict_to_sample,\n",
    ")"
   ],
   "id": "59ad593c4c0676c9",
   "outputs": [
    {
     "name": "stdout",
     "output_type": "stream",
     "text": [
      "Translating mmlu_dev...\n"
     ]
    },
    {
     "data": {
      "text/plain": [
       "  0%|          | 0/50 [00:00<?, ?it/s]"
      ],
      "application/vnd.jupyter.widget-view+json": {
       "version_major": 2,
       "version_minor": 0,
       "model_id": "6dad9b4d36144a4fb8cf551fd2308cbf"
      }
     },
     "metadata": {},
     "output_type": "display_data"
    }
   ],
   "execution_count": 9
  },
  {
   "metadata": {
    "ExecuteTime": {
     "end_time": "2025-07-16T19:26:03.776119Z",
     "start_time": "2025-07-16T19:26:03.750308Z"
    }
   },
   "cell_type": "code",
   "source": [
    "df = add_dataset_to_csv(mmlu_file_name, exp_name, hebrew_datasets['mmlu_dev'], mmlu.mmlu_sample_to_dict)\n",
    "df.head(2)"
   ],
   "id": "a2226eae552d2d6",
   "outputs": [
    {
     "data": {
      "text/plain": [
       "                                            original  \\\n",
       "0  <question>Find all c in Z_3 such that Z_3[x]/(...   \n",
       "1  <question>Statement 1 | If aH is an element of...   \n",
       "\n",
       "                                    claude_v1_refine  \n",
       "0  <question>מצא את כל הערכים של c ב-Z_3 כך ש-Z_3...  \n",
       "1  <question>טענה 1 | אם aH הוא איבר בחבורת מנה, ...  "
      ],
      "text/html": [
       "<div>\n",
       "<style scoped>\n",
       "    .dataframe tbody tr th:only-of-type {\n",
       "        vertical-align: middle;\n",
       "    }\n",
       "\n",
       "    .dataframe tbody tr th {\n",
       "        vertical-align: top;\n",
       "    }\n",
       "\n",
       "    .dataframe thead th {\n",
       "        text-align: right;\n",
       "    }\n",
       "</style>\n",
       "<table border=\"1\" class=\"dataframe\">\n",
       "  <thead>\n",
       "    <tr style=\"text-align: right;\">\n",
       "      <th></th>\n",
       "      <th>original</th>\n",
       "      <th>claude_v1_refine</th>\n",
       "    </tr>\n",
       "  </thead>\n",
       "  <tbody>\n",
       "    <tr>\n",
       "      <th>0</th>\n",
       "      <td>&lt;question&gt;Find all c in Z_3 such that Z_3[x]/(...</td>\n",
       "      <td>&lt;question&gt;מצא את כל הערכים של c ב-Z_3 כך ש-Z_3...</td>\n",
       "    </tr>\n",
       "    <tr>\n",
       "      <th>1</th>\n",
       "      <td>&lt;question&gt;Statement 1 | If aH is an element of...</td>\n",
       "      <td>&lt;question&gt;טענה 1 | אם aH הוא איבר בחבורת מנה, ...</td>\n",
       "    </tr>\n",
       "  </tbody>\n",
       "</table>\n",
       "</div>"
      ]
     },
     "execution_count": 10,
     "metadata": {},
     "output_type": "execute_result"
    }
   ],
   "execution_count": 10
  },
  {
   "metadata": {
    "ExecuteTime": {
     "end_time": "2025-07-16T19:36:12.646277Z",
     "start_time": "2025-07-16T19:26:11.778501Z"
    }
   },
   "cell_type": "code",
   "source": [
    "exp_name = 'gemini_v1_few_options'\n",
    "\n",
    "hebrew_datasets = gemini_translation(\n",
    "    google_client,\n",
    "    mmlu_dataset,\n",
    "    mmlu_prompts.MMLU_INSTRUCT_V1_GEMINI_MULTI,\n",
    "    mmlu_prompts.MMLU_FEW_SHOTS,\n",
    "    mmlu.mmlu_sample_to_dict,\n",
    "    mmlu.mmlu_dict_to_sample,\n",
    "    if_pro=False,\n",
    "    think_bud=20_000\n",
    ")"
   ],
   "id": "f4dc3fe9ef6a0764",
   "outputs": [
    {
     "name": "stdout",
     "output_type": "stream",
     "text": [
      "Translating mmlu_dev...\n"
     ]
    },
    {
     "data": {
      "text/plain": [
       "  0%|          | 0/50 [00:00<?, ?it/s]"
      ],
      "application/vnd.jupyter.widget-view+json": {
       "version_major": 2,
       "version_minor": 0,
       "model_id": "ec61c416978a4d8c94df09d4b35dd6da"
      }
     },
     "metadata": {},
     "output_type": "display_data"
    }
   ],
   "execution_count": 11
  },
  {
   "metadata": {
    "ExecuteTime": {
     "end_time": "2025-07-16T19:38:40.736817Z",
     "start_time": "2025-07-16T19:38:40.709920Z"
    }
   },
   "cell_type": "code",
   "source": [
    "df = add_dataset_to_csv(mmlu_file_name, exp_name, hebrew_datasets[0]['mmlu_dev'], mmlu.mmlu_sample_to_dict)\n",
    "df.head(2)"
   ],
   "id": "ed1db96f09ce5a3f",
   "outputs": [
    {
     "data": {
      "text/plain": [
       "                                            original  \\\n",
       "0  <question>Find all c in Z_3 such that Z_3[x]/(...   \n",
       "1  <question>Statement 1 | If aH is an element of...   \n",
       "\n",
       "                                    claude_v1_refine  \\\n",
       "0  <question>מצא את כל הערכים של c ב-Z_3 כך ש-Z_3...   \n",
       "1  <question>טענה 1 | אם aH הוא איבר בחבורת מנה, ...   \n",
       "\n",
       "                               gemini_v1_few_options  \n",
       "0  <question>מצא את כל c ב-Z_3 כך ש-Z_3[x]/(x^2 +...  \n",
       "1  <question>טענה 1 | אם aH הוא איבר בחבורת מנה, ...  "
      ],
      "text/html": [
       "<div>\n",
       "<style scoped>\n",
       "    .dataframe tbody tr th:only-of-type {\n",
       "        vertical-align: middle;\n",
       "    }\n",
       "\n",
       "    .dataframe tbody tr th {\n",
       "        vertical-align: top;\n",
       "    }\n",
       "\n",
       "    .dataframe thead th {\n",
       "        text-align: right;\n",
       "    }\n",
       "</style>\n",
       "<table border=\"1\" class=\"dataframe\">\n",
       "  <thead>\n",
       "    <tr style=\"text-align: right;\">\n",
       "      <th></th>\n",
       "      <th>original</th>\n",
       "      <th>claude_v1_refine</th>\n",
       "      <th>gemini_v1_few_options</th>\n",
       "    </tr>\n",
       "  </thead>\n",
       "  <tbody>\n",
       "    <tr>\n",
       "      <th>0</th>\n",
       "      <td>&lt;question&gt;Find all c in Z_3 such that Z_3[x]/(...</td>\n",
       "      <td>&lt;question&gt;מצא את כל הערכים של c ב-Z_3 כך ש-Z_3...</td>\n",
       "      <td>&lt;question&gt;מצא את כל c ב-Z_3 כך ש-Z_3[x]/(x^2 +...</td>\n",
       "    </tr>\n",
       "    <tr>\n",
       "      <th>1</th>\n",
       "      <td>&lt;question&gt;Statement 1 | If aH is an element of...</td>\n",
       "      <td>&lt;question&gt;טענה 1 | אם aH הוא איבר בחבורת מנה, ...</td>\n",
       "      <td>&lt;question&gt;טענה 1 | אם aH הוא איבר בחבורת מנה, ...</td>\n",
       "    </tr>\n",
       "  </tbody>\n",
       "</table>\n",
       "</div>"
      ]
     },
     "execution_count": 18,
     "metadata": {},
     "output_type": "execute_result"
    }
   ],
   "execution_count": 18
  },
  {
   "metadata": {
    "ExecuteTime": {
     "end_time": "2025-07-16T19:38:29.231369Z",
     "start_time": "2025-07-16T19:38:29.213308Z"
    }
   },
   "cell_type": "code",
   "source": "hebrew_datasets[0]['mmlu_dev']",
   "id": "c868a35b712bbd81",
   "outputs": [
    {
     "data": {
      "text/plain": [
       "Dataset({\n",
       "    features: ['question', 'subject', 'choices', 'answer'],\n",
       "    num_rows: 50\n",
       "})"
      ]
     },
     "execution_count": 17,
     "metadata": {},
     "output_type": "execute_result"
    }
   ],
   "execution_count": 17
  },
  {
   "metadata": {},
   "cell_type": "code",
   "outputs": [],
   "execution_count": null,
   "source": "",
   "id": "fd4285c52eaa2fc4"
  }
 ],
 "metadata": {
  "kernelspec": {
   "display_name": "Python 3",
   "language": "python",
   "name": "python3"
  },
  "language_info": {
   "codemirror_mode": {
    "name": "ipython",
    "version": 2
   },
   "file_extension": ".py",
   "mimetype": "text/x-python",
   "name": "python",
   "nbconvert_exporter": "python",
   "pygments_lexer": "ipython2",
   "version": "2.7.6"
  }
 },
 "nbformat": 4,
 "nbformat_minor": 5
}
