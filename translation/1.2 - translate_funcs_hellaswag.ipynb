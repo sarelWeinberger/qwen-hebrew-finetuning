{
 "cells": [
  {
   "cell_type": "markdown",
   "id": "5ae65b98-e452-4baf-a8a8-f9aab5d4ab8a",
   "metadata": {
    "ExecuteTime": {
     "end_time": "2025-07-16T20:10:31.793871Z",
     "start_time": "2025-07-16T20:10:27.762203Z"
    }
   },
   "source": [
    "# Imports"
   ]
  },
  {
   "cell_type": "code",
   "execution_count": null,
   "id": "35e7fb68-95be-46e8-bef1-01a3524f1902",
   "metadata": {
    "ExecuteTime": {
     "end_time": "2025-07-16T20:10:31.793871Z",
     "start_time": "2025-07-16T20:10:27.762203Z"
    }
   },
   "outputs": [],
   "source": [
    "%load_ext autoreload\n",
    "%autoreload 2\n",
    "\n",
    "import pandas as pd\n",
    "import sys\n",
    "import pickle\n",
    "\n",
    "# Call models\n",
    "from src.call_models import google_connect, call_gemini, all_string_gemini_config, all_int_gemini_config\n",
    "from src.translate_func import gemini_translation, gemini_classification\n",
    "\n",
    "# Datasets\n",
    "\n",
    "from src.benchmarks_code import hellaswag\n",
    "from prompts import hellaswag_prompts\n",
    "\n",
    "# Access keys\n",
    "from my_access_keys import google_access_key\n",
    "\n",
    "# .csv utils\n",
    "from src.save_utils import add_dataset_to_csv\n",
    "\n",
    "# Remove annoying warning\n",
    "from IPython.core.display_functions import display"
   ]
  },
  {
   "cell_type": "markdown",
   "id": "c9d59be0-ffa1-4cb9-9682-663063f23e18",
   "metadata": {
    "ExecuteTime": {
     "end_time": "2025-07-16T20:10:31.808651Z",
     "start_time": "2025-07-16T20:10:31.797637Z"
    }
   },
   "source": [
    "# GetDataset"
   ]
  },
  {
   "cell_type": "code",
   "execution_count": null,
   "id": "9a57c574e0e2cf37",
   "metadata": {
    "ExecuteTime": {
     "end_time": "2025-07-16T20:10:32.037915Z",
     "start_time": "2025-07-16T20:10:31.816377Z"
    }
   },
   "outputs": [],
   "source": [
    "google_client = google_connect(google_access_key)"
   ]
  },
  {
   "cell_type": "code",
   "execution_count": null,
   "id": "1917bab4-0187-4df0-abb5-0c9a70220222",
   "metadata": {},
   "outputs": [],
   "source": [
    "hellaswag_dataset = hellaswag.get_hellaswag_datasets()\n",
    "\n",
    "hellaswag_dataset"
   ]
  },
  {
   "cell_type": "code",
   "execution_count": null,
   "id": "0bf195c7-9bd9-473e-842b-c3347854ebe4",
   "metadata": {},
   "outputs": [],
   "source": [
    "hesw_text = hellaswag_dataset['hellaswag_val'].skip(800).take(500)\n",
    "hesw_text"
   ]
  },
  {
   "cell_type": "markdown",
   "id": "76489e96-27bc-4b7f-b510-341504f3e2a3",
   "metadata": {},
   "source": [
    "# Classify whether to translate or not"
   ]
  },
  {
   "cell_type": "code",
   "execution_count": null,
   "id": "ef708881-08a3-4fdf-8cb3-df09963ed2cd",
   "metadata": {
    "scrolled": true
   },
   "outputs": [],
   "source": [
    "%%time\n",
    "exp_name = 'gemini_think_classify'\n",
    "\n",
    "labels, text_output = gemini_classification(\n",
    "    google_client,\n",
    "    {'run_on': hesw_text},\n",
    "    hellaswag_prompts.HELLASWAG_CLASSIFICATION_GEMINI,\n",
    "    hellaswag_prompts.HELLASWAG_CLASSIFICATION_FEW_SHOTS,\n",
    "    hellaswag.hellaswag_sample_to_dict,\n",
    "    hellaswag.hellaswag_dict_to_sample,\n",
    "    think_bud=256,\n",
    ")\n",
    "\n",
    "labels, text_output = labels['run_on'], text_output['run_on']"
   ]
  },
  {
   "cell_type": "code",
   "execution_count": null,
   "id": "66d6b59f-27c9-47ee-848b-97089471ef54",
   "metadata": {},
   "outputs": [],
   "source": [
    "labels[:3]"
   ]
  },
  {
   "cell_type": "code",
   "execution_count": null,
   "id": "f200cdcd-01a2-48db-99bc-9df4ea265508",
   "metadata": {},
   "outputs": [],
   "source": [
    "# Define the filename\n",
    "filename = 'compare_csv/hellaswag/hella_sawg_801-1300_labels.pkl'\n",
    "\n",
    "# Open the file in write binary mode\n",
    "with open(filename, 'wb') as file:\n",
    "    # Use pickle.dump() to save the list to the file\n",
    "    pickle.dump(labels, file)"
   ]
  },
  {
   "cell_type": "raw",
   "id": "5f0ea518-cf20-4741-83cb-cf029446080d",
   "metadata": {},
   "source": [
    "# Define the filename where the list is stored\n",
    "filename = 'compare_csv/hellaswag/hella_sawg_300_labels.pkl'\n",
    "\n",
    "# Open the file in read binary mode\n",
    "with open(filename, 'rb') as file:\n",
    "    # Use pickle.load() to load the list from the file\n",
    "    labels = pickle.load(file)"
   ]
  },
  {
   "cell_type": "code",
   "execution_count": null,
   "id": "d819a5da-5951-48e7-8b1a-8d6056fecade",
   "metadata": {},
   "outputs": [],
   "source": [
    "use_this = pd.Series(labels)\n",
    "display(use_this.value_counts())\n",
    "\n",
    "use_this = use_this[(use_this == 'Universal') | (use_this == 'Can be localized')]\n",
    "\n",
    "print(f'\\nWill translate {use_this.shape[0]} samples.')"
   ]
  },
  {
   "cell_type": "code",
   "execution_count": null,
   "id": "98bcdad9-e0e3-4c2a-9a6a-749f56a44a68",
   "metadata": {},
   "outputs": [],
   "source": [
    "145 + 38"
   ]
  },
  {
   "cell_type": "code",
   "execution_count": null,
   "id": "1f734f55-b503-48ea-a7b1-a747311a5015",
   "metadata": {},
   "outputs": [],
   "source": [
    "213 + 56"
   ]
  },
  {
   "cell_type": "code",
   "execution_count": null,
   "id": "6c8c202a-b6d7-4634-ac70-0598b8919a89",
   "metadata": {},
   "outputs": [],
   "source": [
    "183 + 269"
   ]
  },
  {
   "cell_type": "code",
   "execution_count": null,
   "id": "e45020a1-a35b-4091-978c-acd6956d9981",
   "metadata": {},
   "outputs": [],
   "source": [
    "pd.Series(labels[200:]).value_counts()"
   ]
  },
  {
   "cell_type": "raw",
   "id": "e21d3cbd-907a-43f6-8da6-6699e8ee462d",
   "metadata": {},
   "source": [
    "from src.translate_func import dict_to_prompt"
   ]
  },
  {
   "cell_type": "raw",
   "id": "7caa3a7e-00b5-4ab8-bba0-c127008d2d72",
   "metadata": {},
   "source": [
    "for cnt, (s, l) in enumerate(zip(hesw_text, labels)):\n",
    "    print(f\"{cnt:4} | {s['activity_label']:30} | {l:25}\")"
   ]
  },
  {
   "cell_type": "raw",
   "id": "5b6da17c-2dbe-4208-8643-ae662fa3e5a2",
   "metadata": {
    "scrolled": true
   },
   "source": [
    "for cnt, (s, l) in enumerate(zip(hesw_text, labels)):\n",
    "    print(f'Example {cnt}:')\n",
    "    print(f'Classification: {l}\\n')\n",
    "    # print(s['activity_label'])\n",
    "    print(dict_to_prompt(hellaswag.hellaswag_sample_to_dict(s)))\n",
    "    print('\\n' + '-' * 50 + '\\n')"
   ]
  },
  {
   "cell_type": "raw",
   "id": "bf92610a-3129-485d-9b9a-88b5dfbdabfc",
   "metadata": {},
   "source": [
    "print(text_output[9])"
   ]
  },
  {
   "cell_type": "markdown",
   "id": "fca0a5d6-d252-4f57-9d93-b84c044f9917",
   "metadata": {},
   "source": [
    "# Translate"
   ]
  },
  {
   "cell_type": "code",
   "execution_count": null,
   "id": "4095bdf9-c4db-4a61-af9e-6b71096fdaf3",
   "metadata": {},
   "outputs": [],
   "source": [
    "hesw_text"
   ]
  },
  {
   "cell_type": "code",
   "execution_count": null,
   "id": "ccc840e3-433f-4eb4-abd6-1d9fa2ea3760",
   "metadata": {},
   "outputs": [],
   "source": [
    "hesw_text = hesw_text.select(use_this.index)\n",
    "hesw_text"
   ]
  },
  {
   "cell_type": "code",
   "execution_count": null,
   "id": "335bdd2c-00fa-4fb4-8ac3-17858f52f285",
   "metadata": {},
   "outputs": [],
   "source": [
    "hellaswag_file_name = 'compare_csv/hellaswag/hellaswag_test_801-1300.csv'"
   ]
  },
  {
   "cell_type": "code",
   "execution_count": null,
   "id": "ec15c6d0-8358-4e13-ab30-dc6d9d2fc7ec",
   "metadata": {
    "ExecuteTime": {
     "end_time": "2025-07-16T20:10:39.327389Z",
     "start_time": "2025-07-16T20:10:39.297006Z"
    }
   },
   "outputs": [],
   "source": [
    "df = add_dataset_to_csv(hellaswag_file_name, 'original', hesw_text, hellaswag.hellaswag_sample_to_dict)\n",
    "text_df = add_dataset_to_csv(hellaswag_file_name[:-4] + '-text.csv', 'original', hesw_text, hellaswag.hellaswag_sample_to_dict)\n",
    "display(df.head(2))\n",
    "display(text_df.head(2))"
   ]
  },
  {
   "cell_type": "code",
   "execution_count": null,
   "id": "63ab8bac-13a5-4c09-beef-bec8b724d45f",
   "metadata": {
    "ExecuteTime": {
     "end_time": "2025-07-16T20:10:39.354553Z",
     "start_time": "2025-07-16T20:10:39.335152Z"
    }
   },
   "outputs": [],
   "source": [
    "df = pd.read_csv(hellaswag_file_name)\n",
    "text_df = pd.read_csv(hellaswag_file_name[:-4] + '-text.csv')\n",
    "print(df.shape, text_df.shape)\n",
    "display(df.head(2))\n",
    "display(text_df.head(2))"
   ]
  },
  {
   "cell_type": "code",
   "execution_count": null,
   "id": "dad033c4-263d-4010-a25b-b473917fc8b1",
   "metadata": {},
   "outputs": [],
   "source": [
    "print(df.shape, text_df.shape)"
   ]
  },
  {
   "cell_type": "code",
   "execution_count": null,
   "id": "a9d5c2e8-e62b-4fbd-adcb-e31c3db8edc1",
   "metadata": {
    "scrolled": true
   },
   "outputs": [],
   "source": [
    "%%time\n",
    "\n",
    "exp_name = 'gemini'\n",
    "\n",
    "hebrew_datasets, text_output = gemini_translation(\n",
    "    google_client,\n",
    "    {'run': hesw_text},\n",
    "    hellaswag_prompts.HELLASWAG_INSTRUCT_V1_GEMINI,\n",
    "    hellaswag_prompts.HELLASWAG_FEW_SHOTS,\n",
    "    hellaswag.hellaswag_sample_to_dict,\n",
    "    hellaswag.hellaswag_dict_to_sample,\n",
    "    if_pro=True,\n",
    "    think_bud=4096,\n",
    ")\n",
    "\n",
    "hebrew_datasets = hebrew_datasets['run']\n",
    "text_output = text_output['run']\n",
    "hebrew_datasets"
   ]
  },
  {
   "cell_type": "code",
   "execution_count": null,
   "id": "51344369-9721-40de-b4ae-6a73d182fa83",
   "metadata": {},
   "outputs": [],
   "source": [
    "df = add_dataset_to_csv(hellaswag_file_name, exp_name, hebrew_datasets, hellaswag.hellaswag_sample_to_dict)\n",
    "text_df[exp_name + ' text'] = text_output\n",
    "text_df.to_csv(hellaswag_file_name[:-4] + '-text.csv', index=False)\n",
    "print(df.shape, text_df.shape)\n",
    "display(df.head(2))\n",
    "display(text_df.head(2))"
   ]
  },
  {
   "cell_type": "code",
   "execution_count": null,
   "id": "e6be3588-3925-40b2-be2f-b1ad4f54dfa5",
   "metadata": {},
   "outputs": [],
   "source": [
    "df['answer_label'] = pd.Series(hebrew_datasets['label'])\n",
    "df['question ind'] = pd.Series(hebrew_datasets['ind'])"
   ]
  },
  {
   "cell_type": "code",
   "execution_count": null,
   "id": "6a764dc4-c54b-4f5e-988e-6bee5adb819c",
   "metadata": {},
   "outputs": [],
   "source": [
    "df.head()"
   ]
  },
  {
   "cell_type": "code",
   "execution_count": null,
   "id": "16bc0bd3-96c0-4d78-8101-ed131260af0c",
   "metadata": {},
   "outputs": [],
   "source": [
    "df.to_csv(hellaswag_file_name, index=False)"
   ]
  }
 ],
 "metadata": {
  "kernelspec": {
   "display_name": "conda_pytorch_p310",
   "language": "python",
   "name": "conda_pytorch_p310"
  },
  "language_info": {
   "codemirror_mode": {
    "name": "ipython",
    "version": 3
   },
   "file_extension": ".py",
   "mimetype": "text/x-python",
   "name": "python",
   "nbconvert_exporter": "python",
   "pygments_lexer": "ipython3",
   "version": "3.10.14"
  }
 },
 "nbformat": 4,
 "nbformat_minor": 5
}
