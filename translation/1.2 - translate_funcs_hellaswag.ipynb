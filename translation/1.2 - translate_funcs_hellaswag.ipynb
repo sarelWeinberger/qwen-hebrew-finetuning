{
 "cells": [
  {
   "cell_type": "markdown",
   "id": "5ae65b98-e452-4baf-a8a8-f9aab5d4ab8a",
   "metadata": {
    "ExecuteTime": {
     "end_time": "2025-07-16T20:10:31.793871Z",
     "start_time": "2025-07-16T20:10:27.762203Z"
    }
   },
   "source": [
    "# Imports"
   ]
  },
  {
   "cell_type": "code",
   "execution_count": 1,
   "id": "35e7fb68-95be-46e8-bef1-01a3524f1902",
   "metadata": {
    "ExecuteTime": {
     "end_time": "2025-07-16T20:10:31.793871Z",
     "start_time": "2025-07-16T20:10:27.762203Z"
    }
   },
   "outputs": [],
   "source": [
    "%load_ext autoreload\n",
    "%autoreload 2\n",
    "\n",
    "import pandas as pd\n",
    "import sys\n",
    "import pickle\n",
    "\n",
    "# Call models\n",
    "from src.call_models import google_connect, call_gemini, all_string_gemini_config, all_int_gemini_config\n",
    "from src.translate_func import gemini_translation, gemini_classification\n",
    "\n",
    "# Datasets\n",
    "\n",
    "from src.benchmarks_code import hellaswag\n",
    "from prompts import hellaswag_prompts\n",
    "\n",
    "# Access keys\n",
    "from my_access_keys import google_access_key\n",
    "\n",
    "# .csv utils\n",
    "from src.save_utils import add_dataset_to_csv\n",
    "\n",
    "# Remove annoying warning\n",
    "from IPython.core.display_functions import display"
   ]
  },
  {
   "cell_type": "markdown",
   "id": "c9d59be0-ffa1-4cb9-9682-663063f23e18",
   "metadata": {
    "ExecuteTime": {
     "end_time": "2025-07-16T20:10:31.808651Z",
     "start_time": "2025-07-16T20:10:31.797637Z"
    }
   },
   "source": [
    "# GetDataset"
   ]
  },
  {
   "cell_type": "code",
   "execution_count": 2,
   "id": "9a57c574e0e2cf37",
   "metadata": {
    "ExecuteTime": {
     "end_time": "2025-07-16T20:10:32.037915Z",
     "start_time": "2025-07-16T20:10:31.816377Z"
    }
   },
   "outputs": [],
   "source": [
    "google_client = google_connect(google_access_key)"
   ]
  },
  {
   "cell_type": "code",
   "execution_count": 5,
   "id": "1917bab4-0187-4df0-abb5-0c9a70220222",
   "metadata": {},
   "outputs": [
    {
     "data": {
      "text/plain": [
       "{'hellaswag_val': Dataset({\n",
       "     features: ['ind', 'activity_label', 'ctx_a', 'ctx_b', 'ctx', 'endings', 'source_id', 'split', 'split_type', 'label'],\n",
       "     num_rows: 10042\n",
       " })}"
      ]
     },
     "execution_count": 5,
     "metadata": {},
     "output_type": "execute_result"
    }
   ],
   "source": [
    "hellaswag_dataset = hellaswag.get_hellaswag_datasets()\n",
    "\n",
    "hellaswag_dataset"
   ]
  },
  {
   "cell_type": "code",
   "execution_count": 8,
   "id": "0bf195c7-9bd9-473e-842b-c3347854ebe4",
   "metadata": {},
   "outputs": [
    {
     "data": {
      "text/plain": [
       "Dataset({\n",
       "    features: ['ind', 'activity_label', 'ctx_a', 'ctx_b', 'ctx', 'endings', 'source_id', 'split', 'split_type', 'label'],\n",
       "    num_rows: 500\n",
       "})"
      ]
     },
     "execution_count": 8,
     "metadata": {},
     "output_type": "execute_result"
    }
   ],
   "source": [
    "hesw_text = hellaswag_dataset['hellaswag_val'].skip(300).take(500)\n",
    "hesw_text"
   ]
  },
  {
   "cell_type": "markdown",
   "id": "76489e96-27bc-4b7f-b510-341504f3e2a3",
   "metadata": {},
   "source": [
    "# Classify whether to translate or not"
   ]
  },
  {
   "cell_type": "code",
   "execution_count": 10,
   "id": "ef708881-08a3-4fdf-8cb3-df09963ed2cd",
   "metadata": {
    "scrolled": true
   },
   "outputs": [
    {
     "name": "stdout",
     "output_type": "stream",
     "text": [
      "Classifying run_on...\n"
     ]
    },
    {
     "data": {
      "application/vnd.jupyter.widget-view+json": {
       "model_id": "7fa4320939884594bf52758cda3e9c86",
       "version_major": 2,
       "version_minor": 0
      },
      "text/plain": [
       "  0%|          | 0/500 [00:00<?, ?it/s]"
      ]
     },
     "metadata": {},
     "output_type": "display_data"
    },
    {
     "name": "stdout",
     "output_type": "stream",
     "text": [
      "Warning: Failed to parse response for sample 2, skipping...\n",
      "sdk_http_response=HttpResponse(\n",
      "  headers=<dict len=11>\n",
      ") candidates=None create_time=None model_version='gemini-2.5-flash' prompt_feedback=GenerateContentResponsePromptFeedback(\n",
      "  block_reason=<BlockedReason.PROHIBITED_CONTENT: 'PROHIBITED_CONTENT'>\n",
      ") response_id='NIrKaKXbFvHP_uMP2svFmAs' usage_metadata=GenerateContentResponseUsageMetadata(\n",
      "  prompt_token_count=1597,\n",
      "  prompt_tokens_details=[\n",
      "    ModalityTokenCount(\n",
      "      modality=<MediaModality.TEXT: 'TEXT'>,\n",
      "      token_count=1597\n",
      "    ),\n",
      "  ],\n",
      "  total_token_count=1597\n",
      ") automatic_function_calling_history=[] parsed=None\n",
      "Warning: Failed to parse response for sample 14, skipping...\n",
      "sdk_http_response=HttpResponse(\n",
      "  headers=<dict len=11>\n",
      ") candidates=None create_time=None model_version='gemini-2.5-flash' prompt_feedback=GenerateContentResponsePromptFeedback(\n",
      "  block_reason=<BlockedReason.PROHIBITED_CONTENT: 'PROHIBITED_CONTENT'>\n",
      ") response_id='Y4rKaJHaKMXP_uMP2-ThoA8' usage_metadata=GenerateContentResponseUsageMetadata(\n",
      "  prompt_token_count=1577,\n",
      "  prompt_tokens_details=[\n",
      "    ModalityTokenCount(\n",
      "      modality=<MediaModality.TEXT: 'TEXT'>,\n",
      "      token_count=1577\n",
      "    ),\n",
      "  ],\n",
      "  total_token_count=1577\n",
      ") automatic_function_calling_history=[] parsed=None\n",
      "Warning: Failed to parse response for sample 35, skipping...\n",
      "sdk_http_response=HttpResponse(\n",
      "  headers=<dict len=11>\n",
      ") candidates=None create_time=None model_version='gemini-2.5-flash' prompt_feedback=GenerateContentResponsePromptFeedback(\n",
      "  block_reason=<BlockedReason.PROHIBITED_CONTENT: 'PROHIBITED_CONTENT'>\n",
      ") response_id='sorKaO-qFpzO_uMPosSHyQ8' usage_metadata=GenerateContentResponseUsageMetadata(\n",
      "  prompt_token_count=1549,\n",
      "  prompt_tokens_details=[\n",
      "    ModalityTokenCount(\n",
      "      modality=<MediaModality.TEXT: 'TEXT'>,\n",
      "      token_count=1549\n",
      "    ),\n",
      "  ],\n",
      "  total_token_count=1549\n",
      ") automatic_function_calling_history=[] parsed=None\n",
      "Warning: Failed to parse response for sample 36, skipping...\n",
      "sdk_http_response=HttpResponse(\n",
      "  headers=<dict len=11>\n",
      ") candidates=None create_time=None model_version='gemini-2.5-flash' prompt_feedback=GenerateContentResponsePromptFeedback(\n",
      "  block_reason=<BlockedReason.PROHIBITED_CONTENT: 'PROHIBITED_CONTENT'>\n",
      ") response_id='sorKaMOEG4XP_uMPtLHs4AM' usage_metadata=GenerateContentResponseUsageMetadata(\n",
      "  prompt_token_count=1569,\n",
      "  prompt_tokens_details=[\n",
      "    ModalityTokenCount(\n",
      "      modality=<MediaModality.TEXT: 'TEXT'>,\n",
      "      token_count=1569\n",
      "    ),\n",
      "  ],\n",
      "  total_token_count=1569\n",
      ") automatic_function_calling_history=[] parsed=None\n",
      "Warning: Failed to parse response for sample 39, skipping...\n",
      "sdk_http_response=HttpResponse(\n",
      "  headers=<dict len=11>\n",
      ") candidates=None create_time=None model_version='gemini-2.5-flash' prompt_feedback=GenerateContentResponsePromptFeedback(\n",
      "  block_reason=<BlockedReason.PROHIBITED_CONTENT: 'PROHIBITED_CONTENT'>\n",
      ") response_id='u4rKaL6JCZbY_uMPxJjWEA' usage_metadata=GenerateContentResponseUsageMetadata(\n",
      "  prompt_token_count=1573,\n",
      "  prompt_tokens_details=[\n",
      "    ModalityTokenCount(\n",
      "      modality=<MediaModality.TEXT: 'TEXT'>,\n",
      "      token_count=1573\n",
      "    ),\n",
      "  ],\n",
      "  total_token_count=1573\n",
      ") automatic_function_calling_history=[] parsed=None\n",
      "Warning: Failed to parse response for sample 77, skipping...\n",
      "sdk_http_response=HttpResponse(\n",
      "  headers=<dict len=11>\n",
      ") candidates=None create_time=None model_version='gemini-2.5-flash' prompt_feedback=GenerateContentResponsePromptFeedback(\n",
      "  block_reason=<BlockedReason.PROHIBITED_CONTENT: 'PROHIBITED_CONTENT'>\n",
      ") response_id='XovKaPO-LfHP_uMPlIvvkA4' usage_metadata=GenerateContentResponseUsageMetadata(\n",
      "  prompt_token_count=1561,\n",
      "  prompt_tokens_details=[\n",
      "    ModalityTokenCount(\n",
      "      modality=<MediaModality.TEXT: 'TEXT'>,\n",
      "      token_count=1561\n",
      "    ),\n",
      "  ],\n",
      "  total_token_count=1561\n",
      ") automatic_function_calling_history=[] parsed=None\n",
      "Warning: Failed to parse response for sample 218, skipping...\n",
      "sdk_http_response=HttpResponse(\n",
      "  headers=<dict len=11>\n",
      ") candidates=None create_time=None model_version='gemini-2.5-flash' prompt_feedback=GenerateContentResponsePromptFeedback(\n",
      "  block_reason=<BlockedReason.PROHIBITED_CONTENT: 'PROHIBITED_CONTENT'>\n",
      ") response_id='xI3KaIrbDae0-8YPq-uw-QI' usage_metadata=GenerateContentResponseUsageMetadata(\n",
      "  prompt_token_count=1570,\n",
      "  prompt_tokens_details=[\n",
      "    ModalityTokenCount(\n",
      "      modality=<MediaModality.TEXT: 'TEXT'>,\n",
      "      token_count=1570\n",
      "    ),\n",
      "  ],\n",
      "  total_token_count=1570\n",
      ") automatic_function_calling_history=[] parsed=None\n",
      "Warning: Failed to parse response for sample 227, skipping...\n",
      "sdk_http_response=HttpResponse(\n",
      "  headers=<dict len=11>\n",
      ") candidates=None create_time=None model_version='gemini-2.5-flash' prompt_feedback=GenerateContentResponsePromptFeedback(\n",
      "  block_reason=<BlockedReason.PROHIBITED_CONTENT: 'PROHIBITED_CONTENT'>\n",
      ") response_id='543KaIO6K8SKjrEPqvqa-A4' usage_metadata=GenerateContentResponseUsageMetadata(\n",
      "  prompt_token_count=1532,\n",
      "  prompt_tokens_details=[\n",
      "    ModalityTokenCount(\n",
      "      modality=<MediaModality.TEXT: 'TEXT'>,\n",
      "      token_count=1532\n",
      "    ),\n",
      "  ],\n",
      "  total_token_count=1532\n",
      ") automatic_function_calling_history=[] parsed=None\n",
      "Warning: Failed to parse response for sample 229, skipping...\n",
      "sdk_http_response=HttpResponse(\n",
      "  headers=<dict len=11>\n",
      ") candidates=None create_time=None model_version='gemini-2.5-flash' prompt_feedback=GenerateContentResponsePromptFeedback(\n",
      "  block_reason=<BlockedReason.PROHIBITED_CONTENT: 'PROHIBITED_CONTENT'>\n",
      ") response_id='6o3KaLW0Lc-LjrEPiqOf4Ak' usage_metadata=GenerateContentResponseUsageMetadata(\n",
      "  prompt_token_count=1548,\n",
      "  prompt_tokens_details=[\n",
      "    ModalityTokenCount(\n",
      "      modality=<MediaModality.TEXT: 'TEXT'>,\n",
      "      token_count=1548\n",
      "    ),\n",
      "  ],\n",
      "  total_token_count=1548\n",
      ") automatic_function_calling_history=[] parsed=None\n",
      "Warning: Failed to parse response for sample 303, skipping...\n",
      "sdk_http_response=HttpResponse(\n",
      "  headers=<dict len=11>\n",
      ") candidates=None create_time=None model_version='gemini-2.5-flash' prompt_feedback=GenerateContentResponsePromptFeedback(\n",
      "  block_reason=<BlockedReason.PROHIBITED_CONTENT: 'PROHIBITED_CONTENT'>\n",
      ") response_id='K4_KaO_RMc-3jrEPkbuRqA8' usage_metadata=GenerateContentResponseUsageMetadata(\n",
      "  prompt_token_count=1546,\n",
      "  prompt_tokens_details=[\n",
      "    ModalityTokenCount(\n",
      "      modality=<MediaModality.TEXT: 'TEXT'>,\n",
      "      token_count=1546\n",
      "    ),\n",
      "  ],\n",
      "  total_token_count=1546\n",
      ") automatic_function_calling_history=[] parsed=None\n",
      "Warning: Failed to parse response for sample 306, skipping...\n",
      "sdk_http_response=HttpResponse(\n",
      "  headers=<dict len=11>\n",
      ") candidates=None create_time=None model_version='gemini-2.5-flash' prompt_feedback=GenerateContentResponsePromptFeedback(\n",
      "  block_reason=<BlockedReason.PROHIBITED_CONTENT: 'PROHIBITED_CONTENT'>\n",
      ") response_id='NY_KaIHyLv2V_uMPp-KdqQ8' usage_metadata=GenerateContentResponseUsageMetadata(\n",
      "  prompt_token_count=1545,\n",
      "  prompt_tokens_details=[\n",
      "    ModalityTokenCount(\n",
      "      modality=<MediaModality.TEXT: 'TEXT'>,\n",
      "      token_count=1545\n",
      "    ),\n",
      "  ],\n",
      "  total_token_count=1545\n",
      ") automatic_function_calling_history=[] parsed=None\n",
      "Warning: Failed to parse response for sample 372, skipping...\n",
      "sdk_http_response=HttpResponse(\n",
      "  headers=<dict len=11>\n",
      ") candidates=None create_time=None model_version='gemini-2.5-flash' prompt_feedback=GenerateContentResponsePromptFeedback(\n",
      "  block_reason=<BlockedReason.PROHIBITED_CONTENT: 'PROHIBITED_CONTENT'>\n",
      ") response_id='ZJDKaKTEF96MjrEPytbSqQ0' usage_metadata=GenerateContentResponseUsageMetadata(\n",
      "  prompt_token_count=1562,\n",
      "  prompt_tokens_details=[\n",
      "    ModalityTokenCount(\n",
      "      modality=<MediaModality.TEXT: 'TEXT'>,\n",
      "      token_count=1562\n",
      "    ),\n",
      "  ],\n",
      "  total_token_count=1562\n",
      ") automatic_function_calling_history=[] parsed=None\n",
      "Warning: Failed to parse response for sample 406, skipping...\n",
      "sdk_http_response=HttpResponse(\n",
      "  headers=<dict len=11>\n",
      ") candidates=None create_time=None model_version='gemini-2.5-flash' prompt_feedback=GenerateContentResponsePromptFeedback(\n",
      "  block_reason=<BlockedReason.PROHIBITED_CONTENT: 'PROHIBITED_CONTENT'>\n",
      ") response_id='7JDKaJiPJZnY_uMPkJD08A8' usage_metadata=GenerateContentResponseUsageMetadata(\n",
      "  prompt_token_count=1567,\n",
      "  prompt_tokens_details=[\n",
      "    ModalityTokenCount(\n",
      "      modality=<MediaModality.TEXT: 'TEXT'>,\n",
      "      token_count=1567\n",
      "    ),\n",
      "  ],\n",
      "  total_token_count=1567\n",
      ") automatic_function_calling_history=[] parsed=None\n",
      "Warning: Failed to parse response for sample 419, skipping...\n",
      "sdk_http_response=HttpResponse(\n",
      "  headers=<dict len=11>\n",
      ") candidates=None create_time=None model_version='gemini-2.5-flash' prompt_feedback=GenerateContentResponsePromptFeedback(\n",
      "  block_reason=<BlockedReason.PROHIBITED_CONTENT: 'PROHIBITED_CONTENT'>\n",
      ") response_id='HpHKaMLOAae0-8YPq-uw-QI' usage_metadata=GenerateContentResponseUsageMetadata(\n",
      "  prompt_token_count=1570,\n",
      "  prompt_tokens_details=[\n",
      "    ModalityTokenCount(\n",
      "      modality=<MediaModality.TEXT: 'TEXT'>,\n",
      "      token_count=1570\n",
      "    ),\n",
      "  ],\n",
      "  total_token_count=1570\n",
      ") automatic_function_calling_history=[] parsed=None\n",
      "Warning: Failed to parse response for sample 425, skipping...\n",
      "sdk_http_response=HttpResponse(\n",
      "  headers=<dict len=11>\n",
      ") candidates=None create_time=None model_version='gemini-2.5-flash' prompt_feedback=GenerateContentResponsePromptFeedback(\n",
      "  block_reason=<BlockedReason.PROHIBITED_CONTENT: 'PROHIBITED_CONTENT'>\n",
      ") response_id='MpHKaPGEDp-p_uMPxfD3sA8' usage_metadata=GenerateContentResponseUsageMetadata(\n",
      "  prompt_token_count=1555,\n",
      "  prompt_tokens_details=[\n",
      "    ModalityTokenCount(\n",
      "      modality=<MediaModality.TEXT: 'TEXT'>,\n",
      "      token_count=1555\n",
      "    ),\n",
      "  ],\n",
      "  total_token_count=1555\n",
      ") automatic_function_calling_history=[] parsed=None\n",
      "Warning: Failed to parse response for sample 455, skipping...\n",
      "sdk_http_response=HttpResponse(\n",
      "  headers=<dict len=11>\n",
      ") candidates=None create_time=None model_version='gemini-2.5-flash' prompt_feedback=GenerateContentResponsePromptFeedback(\n",
      "  block_reason=<BlockedReason.PROHIBITED_CONTENT: 'PROHIBITED_CONTENT'>\n",
      ") response_id='sJHKaPyGGpDf_uMPocyTMA' usage_metadata=GenerateContentResponseUsageMetadata(\n",
      "  prompt_token_count=1548,\n",
      "  prompt_tokens_details=[\n",
      "    ModalityTokenCount(\n",
      "      modality=<MediaModality.TEXT: 'TEXT'>,\n",
      "      token_count=1548\n",
      "    ),\n",
      "  ],\n",
      "  total_token_count=1548\n",
      ") automatic_function_calling_history=[] parsed=None\n",
      "Warning: Failed to parse response for sample 457, skipping...\n",
      "sdk_http_response=HttpResponse(\n",
      "  headers=<dict len=11>\n",
      ") candidates=None create_time=None model_version='gemini-2.5-flash' prompt_feedback=GenerateContentResponsePromptFeedback(\n",
      "  block_reason=<BlockedReason.PROHIBITED_CONTENT: 'PROHIBITED_CONTENT'>\n",
      ") response_id='tJHKaLTMBrS__uMPwMPS4As' usage_metadata=GenerateContentResponseUsageMetadata(\n",
      "  prompt_token_count=1564,\n",
      "  prompt_tokens_details=[\n",
      "    ModalityTokenCount(\n",
      "      modality=<MediaModality.TEXT: 'TEXT'>,\n",
      "      token_count=1564\n",
      "    ),\n",
      "  ],\n",
      "  total_token_count=1564\n",
      ") automatic_function_calling_history=[] parsed=None\n",
      "CPU times: user 3.54 s, sys: 201 ms, total: 3.74 s\n",
      "Wall time: 34min 59s\n"
     ]
    }
   ],
   "source": [
    "%%time\n",
    "exp_name = 'gemini_think_classify'\n",
    "\n",
    "labels, text_output = gemini_classification(\n",
    "    google_client,\n",
    "    {'run_on': hesw_text},\n",
    "    hellaswag_prompts.HELLASWAG_CLASSIFICATION_GEMINI,\n",
    "    hellaswag_prompts.HELLASWAG_CLASSIFICATION_FEW_SHOTS,\n",
    "    hellaswag.hellaswag_sample_to_dict,\n",
    "    hellaswag.hellaswag_dict_to_sample,\n",
    "    think_bud=256,\n",
    ")\n",
    "\n",
    "labels, text_output = labels['run_on'], text_output['run_on']"
   ]
  },
  {
   "cell_type": "code",
   "execution_count": 11,
   "id": "66d6b59f-27c9-47ee-848b-97089471ef54",
   "metadata": {},
   "outputs": [
    {
     "data": {
      "text/plain": [
       "['Universal', 'Universal', 'failed']"
      ]
     },
     "execution_count": 11,
     "metadata": {},
     "output_type": "execute_result"
    }
   ],
   "source": [
    "labels[:3]"
   ]
  },
  {
   "cell_type": "code",
   "execution_count": 12,
   "id": "f200cdcd-01a2-48db-99bc-9df4ea265508",
   "metadata": {},
   "outputs": [],
   "source": [
    "# Define the filename\n",
    "filename = 'compare_csv/hellaswag/hella_sawg_301-800_labels.pkl'\n",
    "\n",
    "# Open the file in write binary mode\n",
    "with open(filename, 'wb') as file:\n",
    "    # Use pickle.dump() to save the list to the file\n",
    "    pickle.dump(labels, file)"
   ]
  },
  {
   "cell_type": "raw",
   "id": "5f0ea518-cf20-4741-83cb-cf029446080d",
   "metadata": {},
   "source": [
    "# Define the filename where the list is stored\n",
    "filename = 'compare_csv/hellaswag/hella_sawg_300_labels.pkl'\n",
    "\n",
    "# Open the file in read binary mode\n",
    "with open(filename, 'rb') as file:\n",
    "    # Use pickle.load() to load the list from the file\n",
    "    labels = pickle.load(file)"
   ]
  },
  {
   "cell_type": "code",
   "execution_count": 13,
   "id": "d819a5da-5951-48e7-8b1a-8d6056fecade",
   "metadata": {},
   "outputs": [
    {
     "data": {
      "text/plain": [
       "Universal           324\n",
       "Can be localized     99\n",
       "Foreign              60\n",
       "failed               17\n",
       "Name: count, dtype: int64"
      ]
     },
     "metadata": {},
     "output_type": "display_data"
    },
    {
     "name": "stdout",
     "output_type": "stream",
     "text": [
      "\n",
      "Will translate 423 samples.\n"
     ]
    }
   ],
   "source": [
    "use_this = pd.Series(labels)\n",
    "display(use_this.value_counts())\n",
    "\n",
    "use_this = use_this[(use_this == 'Universal') | (use_this == 'Can be localized')]\n",
    "\n",
    "print(f'\\nWill translate {use_this.shape[0]} samples.')"
   ]
  },
  {
   "cell_type": "raw",
   "id": "e21d3cbd-907a-43f6-8da6-6699e8ee462d",
   "metadata": {},
   "source": [
    "from src.translate_func import dict_to_prompt"
   ]
  },
  {
   "cell_type": "raw",
   "id": "7caa3a7e-00b5-4ab8-bba0-c127008d2d72",
   "metadata": {},
   "source": [
    "for cnt, (s, l) in enumerate(zip(hesw_text, labels)):\n",
    "    print(f\"{cnt:4} | {s['activity_label']:30} | {l:25}\")"
   ]
  },
  {
   "cell_type": "raw",
   "id": "5b6da17c-2dbe-4208-8643-ae662fa3e5a2",
   "metadata": {
    "scrolled": true
   },
   "source": [
    "for cnt, (s, l) in enumerate(zip(hesw_text, labels)):\n",
    "    print(f'Example {cnt}:')\n",
    "    print(f'Classification: {l}\\n')\n",
    "    # print(s['activity_label'])\n",
    "    print(dict_to_prompt(hellaswag.hellaswag_sample_to_dict(s)))\n",
    "    print('\\n' + '-' * 50 + '\\n')"
   ]
  },
  {
   "cell_type": "raw",
   "id": "bf92610a-3129-485d-9b9a-88b5dfbdabfc",
   "metadata": {},
   "source": [
    "print(text_output[9])"
   ]
  },
  {
   "cell_type": "markdown",
   "id": "fca0a5d6-d252-4f57-9d93-b84c044f9917",
   "metadata": {},
   "source": [
    "# Translate"
   ]
  },
  {
   "cell_type": "code",
   "execution_count": 14,
   "id": "4095bdf9-c4db-4a61-af9e-6b71096fdaf3",
   "metadata": {},
   "outputs": [
    {
     "data": {
      "text/plain": [
       "Dataset({\n",
       "    features: ['ind', 'activity_label', 'ctx_a', 'ctx_b', 'ctx', 'endings', 'source_id', 'split', 'split_type', 'label'],\n",
       "    num_rows: 500\n",
       "})"
      ]
     },
     "execution_count": 14,
     "metadata": {},
     "output_type": "execute_result"
    }
   ],
   "source": [
    "hesw_text"
   ]
  },
  {
   "cell_type": "code",
   "execution_count": 15,
   "id": "ccc840e3-433f-4eb4-abd6-1d9fa2ea3760",
   "metadata": {},
   "outputs": [
    {
     "data": {
      "text/plain": [
       "Dataset({\n",
       "    features: ['ind', 'activity_label', 'ctx_a', 'ctx_b', 'ctx', 'endings', 'source_id', 'split', 'split_type', 'label'],\n",
       "    num_rows: 423\n",
       "})"
      ]
     },
     "execution_count": 15,
     "metadata": {},
     "output_type": "execute_result"
    }
   ],
   "source": [
    "hesw_text = hesw_text.select(use_this.index)\n",
    "hesw_text"
   ]
  },
  {
   "cell_type": "code",
   "execution_count": 16,
   "id": "335bdd2c-00fa-4fb4-8ac3-17858f52f285",
   "metadata": {},
   "outputs": [],
   "source": [
    "hellaswag_file_name = 'compare_csv/hellaswag/hellaswag_test_301-500.csv'"
   ]
  },
  {
   "cell_type": "code",
   "execution_count": 17,
   "id": "ec15c6d0-8358-4e13-ab30-dc6d9d2fc7ec",
   "metadata": {
    "ExecuteTime": {
     "end_time": "2025-07-16T20:10:39.327389Z",
     "start_time": "2025-07-16T20:10:39.297006Z"
    }
   },
   "outputs": [
    {
     "data": {
      "text/html": [
       "<div>\n",
       "<style scoped>\n",
       "    .dataframe tbody tr th:only-of-type {\n",
       "        vertical-align: middle;\n",
       "    }\n",
       "\n",
       "    .dataframe tbody tr th {\n",
       "        vertical-align: top;\n",
       "    }\n",
       "\n",
       "    .dataframe thead th {\n",
       "        text-align: right;\n",
       "    }\n",
       "</style>\n",
       "<table border=\"1\" class=\"dataframe\">\n",
       "  <thead>\n",
       "    <tr style=\"text-align: right;\">\n",
       "      <th></th>\n",
       "      <th>original</th>\n",
       "    </tr>\n",
       "  </thead>\n",
       "  <tbody>\n",
       "    <tr>\n",
       "      <th>0</th>\n",
       "      <td>&lt;activity_label&gt;Rope skipping&lt;/activity_label&gt;...</td>\n",
       "    </tr>\n",
       "    <tr>\n",
       "      <th>1</th>\n",
       "      <td>&lt;activity_label&gt;Rope skipping&lt;/activity_label&gt;...</td>\n",
       "    </tr>\n",
       "  </tbody>\n",
       "</table>\n",
       "</div>"
      ],
      "text/plain": [
       "                                            original\n",
       "0  <activity_label>Rope skipping</activity_label>...\n",
       "1  <activity_label>Rope skipping</activity_label>..."
      ]
     },
     "metadata": {},
     "output_type": "display_data"
    },
    {
     "data": {
      "text/html": [
       "<div>\n",
       "<style scoped>\n",
       "    .dataframe tbody tr th:only-of-type {\n",
       "        vertical-align: middle;\n",
       "    }\n",
       "\n",
       "    .dataframe tbody tr th {\n",
       "        vertical-align: top;\n",
       "    }\n",
       "\n",
       "    .dataframe thead th {\n",
       "        text-align: right;\n",
       "    }\n",
       "</style>\n",
       "<table border=\"1\" class=\"dataframe\">\n",
       "  <thead>\n",
       "    <tr style=\"text-align: right;\">\n",
       "      <th></th>\n",
       "      <th>original</th>\n",
       "    </tr>\n",
       "  </thead>\n",
       "  <tbody>\n",
       "    <tr>\n",
       "      <th>0</th>\n",
       "      <td>&lt;activity_label&gt;Rope skipping&lt;/activity_label&gt;...</td>\n",
       "    </tr>\n",
       "    <tr>\n",
       "      <th>1</th>\n",
       "      <td>&lt;activity_label&gt;Rope skipping&lt;/activity_label&gt;...</td>\n",
       "    </tr>\n",
       "  </tbody>\n",
       "</table>\n",
       "</div>"
      ],
      "text/plain": [
       "                                            original\n",
       "0  <activity_label>Rope skipping</activity_label>...\n",
       "1  <activity_label>Rope skipping</activity_label>..."
      ]
     },
     "metadata": {},
     "output_type": "display_data"
    }
   ],
   "source": [
    "df = add_dataset_to_csv(hellaswag_file_name, 'original', hesw_text, hellaswag.hellaswag_sample_to_dict)\n",
    "text_df = add_dataset_to_csv(hellaswag_file_name[:-4] + '-text.csv', 'original', hesw_text, hellaswag.hellaswag_sample_to_dict)\n",
    "display(df.head(2))\n",
    "display(text_df.head(2))"
   ]
  },
  {
   "cell_type": "code",
   "execution_count": 18,
   "id": "63ab8bac-13a5-4c09-beef-bec8b724d45f",
   "metadata": {
    "ExecuteTime": {
     "end_time": "2025-07-16T20:10:39.354553Z",
     "start_time": "2025-07-16T20:10:39.335152Z"
    }
   },
   "outputs": [
    {
     "name": "stdout",
     "output_type": "stream",
     "text": [
      "(423, 1) (423, 1)\n"
     ]
    },
    {
     "data": {
      "text/html": [
       "<div>\n",
       "<style scoped>\n",
       "    .dataframe tbody tr th:only-of-type {\n",
       "        vertical-align: middle;\n",
       "    }\n",
       "\n",
       "    .dataframe tbody tr th {\n",
       "        vertical-align: top;\n",
       "    }\n",
       "\n",
       "    .dataframe thead th {\n",
       "        text-align: right;\n",
       "    }\n",
       "</style>\n",
       "<table border=\"1\" class=\"dataframe\">\n",
       "  <thead>\n",
       "    <tr style=\"text-align: right;\">\n",
       "      <th></th>\n",
       "      <th>original</th>\n",
       "    </tr>\n",
       "  </thead>\n",
       "  <tbody>\n",
       "    <tr>\n",
       "      <th>0</th>\n",
       "      <td>&lt;activity_label&gt;Rope skipping&lt;/activity_label&gt;...</td>\n",
       "    </tr>\n",
       "    <tr>\n",
       "      <th>1</th>\n",
       "      <td>&lt;activity_label&gt;Rope skipping&lt;/activity_label&gt;...</td>\n",
       "    </tr>\n",
       "  </tbody>\n",
       "</table>\n",
       "</div>"
      ],
      "text/plain": [
       "                                            original\n",
       "0  <activity_label>Rope skipping</activity_label>...\n",
       "1  <activity_label>Rope skipping</activity_label>..."
      ]
     },
     "metadata": {},
     "output_type": "display_data"
    },
    {
     "data": {
      "text/html": [
       "<div>\n",
       "<style scoped>\n",
       "    .dataframe tbody tr th:only-of-type {\n",
       "        vertical-align: middle;\n",
       "    }\n",
       "\n",
       "    .dataframe tbody tr th {\n",
       "        vertical-align: top;\n",
       "    }\n",
       "\n",
       "    .dataframe thead th {\n",
       "        text-align: right;\n",
       "    }\n",
       "</style>\n",
       "<table border=\"1\" class=\"dataframe\">\n",
       "  <thead>\n",
       "    <tr style=\"text-align: right;\">\n",
       "      <th></th>\n",
       "      <th>original</th>\n",
       "    </tr>\n",
       "  </thead>\n",
       "  <tbody>\n",
       "    <tr>\n",
       "      <th>0</th>\n",
       "      <td>&lt;activity_label&gt;Rope skipping&lt;/activity_label&gt;...</td>\n",
       "    </tr>\n",
       "    <tr>\n",
       "      <th>1</th>\n",
       "      <td>&lt;activity_label&gt;Rope skipping&lt;/activity_label&gt;...</td>\n",
       "    </tr>\n",
       "  </tbody>\n",
       "</table>\n",
       "</div>"
      ],
      "text/plain": [
       "                                            original\n",
       "0  <activity_label>Rope skipping</activity_label>...\n",
       "1  <activity_label>Rope skipping</activity_label>..."
      ]
     },
     "metadata": {},
     "output_type": "display_data"
    }
   ],
   "source": [
    "df = pd.read_csv(hellaswag_file_name)\n",
    "text_df = pd.read_csv(hellaswag_file_name[:-4] + '-text.csv')\n",
    "print(df.shape, text_df.shape)\n",
    "display(df.head(2))\n",
    "display(text_df.head(2))"
   ]
  },
  {
   "cell_type": "code",
   "execution_count": 19,
   "id": "dad033c4-263d-4010-a25b-b473917fc8b1",
   "metadata": {},
   "outputs": [
    {
     "name": "stdout",
     "output_type": "stream",
     "text": [
      "(423, 1) (423, 1)\n"
     ]
    }
   ],
   "source": [
    "print(df.shape, text_df.shape)"
   ]
  },
  {
   "cell_type": "code",
   "execution_count": null,
   "id": "a9d5c2e8-e62b-4fbd-adcb-e31c3db8edc1",
   "metadata": {
    "scrolled": true
   },
   "outputs": [
    {
     "name": "stdout",
     "output_type": "stream",
     "text": [
      "Translating run...\n"
     ]
    },
    {
     "data": {
      "application/vnd.jupyter.widget-view+json": {
       "model_id": "ea1f22a5e14e4de2bfa8f57856272fa5",
       "version_major": 2,
       "version_minor": 0
      },
      "text/plain": [
       "  0%|          | 0/423 [00:00<?, ?it/s]"
      ]
     },
     "metadata": {},
     "output_type": "display_data"
    },
    {
     "name": "stdout",
     "output_type": "stream",
     "text": [
      "-|-"
     ]
    }
   ],
   "source": [
    "%%time\n",
    "\n",
    "exp_name = 'gemini'\n",
    "\n",
    "hebrew_datasets, text_output = gemini_translation(\n",
    "    google_client,\n",
    "    {'run': hesw_text},\n",
    "    hellaswag_prompts.HELLASWAG_INSTRUCT_V1_GEMINI,\n",
    "    hellaswag_prompts.HELLASWAG_FEW_SHOTS,\n",
    "    hellaswag.hellaswag_sample_to_dict,\n",
    "    hellaswag.hellaswag_dict_to_sample,\n",
    "    if_pro=True,\n",
    "    think_bud=4096,\n",
    ")\n",
    "\n",
    "hebrew_datasets = hebrew_datasets['run']\n",
    "text_output = text_output['run']\n",
    "hebrew_datasets"
   ]
  },
  {
   "cell_type": "code",
   "execution_count": null,
   "id": "51344369-9721-40de-b4ae-6a73d182fa83",
   "metadata": {},
   "outputs": [],
   "source": [
    "df = add_dataset_to_csv(hellaswag_file_name, exp_name, hebrew_datasets, hellaswag.hellaswag_sample_to_dict)\n",
    "text_df[exp_name + ' text'] = text_output\n",
    "text_df.to_csv(hellaswag_file_name[:-4] + '-text.csv', index=False)\n",
    "print(df.shape, text_df.shape)\n",
    "display(df.head(2))\n",
    "display(text_df.head(2))"
   ]
  },
  {
   "cell_type": "code",
   "execution_count": null,
   "id": "e6be3588-3925-40b2-be2f-b1ad4f54dfa5",
   "metadata": {},
   "outputs": [],
   "source": [
    "df['answer_label'] = pd.Series(hebrew_datasets['label'])\n",
    "df['question ind'] = pd.Series(hebrew_datasets['ind'])"
   ]
  },
  {
   "cell_type": "code",
   "execution_count": null,
   "id": "6a764dc4-c54b-4f5e-988e-6bee5adb819c",
   "metadata": {},
   "outputs": [],
   "source": [
    "df.head()"
   ]
  },
  {
   "cell_type": "code",
   "execution_count": null,
   "id": "16bc0bd3-96c0-4d78-8101-ed131260af0c",
   "metadata": {},
   "outputs": [],
   "source": [
    "df.to_csv(hellaswag_file_name, index=False)"
   ]
  }
 ],
 "metadata": {
  "kernelspec": {
   "display_name": "conda_pytorch_p310",
   "language": "python",
   "name": "conda_pytorch_p310"
  },
  "language_info": {
   "codemirror_mode": {
    "name": "ipython",
    "version": 3
   },
   "file_extension": ".py",
   "mimetype": "text/x-python",
   "name": "python",
   "nbconvert_exporter": "python",
   "pygments_lexer": "ipython3",
   "version": "3.10.14"
  }
 },
 "nbformat": 4,
 "nbformat_minor": 5
}
