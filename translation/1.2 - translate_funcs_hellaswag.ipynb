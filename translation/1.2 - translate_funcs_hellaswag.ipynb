{
 "cells": [
  {
   "cell_type": "markdown",
   "id": "5ae65b98-e452-4baf-a8a8-f9aab5d4ab8a",
   "metadata": {
    "ExecuteTime": {
     "end_time": "2025-07-16T20:10:31.793871Z",
     "start_time": "2025-07-16T20:10:27.762203Z"
    }
   },
   "source": [
    "# Imports"
   ]
  },
  {
   "cell_type": "code",
   "execution_count": 1,
   "id": "35e7fb68-95be-46e8-bef1-01a3524f1902",
   "metadata": {
    "ExecuteTime": {
     "end_time": "2025-07-16T20:10:31.793871Z",
     "start_time": "2025-07-16T20:10:27.762203Z"
    }
   },
   "outputs": [],
   "source": [
    "%load_ext autoreload\n",
    "%autoreload 2\n",
    "\n",
    "import pandas as pd\n",
    "import sys\n",
    "\n",
    "# Call models\n",
    "from src.call_models import google_connect, call_gemini, all_string_gemini_config, all_int_gemini_config\n",
    "from src.translate_func import gemini_translation, gemini_classification\n",
    "\n",
    "# Datasets\n",
    "\n",
    "from src.benchmarks_code import hellaswag\n",
    "from prompts import hellaswag_prompts\n",
    "\n",
    "# Access keys\n",
    "from my_access_keys import google_access_key\n",
    "\n",
    "# .csv utils\n",
    "from src.save_utils import add_dataset_to_csv\n",
    "\n",
    "# Remove annoying warning\n",
    "from IPython.core.display_functions import display"
   ]
  },
  {
   "cell_type": "markdown",
   "id": "c9d59be0-ffa1-4cb9-9682-663063f23e18",
   "metadata": {
    "ExecuteTime": {
     "end_time": "2025-07-16T20:10:31.808651Z",
     "start_time": "2025-07-16T20:10:31.797637Z"
    }
   },
   "source": [
    "# GetDataset"
   ]
  },
  {
   "cell_type": "code",
   "execution_count": 6,
   "id": "9a57c574e0e2cf37",
   "metadata": {
    "ExecuteTime": {
     "end_time": "2025-07-16T20:10:32.037915Z",
     "start_time": "2025-07-16T20:10:31.816377Z"
    }
   },
   "outputs": [],
   "source": [
    "google_client = google_connect(google_access_key)"
   ]
  },
  {
   "cell_type": "code",
   "execution_count": 16,
   "id": "1917bab4-0187-4df0-abb5-0c9a70220222",
   "metadata": {},
   "outputs": [
    {
     "name": "stdout",
     "output_type": "stream",
     "text": [
      "compare_csv/hellaswag/hellaswag_test_20_samples.csv\n"
     ]
    },
    {
     "data": {
      "text/plain": [
       "{'hellaswag_val': Dataset({\n",
       "     features: ['ind', 'activity_label', 'ctx_a', 'ctx_b', 'ctx', 'endings', 'source_id', 'split', 'split_type', 'label'],\n",
       "     num_rows: 10042\n",
       " })}"
      ]
     },
     "execution_count": 16,
     "metadata": {},
     "output_type": "execute_result"
    }
   ],
   "source": [
    "hellaswag_dataset = hellaswag.get_hellaswag_datasets()\n",
    "hellaswag_dataset\n",
    "\n",
    "hellaswag_file_name = 'compare_csv/hellaswag/hellaswag_test_20_samples.csv'\n",
    "\n",
    "print(hellaswag_file_name)\n",
    "hellaswag_dataset"
   ]
  },
  {
   "cell_type": "code",
   "execution_count": 17,
   "id": "0bf195c7-9bd9-473e-842b-c3347854ebe4",
   "metadata": {},
   "outputs": [
    {
     "data": {
      "text/plain": [
       "Dataset({\n",
       "    features: ['ind', 'activity_label', 'ctx_a', 'ctx_b', 'ctx', 'endings', 'source_id', 'split', 'split_type', 'label'],\n",
       "    num_rows: 20\n",
       "})"
      ]
     },
     "execution_count": 17,
     "metadata": {},
     "output_type": "execute_result"
    }
   ],
   "source": [
    "hesw_text = hellaswag_dataset['hellaswag_val'].select(range(0, 1_000, 30))\n",
    "hesw_text = hesw_text.take(20)\n",
    "hesw_text"
   ]
  },
  {
   "cell_type": "raw",
   "id": "47395e0b-2e8a-4575-ac8b-1880e4a823ed",
   "metadata": {
    "ExecuteTime": {
     "end_time": "2025-07-16T20:10:39.327389Z",
     "start_time": "2025-07-16T20:10:39.297006Z"
    }
   },
   "source": [
    "df = add_dataset_to_csv(hellaswag_file_name, 'original', hesw_text, hellaswag.hellaswag_sample_to_dict)\n",
    "text_df = add_dataset_to_csv(hellaswag_file_name[:-4] + '-text.csv', 'original', hesw_text, hellaswag.hellaswag_sample_to_dict)\n",
    "display(df.head(2))\n",
    "display(text_df.head(2))"
   ]
  },
  {
   "cell_type": "code",
   "execution_count": 19,
   "id": "e7553d0e-c776-4c77-b0d1-d13327389dcd",
   "metadata": {
    "ExecuteTime": {
     "end_time": "2025-07-16T20:10:39.354553Z",
     "start_time": "2025-07-16T20:10:39.335152Z"
    }
   },
   "outputs": [
    {
     "name": "stdout",
     "output_type": "stream",
     "text": [
      "(20, 1) (20, 1)\n"
     ]
    },
    {
     "data": {
      "text/html": [
       "<div>\n",
       "<style scoped>\n",
       "    .dataframe tbody tr th:only-of-type {\n",
       "        vertical-align: middle;\n",
       "    }\n",
       "\n",
       "    .dataframe tbody tr th {\n",
       "        vertical-align: top;\n",
       "    }\n",
       "\n",
       "    .dataframe thead th {\n",
       "        text-align: right;\n",
       "    }\n",
       "</style>\n",
       "<table border=\"1\" class=\"dataframe\">\n",
       "  <thead>\n",
       "    <tr style=\"text-align: right;\">\n",
       "      <th></th>\n",
       "      <th>original</th>\n",
       "    </tr>\n",
       "  </thead>\n",
       "  <tbody>\n",
       "    <tr>\n",
       "      <th>0</th>\n",
       "      <td>&lt;activity_label&gt;Roof shingle removal&lt;/activity...</td>\n",
       "    </tr>\n",
       "    <tr>\n",
       "      <th>1</th>\n",
       "      <td>&lt;activity_label&gt;Gargling mouthwash&lt;/activity_l...</td>\n",
       "    </tr>\n",
       "  </tbody>\n",
       "</table>\n",
       "</div>"
      ],
      "text/plain": [
       "                                            original\n",
       "0  <activity_label>Roof shingle removal</activity...\n",
       "1  <activity_label>Gargling mouthwash</activity_l..."
      ]
     },
     "metadata": {},
     "output_type": "display_data"
    },
    {
     "data": {
      "text/html": [
       "<div>\n",
       "<style scoped>\n",
       "    .dataframe tbody tr th:only-of-type {\n",
       "        vertical-align: middle;\n",
       "    }\n",
       "\n",
       "    .dataframe tbody tr th {\n",
       "        vertical-align: top;\n",
       "    }\n",
       "\n",
       "    .dataframe thead th {\n",
       "        text-align: right;\n",
       "    }\n",
       "</style>\n",
       "<table border=\"1\" class=\"dataframe\">\n",
       "  <thead>\n",
       "    <tr style=\"text-align: right;\">\n",
       "      <th></th>\n",
       "      <th>original</th>\n",
       "    </tr>\n",
       "  </thead>\n",
       "  <tbody>\n",
       "    <tr>\n",
       "      <th>0</th>\n",
       "      <td>&lt;activity_label&gt;Roof shingle removal&lt;/activity...</td>\n",
       "    </tr>\n",
       "    <tr>\n",
       "      <th>1</th>\n",
       "      <td>&lt;activity_label&gt;Gargling mouthwash&lt;/activity_l...</td>\n",
       "    </tr>\n",
       "  </tbody>\n",
       "</table>\n",
       "</div>"
      ],
      "text/plain": [
       "                                            original\n",
       "0  <activity_label>Roof shingle removal</activity...\n",
       "1  <activity_label>Gargling mouthwash</activity_l..."
      ]
     },
     "metadata": {},
     "output_type": "display_data"
    }
   ],
   "source": [
    "df = pd.read_csv(hellaswag_file_name)\n",
    "text_df = pd.read_csv(hellaswag_file_name[:-4] + '-text.csv')\n",
    "print(df.shape, text_df.shape)\n",
    "display(df.head(2))\n",
    "display(text_df.head(2))"
   ]
  },
  {
   "cell_type": "markdown",
   "id": "76489e96-27bc-4b7f-b510-341504f3e2a3",
   "metadata": {
    "jp-MarkdownHeadingCollapsed": true
   },
   "source": [
    "# Classify whether to translate or not"
   ]
  },
  {
   "cell_type": "code",
   "execution_count": 110,
   "id": "ef708881-08a3-4fdf-8cb3-df09963ed2cd",
   "metadata": {},
   "outputs": [
    {
     "name": "stdout",
     "output_type": "stream",
     "text": [
      "Classifying run_on...\n"
     ]
    },
    {
     "data": {
      "application/vnd.jupyter.widget-view+json": {
       "model_id": "d0eac4f41ab14c2ebc7e08fdb7f6ab69",
       "version_major": 2,
       "version_minor": 0
      },
      "text/plain": [
       "  0%|          | 0/34 [00:00<?, ?it/s]"
      ]
     },
     "metadata": {},
     "output_type": "display_data"
    }
   ],
   "source": [
    "exp_name = 'gemini_think_classify'\n",
    "\n",
    "labels, text_output = gemini_classification(\n",
    "    google_client,\n",
    "    {'run_on': hesw_text},\n",
    "    hellaswag_prompts.HELLASWAG_CLASSIFICATION_GEMINI,\n",
    "    hellaswag_prompts.HELLASWAG_CLASSIFICATION_FEW_SHOTS,\n",
    "    hellaswag.hellaswag_sample_to_dict,\n",
    "    hellaswag.hellaswag_dict_to_sample,\n",
    "    think_bud=128,\n",
    ")\n",
    "\n",
    "labels, text_output = labels['run_on'], text_output['run_on']"
   ]
  },
  {
   "cell_type": "code",
   "execution_count": 111,
   "id": "1b9dbc48-a2c7-4fa4-92fa-344f5c22ab20",
   "metadata": {},
   "outputs": [
    {
     "data": {
      "text/plain": [
       "Universal           22\n",
       "Can be localized     8\n",
       "Foreign              4\n",
       "Name: count, dtype: int64"
      ]
     },
     "execution_count": 111,
     "metadata": {},
     "output_type": "execute_result"
    }
   ],
   "source": [
    "pd.Series(labels).value_counts()"
   ]
  },
  {
   "cell_type": "code",
   "execution_count": 106,
   "id": "dbd07006-aad2-4317-a873-e7b5ac2a4ac3",
   "metadata": {},
   "outputs": [
    {
     "data": {
      "text/plain": [
       "Universal           19\n",
       "Can be localized    11\n",
       "Foreign              4\n",
       "Name: count, dtype: int64"
      ]
     },
     "execution_count": 106,
     "metadata": {},
     "output_type": "execute_result"
    }
   ],
   "source": [
    "pd.Series(labels).value_counts()"
   ]
  },
  {
   "cell_type": "code",
   "execution_count": 107,
   "id": "dbd60a43-7229-4bc6-bc1a-d510b1ba6fab",
   "metadata": {},
   "outputs": [],
   "source": [
    "from src.translate_func import dict_to_prompt"
   ]
  },
  {
   "cell_type": "code",
   "execution_count": 108,
   "id": "7fb78633-7bbc-424c-b3cb-955dc58f93d3",
   "metadata": {},
   "outputs": [
    {
     "name": "stdout",
     "output_type": "stream",
     "text": [
      "   0 | Wakeboarding                   | Can be localized         \n",
      "   1 | Horseback riding               | Universal                \n",
      "   2 | Using the balance beam         | Universal                \n",
      "   3 | Playing racquetball            | Can be localized         \n",
      "   4 | Changing car wheel             | Universal                \n",
      "   5 | Snowboarding                   | Can be localized         \n",
      "   6 | Doing nails                    | Universal                \n",
      "   7 | Riding bumper cars             | Universal                \n",
      "   8 | Playing ten pins               | Universal                \n",
      "   9 | Rafting                        | Can be localized         \n",
      "  10 | Longboarding                   | Can be localized         \n",
      "  11 | Using uneven bars              | Can be localized         \n",
      "  12 | Braiding hair                  | Universal                \n",
      "  13 | Snowboarding                   | Foreign                  \n",
      "  14 | Pole vault                     | Can be localized         \n",
      "  15 | Using the monkey bar           | Universal                \n",
      "  16 | Waterskiing                    | Can be localized         \n",
      "  17 | Welding                        | Universal                \n",
      "  18 | Cleaning shoes                 | Universal                \n",
      "  19 | Waterskiing                    | Can be localized         \n",
      "  20 | Riding bumper cars             | Universal                \n",
      "  21 | Doing nails                    | Universal                \n",
      "  22 | Carving jack-o-lanterns        | Foreign                  \n",
      "  23 | Horseback riding               | Universal                \n",
      "  24 | Playing saxophone              | Universal                \n",
      "  25 | Changing car wheel             | Universal                \n",
      "  26 | Doing step aerobics            | Can be localized         \n",
      "  27 | Playing ten pins               | Universal                \n",
      "  28 | Playing water polo             | Universal                \n",
      "  29 | Rafting                        | Can be localized         \n",
      "  30 | Waxing skis                    | Foreign                  \n",
      "  31 | Removing ice from car          | Foreign                  \n",
      "  32 | Washing hands                  | Universal                \n",
      "  33 | Tug of war                     | Universal                \n"
     ]
    }
   ],
   "source": [
    "for cnt, (s, l) in enumerate(zip(hesw_text, labels)):\n",
    "    print(f\"{cnt:4} | {s['activity_label']:30} | {l:25}\")"
   ]
  },
  {
   "cell_type": "code",
   "execution_count": 109,
   "id": "9d92f804-7783-49ab-b5a4-ffce1f38d099",
   "metadata": {
    "scrolled": true
   },
   "outputs": [
    {
     "name": "stdout",
     "output_type": "stream",
     "text": [
      "Example 0:\n",
      "Classification: Can be localized\n",
      "\n",
      "<activity_label>Wakeboarding</activity_label>\n",
      "<ctx_a>A man is being pulled on a water ski as he floats in the water casually.</ctx_a>\n",
      "<ctx_b>he</ctx_b>\n",
      "<ctx>A man is being pulled on a water ski as he floats in the water casually. he</ctx>\n",
      "<ending 1>mounts the water ski and tears through the water at fast speeds.</ending 1>\n",
      "<ending 2>goes over several speeds, trying to stay upright.</ending 2>\n",
      "<ending 3>struggles a little bit as he talks about it.</ending 3>\n",
      "<ending 4>is seated in a boat with three other people.</ending 4>\n",
      "\n",
      "--------------------------------------------------\n",
      "\n",
      "Example 1:\n",
      "Classification: Universal\n",
      "\n",
      "<activity_label>Horseback riding</activity_label>\n",
      "<ctx_a>These horses are walking in a grassy area by themselves and then a woman is shown brushing the horse's hair.</ctx_a>\n",
      "<ctx_b>the camera</ctx_b>\n",
      "<ctx>These horses are walking in a grassy area by themselves and then a woman is shown brushing the horse's hair. the camera</ctx>\n",
      "<ending 1>zooms in on the back of the animal that has no legs attached and is lying on the grass.</ending 1>\n",
      "<ending 2>then shows the horse's feet as well as the straps to the saddle on it.</ending 2>\n",
      "<ending 3>zooms in to shows the horse' nose and then the woman climbs onto the horse's saddle to ride it somewhere.</ending 3>\n",
      "<ending 4>then zooms in on all the horses and the interiors.</ending 4>\n",
      "\n",
      "--------------------------------------------------\n",
      "\n",
      "Example 2:\n",
      "Classification: Universal\n",
      "\n",
      "<activity_label>Using the balance beam</activity_label>\n",
      "<ctx_a>With her hands on the bar, the girl lifts and splits her legs above her head. The lady moves a platform to the left side of the bar.</ctx_a>\n",
      "<ctx_b>the girl</ctx_b>\n",
      "<ctx>With her hands on the bar, the girl lifts and splits her legs above her head. The lady moves a platform to the left side of the bar. the girl</ctx>\n",
      "<ending 1>does a third back flip then does the splits, this time without her legs.</ending 1>\n",
      "<ending 2>sits on the bar with her hand raised.</ending 2>\n",
      "<ending 3>does a belly flop while sitting on the platform.</ending 3>\n",
      "<ending 4>is back on the platform, acting as a pommel horse.</ending 4>\n",
      "\n",
      "--------------------------------------------------\n",
      "\n",
      "Example 3:\n",
      "Classification: Can be localized\n",
      "\n",
      "<activity_label>Playing racquetball</activity_label>\n",
      "<ctx_a>A man and woman are playing inside a racquetball court.</ctx_a>\n",
      "<ctx_b>they</ctx_b>\n",
      "<ctx>A man and woman are playing inside a racquetball court. they</ctx>\n",
      "<ending 1>are using racquets, balls, special shoes and protective glasses.</ending 1>\n",
      "<ending 2>run, skip, and shoot back and fourth at each other.</ending 2>\n",
      "<ending 3>hit the balls back and forth over the pins.</ending 3>\n",
      "<ending 4>follow the man using the racquet to make several shots.</ending 4>\n",
      "\n",
      "--------------------------------------------------\n",
      "\n",
      "Example 4:\n",
      "Classification: Universal\n",
      "\n",
      "<activity_label>Changing car wheel</activity_label>\n",
      "<ctx_a>The video begins with a closeup of a tire in an auto shop.</ctx_a>\n",
      "<ctx_b>the cameraman</ctx_b>\n",
      "<ctx>The video begins with a closeup of a tire in an auto shop. the cameraman</ctx>\n",
      "<ending 1>sits and flips the tire around then fixes it in the front.</ending 1>\n",
      "<ending 2>begins to sharpen a knife on the knife block.</ending 2>\n",
      "<ending 3>then runs over the tire from the side.</ending 3>\n",
      "<ending 4>uses his hand to show a specific spot on the tire and zooms in closer.</ending 4>\n",
      "\n",
      "--------------------------------------------------\n",
      "\n",
      "Example 5:\n",
      "Classification: Can be localized\n",
      "\n",
      "<activity_label>Snowboarding</activity_label>\n",
      "<ctx_a>He then falls down to the ground as he reaches the bottom of the slope. He gets right back up and dusts off the snow from his clothes.</ctx_a>\n",
      "<ctx_b>he</ctx_b>\n",
      "<ctx>He then falls down to the ground as he reaches the bottom of the slope. He gets right back up and dusts off the snow from his clothes. he</ctx>\n",
      "<ending 1>continues skating as he talks with a group of people.</ending 1>\n",
      "<ending 2>talks to another person through a hands free device attached on his coat to let him know he's okay.</ending 2>\n",
      "<ending 3>appears ready for the olympics after a 5 bring around shovel action.</ending 3>\n",
      "<ending 4>walks next to a puddle, shakes it up and then wipes it off with his brand new pair of gloves.</ending 4>\n",
      "\n",
      "--------------------------------------------------\n",
      "\n",
      "Example 6:\n",
      "Classification: Universal\n",
      "\n",
      "<activity_label>Doing nails</activity_label>\n",
      "<ctx_a>A woman puts her hands down on a table with some wash cloths to get a manicure.</ctx_a>\n",
      "<ctx_b>the manicurist</ctx_b>\n",
      "<ctx>A woman puts her hands down on a table with some wash cloths to get a manicure. the manicurist</ctx>\n",
      "<ending 1>puts paint on the backs of her fingers to draw on the paint.</ending 1>\n",
      "<ending 2>places a white wax on one hand.</ending 2>\n",
      "<ending 3>puts some glass clear nail polish on her nails and then picks up a little bag of red glitter.</ending 3>\n",
      "<ending 4>parades the female model to the side.</ending 4>\n",
      "\n",
      "--------------------------------------------------\n",
      "\n",
      "Example 7:\n",
      "Classification: Universal\n",
      "\n",
      "<activity_label>Riding bumper cars</activity_label>\n",
      "<ctx_a>First the people are all shown sitting in their cars in one long line. Then the cars get powered on and they are able to get driven.</ctx_a>\n",
      "<ctx_b>after the people</ctx_b>\n",
      "<ctx>First the people are all shown sitting in their cars in one long line. Then the cars get powered on and they are able to get driven. after the people</ctx>\n",
      "<ending 1>who were not participating are tied up in inflatable tires.</ending 1>\n",
      "<ending 2>get together outside, they go to a restaurant to have dinner.</ending 2>\n",
      "<ending 3>are done driving they all get out of the cars.</ending 3>\n",
      "<ending 4>are walking along the sidewalk talking to the camera before riding out of the derby.</ending 4>\n",
      "\n",
      "--------------------------------------------------\n",
      "\n",
      "Example 8:\n",
      "Classification: Universal\n",
      "\n",
      "<activity_label>Playing ten pins</activity_label>\n",
      "<ctx_a>Large yellow words on the screen appear and it say's \"team nerdist wins!\" and the entire team gets up and celebrates.</ctx_a>\n",
      "<ctx_b>a nerdist team member</ctx_b>\n",
      "<ctx>Large yellow words on the screen appear and it say's \"team nerdist wins!\" and the entire team gets up and celebrates. a nerdist team member</ctx>\n",
      "<ending 1>picks up an orange ball off the ground and throws it at the other two.</ending 1>\n",
      "<ending 2>happily speaks into the camera, and then unhappy member from another team unhappily speaks to the camera.</ending 2>\n",
      "<ending 3>runs up the edge of a cliff and trampoline to get to the top and the different people get up and celebrate.</ending 3>\n",
      "<ending 4>wearing gray shirt holds the microphone and the words on the screen say's \" team gyvems in 3 on 4 teams play paddling through the water with/along a path while water splashed along the sides.</ending 4>\n",
      "\n",
      "--------------------------------------------------\n",
      "\n",
      "Example 9:\n",
      "Classification: Can be localized\n",
      "\n",
      "<activity_label>Rafting</activity_label>\n",
      "<ctx_a>They have a refreshing dip under a waterfall to cool off. They pose together with other rafters. Falling underwater can be a scary undertaking.</ctx_a>\n",
      "<ctx_b>all in all it</ctx_b>\n",
      "<ctx>They have a refreshing dip under a waterfall to cool off. They pose together with other rafters. Falling underwater can be a scary undertaking. all in all it</ctx>\n",
      "<ending 1>'s fun, a really fun experience, no attempts to get hurt.</ending 1>\n",
      "<ending 2>is a fun and relaxing ending period.</ending 2>\n",
      "<ending 3>is a fun and relaxing time.</ending 3>\n",
      "<ending 4>'s a very nice change from being an island with strange scenery.</ending 4>\n",
      "\n",
      "--------------------------------------------------\n",
      "\n",
      "Example 10:\n",
      "Classification: Can be localized\n",
      "\n",
      "<activity_label>Longboarding</activity_label>\n",
      "<ctx_a>There's a young man skateboarding through a two lane empty road that has trees on both sides.</ctx_a>\n",
      "<ctx_b>he</ctx_b>\n",
      "<ctx>There's a young man skateboarding through a two lane empty road that has trees on both sides. he</ctx>\n",
      "<ending 1>goes steadily through the long and winding road without stopping.</ending 1>\n",
      "<ending 2>is doing a combination of jump roping, dive roping and skipping across a wet cement staircase that has many railings that are underneath him.</ending 2>\n",
      "<ending 3>suems to get his skateboard into a river that he is on.</ending 3>\n",
      "<ending 4>takes a last look at the clock.</ending 4>\n",
      "\n",
      "--------------------------------------------------\n",
      "\n",
      "Example 11:\n",
      "Classification: Can be localized\n",
      "\n",
      "<activity_label>Using uneven bars</activity_label>\n",
      "<ctx_a>A woman jumps onto two bars and does a gymnastics routine. The audience is watching her perform.</ctx_a>\n",
      "<ctx_b>she</ctx_b>\n",
      "<ctx>A woman jumps onto two bars and does a gymnastics routine. The audience is watching her perform. she</ctx>\n",
      "<ending 1>jumps off the supports and onto a mat.</ending 1>\n",
      "<ending 2>goes off the bar twice and cheers.</ending 2>\n",
      "<ending 3>jumps off the bars and lands on the mat with her hands in the air.</ending 3>\n",
      "<ending 4>jumps off the bars, then hugs people.</ending 4>\n",
      "\n",
      "--------------------------------------------------\n",
      "\n",
      "Example 12:\n",
      "Classification: Universal\n",
      "\n",
      "<activity_label>Braiding hair</activity_label>\n",
      "<ctx_a>A person is applying rods to braids. A person is putting braids with rods into water. A client with reading glasses is talking.</ctx_a>\n",
      "<ctx_b>a client</ctx_b>\n",
      "<ctx>A person is applying rods to braids. A person is putting braids with rods into water. A client with reading glasses is talking. a client</ctx>\n",
      "<ending 1>is leaving after braids are done.</ending 1>\n",
      "<ending 2>with lenses is seen with his eyes closed.</ending 2>\n",
      "<ending 3>puts a disk into a metal bowl shaped like a tool.</ending 3>\n",
      "<ending 4>uses net to fashion a wig.</ending 4>\n",
      "\n",
      "--------------------------------------------------\n",
      "\n",
      "Example 13:\n",
      "Classification: Foreign\n",
      "\n",
      "<activity_label>Snowboarding</activity_label>\n",
      "<ctx_a>There is an intro that states \"carolyn goes to winter park: 1st snowboard trip january 2013\".</ctx_a>\n",
      "<ctx_b>then various still shots and video</ctx_b>\n",
      "<ctx>There is an intro that states \"carolyn goes to winter park: 1st snowboard trip january 2013\". then various still shots and video</ctx>\n",
      "<ending 1>are shown of a little girl doing various things, and then learning how to snowboard in the slopes.</ending 1>\n",
      "<ending 2>captions that include the slopes, views, and stunts of different skiers are shown and ends with carolyn snowboarding on dirt.</ending 2>\n",
      "<ending 3>of comfortable shoes are shown followed by two snowboarding women dressed casually with coats, bows, scarves, gloves and hats.</ending 3>\n",
      "<ending 4>footage show snowboarding with friends at an amusement park.</ending 4>\n",
      "\n",
      "--------------------------------------------------\n",
      "\n",
      "Example 14:\n",
      "Classification: Can be localized\n",
      "\n",
      "<activity_label>Pole vault</activity_label>\n",
      "<ctx_a>A man is seen standing with a large pole.</ctx_a>\n",
      "<ctx_b>the man</ctx_b>\n",
      "<ctx>A man is seen standing with a large pole. the man</ctx>\n",
      "<ending 1>runs down a track with the large pole.</ending 1>\n",
      "<ending 2>then begins break dancing with another in various places.</ending 2>\n",
      "<ending 3>then moves out of frame and begins hitting a stick into a pile of sticks.</ending 3>\n",
      "<ending 4>then puts a shoe on his foot while still using the pole.</ending 4>\n",
      "\n",
      "--------------------------------------------------\n",
      "\n",
      "Example 15:\n",
      "Classification: Universal\n",
      "\n",
      "<activity_label>Using the monkey bar</activity_label>\n",
      "<ctx_a>A man in a red tank top is crossing the monkey bars. He crosses the monkey bars one bar at a time while swinging.</ctx_a>\n",
      "<ctx_b>he</ctx_b>\n",
      "<ctx>A man in a red tank top is crossing the monkey bars. He crosses the monkey bars one bar at a time while swinging. he</ctx>\n",
      "<ending 1>then goes back and forth to balance himself.</ending 1>\n",
      "<ending 2>gets to the end and does some pull ups on the last bar.</ending 2>\n",
      "<ending 3>starts to get a little nervous as he gets very close and gets his arms ready to start his routine.</ending 3>\n",
      "<ending 4>swings his legs up in the air while swinging his arms as he leans on the bars.</ending 4>\n",
      "\n",
      "--------------------------------------------------\n",
      "\n",
      "Example 16:\n",
      "Classification: Can be localized\n",
      "\n",
      "<activity_label>Waterskiing</activity_label>\n",
      "<ctx_a>A video is shown of an outdoor water ski camp for kids.</ctx_a>\n",
      "<ctx_b>instructors</ctx_b>\n",
      "<ctx>A video is shown of an outdoor water ski camp for kids. instructors</ctx>\n",
      "<ending 1>are shown for their participation in the water ski camp.</ending 1>\n",
      "<ending 2>are shown giving disabled children a chance at fun with specialized equipment for water skiing.</ending 2>\n",
      "<ending 3>turn on water faucets on the boys.</ending 3>\n",
      "<ending 4>are shown working on different ways to transport themselves downstream.</ending 4>\n",
      "\n",
      "--------------------------------------------------\n",
      "\n",
      "Example 17:\n",
      "Classification: Universal\n",
      "\n",
      "<activity_label>Welding</activity_label>\n",
      "<ctx_a>.</ctx_a>\n",
      "<ctx_b>a man dressed in protective gear and wearing a metal mask</ctx_b>\n",
      "<ctx>. a man dressed in protective gear and wearing a metal mask</ctx>\n",
      "<ending 1>is standing in a sprinkler-filled room.</ending 1>\n",
      "<ending 2>is underwater kneeling in the yair beneath a pool.</ending 2>\n",
      "<ending 3>is sitting on metal stool in front of a metal table.</ending 3>\n",
      "<ending 4>is sitting in the water making himself comfortable by grabbing onto a piece of metal.</ending 4>\n",
      "\n",
      "--------------------------------------------------\n",
      "\n",
      "Example 18:\n",
      "Classification: Universal\n",
      "\n",
      "<activity_label>Cleaning shoes</activity_label>\n",
      "<ctx_a>A close up of shoes are shown followed by a woman speaking to the camera. She mixes together ingredients in a bowl and dips a rag inside.</ctx_a>\n",
      "<ctx_b>she</ctx_b>\n",
      "<ctx>A close up of shoes are shown followed by a woman speaking to the camera. She mixes together ingredients in a bowl and dips a rag inside. she</ctx>\n",
      "<ending 1>wipes down the shoes with a rag and holds up a bottle.</ending 1>\n",
      "<ending 2>puts the rag in a bowl and rotates it.</ending 2>\n",
      "<ending 3>shows the stuffed animal she has placed in the bowl.</ending 3>\n",
      "<ending 4>then uses the rag all along the shoes.</ending 4>\n",
      "\n",
      "--------------------------------------------------\n",
      "\n",
      "Example 19:\n",
      "Classification: Can be localized\n",
      "\n",
      "<activity_label>Waterskiing</activity_label>\n",
      "<ctx_a>The guy goes water surfing while holding on to a rope connected to the boat. The does flips or swings around the boat while water surfing.</ctx_a>\n",
      "<ctx_b>the guy</ctx_b>\n",
      "<ctx>The guy goes water surfing while holding on to a rope connected to the boat. The does flips or swings around the boat while water surfing. the guy</ctx>\n",
      "<ending 1>lets go of the rope attachment and glides on the surface.</ending 1>\n",
      "<ending 2>rises up and walks back to the boat.</ending 2>\n",
      "<ending 3>falls off the boat but touches the rope to engage in more water surf.</ending 3>\n",
      "<ending 4>dives off of the boat and ends up in the water where he regains his footing.</ending 4>\n",
      "\n",
      "--------------------------------------------------\n",
      "\n",
      "Example 20:\n",
      "Classification: Universal\n",
      "\n",
      "<activity_label>Riding bumper cars</activity_label>\n",
      "<ctx_a>A young boy wearing a white t-shirt driving a bumper car and a girl passenger wearing a blue blouse crash into another bumper.</ctx_a>\n",
      "<ctx_b>the girl in the blue blouse</ctx_b>\n",
      "<ctx>A young boy wearing a white t-shirt driving a bumper car and a girl passenger wearing a blue blouse crash into another bumper. the girl in the blue blouse</ctx>\n",
      "<ending 1>is laughing and having fun.</ending 1>\n",
      "<ending 2>is riding a bumper car with two other kids.</ending 2>\n",
      "<ending 3>is now flipping off her car when another car crashes down beside her, making the girl in the pink blouse fall into the grass very hard.</ending 3>\n",
      "<ending 4>crashes into a young adult who is now sitting next to another young child in their car.</ending 4>\n",
      "\n",
      "--------------------------------------------------\n",
      "\n",
      "Example 21:\n",
      "Classification: Universal\n",
      "\n",
      "<activity_label>Doing nails</activity_label>\n",
      "<ctx_a>The second step is shown and it's pouring the glitter onto the nails before the nail polish dries ensuring that every part of the nail gets glitter.</ctx_a>\n",
      "<ctx_b>the last step</ctx_b>\n",
      "<ctx>The second step is shown and it's pouring the glitter onto the nails before the nail polish dries ensuring that every part of the nail gets glitter. the last step</ctx>\n",
      "<ending 1>is shown and the finished dress is shown with more glitter on it and the second step is showing that the brush will outline the foundation and it should be removed at the end of the process.</ending 1>\n",
      "<ending 2>is shown and the building is shown.</ending 2>\n",
      "<ending 3>is shown with the next color and it is icy blue.</ending 3>\n",
      "<ending 4>is to apply the clear coat over the very glittered nails and ensuring that all edges are covered.</ending 4>\n",
      "\n",
      "--------------------------------------------------\n",
      "\n",
      "Example 22:\n",
      "Classification: Foreign\n",
      "\n",
      "<activity_label>Carving jack-o-lanterns</activity_label>\n",
      "<ctx_a>A man shows to carve a pumpkin using a sharp tool.</ctx_a>\n",
      "<ctx_b>then</ctx_b>\n",
      "<ctx>A man shows to carve a pumpkin using a sharp tool. then</ctx>\n",
      "<ending 1>, the person put child's feet and hands before carving pumpkins.</ending 1>\n",
      "<ending 2>, the man carves a devil face in the pumpkin.</ending 2>\n",
      "<ending 3>, he shows the eyes to the camera, and cleans and skerg the bottom of the pumpkin.</ending 3>\n",
      "<ending 4>, the man shows to carve the balks of the pumpkin.</ending 4>\n",
      "\n",
      "--------------------------------------------------\n",
      "\n",
      "Example 23:\n",
      "Classification: Universal\n",
      "\n",
      "<activity_label>Horseback riding</activity_label>\n",
      "<ctx_a>People in equestrian gear ride horses around a corral on a ranch. A horse stands in a barn with its head passing over the gate.</ctx_a>\n",
      "<ctx_b>a girl</ctx_b>\n",
      "<ctx>People in equestrian gear ride horses around a corral on a ranch. A horse stands in a barn with its head passing over the gate. a girl</ctx>\n",
      "<ending 1>runs in front of the horse and is quickly overtaken by a bull.</ending 1>\n",
      "<ending 2>sits on a horse and pets its mane.</ending 2>\n",
      "<ending 3>walks past the horse as the girl walks on the side and performs tricks.</ending 3>\n",
      "<ending 4>ride behind the horse and talks.</ending 4>\n",
      "\n",
      "--------------------------------------------------\n",
      "\n",
      "Example 24:\n",
      "Classification: Universal\n",
      "\n",
      "<activity_label>Playing saxophone</activity_label>\n",
      "<ctx_a>The man plays the sax and gives instructions. We see the man adjust the mouthpiece. The man jostles his jaw back and fourth.</ctx_a>\n",
      "<ctx_b>we</ctx_b>\n",
      "<ctx>The man plays the sax and gives instructions. We see the man adjust the mouthpiece. The man jostles his jaw back and fourth. we</ctx>\n",
      "<ending 1>see the ending screen din high.</ending 1>\n",
      "<ending 2>watch the play again.</ending 2>\n",
      "<ending 3>zoom in on the mans hands as he pushes keys the man finishes playing and smiles.</ending 3>\n",
      "<ending 4>see the ending title card.</ending 4>\n",
      "\n",
      "--------------------------------------------------\n",
      "\n",
      "Example 25:\n",
      "Classification: Universal\n",
      "\n",
      "<activity_label>Changing car wheel</activity_label>\n",
      "<ctx_a>There's a woman with a hand tattoo and red painted nails attaching and screwing a parts in the trunk of a car to attach the spare tire. Then she places the spare tire into the metal case.</ctx_a>\n",
      "<ctx_b>she</ctx_b>\n",
      "<ctx>There's a woman with a hand tattoo and red painted nails attaching and screwing a parts in the trunk of a car to attach the spare tire. Then she places the spare tire into the metal case. she</ctx>\n",
      "<ending 1>then puts tape over a wheel of the tire and attaches a parking brake pad in place.</ending 1>\n",
      "<ending 2>then walks away while identification is given to her and she heads back to the car.</ending 2>\n",
      "<ending 3>puts the accordion and the machine together and attaches the spare tire on and listens to music.</ending 3>\n",
      "<ending 4>takes the plastic dial and screws it in securely to fit the spare tire in the trunk.</ending 4>\n",
      "\n",
      "--------------------------------------------------\n",
      "\n",
      "Example 26:\n",
      "Classification: Can be localized\n",
      "\n",
      "<activity_label>Doing step aerobics</activity_label>\n",
      "<ctx_a>We see people working out on exercise steps in an aerobics class. The leader puts her hand in the air.</ctx_a>\n",
      "<ctx_b>the lady in back left</ctx_b>\n",
      "<ctx>We see people working out on exercise steps in an aerobics class. The leader puts her hand in the air. the lady in back left</ctx>\n",
      "<ending 1>touches an arm or leg.</ending 1>\n",
      "<ending 2>gets lost and stops.</ending 2>\n",
      "<ending 3>puts her foot on the b base.</ending 3>\n",
      "<ending 4>pleased with her progress.</ending 4>\n",
      "\n",
      "--------------------------------------------------\n",
      "\n",
      "Example 27:\n",
      "Classification: Universal\n",
      "\n",
      "<activity_label>Playing ten pins</activity_label>\n",
      "<ctx_a>A man is seen doing karate in front of another with a knife and leads into a shot of a man bowling and text across his face.</ctx_a>\n",
      "<ctx_b>the man</ctx_b>\n",
      "<ctx>A man is seen doing karate in front of another with a knife and leads into a shot of a man bowling and text across his face. the man</ctx>\n",
      "<ending 1>then jumps to make another takedown while another man walks into frame and watches.</ending 1>\n",
      "<ending 2>continues to wrestle and pans back to another man who does the same scene.</ending 2>\n",
      "<ending 3>continues to pull out the knives and shows off the various he has prepared across his arms as well as the set of knives.</ending 3>\n",
      "<ending 4>celebrates as people watch and clipart is shown as well as more shots of the man celebrating and bowling.</ending 4>\n",
      "\n",
      "--------------------------------------------------\n",
      "\n",
      "Example 28:\n",
      "Classification: Universal\n",
      "\n",
      "<activity_label>Playing water polo</activity_label>\n",
      "<ctx_a>The man throws it to a dog who is balancing on a blue floating device and the dog hits it back to the man using his nose.</ctx_a>\n",
      "<ctx_b>the man</ctx_b>\n",
      "<ctx>The man throws it to a dog who is balancing on a blue floating device and the dog hits it back to the man using his nose. the man</ctx>\n",
      "<ending 1>jumps off the boat and walks to the camera.</ending 1>\n",
      "<ending 2>throws land please on the food in front of the dog and the dog gets back on the food.</ending 2>\n",
      "<ending 3>throws it back to the dog and the dog hits it back and then he slips off the floating device and splashes into the water.</ending 3>\n",
      "<ending 4>then throws the disc and a dog over the rooftop again.</ending 4>\n",
      "\n",
      "--------------------------------------------------\n",
      "\n",
      "Example 29:\n",
      "Classification: Can be localized\n",
      "\n",
      "<activity_label>Rafting</activity_label>\n",
      "<ctx_a>They almost hit a wall of rocks but are able to turn in time not to and are able to continue in route.</ctx_a>\n",
      "<ctx_b>waves, pick up</ctx_b>\n",
      "<ctx>They almost hit a wall of rocks but are able to turn in time not to and are able to continue in route. waves, pick up</ctx>\n",
      "<ending 1>speed and your boat begins flipping over.</ending 1>\n",
      "<ending 2>and then they do hit a different wall of rock, where they turn around at to go back.</ending 2>\n",
      "<ending 3>and carry them away from the area they are standing in.</ending 3>\n",
      "<ending 4>and move through the strong waves.</ending 4>\n",
      "\n",
      "--------------------------------------------------\n",
      "\n",
      "Example 30:\n",
      "Classification: Foreign\n",
      "\n",
      "<activity_label>Waxing skis</activity_label>\n",
      "<ctx_a>The man with black apron is brushing the counter. The man in apron smoothen the ski board, then brushed off the dust.</ctx_a>\n",
      "<ctx_b>the man</ctx_b>\n",
      "<ctx>The man with black apron is brushing the counter. The man in apron smoothen the ski board, then brushed off the dust. the man</ctx>\n",
      "<ending 1>put polish on the board and continue to scrape and brush the board.</ending 1>\n",
      "<ending 2>in red apron clapped, cannot wait to start mixing the materials again.</ending 2>\n",
      "<ending 3>let sit the dirt on and wiped the table with a cloth.</ending 3>\n",
      "<ending 4>starts to use a woman's brush on the face of the ski board, then both of them smile at each other and continued working.</ending 4>\n",
      "\n",
      "--------------------------------------------------\n",
      "\n",
      "Example 31:\n",
      "Classification: Foreign\n",
      "\n",
      "<activity_label>Removing ice from car</activity_label>\n",
      "<ctx_a>He then scrapes snow off the hood. He then moves to the other side to remove more snow.</ctx_a>\n",
      "<ctx_b>finally he</ctx_b>\n",
      "<ctx>He then scrapes snow off the hood. He then moves to the other side to remove more snow. finally he</ctx>\n",
      "<ending 1>gets out the phone to contact the paramedics.</ending 1>\n",
      "<ending 2>cuts a patch of ice with the knife.</ending 2>\n",
      "<ending 3>finishes clearing the car.</ending 3>\n",
      "<ending 4>applies a cloud cover over the car, highlighting the vehicle.</ending 4>\n",
      "\n",
      "--------------------------------------------------\n",
      "\n",
      "Example 32:\n",
      "Classification: Universal\n",
      "\n",
      "<activity_label>Washing hands</activity_label>\n",
      "<ctx_a>The man rinses his hands. The man drys his hands and turns the water off with the paper towel.</ctx_a>\n",
      "<ctx_b>we</ctx_b>\n",
      "<ctx>The man rinses his hands. The man drys his hands and turns the water off with the paper towel. we</ctx>\n",
      "<ending 1>see a lady claps smiling to the camera.</ending 1>\n",
      "<ending 2>see an opening scene on pink.</ending 2>\n",
      "<ending 3>then see the ending credits.</ending 3>\n",
      "<ending 4>see a group of news reporter interviewed man in a room.</ending 4>\n",
      "\n",
      "--------------------------------------------------\n",
      "\n",
      "Example 33:\n",
      "Classification: Universal\n",
      "\n",
      "<activity_label>Tug of war</activity_label>\n",
      "<ctx_a>A girl is warming up and stretching and grabs 2 large ropes.</ctx_a>\n",
      "<ctx_b>two women</ctx_b>\n",
      "<ctx>A girl is warming up and stretching and grabs 2 large ropes. two women</ctx>\n",
      "<ending 1>hug each other and continue roping.</ending 1>\n",
      "<ending 2>start leading the team and they begin to chafe and fight as they critique the girls.</ending 2>\n",
      "<ending 3>are holding each rope and the girl tries to pull both ropes at once.</ending 3>\n",
      "<ending 4>are dancing on a stage while multiple audience members are watching.</ending 4>\n",
      "\n",
      "--------------------------------------------------\n",
      "\n"
     ]
    }
   ],
   "source": [
    "for cnt, (s, l) in enumerate(zip(hesw_text, labels)):\n",
    "    print(f'Example {cnt}:')\n",
    "    print(f'Classification: {l}\\n')\n",
    "    # print(s['activity_label'])\n",
    "    print(dict_to_prompt(hellaswag.hellaswag_sample_to_dict(s)))\n",
    "    print('\\n' + '-' * 50 + '\\n')"
   ]
  },
  {
   "cell_type": "code",
   "execution_count": 77,
   "id": "f56cbd9b-0cdd-45f7-b43a-907a36860740",
   "metadata": {},
   "outputs": [
    {
     "name": "stdout",
     "output_type": "stream",
     "text": [
      "**Rafting in Israel: A Universal Experience**\n",
      "\n",
      "Okay, so I'm presented with this \"HellaSwag\" example: rafting. The goal is to figure out its cultural relevance within Israel. Honestly, this one's pretty straightforward.  Let's break it down:\n",
      "\n",
      "First, what *is* rafting? Just as I'd expect my user to know, it's a recreational water activity using inflatable rafts. And yes, in Israel, rafting is *hugely* popular, especially on the Jordan River. It's almost synonymous with summer fun for families, youth groups, and tourists.\n",
      "\n",
      "The context describes dipping under a waterfall – which, of course, Israel has its own share of!  The social aspect, posing with fellow rafters, is entirely relatable. The description is remarkably generic and perfectly captures the essence of rafting as it's experienced here. No foreign elements jump out.\n",
      "\n",
      "Therefore, my conclusion? This is a \"Universal\" concept. It's instantly recognizable and completely understandable to an Israeli audience.  Rafting is a common, well-loved activity that's part of the cultural fabric here. Done!\n",
      "\n"
     ]
    }
   ],
   "source": [
    "print(text_output[9])"
   ]
  },
  {
   "cell_type": "markdown",
   "id": "fca0a5d6-d252-4f57-9d93-b84c044f9917",
   "metadata": {},
   "source": [
    "# Translate"
   ]
  },
  {
   "cell_type": "code",
   "execution_count": 20,
   "id": "4095bdf9-c4db-4a61-af9e-6b71096fdaf3",
   "metadata": {},
   "outputs": [
    {
     "data": {
      "text/plain": [
       "Dataset({\n",
       "    features: ['ind', 'activity_label', 'ctx_a', 'ctx_b', 'ctx', 'endings', 'source_id', 'split', 'split_type', 'label'],\n",
       "    num_rows: 20\n",
       "})"
      ]
     },
     "execution_count": 20,
     "metadata": {},
     "output_type": "execute_result"
    }
   ],
   "source": [
    "hesw_text"
   ]
  },
  {
   "cell_type": "code",
   "execution_count": 21,
   "id": "a9d5c2e8-e62b-4fbd-adcb-e31c3db8edc1",
   "metadata": {},
   "outputs": [
    {
     "name": "stdout",
     "output_type": "stream",
     "text": [
      "Translating run...\n"
     ]
    },
    {
     "data": {
      "application/vnd.jupyter.widget-view+json": {
       "model_id": "29721c84641044cf9809a868529156fd",
       "version_major": 2,
       "version_minor": 0
      },
      "text/plain": [
       "  0%|          | 0/20 [00:00<?, ?it/s]"
      ]
     },
     "metadata": {},
     "output_type": "display_data"
    },
    {
     "data": {
      "text/plain": [
       "Dataset({\n",
       "    features: ['ind', 'activity_label', 'ctx_a', 'ctx_b', 'ctx', 'endings', 'source_id', 'split', 'split_type', 'label', 'translation_status'],\n",
       "    num_rows: 20\n",
       "})"
      ]
     },
     "execution_count": 21,
     "metadata": {},
     "output_type": "execute_result"
    }
   ],
   "source": [
    "exp_name = 'gemini'\n",
    "\n",
    "hebrew_datasets, text_output = gemini_translation(\n",
    "    google_client,\n",
    "    {'run': hesw_text},\n",
    "    hellaswag_prompts.HELLASWAG_INSTRUCT_V1_GEMINI,\n",
    "    hellaswag_prompts.HELLASWAG_FEW_SHOTS,\n",
    "    hellaswag.hellaswag_sample_to_dict,\n",
    "    hellaswag.hellaswag_dict_to_sample,\n",
    "    if_pro=True,\n",
    "    think_bud=128,\n",
    ")\n",
    "\n",
    "hebrew_datasets = hebrew_datasets['run']\n",
    "text_output = text_output['run']\n",
    "hebrew_datasets"
   ]
  },
  {
   "cell_type": "code",
   "execution_count": 22,
   "id": "ff7f95e9-09b0-4060-9de3-2e2ed645fdd9",
   "metadata": {},
   "outputs": [
    {
     "data": {
      "text/plain": [
       "{'ind': 24,\n",
       " 'activity_label': 'הסרת רעפים מהגג',\n",
       " 'ctx_a': 'גבר יושב על גג.',\n",
       " 'ctx_b': 'הוא',\n",
       " 'ctx': 'גבר יושב על גג. הוא',\n",
       " 'endings': ['משתמש בניילון נצמד כדי לעטוף זוג מגלשי סקי.',\n",
       "  'תולש אריחים ישרים.',\n",
       "  'מחזיק קובייה הונגרית.',\n",
       "  'מתחיל לתלוש את הרעפים מהגג.'],\n",
       " 'source_id': 'activitynet~v_-JhWjGDPHMY',\n",
       " 'split': 'val',\n",
       " 'split_type': 'indomain',\n",
       " 'label': '3',\n",
       " 'translation_status': 'Success'}"
      ]
     },
     "execution_count": 22,
     "metadata": {},
     "output_type": "execute_result"
    }
   ],
   "source": [
    "hebrew_datasets[0]"
   ]
  },
  {
   "cell_type": "code",
   "execution_count": 23,
   "id": "cb678f20-ff92-4c9c-97dd-d6a694fa990b",
   "metadata": {},
   "outputs": [
    {
     "name": "stdout",
     "output_type": "stream",
     "text": [
      "(20, 2) (20, 2)\n"
     ]
    },
    {
     "data": {
      "text/html": [
       "<div>\n",
       "<style scoped>\n",
       "    .dataframe tbody tr th:only-of-type {\n",
       "        vertical-align: middle;\n",
       "    }\n",
       "\n",
       "    .dataframe tbody tr th {\n",
       "        vertical-align: top;\n",
       "    }\n",
       "\n",
       "    .dataframe thead th {\n",
       "        text-align: right;\n",
       "    }\n",
       "</style>\n",
       "<table border=\"1\" class=\"dataframe\">\n",
       "  <thead>\n",
       "    <tr style=\"text-align: right;\">\n",
       "      <th></th>\n",
       "      <th>original</th>\n",
       "      <th>gemini</th>\n",
       "    </tr>\n",
       "  </thead>\n",
       "  <tbody>\n",
       "    <tr>\n",
       "      <th>0</th>\n",
       "      <td>&lt;activity_label&gt;Roof shingle removal&lt;/activity...</td>\n",
       "      <td>&lt;activity_label&gt;הסרת רעפים מהגג&lt;/activity_labe...</td>\n",
       "    </tr>\n",
       "    <tr>\n",
       "      <th>1</th>\n",
       "      <td>&lt;activity_label&gt;Gargling mouthwash&lt;/activity_l...</td>\n",
       "      <td>&lt;activity_label&gt;גרגור מי פה&lt;/activity_label&gt;\\n...</td>\n",
       "    </tr>\n",
       "  </tbody>\n",
       "</table>\n",
       "</div>"
      ],
      "text/plain": [
       "                                            original  \\\n",
       "0  <activity_label>Roof shingle removal</activity...   \n",
       "1  <activity_label>Gargling mouthwash</activity_l...   \n",
       "\n",
       "                                              gemini  \n",
       "0  <activity_label>הסרת רעפים מהגג</activity_labe...  \n",
       "1  <activity_label>גרגור מי פה</activity_label>\\n...  "
      ]
     },
     "metadata": {},
     "output_type": "display_data"
    },
    {
     "data": {
      "text/html": [
       "<div>\n",
       "<style scoped>\n",
       "    .dataframe tbody tr th:only-of-type {\n",
       "        vertical-align: middle;\n",
       "    }\n",
       "\n",
       "    .dataframe tbody tr th {\n",
       "        vertical-align: top;\n",
       "    }\n",
       "\n",
       "    .dataframe thead th {\n",
       "        text-align: right;\n",
       "    }\n",
       "</style>\n",
       "<table border=\"1\" class=\"dataframe\">\n",
       "  <thead>\n",
       "    <tr style=\"text-align: right;\">\n",
       "      <th></th>\n",
       "      <th>original</th>\n",
       "      <th>gemini text</th>\n",
       "    </tr>\n",
       "  </thead>\n",
       "  <tbody>\n",
       "    <tr>\n",
       "      <th>0</th>\n",
       "      <td>&lt;activity_label&gt;Roof shingle removal&lt;/activity...</td>\n",
       "      <td>**My Translation Task: English to Hebrew JSON*...</td>\n",
       "    </tr>\n",
       "    <tr>\n",
       "      <th>1</th>\n",
       "      <td>&lt;activity_label&gt;Gargling mouthwash&lt;/activity_l...</td>\n",
       "      <td>**Translating \"Gargling Mouthwash\" into Hebrew...</td>\n",
       "    </tr>\n",
       "  </tbody>\n",
       "</table>\n",
       "</div>"
      ],
      "text/plain": [
       "                                            original  \\\n",
       "0  <activity_label>Roof shingle removal</activity...   \n",
       "1  <activity_label>Gargling mouthwash</activity_l...   \n",
       "\n",
       "                                         gemini text  \n",
       "0  **My Translation Task: English to Hebrew JSON*...  \n",
       "1  **Translating \"Gargling Mouthwash\" into Hebrew...  "
      ]
     },
     "metadata": {},
     "output_type": "display_data"
    }
   ],
   "source": [
    "df = add_dataset_to_csv(hellaswag_file_name, exp_name, hebrew_datasets, hellaswag.hellaswag_sample_to_dict)\n",
    "text_df[exp_name + ' text'] = text_output\n",
    "text_df.to_csv(hellaswag_file_name[:-4] + '-text.csv', index=False)\n",
    "print(df.shape, text_df.shape)\n",
    "display(df.head(2))\n",
    "display(text_df.head(2))"
   ]
  },
  {
   "cell_type": "code",
   "execution_count": 26,
   "id": "dfd69fe6-5f6c-4c7f-b24d-86e5c358be10",
   "metadata": {},
   "outputs": [],
   "source": [
    "df['answer_label'] = pd.Series(hebrew_datasets['label'])"
   ]
  },
  {
   "cell_type": "code",
   "execution_count": 27,
   "id": "d08fbaa1-a9f4-4fea-9ab5-1de468d9248b",
   "metadata": {},
   "outputs": [
    {
     "data": {
      "text/html": [
       "<div>\n",
       "<style scoped>\n",
       "    .dataframe tbody tr th:only-of-type {\n",
       "        vertical-align: middle;\n",
       "    }\n",
       "\n",
       "    .dataframe tbody tr th {\n",
       "        vertical-align: top;\n",
       "    }\n",
       "\n",
       "    .dataframe thead th {\n",
       "        text-align: right;\n",
       "    }\n",
       "</style>\n",
       "<table border=\"1\" class=\"dataframe\">\n",
       "  <thead>\n",
       "    <tr style=\"text-align: right;\">\n",
       "      <th></th>\n",
       "      <th>original</th>\n",
       "      <th>gemini</th>\n",
       "      <th>answer_label</th>\n",
       "    </tr>\n",
       "  </thead>\n",
       "  <tbody>\n",
       "    <tr>\n",
       "      <th>0</th>\n",
       "      <td>&lt;activity_label&gt;Roof shingle removal&lt;/activity...</td>\n",
       "      <td>&lt;activity_label&gt;הסרת רעפים מהגג&lt;/activity_labe...</td>\n",
       "      <td>3</td>\n",
       "    </tr>\n",
       "    <tr>\n",
       "      <th>1</th>\n",
       "      <td>&lt;activity_label&gt;Gargling mouthwash&lt;/activity_l...</td>\n",
       "      <td>&lt;activity_label&gt;גרגור מי פה&lt;/activity_label&gt;\\n...</td>\n",
       "      <td>1</td>\n",
       "    </tr>\n",
       "    <tr>\n",
       "      <th>2</th>\n",
       "      <td>&lt;activity_label&gt;Kayaking&lt;/activity_label&gt;\\n&lt;ct...</td>\n",
       "      <td>&lt;activity_label&gt;שייט בקיאק&lt;/activity_label&gt;\\n&lt;...</td>\n",
       "      <td>1</td>\n",
       "    </tr>\n",
       "    <tr>\n",
       "      <th>3</th>\n",
       "      <td>&lt;activity_label&gt;Surfing&lt;/activity_label&gt;\\n&lt;ctx...</td>\n",
       "      <td>&lt;activity_label&gt;גלישת גלים&lt;/activity_label&gt;\\n&lt;...</td>\n",
       "      <td>1</td>\n",
       "    </tr>\n",
       "    <tr>\n",
       "      <th>4</th>\n",
       "      <td>&lt;activity_label&gt;Playing violin&lt;/activity_label...</td>\n",
       "      <td>&lt;activity_label&gt;נגינה בכינור&lt;/activity_label&gt;\\...</td>\n",
       "      <td>2</td>\n",
       "    </tr>\n",
       "  </tbody>\n",
       "</table>\n",
       "</div>"
      ],
      "text/plain": [
       "                                            original  \\\n",
       "0  <activity_label>Roof shingle removal</activity...   \n",
       "1  <activity_label>Gargling mouthwash</activity_l...   \n",
       "2  <activity_label>Kayaking</activity_label>\\n<ct...   \n",
       "3  <activity_label>Surfing</activity_label>\\n<ctx...   \n",
       "4  <activity_label>Playing violin</activity_label...   \n",
       "\n",
       "                                              gemini answer_label  \n",
       "0  <activity_label>הסרת רעפים מהגג</activity_labe...            3  \n",
       "1  <activity_label>גרגור מי פה</activity_label>\\n...            1  \n",
       "2  <activity_label>שייט בקיאק</activity_label>\\n<...            1  \n",
       "3  <activity_label>גלישת גלים</activity_label>\\n<...            1  \n",
       "4  <activity_label>נגינה בכינור</activity_label>\\...            2  "
      ]
     },
     "execution_count": 27,
     "metadata": {},
     "output_type": "execute_result"
    }
   ],
   "source": [
    "df.head()"
   ]
  },
  {
   "cell_type": "code",
   "execution_count": 34,
   "id": "81631c1a-d94b-41dd-a2ad-eb1a822ca5d1",
   "metadata": {},
   "outputs": [],
   "source": [
    "df.to_csv(hellaswag_file_name, index=False)"
   ]
  }
 ],
 "metadata": {
  "kernelspec": {
   "display_name": "conda_pytorch_p310",
   "language": "python",
   "name": "conda_pytorch_p310"
  },
  "language_info": {
   "codemirror_mode": {
    "name": "ipython",
    "version": 3
   },
   "file_extension": ".py",
   "mimetype": "text/x-python",
   "name": "python",
   "nbconvert_exporter": "python",
   "pygments_lexer": "ipython3",
   "version": "3.10.14"
  }
 },
 "nbformat": 4,
 "nbformat_minor": 5
}
